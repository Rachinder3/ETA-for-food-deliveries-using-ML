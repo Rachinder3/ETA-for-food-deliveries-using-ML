{
 "cells": [
  {
   "cell_type": "code",
   "execution_count": 1,
   "id": "7b7be34a",
   "metadata": {},
   "outputs": [],
   "source": [
    "base_url = \"..\\\\experiment(Jupyter)_artifacts\\\\\"\n",
    "dataset_folder_path = \"built_dataset\"\n",
    "train_file_name = \"train.csv\"\n",
    "feature_engineering_artifacts_folder = \"Feature_Engineering\"\n",
    "TARGET_FEATURE = \"Time_taken\"\n",
    "useless_features = ['ID', 'Delivery_person_ID']\n",
    "MAX_UNIQUE_VALUES_FOR_DISCRETE_FEATURES = 25\n",
    "validation_file = \"validation.csv\"\n",
    "tensorboard_logdir = \"tensorboard_logs\"\n",
    "pipeline_file_name = 'pipeline.joblib'"
   ]
  },
  {
   "cell_type": "markdown",
   "id": "3910c3a5",
   "metadata": {},
   "source": [
    "# Loading Libraries"
   ]
  },
  {
   "cell_type": "code",
   "execution_count": 2,
   "id": "6269e625",
   "metadata": {},
   "outputs": [],
   "source": [
    "import pandas as pd\n",
    "import numpy as np\n",
    "import seaborn as sns\n",
    "import matplotlib.pyplot as plt\n",
    "import os\n",
    "from typing import List\n",
    "from sklearn.impute import SimpleImputer\n",
    "from sklearn.preprocessing import LabelEncoder,OneHotEncoder, StandardScaler\n",
    "import joblib\n",
    "\n",
    "from sklearn.pipeline import Pipeline\n",
    "from sklearn.compose import ColumnTransformer\n",
    "\n",
    "from sklearn.base import BaseEstimator, TransformerMixin\n",
    "from sklearn.metrics import mean_squared_error, r2_score\n",
    "\n",
    "pd.pandas.set_option('display.max_columns',None)\n",
    "%matplotlib inline"
   ]
  },
  {
   "cell_type": "markdown",
   "id": "38530bac",
   "metadata": {},
   "source": [
    "# Creating the paths and folders"
   ]
  },
  {
   "cell_type": "code",
   "execution_count": 3,
   "id": "8a6ea4f2",
   "metadata": {},
   "outputs": [],
   "source": [
    "train_file_path = os.path.join(base_url,dataset_folder_path,train_file_name)"
   ]
  },
  {
   "cell_type": "code",
   "execution_count": 4,
   "id": "da9f0095",
   "metadata": {},
   "outputs": [],
   "source": [
    "validation_file_path = os.path.join(base_url,dataset_folder_path,validation_file)"
   ]
  },
  {
   "cell_type": "code",
   "execution_count": 5,
   "id": "ff50b69c",
   "metadata": {},
   "outputs": [],
   "source": [
    "pipeline_file_path = os.path.join(base_url,pipeline_file_name)"
   ]
  },
  {
   "cell_type": "markdown",
   "id": "3e9a7350",
   "metadata": {},
   "source": [
    "# Preprocess Classes"
   ]
  },
  {
   "cell_type": "code",
   "execution_count": 6,
   "id": "28590337",
   "metadata": {},
   "outputs": [],
   "source": [
    "class DropUndersiredFeatures(BaseEstimator, TransformerMixin):\n",
    "    def __init__(self, features_to_drop=['ID', 'Delivery_person_ID']):\n",
    "        \n",
    "        self.features_to_drop = features_to_drop\n",
    "\n",
    "    def fit(self, X, y=None):\n",
    "        return self  # nothing to do\n",
    "\n",
    "    def transform(self, X, y=None):\n",
    "        df = X.copy()\n",
    "        for feature in self.features_to_drop:\n",
    "            ## try and catch to avoid run time errors\n",
    "            try:\n",
    "                df.drop(feature, axis=1, inplace=True)\n",
    "            except:\n",
    "                pass\n",
    "\n",
    "        return df\n",
    "\n",
    "## Imputing Numerical features class\n",
    "\n",
    "class ImputeNumericalFeatures(BaseEstimator, TransformerMixin):\n",
    "    def __init__(self):\n",
    "        self.numerical_features_nan = []\n",
    "        self.medians = []\n",
    "        \n",
    "    def fit(self,X,y=None):\n",
    "        try:\n",
    "            ### Numerical features having null features\n",
    "            \n",
    "            self.numerical_features_nan = [feature for feature in X.columns if X[feature].dtypes !='O' and X[feature].isnull().sum()>=1]\n",
    "        \n",
    "            self.medians = []\n",
    "            for feature in self.numerical_features_nan:\n",
    "                self.medians.append(X[feature].median())\n",
    "        except:\n",
    "            pass\n",
    "        \n",
    "        return self\n",
    "    \n",
    "    def transform(self, X, y=None):\n",
    "        df = X.copy()\n",
    "        for index, feature in enumerate(self.numerical_features_nan):\n",
    "\n",
    "            try:\n",
    "                median_value = self.medians[index]\n",
    "                ## create new feature to capture nan values\n",
    "                df[feature + '_nan'] = np.where(df[feature].isnull(), 1, 0)\n",
    "                ### replace the missing values with median\n",
    "                df[feature] = df[feature].fillna(median_value)\n",
    "\n",
    "            except:\n",
    "                pass\n",
    "        return df\n",
    "        \n",
    "class ImputeCategoricalFeatures(BaseEstimator, TransformerMixin):\n",
    "    def __init__(self):\n",
    "        self.categorical_features = []  # empty categorical features list\n",
    "\n",
    "    def fit(self, X, y=None):\n",
    "        try:\n",
    "            # Get the categorical features\n",
    "            self.categorical_features = [feature for feature in X.columns if X[feature].dtype == 'O']\n",
    "        except:\n",
    "            pass\n",
    "\n",
    "        return self\n",
    "\n",
    "    def transform(self, X, y=None):\n",
    "        ## standardize the features\n",
    "        df = X.copy()\n",
    "        try:\n",
    "            for feature in self.categorical_features:\n",
    "                df[feature] = df[feature].str.lower()\n",
    "        except:\n",
    "            pass\n",
    "\n",
    "        ## Handle missing values\n",
    "        try:\n",
    "            df[self.categorical_features] = df[self.categorical_features].fillna('missing')\n",
    "\n",
    "        except:\n",
    "            pass\n",
    "\n",
    "        return df\n",
    "class ExtractFromTemporalFeatures(BaseEstimator, TransformerMixin):\n",
    "    def __init__(self, temporal_features = ['Order_Date', 'Time_Order_picked', 'Time_Orderd']):\n",
    "        \n",
    "        self.temporal_features = temporal_features\n",
    "    \n",
    "    def fit(self, X, y = None):\n",
    "        \n",
    "        return self\n",
    "    \n",
    "    def transform(self, X, y = None):\n",
    "        df = X.copy()\n",
    "        \n",
    "        try:\n",
    "            ## Working on Order Date\n",
    "            df[self.temporal_features[0]+\"_Day\"] = df[self.temporal_features[0]].str.split('-').str[0].astype(int)\n",
    "            df[self.temporal_features[0]+\"_Month\"] = df[self.temporal_features[0]].str.split('-').str[1].astype(int)\n",
    "            \n",
    "            \n",
    "            \n",
    "            ### Working on Time Order Picked\n",
    "            df[self.temporal_features[1]+\"_Hr\"] = df[self.temporal_features[1]].str.split(':').str[0].astype(int)\n",
    "            df[self.temporal_features[1]+\"_Min\"] = df[self.temporal_features[1]].str.split(':').str[1].astype(int)\n",
    "            \n",
    "            df.drop(self.temporal_features, axis = 1, inplace = True)\n",
    "            \n",
    "            return df\n",
    "        except Exception as e:\n",
    "            print(str(e))\n",
    "        \n",
    "        \n",
    "class GenerateDistanceFromLatitudeAndLongitude(BaseEstimator,TransformerMixin):\n",
    "    def __init__(self,distance_features = ['Restaurant_latitude', 'Restaurant_longitude','Delivery_location_latitude','Delivery_location_longitude']):\n",
    "        self.distance_features = distance_features\n",
    "    \n",
    "    def fit(self,X,y=None):\n",
    "        #print('fit')\n",
    "        return self\n",
    "    \n",
    "    def transform(self,X,y=None):\n",
    "        df = X.copy()\n",
    "        #print('transform')\n",
    "        try:\n",
    "            ## Convert features to radians\n",
    "            for feature in self.distance_features:\n",
    "                df[feature] = np.radians(df[feature])\n",
    "                \n",
    "            lat1 = df[self.distance_features[0]]\n",
    "            lon1 = df[self.distance_features[1]]\n",
    "            \n",
    "            lat2 = df[self.distance_features[2]]\n",
    "            lon2 = df[self.distance_features[3]]\n",
    "            \n",
    "            \n",
    "            newlon = lon2 - lon1\n",
    "            newlat = lat2 - lat1\n",
    "            \n",
    "            haver_formula = np.sin(newlat/2.0)**2 + np.cos(lat1) * np.cos(lat2) * np.sin(newlon/2.0)**2\n",
    "            \n",
    "            dist = 2 * np.arcsin(np.sqrt(haver_formula ))\n",
    "            \n",
    "            km = 6367 * dist #6367 for distance in KM for miles use 3958\n",
    "\n",
    "            df['Distance'] = km\n",
    "            \n",
    "            \n",
    "            \n",
    "            return df\n",
    "         \n",
    "        except Exception as e:\n",
    "            print(str(e))\n",
    "        \n",
    "        \n",
    "class Label_Encode(BaseEstimator, TransformerMixin):\n",
    "    def __init__(self, ordinal_features = ['Festival','Road_traffic_density']):\n",
    "        self.ordinal_features = ordinal_features\n",
    "    \n",
    "    def fit(self, X, y=None):\n",
    "        return self\n",
    "    \n",
    "    def transform(self, X, y=None):\n",
    "        df = X.copy()\n",
    "        try:\n",
    "            #print(df[self.ordinal_features])\n",
    "            df['Festival'] = df['Festival'].map({'no':0,'yes':1,'missing':0})\n",
    "            df['Road_traffic_density']=df['Road_traffic_density'].map({'low':0,'medium' : 1,'high' : 2,'jam':3,'missing' : 0})\n",
    "            \n",
    "            \n",
    "            return df\n",
    "        except:\n",
    "            print(str(e))\n",
    "\n",
    "class OHE_Categorical_Features(BaseEstimator, TransformerMixin):\n",
    "    def __init__(self):\n",
    "        self.categorical_features = []\n",
    "        self.ohe = OneHotEncoder(handle_unknown='ignore', sparse=False)\n",
    "\n",
    "    def fit(self, X, y=None):\n",
    "        try:\n",
    "            self.categorical_features = [feature for feature in X.columns if X[feature].dtype == 'O']\n",
    "            self.ohe.fit(X[self.categorical_features])\n",
    "            ##print(self.ohe.categories_)\n",
    "        except:\n",
    "            pass\n",
    "\n",
    "        return self\n",
    "\n",
    "    def transform(self, X, y=None):\n",
    "        df = X.copy()\n",
    "        try:\n",
    "            cat_ohe = self.ohe.transform(df[self.categorical_features])\n",
    "\n",
    "            ohe_df = pd.DataFrame(cat_ohe, columns=self.ohe.get_feature_names(input_features=self.categorical_features),\n",
    "                                  index=df.index)\n",
    "            df = pd.concat([df, ohe_df], axis=1).drop(columns=self.categorical_features, axis=1)\n",
    "        except Exception as e:\n",
    "            pass\n",
    "\n",
    "        return df\n",
    "\n",
    "\n",
    "class remove_high_corelated_features(BaseEstimator, TransformerMixin):\n",
    "    @staticmethod\n",
    "    ## We set a corelation threshold (probably 0.85)\n",
    "    ## We iterate on corelation matrix and see if 2 features have this much or greater corelation.\n",
    "    ## If they have, we will remove one of the features.\n",
    "\n",
    "    def get_high_correlation_feature(dataset, threshold):\n",
    "        col_corr = set() ## set of column names to be dropped\n",
    "        corr_matrix = dataset.corr()\n",
    "\n",
    "        for i in range(len(corr_matrix.columns)-1,-1,-1):\n",
    "            for j in range(i-1,-1,-1):\n",
    "                if abs(corr_matrix.iloc[i,j]) > threshold:\n",
    "                    colname = corr_matrix.columns[i] ## getting the column name\n",
    "                    #print(corr_matrix.columns[i],\"-----\" ,corr_matrix.columns[j], \"====\", corr_matrix.iloc[i,j])\n",
    "                    col_corr.add(colname)\n",
    "        return(col_corr)\n",
    "            \n",
    "    \n",
    "    def __init__(self, threshold = 0.85):\n",
    "        self.correlated_features = []\n",
    "        self.threshold = threshold\n",
    "    \n",
    "    def fit(self,X,y=None):\n",
    "        self.correlated_features= remove_high_corelated_features.get_high_correlation_feature(X,self.threshold)\n",
    "        \n",
    "        return self\n",
    "        \n",
    "    def transform(self,X,y=None):\n",
    "        df = X.copy()\n",
    "        \n",
    "        for feature in self.correlated_features:\n",
    "            try:\n",
    "                df.drop(feature,axis = 1, inplace= True)\n",
    "            except:\n",
    "                continue\n",
    "        return df"
   ]
  },
  {
   "cell_type": "markdown",
   "id": "c32b1f87",
   "metadata": {},
   "source": [
    "# Loading the data and pipeline"
   ]
  },
  {
   "cell_type": "code",
   "execution_count": 7,
   "id": "50a23ed2",
   "metadata": {},
   "outputs": [],
   "source": [
    "train_df = pd.read_csv(train_file_path)"
   ]
  },
  {
   "cell_type": "code",
   "execution_count": 8,
   "id": "dd56e569",
   "metadata": {},
   "outputs": [],
   "source": [
    "validation_df = pd.read_csv(validation_file_path)"
   ]
  },
  {
   "cell_type": "code",
   "execution_count": 9,
   "id": "b54363b1",
   "metadata": {},
   "outputs": [],
   "source": [
    "pipeline = joblib.load(pipeline_file_path)"
   ]
  },
  {
   "cell_type": "markdown",
   "id": "dce95853",
   "metadata": {},
   "source": [
    "# Seperating independant and dependant features"
   ]
  },
  {
   "cell_type": "code",
   "execution_count": 10,
   "id": "de99cef9",
   "metadata": {},
   "outputs": [],
   "source": [
    "X_train,y_train = train_df.drop(TARGET_FEATURE, axis = 1), train_df[TARGET_FEATURE]"
   ]
  },
  {
   "cell_type": "code",
   "execution_count": 11,
   "id": "1845d09c",
   "metadata": {},
   "outputs": [],
   "source": [
    "X_validation , y_validation = validation_df.drop(TARGET_FEATURE, axis = 1), validation_df[TARGET_FEATURE]"
   ]
  },
  {
   "cell_type": "code",
   "execution_count": null,
   "id": "b1937fe4",
   "metadata": {},
   "outputs": [],
   "source": []
  },
  {
   "cell_type": "code",
   "execution_count": 12,
   "id": "0f8f65ee",
   "metadata": {},
   "outputs": [
    {
     "name": "stderr",
     "output_type": "stream",
     "text": [
      "C:\\Users\\rachi\\anaconda3\\lib\\site-packages\\sklearn\\utils\\deprecation.py:87: FutureWarning: Function get_feature_names is deprecated; get_feature_names is deprecated in 1.0 and will be removed in 1.2. Please use get_feature_names_out instead.\n",
      "  warnings.warn(msg, category=FutureWarning)\n"
     ]
    },
    {
     "data": {
      "text/html": [
       "<style>#sk-container-id-1 {color: black;background-color: white;}#sk-container-id-1 pre{padding: 0;}#sk-container-id-1 div.sk-toggleable {background-color: white;}#sk-container-id-1 label.sk-toggleable__label {cursor: pointer;display: block;width: 100%;margin-bottom: 0;padding: 0.3em;box-sizing: border-box;text-align: center;}#sk-container-id-1 label.sk-toggleable__label-arrow:before {content: \"▸\";float: left;margin-right: 0.25em;color: #696969;}#sk-container-id-1 label.sk-toggleable__label-arrow:hover:before {color: black;}#sk-container-id-1 div.sk-estimator:hover label.sk-toggleable__label-arrow:before {color: black;}#sk-container-id-1 div.sk-toggleable__content {max-height: 0;max-width: 0;overflow: hidden;text-align: left;background-color: #f0f8ff;}#sk-container-id-1 div.sk-toggleable__content pre {margin: 0.2em;color: black;border-radius: 0.25em;background-color: #f0f8ff;}#sk-container-id-1 input.sk-toggleable__control:checked~div.sk-toggleable__content {max-height: 200px;max-width: 100%;overflow: auto;}#sk-container-id-1 input.sk-toggleable__control:checked~label.sk-toggleable__label-arrow:before {content: \"▾\";}#sk-container-id-1 div.sk-estimator input.sk-toggleable__control:checked~label.sk-toggleable__label {background-color: #d4ebff;}#sk-container-id-1 div.sk-label input.sk-toggleable__control:checked~label.sk-toggleable__label {background-color: #d4ebff;}#sk-container-id-1 input.sk-hidden--visually {border: 0;clip: rect(1px 1px 1px 1px);clip: rect(1px, 1px, 1px, 1px);height: 1px;margin: -1px;overflow: hidden;padding: 0;position: absolute;width: 1px;}#sk-container-id-1 div.sk-estimator {font-family: monospace;background-color: #f0f8ff;border: 1px dotted black;border-radius: 0.25em;box-sizing: border-box;margin-bottom: 0.5em;}#sk-container-id-1 div.sk-estimator:hover {background-color: #d4ebff;}#sk-container-id-1 div.sk-parallel-item::after {content: \"\";width: 100%;border-bottom: 1px solid gray;flex-grow: 1;}#sk-container-id-1 div.sk-label:hover label.sk-toggleable__label {background-color: #d4ebff;}#sk-container-id-1 div.sk-serial::before {content: \"\";position: absolute;border-left: 1px solid gray;box-sizing: border-box;top: 0;bottom: 0;left: 50%;z-index: 0;}#sk-container-id-1 div.sk-serial {display: flex;flex-direction: column;align-items: center;background-color: white;padding-right: 0.2em;padding-left: 0.2em;position: relative;}#sk-container-id-1 div.sk-item {position: relative;z-index: 1;}#sk-container-id-1 div.sk-parallel {display: flex;align-items: stretch;justify-content: center;background-color: white;position: relative;}#sk-container-id-1 div.sk-item::before, #sk-container-id-1 div.sk-parallel-item::before {content: \"\";position: absolute;border-left: 1px solid gray;box-sizing: border-box;top: 0;bottom: 0;left: 50%;z-index: -1;}#sk-container-id-1 div.sk-parallel-item {display: flex;flex-direction: column;z-index: 1;position: relative;background-color: white;}#sk-container-id-1 div.sk-parallel-item:first-child::after {align-self: flex-end;width: 50%;}#sk-container-id-1 div.sk-parallel-item:last-child::after {align-self: flex-start;width: 50%;}#sk-container-id-1 div.sk-parallel-item:only-child::after {width: 0;}#sk-container-id-1 div.sk-dashed-wrapped {border: 1px dashed gray;margin: 0 0.4em 0.5em 0.4em;box-sizing: border-box;padding-bottom: 0.4em;background-color: white;}#sk-container-id-1 div.sk-label label {font-family: monospace;font-weight: bold;display: inline-block;line-height: 1.2em;}#sk-container-id-1 div.sk-label-container {text-align: center;}#sk-container-id-1 div.sk-container {/* jupyter's `normalize.less` sets `[hidden] { display: none; }` but bootstrap.min.css set `[hidden] { display: none !important; }` so we also need the `!important` here to be able to override the default hidden behavior on the sphinx rendered scikit-learn.org. See: https://github.com/scikit-learn/scikit-learn/issues/21755 */display: inline-block !important;position: relative;}#sk-container-id-1 div.sk-text-repr-fallback {display: none;}</style><div id=\"sk-container-id-1\" class=\"sk-top-container\"><div class=\"sk-text-repr-fallback\"><pre>Pipeline(steps=[(&#x27;drop_undesired_features&#x27;, DropUndersiredFeatures()),\n",
       "                (&#x27;impute_numerical_features&#x27;, ImputeNumericalFeatures()),\n",
       "                (&#x27;impute_categorical_features&#x27;, ImputeCategoricalFeatures()),\n",
       "                (&#x27;label_encode&#x27;, Label_Encode()),\n",
       "                (&#x27;extract_temporal_features&#x27;, ExtractFromTemporalFeatures()),\n",
       "                (&#x27;generate_distance&#x27;,\n",
       "                 GenerateDistanceFromLatitudeAndLongitude()),\n",
       "                (&#x27;OHE&#x27;, OHE_Categorical_Features()),\n",
       "                (&#x27;remove_correlated_features&#x27;,\n",
       "                 remove_high_corelated_features()),\n",
       "                (&#x27;scaler&#x27;, StandardScaler())])</pre><b>In a Jupyter environment, please rerun this cell to show the HTML representation or trust the notebook. <br />On GitHub, the HTML representation is unable to render, please try loading this page with nbviewer.org.</b></div><div class=\"sk-container\" hidden><div class=\"sk-item sk-dashed-wrapped\"><div class=\"sk-label-container\"><div class=\"sk-label sk-toggleable\"><input class=\"sk-toggleable__control sk-hidden--visually\" id=\"sk-estimator-id-1\" type=\"checkbox\" ><label for=\"sk-estimator-id-1\" class=\"sk-toggleable__label sk-toggleable__label-arrow\">Pipeline</label><div class=\"sk-toggleable__content\"><pre>Pipeline(steps=[(&#x27;drop_undesired_features&#x27;, DropUndersiredFeatures()),\n",
       "                (&#x27;impute_numerical_features&#x27;, ImputeNumericalFeatures()),\n",
       "                (&#x27;impute_categorical_features&#x27;, ImputeCategoricalFeatures()),\n",
       "                (&#x27;label_encode&#x27;, Label_Encode()),\n",
       "                (&#x27;extract_temporal_features&#x27;, ExtractFromTemporalFeatures()),\n",
       "                (&#x27;generate_distance&#x27;,\n",
       "                 GenerateDistanceFromLatitudeAndLongitude()),\n",
       "                (&#x27;OHE&#x27;, OHE_Categorical_Features()),\n",
       "                (&#x27;remove_correlated_features&#x27;,\n",
       "                 remove_high_corelated_features()),\n",
       "                (&#x27;scaler&#x27;, StandardScaler())])</pre></div></div></div><div class=\"sk-serial\"><div class=\"sk-item\"><div class=\"sk-estimator sk-toggleable\"><input class=\"sk-toggleable__control sk-hidden--visually\" id=\"sk-estimator-id-2\" type=\"checkbox\" ><label for=\"sk-estimator-id-2\" class=\"sk-toggleable__label sk-toggleable__label-arrow\">DropUndersiredFeatures</label><div class=\"sk-toggleable__content\"><pre>DropUndersiredFeatures()</pre></div></div></div><div class=\"sk-item\"><div class=\"sk-estimator sk-toggleable\"><input class=\"sk-toggleable__control sk-hidden--visually\" id=\"sk-estimator-id-3\" type=\"checkbox\" ><label for=\"sk-estimator-id-3\" class=\"sk-toggleable__label sk-toggleable__label-arrow\">ImputeNumericalFeatures</label><div class=\"sk-toggleable__content\"><pre>ImputeNumericalFeatures()</pre></div></div></div><div class=\"sk-item\"><div class=\"sk-estimator sk-toggleable\"><input class=\"sk-toggleable__control sk-hidden--visually\" id=\"sk-estimator-id-4\" type=\"checkbox\" ><label for=\"sk-estimator-id-4\" class=\"sk-toggleable__label sk-toggleable__label-arrow\">ImputeCategoricalFeatures</label><div class=\"sk-toggleable__content\"><pre>ImputeCategoricalFeatures()</pre></div></div></div><div class=\"sk-item\"><div class=\"sk-estimator sk-toggleable\"><input class=\"sk-toggleable__control sk-hidden--visually\" id=\"sk-estimator-id-5\" type=\"checkbox\" ><label for=\"sk-estimator-id-5\" class=\"sk-toggleable__label sk-toggleable__label-arrow\">Label_Encode</label><div class=\"sk-toggleable__content\"><pre>Label_Encode()</pre></div></div></div><div class=\"sk-item\"><div class=\"sk-estimator sk-toggleable\"><input class=\"sk-toggleable__control sk-hidden--visually\" id=\"sk-estimator-id-6\" type=\"checkbox\" ><label for=\"sk-estimator-id-6\" class=\"sk-toggleable__label sk-toggleable__label-arrow\">ExtractFromTemporalFeatures</label><div class=\"sk-toggleable__content\"><pre>ExtractFromTemporalFeatures()</pre></div></div></div><div class=\"sk-item\"><div class=\"sk-estimator sk-toggleable\"><input class=\"sk-toggleable__control sk-hidden--visually\" id=\"sk-estimator-id-7\" type=\"checkbox\" ><label for=\"sk-estimator-id-7\" class=\"sk-toggleable__label sk-toggleable__label-arrow\">GenerateDistanceFromLatitudeAndLongitude</label><div class=\"sk-toggleable__content\"><pre>GenerateDistanceFromLatitudeAndLongitude()</pre></div></div></div><div class=\"sk-item\"><div class=\"sk-estimator sk-toggleable\"><input class=\"sk-toggleable__control sk-hidden--visually\" id=\"sk-estimator-id-8\" type=\"checkbox\" ><label for=\"sk-estimator-id-8\" class=\"sk-toggleable__label sk-toggleable__label-arrow\">OHE_Categorical_Features</label><div class=\"sk-toggleable__content\"><pre>OHE_Categorical_Features()</pre></div></div></div><div class=\"sk-item\"><div class=\"sk-estimator sk-toggleable\"><input class=\"sk-toggleable__control sk-hidden--visually\" id=\"sk-estimator-id-9\" type=\"checkbox\" ><label for=\"sk-estimator-id-9\" class=\"sk-toggleable__label sk-toggleable__label-arrow\">remove_high_corelated_features</label><div class=\"sk-toggleable__content\"><pre>remove_high_corelated_features()</pre></div></div></div><div class=\"sk-item\"><div class=\"sk-estimator sk-toggleable\"><input class=\"sk-toggleable__control sk-hidden--visually\" id=\"sk-estimator-id-10\" type=\"checkbox\" ><label for=\"sk-estimator-id-10\" class=\"sk-toggleable__label sk-toggleable__label-arrow\">StandardScaler</label><div class=\"sk-toggleable__content\"><pre>StandardScaler()</pre></div></div></div></div></div></div></div>"
      ],
      "text/plain": [
       "Pipeline(steps=[('drop_undesired_features', DropUndersiredFeatures()),\n",
       "                ('impute_numerical_features', ImputeNumericalFeatures()),\n",
       "                ('impute_categorical_features', ImputeCategoricalFeatures()),\n",
       "                ('label_encode', Label_Encode()),\n",
       "                ('extract_temporal_features', ExtractFromTemporalFeatures()),\n",
       "                ('generate_distance',\n",
       "                 GenerateDistanceFromLatitudeAndLongitude()),\n",
       "                ('OHE', OHE_Categorical_Features()),\n",
       "                ('remove_correlated_features',\n",
       "                 remove_high_corelated_features()),\n",
       "                ('scaler', StandardScaler())])"
      ]
     },
     "execution_count": 12,
     "metadata": {},
     "output_type": "execute_result"
    }
   ],
   "source": [
    "pipeline.fit(X_train)"
   ]
  },
  {
   "cell_type": "code",
   "execution_count": 13,
   "id": "cb256881",
   "metadata": {},
   "outputs": [
    {
     "name": "stderr",
     "output_type": "stream",
     "text": [
      "C:\\Users\\rachi\\anaconda3\\lib\\site-packages\\sklearn\\utils\\deprecation.py:87: FutureWarning: Function get_feature_names is deprecated; get_feature_names is deprecated in 1.0 and will be removed in 1.2. Please use get_feature_names_out instead.\n",
      "  warnings.warn(msg, category=FutureWarning)\n"
     ]
    }
   ],
   "source": [
    "X_train_transformed = pipeline.transform(X_train)"
   ]
  },
  {
   "cell_type": "code",
   "execution_count": 14,
   "id": "b242bdf7",
   "metadata": {},
   "outputs": [
    {
     "name": "stderr",
     "output_type": "stream",
     "text": [
      "C:\\Users\\rachi\\anaconda3\\lib\\site-packages\\sklearn\\utils\\deprecation.py:87: FutureWarning: Function get_feature_names is deprecated; get_feature_names is deprecated in 1.0 and will be removed in 1.2. Please use get_feature_names_out instead.\n",
      "  warnings.warn(msg, category=FutureWarning)\n"
     ]
    }
   ],
   "source": [
    "X_validation_transformed = pipeline.transform(X_validation)"
   ]
  },
  {
   "cell_type": "code",
   "execution_count": null,
   "id": "34a10397",
   "metadata": {},
   "outputs": [],
   "source": []
  },
  {
   "cell_type": "code",
   "execution_count": null,
   "id": "40d48105",
   "metadata": {},
   "outputs": [],
   "source": []
  },
  {
   "cell_type": "markdown",
   "id": "43746659",
   "metadata": {},
   "source": [
    "# Linear Regression"
   ]
  },
  {
   "cell_type": "code",
   "execution_count": 15,
   "id": "e2191c6b",
   "metadata": {},
   "outputs": [],
   "source": [
    "from sklearn.linear_model import LinearRegression"
   ]
  },
  {
   "cell_type": "code",
   "execution_count": 16,
   "id": "dafe5fff",
   "metadata": {},
   "outputs": [],
   "source": [
    "lr = LinearRegression()"
   ]
  },
  {
   "cell_type": "code",
   "execution_count": 17,
   "id": "64c1d421",
   "metadata": {},
   "outputs": [
    {
     "data": {
      "text/html": [
       "<style>#sk-container-id-2 {color: black;background-color: white;}#sk-container-id-2 pre{padding: 0;}#sk-container-id-2 div.sk-toggleable {background-color: white;}#sk-container-id-2 label.sk-toggleable__label {cursor: pointer;display: block;width: 100%;margin-bottom: 0;padding: 0.3em;box-sizing: border-box;text-align: center;}#sk-container-id-2 label.sk-toggleable__label-arrow:before {content: \"▸\";float: left;margin-right: 0.25em;color: #696969;}#sk-container-id-2 label.sk-toggleable__label-arrow:hover:before {color: black;}#sk-container-id-2 div.sk-estimator:hover label.sk-toggleable__label-arrow:before {color: black;}#sk-container-id-2 div.sk-toggleable__content {max-height: 0;max-width: 0;overflow: hidden;text-align: left;background-color: #f0f8ff;}#sk-container-id-2 div.sk-toggleable__content pre {margin: 0.2em;color: black;border-radius: 0.25em;background-color: #f0f8ff;}#sk-container-id-2 input.sk-toggleable__control:checked~div.sk-toggleable__content {max-height: 200px;max-width: 100%;overflow: auto;}#sk-container-id-2 input.sk-toggleable__control:checked~label.sk-toggleable__label-arrow:before {content: \"▾\";}#sk-container-id-2 div.sk-estimator input.sk-toggleable__control:checked~label.sk-toggleable__label {background-color: #d4ebff;}#sk-container-id-2 div.sk-label input.sk-toggleable__control:checked~label.sk-toggleable__label {background-color: #d4ebff;}#sk-container-id-2 input.sk-hidden--visually {border: 0;clip: rect(1px 1px 1px 1px);clip: rect(1px, 1px, 1px, 1px);height: 1px;margin: -1px;overflow: hidden;padding: 0;position: absolute;width: 1px;}#sk-container-id-2 div.sk-estimator {font-family: monospace;background-color: #f0f8ff;border: 1px dotted black;border-radius: 0.25em;box-sizing: border-box;margin-bottom: 0.5em;}#sk-container-id-2 div.sk-estimator:hover {background-color: #d4ebff;}#sk-container-id-2 div.sk-parallel-item::after {content: \"\";width: 100%;border-bottom: 1px solid gray;flex-grow: 1;}#sk-container-id-2 div.sk-label:hover label.sk-toggleable__label {background-color: #d4ebff;}#sk-container-id-2 div.sk-serial::before {content: \"\";position: absolute;border-left: 1px solid gray;box-sizing: border-box;top: 0;bottom: 0;left: 50%;z-index: 0;}#sk-container-id-2 div.sk-serial {display: flex;flex-direction: column;align-items: center;background-color: white;padding-right: 0.2em;padding-left: 0.2em;position: relative;}#sk-container-id-2 div.sk-item {position: relative;z-index: 1;}#sk-container-id-2 div.sk-parallel {display: flex;align-items: stretch;justify-content: center;background-color: white;position: relative;}#sk-container-id-2 div.sk-item::before, #sk-container-id-2 div.sk-parallel-item::before {content: \"\";position: absolute;border-left: 1px solid gray;box-sizing: border-box;top: 0;bottom: 0;left: 50%;z-index: -1;}#sk-container-id-2 div.sk-parallel-item {display: flex;flex-direction: column;z-index: 1;position: relative;background-color: white;}#sk-container-id-2 div.sk-parallel-item:first-child::after {align-self: flex-end;width: 50%;}#sk-container-id-2 div.sk-parallel-item:last-child::after {align-self: flex-start;width: 50%;}#sk-container-id-2 div.sk-parallel-item:only-child::after {width: 0;}#sk-container-id-2 div.sk-dashed-wrapped {border: 1px dashed gray;margin: 0 0.4em 0.5em 0.4em;box-sizing: border-box;padding-bottom: 0.4em;background-color: white;}#sk-container-id-2 div.sk-label label {font-family: monospace;font-weight: bold;display: inline-block;line-height: 1.2em;}#sk-container-id-2 div.sk-label-container {text-align: center;}#sk-container-id-2 div.sk-container {/* jupyter's `normalize.less` sets `[hidden] { display: none; }` but bootstrap.min.css set `[hidden] { display: none !important; }` so we also need the `!important` here to be able to override the default hidden behavior on the sphinx rendered scikit-learn.org. See: https://github.com/scikit-learn/scikit-learn/issues/21755 */display: inline-block !important;position: relative;}#sk-container-id-2 div.sk-text-repr-fallback {display: none;}</style><div id=\"sk-container-id-2\" class=\"sk-top-container\"><div class=\"sk-text-repr-fallback\"><pre>LinearRegression()</pre><b>In a Jupyter environment, please rerun this cell to show the HTML representation or trust the notebook. <br />On GitHub, the HTML representation is unable to render, please try loading this page with nbviewer.org.</b></div><div class=\"sk-container\" hidden><div class=\"sk-item\"><div class=\"sk-estimator sk-toggleable\"><input class=\"sk-toggleable__control sk-hidden--visually\" id=\"sk-estimator-id-11\" type=\"checkbox\" checked><label for=\"sk-estimator-id-11\" class=\"sk-toggleable__label sk-toggleable__label-arrow\">LinearRegression</label><div class=\"sk-toggleable__content\"><pre>LinearRegression()</pre></div></div></div></div></div>"
      ],
      "text/plain": [
       "LinearRegression()"
      ]
     },
     "execution_count": 17,
     "metadata": {},
     "output_type": "execute_result"
    }
   ],
   "source": [
    "lr.fit(X_train_transformed,y_train)"
   ]
  },
  {
   "cell_type": "code",
   "execution_count": 18,
   "id": "6a710869",
   "metadata": {},
   "outputs": [],
   "source": [
    "predictions_train = lr.predict(X_train_transformed)"
   ]
  },
  {
   "cell_type": "code",
   "execution_count": 19,
   "id": "e9ac43fb",
   "metadata": {},
   "outputs": [],
   "source": [
    "predictions_validation = lr.predict(X_validation_transformed)"
   ]
  },
  {
   "cell_type": "code",
   "execution_count": 20,
   "id": "26c0f23e",
   "metadata": {},
   "outputs": [],
   "source": [
    "root_mean_squared_error_train = np.sqrt(mean_squared_error(y_train,predictions_train))\n",
    "root_mean_squared_error_validation = np.sqrt(mean_squared_error(y_validation,predictions_validation))"
   ]
  },
  {
   "cell_type": "code",
   "execution_count": 21,
   "id": "c39f9ea6",
   "metadata": {},
   "outputs": [],
   "source": [
    "r2_train = r2_score(y_train,predictions_train)\n",
    "r2_validation = r2_score(y_validation,predictions_validation)"
   ]
  },
  {
   "cell_type": "code",
   "execution_count": 22,
   "id": "bb59b3eb",
   "metadata": {},
   "outputs": [
    {
     "name": "stdout",
     "output_type": "stream",
     "text": [
      "Dataset\t\t\tRoot mean square error\t\t\tR square score\n",
      "Train\t\t\t6.278349052110622\t\t\t0.5520717513626424\n",
      "Validation\t\t6.27864087962563\t\t\t0.5547454231903701\n"
     ]
    }
   ],
   "source": [
    "print(\"Dataset\\t\\t\\tRoot mean square error\\t\\t\\tR square score\")\n",
    "print(f\"Train\\t\\t\\t{root_mean_squared_error_train}\\t\\t\\t{r2_train}\")\n",
    "print(f\"Validation\\t\\t{root_mean_squared_error_validation}\\t\\t\\t{r2_validation}\")"
   ]
  },
  {
   "cell_type": "code",
   "execution_count": null,
   "id": "95842a18",
   "metadata": {},
   "outputs": [],
   "source": []
  },
  {
   "cell_type": "markdown",
   "id": "fc4a66d9",
   "metadata": {},
   "source": [
    "# SVR"
   ]
  },
  {
   "cell_type": "code",
   "execution_count": 23,
   "id": "22d80563",
   "metadata": {},
   "outputs": [],
   "source": [
    "from sklearn.svm import LinearSVR"
   ]
  },
  {
   "cell_type": "code",
   "execution_count": 24,
   "id": "3a932404",
   "metadata": {},
   "outputs": [],
   "source": [
    "svr = LinearSVR()"
   ]
  },
  {
   "cell_type": "code",
   "execution_count": 25,
   "id": "4840e19a",
   "metadata": {},
   "outputs": [
    {
     "data": {
      "text/html": [
       "<style>#sk-container-id-3 {color: black;background-color: white;}#sk-container-id-3 pre{padding: 0;}#sk-container-id-3 div.sk-toggleable {background-color: white;}#sk-container-id-3 label.sk-toggleable__label {cursor: pointer;display: block;width: 100%;margin-bottom: 0;padding: 0.3em;box-sizing: border-box;text-align: center;}#sk-container-id-3 label.sk-toggleable__label-arrow:before {content: \"▸\";float: left;margin-right: 0.25em;color: #696969;}#sk-container-id-3 label.sk-toggleable__label-arrow:hover:before {color: black;}#sk-container-id-3 div.sk-estimator:hover label.sk-toggleable__label-arrow:before {color: black;}#sk-container-id-3 div.sk-toggleable__content {max-height: 0;max-width: 0;overflow: hidden;text-align: left;background-color: #f0f8ff;}#sk-container-id-3 div.sk-toggleable__content pre {margin: 0.2em;color: black;border-radius: 0.25em;background-color: #f0f8ff;}#sk-container-id-3 input.sk-toggleable__control:checked~div.sk-toggleable__content {max-height: 200px;max-width: 100%;overflow: auto;}#sk-container-id-3 input.sk-toggleable__control:checked~label.sk-toggleable__label-arrow:before {content: \"▾\";}#sk-container-id-3 div.sk-estimator input.sk-toggleable__control:checked~label.sk-toggleable__label {background-color: #d4ebff;}#sk-container-id-3 div.sk-label input.sk-toggleable__control:checked~label.sk-toggleable__label {background-color: #d4ebff;}#sk-container-id-3 input.sk-hidden--visually {border: 0;clip: rect(1px 1px 1px 1px);clip: rect(1px, 1px, 1px, 1px);height: 1px;margin: -1px;overflow: hidden;padding: 0;position: absolute;width: 1px;}#sk-container-id-3 div.sk-estimator {font-family: monospace;background-color: #f0f8ff;border: 1px dotted black;border-radius: 0.25em;box-sizing: border-box;margin-bottom: 0.5em;}#sk-container-id-3 div.sk-estimator:hover {background-color: #d4ebff;}#sk-container-id-3 div.sk-parallel-item::after {content: \"\";width: 100%;border-bottom: 1px solid gray;flex-grow: 1;}#sk-container-id-3 div.sk-label:hover label.sk-toggleable__label {background-color: #d4ebff;}#sk-container-id-3 div.sk-serial::before {content: \"\";position: absolute;border-left: 1px solid gray;box-sizing: border-box;top: 0;bottom: 0;left: 50%;z-index: 0;}#sk-container-id-3 div.sk-serial {display: flex;flex-direction: column;align-items: center;background-color: white;padding-right: 0.2em;padding-left: 0.2em;position: relative;}#sk-container-id-3 div.sk-item {position: relative;z-index: 1;}#sk-container-id-3 div.sk-parallel {display: flex;align-items: stretch;justify-content: center;background-color: white;position: relative;}#sk-container-id-3 div.sk-item::before, #sk-container-id-3 div.sk-parallel-item::before {content: \"\";position: absolute;border-left: 1px solid gray;box-sizing: border-box;top: 0;bottom: 0;left: 50%;z-index: -1;}#sk-container-id-3 div.sk-parallel-item {display: flex;flex-direction: column;z-index: 1;position: relative;background-color: white;}#sk-container-id-3 div.sk-parallel-item:first-child::after {align-self: flex-end;width: 50%;}#sk-container-id-3 div.sk-parallel-item:last-child::after {align-self: flex-start;width: 50%;}#sk-container-id-3 div.sk-parallel-item:only-child::after {width: 0;}#sk-container-id-3 div.sk-dashed-wrapped {border: 1px dashed gray;margin: 0 0.4em 0.5em 0.4em;box-sizing: border-box;padding-bottom: 0.4em;background-color: white;}#sk-container-id-3 div.sk-label label {font-family: monospace;font-weight: bold;display: inline-block;line-height: 1.2em;}#sk-container-id-3 div.sk-label-container {text-align: center;}#sk-container-id-3 div.sk-container {/* jupyter's `normalize.less` sets `[hidden] { display: none; }` but bootstrap.min.css set `[hidden] { display: none !important; }` so we also need the `!important` here to be able to override the default hidden behavior on the sphinx rendered scikit-learn.org. See: https://github.com/scikit-learn/scikit-learn/issues/21755 */display: inline-block !important;position: relative;}#sk-container-id-3 div.sk-text-repr-fallback {display: none;}</style><div id=\"sk-container-id-3\" class=\"sk-top-container\"><div class=\"sk-text-repr-fallback\"><pre>LinearSVR()</pre><b>In a Jupyter environment, please rerun this cell to show the HTML representation or trust the notebook. <br />On GitHub, the HTML representation is unable to render, please try loading this page with nbviewer.org.</b></div><div class=\"sk-container\" hidden><div class=\"sk-item\"><div class=\"sk-estimator sk-toggleable\"><input class=\"sk-toggleable__control sk-hidden--visually\" id=\"sk-estimator-id-12\" type=\"checkbox\" checked><label for=\"sk-estimator-id-12\" class=\"sk-toggleable__label sk-toggleable__label-arrow\">LinearSVR</label><div class=\"sk-toggleable__content\"><pre>LinearSVR()</pre></div></div></div></div></div>"
      ],
      "text/plain": [
       "LinearSVR()"
      ]
     },
     "execution_count": 25,
     "metadata": {},
     "output_type": "execute_result"
    }
   ],
   "source": [
    "svr.fit(X_train_transformed,y_train)"
   ]
  },
  {
   "cell_type": "code",
   "execution_count": 26,
   "id": "379f7d1c",
   "metadata": {},
   "outputs": [],
   "source": [
    "predictions_train = svr.predict(X_train_transformed)"
   ]
  },
  {
   "cell_type": "code",
   "execution_count": 27,
   "id": "3ecbd2c3",
   "metadata": {},
   "outputs": [],
   "source": [
    "predictions_validation = svr.predict(X_validation_transformed)"
   ]
  },
  {
   "cell_type": "code",
   "execution_count": 28,
   "id": "b650d59c",
   "metadata": {},
   "outputs": [],
   "source": [
    "root_mean_squared_error_train = np.sqrt(mean_squared_error(y_train,predictions_train))\n",
    "root_mean_squared_error_validation = np.sqrt(mean_squared_error(y_validation,predictions_validation))"
   ]
  },
  {
   "cell_type": "code",
   "execution_count": 29,
   "id": "cb0376f8",
   "metadata": {},
   "outputs": [],
   "source": [
    "r2_train = r2_score(y_train,predictions_train)\n",
    "r2_validation = r2_score(y_validation,predictions_validation)"
   ]
  },
  {
   "cell_type": "code",
   "execution_count": 30,
   "id": "fd520d56",
   "metadata": {},
   "outputs": [
    {
     "name": "stdout",
     "output_type": "stream",
     "text": [
      "Dataset\t\t\tRoot mean square error\t\t\tR square score\n",
      "Train\t\t\t6.300598751601082\t\t\t0.5488913201822972\n",
      "Validation\t\t6.302034677364084\t\t\t0.5514212641128122\n"
     ]
    }
   ],
   "source": [
    "print(\"Dataset\\t\\t\\tRoot mean square error\\t\\t\\tR square score\")\n",
    "print(f\"Train\\t\\t\\t{root_mean_squared_error_train}\\t\\t\\t{r2_train}\")\n",
    "print(f\"Validation\\t\\t{root_mean_squared_error_validation}\\t\\t\\t{r2_validation}\")"
   ]
  },
  {
   "cell_type": "code",
   "execution_count": null,
   "id": "34bc349d",
   "metadata": {},
   "outputs": [],
   "source": []
  },
  {
   "cell_type": "markdown",
   "id": "f99a964e",
   "metadata": {},
   "source": [
    "# Random Forests"
   ]
  },
  {
   "cell_type": "code",
   "execution_count": 31,
   "id": "1004cbe7",
   "metadata": {},
   "outputs": [],
   "source": [
    "from sklearn.ensemble import RandomForestRegressor"
   ]
  },
  {
   "cell_type": "code",
   "execution_count": 32,
   "id": "2ea2b101",
   "metadata": {},
   "outputs": [],
   "source": [
    "rf  =RandomForestRegressor()"
   ]
  },
  {
   "cell_type": "code",
   "execution_count": 33,
   "id": "819cf06d",
   "metadata": {},
   "outputs": [
    {
     "data": {
      "text/html": [
       "<style>#sk-container-id-4 {color: black;background-color: white;}#sk-container-id-4 pre{padding: 0;}#sk-container-id-4 div.sk-toggleable {background-color: white;}#sk-container-id-4 label.sk-toggleable__label {cursor: pointer;display: block;width: 100%;margin-bottom: 0;padding: 0.3em;box-sizing: border-box;text-align: center;}#sk-container-id-4 label.sk-toggleable__label-arrow:before {content: \"▸\";float: left;margin-right: 0.25em;color: #696969;}#sk-container-id-4 label.sk-toggleable__label-arrow:hover:before {color: black;}#sk-container-id-4 div.sk-estimator:hover label.sk-toggleable__label-arrow:before {color: black;}#sk-container-id-4 div.sk-toggleable__content {max-height: 0;max-width: 0;overflow: hidden;text-align: left;background-color: #f0f8ff;}#sk-container-id-4 div.sk-toggleable__content pre {margin: 0.2em;color: black;border-radius: 0.25em;background-color: #f0f8ff;}#sk-container-id-4 input.sk-toggleable__control:checked~div.sk-toggleable__content {max-height: 200px;max-width: 100%;overflow: auto;}#sk-container-id-4 input.sk-toggleable__control:checked~label.sk-toggleable__label-arrow:before {content: \"▾\";}#sk-container-id-4 div.sk-estimator input.sk-toggleable__control:checked~label.sk-toggleable__label {background-color: #d4ebff;}#sk-container-id-4 div.sk-label input.sk-toggleable__control:checked~label.sk-toggleable__label {background-color: #d4ebff;}#sk-container-id-4 input.sk-hidden--visually {border: 0;clip: rect(1px 1px 1px 1px);clip: rect(1px, 1px, 1px, 1px);height: 1px;margin: -1px;overflow: hidden;padding: 0;position: absolute;width: 1px;}#sk-container-id-4 div.sk-estimator {font-family: monospace;background-color: #f0f8ff;border: 1px dotted black;border-radius: 0.25em;box-sizing: border-box;margin-bottom: 0.5em;}#sk-container-id-4 div.sk-estimator:hover {background-color: #d4ebff;}#sk-container-id-4 div.sk-parallel-item::after {content: \"\";width: 100%;border-bottom: 1px solid gray;flex-grow: 1;}#sk-container-id-4 div.sk-label:hover label.sk-toggleable__label {background-color: #d4ebff;}#sk-container-id-4 div.sk-serial::before {content: \"\";position: absolute;border-left: 1px solid gray;box-sizing: border-box;top: 0;bottom: 0;left: 50%;z-index: 0;}#sk-container-id-4 div.sk-serial {display: flex;flex-direction: column;align-items: center;background-color: white;padding-right: 0.2em;padding-left: 0.2em;position: relative;}#sk-container-id-4 div.sk-item {position: relative;z-index: 1;}#sk-container-id-4 div.sk-parallel {display: flex;align-items: stretch;justify-content: center;background-color: white;position: relative;}#sk-container-id-4 div.sk-item::before, #sk-container-id-4 div.sk-parallel-item::before {content: \"\";position: absolute;border-left: 1px solid gray;box-sizing: border-box;top: 0;bottom: 0;left: 50%;z-index: -1;}#sk-container-id-4 div.sk-parallel-item {display: flex;flex-direction: column;z-index: 1;position: relative;background-color: white;}#sk-container-id-4 div.sk-parallel-item:first-child::after {align-self: flex-end;width: 50%;}#sk-container-id-4 div.sk-parallel-item:last-child::after {align-self: flex-start;width: 50%;}#sk-container-id-4 div.sk-parallel-item:only-child::after {width: 0;}#sk-container-id-4 div.sk-dashed-wrapped {border: 1px dashed gray;margin: 0 0.4em 0.5em 0.4em;box-sizing: border-box;padding-bottom: 0.4em;background-color: white;}#sk-container-id-4 div.sk-label label {font-family: monospace;font-weight: bold;display: inline-block;line-height: 1.2em;}#sk-container-id-4 div.sk-label-container {text-align: center;}#sk-container-id-4 div.sk-container {/* jupyter's `normalize.less` sets `[hidden] { display: none; }` but bootstrap.min.css set `[hidden] { display: none !important; }` so we also need the `!important` here to be able to override the default hidden behavior on the sphinx rendered scikit-learn.org. See: https://github.com/scikit-learn/scikit-learn/issues/21755 */display: inline-block !important;position: relative;}#sk-container-id-4 div.sk-text-repr-fallback {display: none;}</style><div id=\"sk-container-id-4\" class=\"sk-top-container\"><div class=\"sk-text-repr-fallback\"><pre>RandomForestRegressor()</pre><b>In a Jupyter environment, please rerun this cell to show the HTML representation or trust the notebook. <br />On GitHub, the HTML representation is unable to render, please try loading this page with nbviewer.org.</b></div><div class=\"sk-container\" hidden><div class=\"sk-item\"><div class=\"sk-estimator sk-toggleable\"><input class=\"sk-toggleable__control sk-hidden--visually\" id=\"sk-estimator-id-13\" type=\"checkbox\" checked><label for=\"sk-estimator-id-13\" class=\"sk-toggleable__label sk-toggleable__label-arrow\">RandomForestRegressor</label><div class=\"sk-toggleable__content\"><pre>RandomForestRegressor()</pre></div></div></div></div></div>"
      ],
      "text/plain": [
       "RandomForestRegressor()"
      ]
     },
     "execution_count": 33,
     "metadata": {},
     "output_type": "execute_result"
    }
   ],
   "source": [
    "rf.fit(X_train_transformed,y_train)"
   ]
  },
  {
   "cell_type": "code",
   "execution_count": 34,
   "id": "fa3a6d0a",
   "metadata": {},
   "outputs": [],
   "source": [
    "predictions_train = rf.predict(X_train_transformed)"
   ]
  },
  {
   "cell_type": "code",
   "execution_count": 35,
   "id": "cef3f1c1",
   "metadata": {},
   "outputs": [],
   "source": [
    "predictions_validation = rf.predict(X_validation_transformed)"
   ]
  },
  {
   "cell_type": "code",
   "execution_count": 36,
   "id": "25dcca28",
   "metadata": {},
   "outputs": [],
   "source": [
    "root_mean_squared_error_train = np.sqrt(mean_squared_error(y_train,predictions_train))\n",
    "root_mean_squared_error_validation = np.sqrt(mean_squared_error(y_validation,predictions_validation))\n",
    "r2_train = r2_score(y_train,predictions_train)\n",
    "r2_validation = r2_score(y_validation,predictions_validation)"
   ]
  },
  {
   "cell_type": "code",
   "execution_count": 37,
   "id": "e79af733",
   "metadata": {},
   "outputs": [
    {
     "name": "stdout",
     "output_type": "stream",
     "text": [
      "Dataset\t\t\tRoot mean square error\t\t\tR square score\n",
      "Train\t\t\t1.4962584071179037\t\t\t0.9745592010976\n",
      "Validation\t\t3.9345400960650863\t\t\t0.825150233558825\n"
     ]
    }
   ],
   "source": [
    "print(\"Dataset\\t\\t\\tRoot mean square error\\t\\t\\tR square score\")\n",
    "print(f\"Train\\t\\t\\t{root_mean_squared_error_train}\\t\\t\\t{r2_train}\")\n",
    "print(f\"Validation\\t\\t{root_mean_squared_error_validation}\\t\\t\\t{r2_validation}\")"
   ]
  },
  {
   "cell_type": "markdown",
   "id": "a443526f",
   "metadata": {},
   "source": [
    "# Extra Trees"
   ]
  },
  {
   "cell_type": "code",
   "execution_count": 38,
   "id": "7a08b184",
   "metadata": {},
   "outputs": [],
   "source": [
    "from sklearn.ensemble import ExtraTreesRegressor"
   ]
  },
  {
   "cell_type": "code",
   "execution_count": 39,
   "id": "a5e5412a",
   "metadata": {},
   "outputs": [],
   "source": [
    "extra = ExtraTreesRegressor()"
   ]
  },
  {
   "cell_type": "code",
   "execution_count": 40,
   "id": "c065400d",
   "metadata": {},
   "outputs": [
    {
     "data": {
      "text/html": [
       "<style>#sk-container-id-5 {color: black;background-color: white;}#sk-container-id-5 pre{padding: 0;}#sk-container-id-5 div.sk-toggleable {background-color: white;}#sk-container-id-5 label.sk-toggleable__label {cursor: pointer;display: block;width: 100%;margin-bottom: 0;padding: 0.3em;box-sizing: border-box;text-align: center;}#sk-container-id-5 label.sk-toggleable__label-arrow:before {content: \"▸\";float: left;margin-right: 0.25em;color: #696969;}#sk-container-id-5 label.sk-toggleable__label-arrow:hover:before {color: black;}#sk-container-id-5 div.sk-estimator:hover label.sk-toggleable__label-arrow:before {color: black;}#sk-container-id-5 div.sk-toggleable__content {max-height: 0;max-width: 0;overflow: hidden;text-align: left;background-color: #f0f8ff;}#sk-container-id-5 div.sk-toggleable__content pre {margin: 0.2em;color: black;border-radius: 0.25em;background-color: #f0f8ff;}#sk-container-id-5 input.sk-toggleable__control:checked~div.sk-toggleable__content {max-height: 200px;max-width: 100%;overflow: auto;}#sk-container-id-5 input.sk-toggleable__control:checked~label.sk-toggleable__label-arrow:before {content: \"▾\";}#sk-container-id-5 div.sk-estimator input.sk-toggleable__control:checked~label.sk-toggleable__label {background-color: #d4ebff;}#sk-container-id-5 div.sk-label input.sk-toggleable__control:checked~label.sk-toggleable__label {background-color: #d4ebff;}#sk-container-id-5 input.sk-hidden--visually {border: 0;clip: rect(1px 1px 1px 1px);clip: rect(1px, 1px, 1px, 1px);height: 1px;margin: -1px;overflow: hidden;padding: 0;position: absolute;width: 1px;}#sk-container-id-5 div.sk-estimator {font-family: monospace;background-color: #f0f8ff;border: 1px dotted black;border-radius: 0.25em;box-sizing: border-box;margin-bottom: 0.5em;}#sk-container-id-5 div.sk-estimator:hover {background-color: #d4ebff;}#sk-container-id-5 div.sk-parallel-item::after {content: \"\";width: 100%;border-bottom: 1px solid gray;flex-grow: 1;}#sk-container-id-5 div.sk-label:hover label.sk-toggleable__label {background-color: #d4ebff;}#sk-container-id-5 div.sk-serial::before {content: \"\";position: absolute;border-left: 1px solid gray;box-sizing: border-box;top: 0;bottom: 0;left: 50%;z-index: 0;}#sk-container-id-5 div.sk-serial {display: flex;flex-direction: column;align-items: center;background-color: white;padding-right: 0.2em;padding-left: 0.2em;position: relative;}#sk-container-id-5 div.sk-item {position: relative;z-index: 1;}#sk-container-id-5 div.sk-parallel {display: flex;align-items: stretch;justify-content: center;background-color: white;position: relative;}#sk-container-id-5 div.sk-item::before, #sk-container-id-5 div.sk-parallel-item::before {content: \"\";position: absolute;border-left: 1px solid gray;box-sizing: border-box;top: 0;bottom: 0;left: 50%;z-index: -1;}#sk-container-id-5 div.sk-parallel-item {display: flex;flex-direction: column;z-index: 1;position: relative;background-color: white;}#sk-container-id-5 div.sk-parallel-item:first-child::after {align-self: flex-end;width: 50%;}#sk-container-id-5 div.sk-parallel-item:last-child::after {align-self: flex-start;width: 50%;}#sk-container-id-5 div.sk-parallel-item:only-child::after {width: 0;}#sk-container-id-5 div.sk-dashed-wrapped {border: 1px dashed gray;margin: 0 0.4em 0.5em 0.4em;box-sizing: border-box;padding-bottom: 0.4em;background-color: white;}#sk-container-id-5 div.sk-label label {font-family: monospace;font-weight: bold;display: inline-block;line-height: 1.2em;}#sk-container-id-5 div.sk-label-container {text-align: center;}#sk-container-id-5 div.sk-container {/* jupyter's `normalize.less` sets `[hidden] { display: none; }` but bootstrap.min.css set `[hidden] { display: none !important; }` so we also need the `!important` here to be able to override the default hidden behavior on the sphinx rendered scikit-learn.org. See: https://github.com/scikit-learn/scikit-learn/issues/21755 */display: inline-block !important;position: relative;}#sk-container-id-5 div.sk-text-repr-fallback {display: none;}</style><div id=\"sk-container-id-5\" class=\"sk-top-container\"><div class=\"sk-text-repr-fallback\"><pre>ExtraTreesRegressor()</pre><b>In a Jupyter environment, please rerun this cell to show the HTML representation or trust the notebook. <br />On GitHub, the HTML representation is unable to render, please try loading this page with nbviewer.org.</b></div><div class=\"sk-container\" hidden><div class=\"sk-item\"><div class=\"sk-estimator sk-toggleable\"><input class=\"sk-toggleable__control sk-hidden--visually\" id=\"sk-estimator-id-14\" type=\"checkbox\" checked><label for=\"sk-estimator-id-14\" class=\"sk-toggleable__label sk-toggleable__label-arrow\">ExtraTreesRegressor</label><div class=\"sk-toggleable__content\"><pre>ExtraTreesRegressor()</pre></div></div></div></div></div>"
      ],
      "text/plain": [
       "ExtraTreesRegressor()"
      ]
     },
     "execution_count": 40,
     "metadata": {},
     "output_type": "execute_result"
    }
   ],
   "source": [
    "extra.fit(X_train_transformed,y_train)"
   ]
  },
  {
   "cell_type": "code",
   "execution_count": 41,
   "id": "a97806e7",
   "metadata": {},
   "outputs": [],
   "source": [
    "predictions_train = extra.predict(X_train_transformed)\n",
    "predictions_validation = extra.predict(X_validation_transformed)"
   ]
  },
  {
   "cell_type": "code",
   "execution_count": 42,
   "id": "2e542ae0",
   "metadata": {},
   "outputs": [],
   "source": [
    "root_mean_squared_error_train = np.sqrt(mean_squared_error(y_train,predictions_train))\n",
    "root_mean_squared_error_validation = np.sqrt(mean_squared_error(y_validation,predictions_validation))\n",
    "r2_train = r2_score(y_train,predictions_train)\n",
    "r2_validation = r2_score(y_validation,predictions_validation)"
   ]
  },
  {
   "cell_type": "code",
   "execution_count": 43,
   "id": "afae87d8",
   "metadata": {},
   "outputs": [
    {
     "name": "stdout",
     "output_type": "stream",
     "text": [
      "Dataset\t\t\tRoot mean square error\t\t\tR square score\n",
      "Train\t\t\t0.0\t\t\t1.0\n",
      "Validation\t\t4.086817081745783\t\t\t0.8113540414829488\n"
     ]
    }
   ],
   "source": [
    "print(\"Dataset\\t\\t\\tRoot mean square error\\t\\t\\tR square score\")\n",
    "print(f\"Train\\t\\t\\t{root_mean_squared_error_train}\\t\\t\\t{r2_train}\")\n",
    "print(f\"Validation\\t\\t{root_mean_squared_error_validation}\\t\\t\\t{r2_validation}\")"
   ]
  },
  {
   "cell_type": "markdown",
   "id": "6c2eb482",
   "metadata": {},
   "source": [
    "# Ada Boost"
   ]
  },
  {
   "cell_type": "code",
   "execution_count": 44,
   "id": "8a6b63d3",
   "metadata": {},
   "outputs": [],
   "source": [
    "from sklearn.ensemble import AdaBoostRegressor"
   ]
  },
  {
   "cell_type": "code",
   "execution_count": 45,
   "id": "62587d5b",
   "metadata": {},
   "outputs": [],
   "source": [
    "ada = AdaBoostRegressor()"
   ]
  },
  {
   "cell_type": "code",
   "execution_count": 46,
   "id": "acb04a41",
   "metadata": {},
   "outputs": [
    {
     "data": {
      "text/html": [
       "<style>#sk-container-id-6 {color: black;background-color: white;}#sk-container-id-6 pre{padding: 0;}#sk-container-id-6 div.sk-toggleable {background-color: white;}#sk-container-id-6 label.sk-toggleable__label {cursor: pointer;display: block;width: 100%;margin-bottom: 0;padding: 0.3em;box-sizing: border-box;text-align: center;}#sk-container-id-6 label.sk-toggleable__label-arrow:before {content: \"▸\";float: left;margin-right: 0.25em;color: #696969;}#sk-container-id-6 label.sk-toggleable__label-arrow:hover:before {color: black;}#sk-container-id-6 div.sk-estimator:hover label.sk-toggleable__label-arrow:before {color: black;}#sk-container-id-6 div.sk-toggleable__content {max-height: 0;max-width: 0;overflow: hidden;text-align: left;background-color: #f0f8ff;}#sk-container-id-6 div.sk-toggleable__content pre {margin: 0.2em;color: black;border-radius: 0.25em;background-color: #f0f8ff;}#sk-container-id-6 input.sk-toggleable__control:checked~div.sk-toggleable__content {max-height: 200px;max-width: 100%;overflow: auto;}#sk-container-id-6 input.sk-toggleable__control:checked~label.sk-toggleable__label-arrow:before {content: \"▾\";}#sk-container-id-6 div.sk-estimator input.sk-toggleable__control:checked~label.sk-toggleable__label {background-color: #d4ebff;}#sk-container-id-6 div.sk-label input.sk-toggleable__control:checked~label.sk-toggleable__label {background-color: #d4ebff;}#sk-container-id-6 input.sk-hidden--visually {border: 0;clip: rect(1px 1px 1px 1px);clip: rect(1px, 1px, 1px, 1px);height: 1px;margin: -1px;overflow: hidden;padding: 0;position: absolute;width: 1px;}#sk-container-id-6 div.sk-estimator {font-family: monospace;background-color: #f0f8ff;border: 1px dotted black;border-radius: 0.25em;box-sizing: border-box;margin-bottom: 0.5em;}#sk-container-id-6 div.sk-estimator:hover {background-color: #d4ebff;}#sk-container-id-6 div.sk-parallel-item::after {content: \"\";width: 100%;border-bottom: 1px solid gray;flex-grow: 1;}#sk-container-id-6 div.sk-label:hover label.sk-toggleable__label {background-color: #d4ebff;}#sk-container-id-6 div.sk-serial::before {content: \"\";position: absolute;border-left: 1px solid gray;box-sizing: border-box;top: 0;bottom: 0;left: 50%;z-index: 0;}#sk-container-id-6 div.sk-serial {display: flex;flex-direction: column;align-items: center;background-color: white;padding-right: 0.2em;padding-left: 0.2em;position: relative;}#sk-container-id-6 div.sk-item {position: relative;z-index: 1;}#sk-container-id-6 div.sk-parallel {display: flex;align-items: stretch;justify-content: center;background-color: white;position: relative;}#sk-container-id-6 div.sk-item::before, #sk-container-id-6 div.sk-parallel-item::before {content: \"\";position: absolute;border-left: 1px solid gray;box-sizing: border-box;top: 0;bottom: 0;left: 50%;z-index: -1;}#sk-container-id-6 div.sk-parallel-item {display: flex;flex-direction: column;z-index: 1;position: relative;background-color: white;}#sk-container-id-6 div.sk-parallel-item:first-child::after {align-self: flex-end;width: 50%;}#sk-container-id-6 div.sk-parallel-item:last-child::after {align-self: flex-start;width: 50%;}#sk-container-id-6 div.sk-parallel-item:only-child::after {width: 0;}#sk-container-id-6 div.sk-dashed-wrapped {border: 1px dashed gray;margin: 0 0.4em 0.5em 0.4em;box-sizing: border-box;padding-bottom: 0.4em;background-color: white;}#sk-container-id-6 div.sk-label label {font-family: monospace;font-weight: bold;display: inline-block;line-height: 1.2em;}#sk-container-id-6 div.sk-label-container {text-align: center;}#sk-container-id-6 div.sk-container {/* jupyter's `normalize.less` sets `[hidden] { display: none; }` but bootstrap.min.css set `[hidden] { display: none !important; }` so we also need the `!important` here to be able to override the default hidden behavior on the sphinx rendered scikit-learn.org. See: https://github.com/scikit-learn/scikit-learn/issues/21755 */display: inline-block !important;position: relative;}#sk-container-id-6 div.sk-text-repr-fallback {display: none;}</style><div id=\"sk-container-id-6\" class=\"sk-top-container\"><div class=\"sk-text-repr-fallback\"><pre>AdaBoostRegressor()</pre><b>In a Jupyter environment, please rerun this cell to show the HTML representation or trust the notebook. <br />On GitHub, the HTML representation is unable to render, please try loading this page with nbviewer.org.</b></div><div class=\"sk-container\" hidden><div class=\"sk-item\"><div class=\"sk-estimator sk-toggleable\"><input class=\"sk-toggleable__control sk-hidden--visually\" id=\"sk-estimator-id-15\" type=\"checkbox\" checked><label for=\"sk-estimator-id-15\" class=\"sk-toggleable__label sk-toggleable__label-arrow\">AdaBoostRegressor</label><div class=\"sk-toggleable__content\"><pre>AdaBoostRegressor()</pre></div></div></div></div></div>"
      ],
      "text/plain": [
       "AdaBoostRegressor()"
      ]
     },
     "execution_count": 46,
     "metadata": {},
     "output_type": "execute_result"
    }
   ],
   "source": [
    "ada.fit(X_train_transformed,y_train)"
   ]
  },
  {
   "cell_type": "code",
   "execution_count": 47,
   "id": "ae44eaad",
   "metadata": {},
   "outputs": [],
   "source": [
    "predictions_train = ada.predict(X_train_transformed)\n",
    "predictions_validation = ada.predict(X_validation_transformed)"
   ]
  },
  {
   "cell_type": "code",
   "execution_count": 48,
   "id": "e5ecf228",
   "metadata": {},
   "outputs": [],
   "source": [
    "root_mean_squared_error_train = np.sqrt(mean_squared_error(y_train,predictions_train))\n",
    "root_mean_squared_error_validation = np.sqrt(mean_squared_error(y_validation,predictions_validation))\n",
    "r2_train = r2_score(y_train,predictions_train)\n",
    "r2_validation = r2_score(y_validation,predictions_validation)"
   ]
  },
  {
   "cell_type": "code",
   "execution_count": 49,
   "id": "63acedc6",
   "metadata": {},
   "outputs": [
    {
     "name": "stdout",
     "output_type": "stream",
     "text": [
      "Dataset\t\t\tRoot mean square error\t\t\tR square score\n",
      "Train\t\t\t6.024762946814549\t\t\t0.5875251577651301\n",
      "Validation\t\t6.031818588874642\t\t\t0.5890645118634115\n"
     ]
    }
   ],
   "source": [
    "print(\"Dataset\\t\\t\\tRoot mean square error\\t\\t\\tR square score\")\n",
    "print(f\"Train\\t\\t\\t{root_mean_squared_error_train}\\t\\t\\t{r2_train}\")\n",
    "print(f\"Validation\\t\\t{root_mean_squared_error_validation}\\t\\t\\t{r2_validation}\")"
   ]
  },
  {
   "cell_type": "markdown",
   "id": "17544ce5",
   "metadata": {},
   "source": [
    "# Gradient Boosting"
   ]
  },
  {
   "cell_type": "code",
   "execution_count": 50,
   "id": "b1c5730c",
   "metadata": {},
   "outputs": [],
   "source": [
    "from sklearn.ensemble import GradientBoostingRegressor"
   ]
  },
  {
   "cell_type": "code",
   "execution_count": 51,
   "id": "37156265",
   "metadata": {},
   "outputs": [],
   "source": [
    "gb = GradientBoostingRegressor()"
   ]
  },
  {
   "cell_type": "code",
   "execution_count": 52,
   "id": "5ea6532a",
   "metadata": {},
   "outputs": [
    {
     "data": {
      "text/html": [
       "<style>#sk-container-id-7 {color: black;background-color: white;}#sk-container-id-7 pre{padding: 0;}#sk-container-id-7 div.sk-toggleable {background-color: white;}#sk-container-id-7 label.sk-toggleable__label {cursor: pointer;display: block;width: 100%;margin-bottom: 0;padding: 0.3em;box-sizing: border-box;text-align: center;}#sk-container-id-7 label.sk-toggleable__label-arrow:before {content: \"▸\";float: left;margin-right: 0.25em;color: #696969;}#sk-container-id-7 label.sk-toggleable__label-arrow:hover:before {color: black;}#sk-container-id-7 div.sk-estimator:hover label.sk-toggleable__label-arrow:before {color: black;}#sk-container-id-7 div.sk-toggleable__content {max-height: 0;max-width: 0;overflow: hidden;text-align: left;background-color: #f0f8ff;}#sk-container-id-7 div.sk-toggleable__content pre {margin: 0.2em;color: black;border-radius: 0.25em;background-color: #f0f8ff;}#sk-container-id-7 input.sk-toggleable__control:checked~div.sk-toggleable__content {max-height: 200px;max-width: 100%;overflow: auto;}#sk-container-id-7 input.sk-toggleable__control:checked~label.sk-toggleable__label-arrow:before {content: \"▾\";}#sk-container-id-7 div.sk-estimator input.sk-toggleable__control:checked~label.sk-toggleable__label {background-color: #d4ebff;}#sk-container-id-7 div.sk-label input.sk-toggleable__control:checked~label.sk-toggleable__label {background-color: #d4ebff;}#sk-container-id-7 input.sk-hidden--visually {border: 0;clip: rect(1px 1px 1px 1px);clip: rect(1px, 1px, 1px, 1px);height: 1px;margin: -1px;overflow: hidden;padding: 0;position: absolute;width: 1px;}#sk-container-id-7 div.sk-estimator {font-family: monospace;background-color: #f0f8ff;border: 1px dotted black;border-radius: 0.25em;box-sizing: border-box;margin-bottom: 0.5em;}#sk-container-id-7 div.sk-estimator:hover {background-color: #d4ebff;}#sk-container-id-7 div.sk-parallel-item::after {content: \"\";width: 100%;border-bottom: 1px solid gray;flex-grow: 1;}#sk-container-id-7 div.sk-label:hover label.sk-toggleable__label {background-color: #d4ebff;}#sk-container-id-7 div.sk-serial::before {content: \"\";position: absolute;border-left: 1px solid gray;box-sizing: border-box;top: 0;bottom: 0;left: 50%;z-index: 0;}#sk-container-id-7 div.sk-serial {display: flex;flex-direction: column;align-items: center;background-color: white;padding-right: 0.2em;padding-left: 0.2em;position: relative;}#sk-container-id-7 div.sk-item {position: relative;z-index: 1;}#sk-container-id-7 div.sk-parallel {display: flex;align-items: stretch;justify-content: center;background-color: white;position: relative;}#sk-container-id-7 div.sk-item::before, #sk-container-id-7 div.sk-parallel-item::before {content: \"\";position: absolute;border-left: 1px solid gray;box-sizing: border-box;top: 0;bottom: 0;left: 50%;z-index: -1;}#sk-container-id-7 div.sk-parallel-item {display: flex;flex-direction: column;z-index: 1;position: relative;background-color: white;}#sk-container-id-7 div.sk-parallel-item:first-child::after {align-self: flex-end;width: 50%;}#sk-container-id-7 div.sk-parallel-item:last-child::after {align-self: flex-start;width: 50%;}#sk-container-id-7 div.sk-parallel-item:only-child::after {width: 0;}#sk-container-id-7 div.sk-dashed-wrapped {border: 1px dashed gray;margin: 0 0.4em 0.5em 0.4em;box-sizing: border-box;padding-bottom: 0.4em;background-color: white;}#sk-container-id-7 div.sk-label label {font-family: monospace;font-weight: bold;display: inline-block;line-height: 1.2em;}#sk-container-id-7 div.sk-label-container {text-align: center;}#sk-container-id-7 div.sk-container {/* jupyter's `normalize.less` sets `[hidden] { display: none; }` but bootstrap.min.css set `[hidden] { display: none !important; }` so we also need the `!important` here to be able to override the default hidden behavior on the sphinx rendered scikit-learn.org. See: https://github.com/scikit-learn/scikit-learn/issues/21755 */display: inline-block !important;position: relative;}#sk-container-id-7 div.sk-text-repr-fallback {display: none;}</style><div id=\"sk-container-id-7\" class=\"sk-top-container\"><div class=\"sk-text-repr-fallback\"><pre>GradientBoostingRegressor()</pre><b>In a Jupyter environment, please rerun this cell to show the HTML representation or trust the notebook. <br />On GitHub, the HTML representation is unable to render, please try loading this page with nbviewer.org.</b></div><div class=\"sk-container\" hidden><div class=\"sk-item\"><div class=\"sk-estimator sk-toggleable\"><input class=\"sk-toggleable__control sk-hidden--visually\" id=\"sk-estimator-id-16\" type=\"checkbox\" checked><label for=\"sk-estimator-id-16\" class=\"sk-toggleable__label sk-toggleable__label-arrow\">GradientBoostingRegressor</label><div class=\"sk-toggleable__content\"><pre>GradientBoostingRegressor()</pre></div></div></div></div></div>"
      ],
      "text/plain": [
       "GradientBoostingRegressor()"
      ]
     },
     "execution_count": 52,
     "metadata": {},
     "output_type": "execute_result"
    }
   ],
   "source": [
    "gb.fit(X_train_transformed,y_train)"
   ]
  },
  {
   "cell_type": "code",
   "execution_count": 53,
   "id": "84a21dbd",
   "metadata": {},
   "outputs": [],
   "source": [
    "predictions_train = gb.predict(X_train_transformed)\n",
    "predictions_validation = gb.predict(X_validation_transformed)"
   ]
  },
  {
   "cell_type": "code",
   "execution_count": 54,
   "id": "453ee64e",
   "metadata": {},
   "outputs": [],
   "source": [
    "root_mean_squared_error_train = np.sqrt(mean_squared_error(y_train,predictions_train))\n",
    "root_mean_squared_error_validation = np.sqrt(mean_squared_error(y_validation,predictions_validation))\n",
    "r2_train = r2_score(y_train,predictions_train)\n",
    "r2_validation = r2_score(y_validation,predictions_validation)"
   ]
  },
  {
   "cell_type": "code",
   "execution_count": 55,
   "id": "81de7430",
   "metadata": {},
   "outputs": [
    {
     "name": "stdout",
     "output_type": "stream",
     "text": [
      "Dataset\t\t\tRoot mean square error\t\t\tR square score\n",
      "Train\t\t\t4.503901567895414\t\t\t0.7694870552053813\n",
      "Validation\t\t4.504968707833232\t\t\t0.7707756959219245\n"
     ]
    }
   ],
   "source": [
    "print(\"Dataset\\t\\t\\tRoot mean square error\\t\\t\\tR square score\")\n",
    "print(f\"Train\\t\\t\\t{root_mean_squared_error_train}\\t\\t\\t{r2_train}\")\n",
    "print(f\"Validation\\t\\t{root_mean_squared_error_validation}\\t\\t\\t{r2_validation}\")"
   ]
  },
  {
   "cell_type": "markdown",
   "id": "6dedb117",
   "metadata": {},
   "source": [
    "# XGBoost"
   ]
  },
  {
   "cell_type": "code",
   "execution_count": 56,
   "id": "733a72c7",
   "metadata": {},
   "outputs": [],
   "source": [
    "from xgboost import XGBRegressor, XGBRFRegressor"
   ]
  },
  {
   "cell_type": "code",
   "execution_count": 57,
   "id": "0c06ad45",
   "metadata": {},
   "outputs": [],
   "source": [
    "xgb = XGBRegressor()"
   ]
  },
  {
   "cell_type": "code",
   "execution_count": 58,
   "id": "9021c9a5",
   "metadata": {},
   "outputs": [
    {
     "data": {
      "text/html": [
       "<style>#sk-container-id-8 {color: black;background-color: white;}#sk-container-id-8 pre{padding: 0;}#sk-container-id-8 div.sk-toggleable {background-color: white;}#sk-container-id-8 label.sk-toggleable__label {cursor: pointer;display: block;width: 100%;margin-bottom: 0;padding: 0.3em;box-sizing: border-box;text-align: center;}#sk-container-id-8 label.sk-toggleable__label-arrow:before {content: \"▸\";float: left;margin-right: 0.25em;color: #696969;}#sk-container-id-8 label.sk-toggleable__label-arrow:hover:before {color: black;}#sk-container-id-8 div.sk-estimator:hover label.sk-toggleable__label-arrow:before {color: black;}#sk-container-id-8 div.sk-toggleable__content {max-height: 0;max-width: 0;overflow: hidden;text-align: left;background-color: #f0f8ff;}#sk-container-id-8 div.sk-toggleable__content pre {margin: 0.2em;color: black;border-radius: 0.25em;background-color: #f0f8ff;}#sk-container-id-8 input.sk-toggleable__control:checked~div.sk-toggleable__content {max-height: 200px;max-width: 100%;overflow: auto;}#sk-container-id-8 input.sk-toggleable__control:checked~label.sk-toggleable__label-arrow:before {content: \"▾\";}#sk-container-id-8 div.sk-estimator input.sk-toggleable__control:checked~label.sk-toggleable__label {background-color: #d4ebff;}#sk-container-id-8 div.sk-label input.sk-toggleable__control:checked~label.sk-toggleable__label {background-color: #d4ebff;}#sk-container-id-8 input.sk-hidden--visually {border: 0;clip: rect(1px 1px 1px 1px);clip: rect(1px, 1px, 1px, 1px);height: 1px;margin: -1px;overflow: hidden;padding: 0;position: absolute;width: 1px;}#sk-container-id-8 div.sk-estimator {font-family: monospace;background-color: #f0f8ff;border: 1px dotted black;border-radius: 0.25em;box-sizing: border-box;margin-bottom: 0.5em;}#sk-container-id-8 div.sk-estimator:hover {background-color: #d4ebff;}#sk-container-id-8 div.sk-parallel-item::after {content: \"\";width: 100%;border-bottom: 1px solid gray;flex-grow: 1;}#sk-container-id-8 div.sk-label:hover label.sk-toggleable__label {background-color: #d4ebff;}#sk-container-id-8 div.sk-serial::before {content: \"\";position: absolute;border-left: 1px solid gray;box-sizing: border-box;top: 0;bottom: 0;left: 50%;z-index: 0;}#sk-container-id-8 div.sk-serial {display: flex;flex-direction: column;align-items: center;background-color: white;padding-right: 0.2em;padding-left: 0.2em;position: relative;}#sk-container-id-8 div.sk-item {position: relative;z-index: 1;}#sk-container-id-8 div.sk-parallel {display: flex;align-items: stretch;justify-content: center;background-color: white;position: relative;}#sk-container-id-8 div.sk-item::before, #sk-container-id-8 div.sk-parallel-item::before {content: \"\";position: absolute;border-left: 1px solid gray;box-sizing: border-box;top: 0;bottom: 0;left: 50%;z-index: -1;}#sk-container-id-8 div.sk-parallel-item {display: flex;flex-direction: column;z-index: 1;position: relative;background-color: white;}#sk-container-id-8 div.sk-parallel-item:first-child::after {align-self: flex-end;width: 50%;}#sk-container-id-8 div.sk-parallel-item:last-child::after {align-self: flex-start;width: 50%;}#sk-container-id-8 div.sk-parallel-item:only-child::after {width: 0;}#sk-container-id-8 div.sk-dashed-wrapped {border: 1px dashed gray;margin: 0 0.4em 0.5em 0.4em;box-sizing: border-box;padding-bottom: 0.4em;background-color: white;}#sk-container-id-8 div.sk-label label {font-family: monospace;font-weight: bold;display: inline-block;line-height: 1.2em;}#sk-container-id-8 div.sk-label-container {text-align: center;}#sk-container-id-8 div.sk-container {/* jupyter's `normalize.less` sets `[hidden] { display: none; }` but bootstrap.min.css set `[hidden] { display: none !important; }` so we also need the `!important` here to be able to override the default hidden behavior on the sphinx rendered scikit-learn.org. See: https://github.com/scikit-learn/scikit-learn/issues/21755 */display: inline-block !important;position: relative;}#sk-container-id-8 div.sk-text-repr-fallback {display: none;}</style><div id=\"sk-container-id-8\" class=\"sk-top-container\"><div class=\"sk-text-repr-fallback\"><pre>XGBRegressor(base_score=0.5, booster=&#x27;gbtree&#x27;, callbacks=None,\n",
       "             colsample_bylevel=1, colsample_bynode=1, colsample_bytree=1,\n",
       "             early_stopping_rounds=None, enable_categorical=False,\n",
       "             eval_metric=None, gamma=0, gpu_id=-1, grow_policy=&#x27;depthwise&#x27;,\n",
       "             importance_type=None, interaction_constraints=&#x27;&#x27;,\n",
       "             learning_rate=0.300000012, max_bin=256, max_cat_to_onehot=4,\n",
       "             max_delta_step=0, max_depth=6, max_leaves=0, min_child_weight=1,\n",
       "             missing=nan, monotone_constraints=&#x27;()&#x27;, n_estimators=100, n_jobs=0,\n",
       "             num_parallel_tree=1, predictor=&#x27;auto&#x27;, random_state=0, reg_alpha=0,\n",
       "             reg_lambda=1, ...)</pre><b>In a Jupyter environment, please rerun this cell to show the HTML representation or trust the notebook. <br />On GitHub, the HTML representation is unable to render, please try loading this page with nbviewer.org.</b></div><div class=\"sk-container\" hidden><div class=\"sk-item\"><div class=\"sk-estimator sk-toggleable\"><input class=\"sk-toggleable__control sk-hidden--visually\" id=\"sk-estimator-id-17\" type=\"checkbox\" checked><label for=\"sk-estimator-id-17\" class=\"sk-toggleable__label sk-toggleable__label-arrow\">XGBRegressor</label><div class=\"sk-toggleable__content\"><pre>XGBRegressor(base_score=0.5, booster=&#x27;gbtree&#x27;, callbacks=None,\n",
       "             colsample_bylevel=1, colsample_bynode=1, colsample_bytree=1,\n",
       "             early_stopping_rounds=None, enable_categorical=False,\n",
       "             eval_metric=None, gamma=0, gpu_id=-1, grow_policy=&#x27;depthwise&#x27;,\n",
       "             importance_type=None, interaction_constraints=&#x27;&#x27;,\n",
       "             learning_rate=0.300000012, max_bin=256, max_cat_to_onehot=4,\n",
       "             max_delta_step=0, max_depth=6, max_leaves=0, min_child_weight=1,\n",
       "             missing=nan, monotone_constraints=&#x27;()&#x27;, n_estimators=100, n_jobs=0,\n",
       "             num_parallel_tree=1, predictor=&#x27;auto&#x27;, random_state=0, reg_alpha=0,\n",
       "             reg_lambda=1, ...)</pre></div></div></div></div></div>"
      ],
      "text/plain": [
       "XGBRegressor(base_score=0.5, booster='gbtree', callbacks=None,\n",
       "             colsample_bylevel=1, colsample_bynode=1, colsample_bytree=1,\n",
       "             early_stopping_rounds=None, enable_categorical=False,\n",
       "             eval_metric=None, gamma=0, gpu_id=-1, grow_policy='depthwise',\n",
       "             importance_type=None, interaction_constraints='',\n",
       "             learning_rate=0.300000012, max_bin=256, max_cat_to_onehot=4,\n",
       "             max_delta_step=0, max_depth=6, max_leaves=0, min_child_weight=1,\n",
       "             missing=nan, monotone_constraints='()', n_estimators=100, n_jobs=0,\n",
       "             num_parallel_tree=1, predictor='auto', random_state=0, reg_alpha=0,\n",
       "             reg_lambda=1, ...)"
      ]
     },
     "execution_count": 58,
     "metadata": {},
     "output_type": "execute_result"
    }
   ],
   "source": [
    "xgb.fit(X_train_transformed,y_train)"
   ]
  },
  {
   "cell_type": "code",
   "execution_count": 59,
   "id": "f6e77808",
   "metadata": {},
   "outputs": [],
   "source": [
    "predictions_train = xgb.predict(X_train_transformed)\n",
    "predictions_validation = xgb.predict(X_validation_transformed)"
   ]
  },
  {
   "cell_type": "code",
   "execution_count": 60,
   "id": "cdc5a069",
   "metadata": {},
   "outputs": [],
   "source": [
    "root_mean_squared_error_train = np.sqrt(mean_squared_error(y_train,predictions_train))\n",
    "root_mean_squared_error_validation = np.sqrt(mean_squared_error(y_validation,predictions_validation))\n",
    "r2_train = r2_score(y_train,predictions_train)\n",
    "r2_validation = r2_score(y_validation,predictions_validation)"
   ]
  },
  {
   "cell_type": "code",
   "execution_count": 61,
   "id": "bfb3369a",
   "metadata": {},
   "outputs": [
    {
     "name": "stdout",
     "output_type": "stream",
     "text": [
      "Dataset\t\t\tRoot mean square error\t\t\tR square score\n",
      "Train\t\t\t3.416947020837422\t\t\t0.8673234933093927\n",
      "Validation\t\t3.9623734388516314\t\t\t0.8226676729693676\n"
     ]
    }
   ],
   "source": [
    "print(\"Dataset\\t\\t\\tRoot mean square error\\t\\t\\tR square score\")\n",
    "print(f\"Train\\t\\t\\t{root_mean_squared_error_train}\\t\\t\\t{r2_train}\")\n",
    "print(f\"Validation\\t\\t{root_mean_squared_error_validation}\\t\\t\\t{r2_validation}\")"
   ]
  },
  {
   "cell_type": "markdown",
   "id": "9614d322",
   "metadata": {},
   "source": [
    "#### XGBRF"
   ]
  },
  {
   "cell_type": "code",
   "execution_count": 62,
   "id": "7b3ad907",
   "metadata": {},
   "outputs": [],
   "source": [
    "xgbrf = XGBRFRegressor()"
   ]
  },
  {
   "cell_type": "code",
   "execution_count": 63,
   "id": "5ad52cf9",
   "metadata": {},
   "outputs": [
    {
     "data": {
      "text/html": [
       "<style>#sk-container-id-9 {color: black;background-color: white;}#sk-container-id-9 pre{padding: 0;}#sk-container-id-9 div.sk-toggleable {background-color: white;}#sk-container-id-9 label.sk-toggleable__label {cursor: pointer;display: block;width: 100%;margin-bottom: 0;padding: 0.3em;box-sizing: border-box;text-align: center;}#sk-container-id-9 label.sk-toggleable__label-arrow:before {content: \"▸\";float: left;margin-right: 0.25em;color: #696969;}#sk-container-id-9 label.sk-toggleable__label-arrow:hover:before {color: black;}#sk-container-id-9 div.sk-estimator:hover label.sk-toggleable__label-arrow:before {color: black;}#sk-container-id-9 div.sk-toggleable__content {max-height: 0;max-width: 0;overflow: hidden;text-align: left;background-color: #f0f8ff;}#sk-container-id-9 div.sk-toggleable__content pre {margin: 0.2em;color: black;border-radius: 0.25em;background-color: #f0f8ff;}#sk-container-id-9 input.sk-toggleable__control:checked~div.sk-toggleable__content {max-height: 200px;max-width: 100%;overflow: auto;}#sk-container-id-9 input.sk-toggleable__control:checked~label.sk-toggleable__label-arrow:before {content: \"▾\";}#sk-container-id-9 div.sk-estimator input.sk-toggleable__control:checked~label.sk-toggleable__label {background-color: #d4ebff;}#sk-container-id-9 div.sk-label input.sk-toggleable__control:checked~label.sk-toggleable__label {background-color: #d4ebff;}#sk-container-id-9 input.sk-hidden--visually {border: 0;clip: rect(1px 1px 1px 1px);clip: rect(1px, 1px, 1px, 1px);height: 1px;margin: -1px;overflow: hidden;padding: 0;position: absolute;width: 1px;}#sk-container-id-9 div.sk-estimator {font-family: monospace;background-color: #f0f8ff;border: 1px dotted black;border-radius: 0.25em;box-sizing: border-box;margin-bottom: 0.5em;}#sk-container-id-9 div.sk-estimator:hover {background-color: #d4ebff;}#sk-container-id-9 div.sk-parallel-item::after {content: \"\";width: 100%;border-bottom: 1px solid gray;flex-grow: 1;}#sk-container-id-9 div.sk-label:hover label.sk-toggleable__label {background-color: #d4ebff;}#sk-container-id-9 div.sk-serial::before {content: \"\";position: absolute;border-left: 1px solid gray;box-sizing: border-box;top: 0;bottom: 0;left: 50%;z-index: 0;}#sk-container-id-9 div.sk-serial {display: flex;flex-direction: column;align-items: center;background-color: white;padding-right: 0.2em;padding-left: 0.2em;position: relative;}#sk-container-id-9 div.sk-item {position: relative;z-index: 1;}#sk-container-id-9 div.sk-parallel {display: flex;align-items: stretch;justify-content: center;background-color: white;position: relative;}#sk-container-id-9 div.sk-item::before, #sk-container-id-9 div.sk-parallel-item::before {content: \"\";position: absolute;border-left: 1px solid gray;box-sizing: border-box;top: 0;bottom: 0;left: 50%;z-index: -1;}#sk-container-id-9 div.sk-parallel-item {display: flex;flex-direction: column;z-index: 1;position: relative;background-color: white;}#sk-container-id-9 div.sk-parallel-item:first-child::after {align-self: flex-end;width: 50%;}#sk-container-id-9 div.sk-parallel-item:last-child::after {align-self: flex-start;width: 50%;}#sk-container-id-9 div.sk-parallel-item:only-child::after {width: 0;}#sk-container-id-9 div.sk-dashed-wrapped {border: 1px dashed gray;margin: 0 0.4em 0.5em 0.4em;box-sizing: border-box;padding-bottom: 0.4em;background-color: white;}#sk-container-id-9 div.sk-label label {font-family: monospace;font-weight: bold;display: inline-block;line-height: 1.2em;}#sk-container-id-9 div.sk-label-container {text-align: center;}#sk-container-id-9 div.sk-container {/* jupyter's `normalize.less` sets `[hidden] { display: none; }` but bootstrap.min.css set `[hidden] { display: none !important; }` so we also need the `!important` here to be able to override the default hidden behavior on the sphinx rendered scikit-learn.org. See: https://github.com/scikit-learn/scikit-learn/issues/21755 */display: inline-block !important;position: relative;}#sk-container-id-9 div.sk-text-repr-fallback {display: none;}</style><div id=\"sk-container-id-9\" class=\"sk-top-container\"><div class=\"sk-text-repr-fallback\"><pre>XGBRFRegressor(base_score=0.5, booster=&#x27;gbtree&#x27;, callbacks=None,\n",
       "               colsample_bylevel=1, colsample_bytree=1,\n",
       "               early_stopping_rounds=None, enable_categorical=False,\n",
       "               eval_metric=None, gamma=0, gpu_id=-1, grow_policy=&#x27;depthwise&#x27;,\n",
       "               importance_type=None, interaction_constraints=&#x27;&#x27;, max_bin=256,\n",
       "               max_cat_to_onehot=4, max_delta_step=0, max_depth=6, max_leaves=0,\n",
       "               min_child_weight=1, missing=nan, monotone_constraints=&#x27;()&#x27;,\n",
       "               n_estimators=100, n_jobs=0, num_parallel_tree=100,\n",
       "               objective=&#x27;reg:squarederror&#x27;, predictor=&#x27;auto&#x27;, random_state=0,\n",
       "               reg_alpha=0, sampling_method=&#x27;uniform&#x27;, scale_pos_weight=1, ...)</pre><b>In a Jupyter environment, please rerun this cell to show the HTML representation or trust the notebook. <br />On GitHub, the HTML representation is unable to render, please try loading this page with nbviewer.org.</b></div><div class=\"sk-container\" hidden><div class=\"sk-item\"><div class=\"sk-estimator sk-toggleable\"><input class=\"sk-toggleable__control sk-hidden--visually\" id=\"sk-estimator-id-18\" type=\"checkbox\" checked><label for=\"sk-estimator-id-18\" class=\"sk-toggleable__label sk-toggleable__label-arrow\">XGBRFRegressor</label><div class=\"sk-toggleable__content\"><pre>XGBRFRegressor(base_score=0.5, booster=&#x27;gbtree&#x27;, callbacks=None,\n",
       "               colsample_bylevel=1, colsample_bytree=1,\n",
       "               early_stopping_rounds=None, enable_categorical=False,\n",
       "               eval_metric=None, gamma=0, gpu_id=-1, grow_policy=&#x27;depthwise&#x27;,\n",
       "               importance_type=None, interaction_constraints=&#x27;&#x27;, max_bin=256,\n",
       "               max_cat_to_onehot=4, max_delta_step=0, max_depth=6, max_leaves=0,\n",
       "               min_child_weight=1, missing=nan, monotone_constraints=&#x27;()&#x27;,\n",
       "               n_estimators=100, n_jobs=0, num_parallel_tree=100,\n",
       "               objective=&#x27;reg:squarederror&#x27;, predictor=&#x27;auto&#x27;, random_state=0,\n",
       "               reg_alpha=0, sampling_method=&#x27;uniform&#x27;, scale_pos_weight=1, ...)</pre></div></div></div></div></div>"
      ],
      "text/plain": [
       "XGBRFRegressor(base_score=0.5, booster='gbtree', callbacks=None,\n",
       "               colsample_bylevel=1, colsample_bytree=1,\n",
       "               early_stopping_rounds=None, enable_categorical=False,\n",
       "               eval_metric=None, gamma=0, gpu_id=-1, grow_policy='depthwise',\n",
       "               importance_type=None, interaction_constraints='', max_bin=256,\n",
       "               max_cat_to_onehot=4, max_delta_step=0, max_depth=6, max_leaves=0,\n",
       "               min_child_weight=1, missing=nan, monotone_constraints='()',\n",
       "               n_estimators=100, n_jobs=0, num_parallel_tree=100,\n",
       "               objective='reg:squarederror', predictor='auto', random_state=0,\n",
       "               reg_alpha=0, sampling_method='uniform', scale_pos_weight=1, ...)"
      ]
     },
     "execution_count": 63,
     "metadata": {},
     "output_type": "execute_result"
    }
   ],
   "source": [
    "xgbrf.fit(X_train_transformed,y_train)"
   ]
  },
  {
   "cell_type": "code",
   "execution_count": 64,
   "id": "0950712b",
   "metadata": {},
   "outputs": [],
   "source": [
    "predictions_train = xgbrf.predict(X_train_transformed)\n",
    "predictions_validation = xgbrf.predict(X_validation_transformed)"
   ]
  },
  {
   "cell_type": "code",
   "execution_count": 65,
   "id": "44160198",
   "metadata": {},
   "outputs": [],
   "source": [
    "root_mean_squared_error_train = np.sqrt(mean_squared_error(y_train,predictions_train))\n",
    "root_mean_squared_error_validation = np.sqrt(mean_squared_error(y_validation,predictions_validation))\n",
    "r2_train = r2_score(y_train,predictions_train)\n",
    "r2_validation = r2_score(y_validation,predictions_validation)"
   ]
  },
  {
   "cell_type": "code",
   "execution_count": 66,
   "id": "df010348",
   "metadata": {},
   "outputs": [
    {
     "name": "stdout",
     "output_type": "stream",
     "text": [
      "Dataset\t\t\tRoot mean square error\t\t\tR square score\n",
      "Train\t\t\t5.327809706404458\t\t\t0.6774367046231888\n",
      "Validation\t\t5.400644437231625\t\t\t0.670566108369886\n"
     ]
    }
   ],
   "source": [
    "print(\"Dataset\\t\\t\\tRoot mean square error\\t\\t\\tR square score\")\n",
    "print(f\"Train\\t\\t\\t{root_mean_squared_error_train}\\t\\t\\t{r2_train}\")\n",
    "print(f\"Validation\\t\\t{root_mean_squared_error_validation}\\t\\t\\t{r2_validation}\")"
   ]
  },
  {
   "cell_type": "markdown",
   "id": "ec5c88ed",
   "metadata": {},
   "source": [
    "# Random Forest Looks the most promising"
   ]
  },
  {
   "cell_type": "code",
   "execution_count": 67,
   "id": "4293f9da",
   "metadata": {},
   "outputs": [],
   "source": [
    "rf = RandomForestRegressor(n_estimators=200, min_samples_split= 6,max_depth=15)"
   ]
  },
  {
   "cell_type": "code",
   "execution_count": 68,
   "id": "d7ae148f",
   "metadata": {},
   "outputs": [],
   "source": [
    "#rf = RandomForestRegressor(n_estimators=100, min_samples_split= 6,max_depth=15, criterion='absolute_error',verbose=10, n_jobs=-1)"
   ]
  },
  {
   "cell_type": "code",
   "execution_count": 69,
   "id": "e3513c99",
   "metadata": {},
   "outputs": [
    {
     "data": {
      "text/html": [
       "<style>#sk-container-id-10 {color: black;background-color: white;}#sk-container-id-10 pre{padding: 0;}#sk-container-id-10 div.sk-toggleable {background-color: white;}#sk-container-id-10 label.sk-toggleable__label {cursor: pointer;display: block;width: 100%;margin-bottom: 0;padding: 0.3em;box-sizing: border-box;text-align: center;}#sk-container-id-10 label.sk-toggleable__label-arrow:before {content: \"▸\";float: left;margin-right: 0.25em;color: #696969;}#sk-container-id-10 label.sk-toggleable__label-arrow:hover:before {color: black;}#sk-container-id-10 div.sk-estimator:hover label.sk-toggleable__label-arrow:before {color: black;}#sk-container-id-10 div.sk-toggleable__content {max-height: 0;max-width: 0;overflow: hidden;text-align: left;background-color: #f0f8ff;}#sk-container-id-10 div.sk-toggleable__content pre {margin: 0.2em;color: black;border-radius: 0.25em;background-color: #f0f8ff;}#sk-container-id-10 input.sk-toggleable__control:checked~div.sk-toggleable__content {max-height: 200px;max-width: 100%;overflow: auto;}#sk-container-id-10 input.sk-toggleable__control:checked~label.sk-toggleable__label-arrow:before {content: \"▾\";}#sk-container-id-10 div.sk-estimator input.sk-toggleable__control:checked~label.sk-toggleable__label {background-color: #d4ebff;}#sk-container-id-10 div.sk-label input.sk-toggleable__control:checked~label.sk-toggleable__label {background-color: #d4ebff;}#sk-container-id-10 input.sk-hidden--visually {border: 0;clip: rect(1px 1px 1px 1px);clip: rect(1px, 1px, 1px, 1px);height: 1px;margin: -1px;overflow: hidden;padding: 0;position: absolute;width: 1px;}#sk-container-id-10 div.sk-estimator {font-family: monospace;background-color: #f0f8ff;border: 1px dotted black;border-radius: 0.25em;box-sizing: border-box;margin-bottom: 0.5em;}#sk-container-id-10 div.sk-estimator:hover {background-color: #d4ebff;}#sk-container-id-10 div.sk-parallel-item::after {content: \"\";width: 100%;border-bottom: 1px solid gray;flex-grow: 1;}#sk-container-id-10 div.sk-label:hover label.sk-toggleable__label {background-color: #d4ebff;}#sk-container-id-10 div.sk-serial::before {content: \"\";position: absolute;border-left: 1px solid gray;box-sizing: border-box;top: 0;bottom: 0;left: 50%;z-index: 0;}#sk-container-id-10 div.sk-serial {display: flex;flex-direction: column;align-items: center;background-color: white;padding-right: 0.2em;padding-left: 0.2em;position: relative;}#sk-container-id-10 div.sk-item {position: relative;z-index: 1;}#sk-container-id-10 div.sk-parallel {display: flex;align-items: stretch;justify-content: center;background-color: white;position: relative;}#sk-container-id-10 div.sk-item::before, #sk-container-id-10 div.sk-parallel-item::before {content: \"\";position: absolute;border-left: 1px solid gray;box-sizing: border-box;top: 0;bottom: 0;left: 50%;z-index: -1;}#sk-container-id-10 div.sk-parallel-item {display: flex;flex-direction: column;z-index: 1;position: relative;background-color: white;}#sk-container-id-10 div.sk-parallel-item:first-child::after {align-self: flex-end;width: 50%;}#sk-container-id-10 div.sk-parallel-item:last-child::after {align-self: flex-start;width: 50%;}#sk-container-id-10 div.sk-parallel-item:only-child::after {width: 0;}#sk-container-id-10 div.sk-dashed-wrapped {border: 1px dashed gray;margin: 0 0.4em 0.5em 0.4em;box-sizing: border-box;padding-bottom: 0.4em;background-color: white;}#sk-container-id-10 div.sk-label label {font-family: monospace;font-weight: bold;display: inline-block;line-height: 1.2em;}#sk-container-id-10 div.sk-label-container {text-align: center;}#sk-container-id-10 div.sk-container {/* jupyter's `normalize.less` sets `[hidden] { display: none; }` but bootstrap.min.css set `[hidden] { display: none !important; }` so we also need the `!important` here to be able to override the default hidden behavior on the sphinx rendered scikit-learn.org. See: https://github.com/scikit-learn/scikit-learn/issues/21755 */display: inline-block !important;position: relative;}#sk-container-id-10 div.sk-text-repr-fallback {display: none;}</style><div id=\"sk-container-id-10\" class=\"sk-top-container\"><div class=\"sk-text-repr-fallback\"><pre>RandomForestRegressor(max_depth=15, min_samples_split=6, n_estimators=200)</pre><b>In a Jupyter environment, please rerun this cell to show the HTML representation or trust the notebook. <br />On GitHub, the HTML representation is unable to render, please try loading this page with nbviewer.org.</b></div><div class=\"sk-container\" hidden><div class=\"sk-item\"><div class=\"sk-estimator sk-toggleable\"><input class=\"sk-toggleable__control sk-hidden--visually\" id=\"sk-estimator-id-19\" type=\"checkbox\" checked><label for=\"sk-estimator-id-19\" class=\"sk-toggleable__label sk-toggleable__label-arrow\">RandomForestRegressor</label><div class=\"sk-toggleable__content\"><pre>RandomForestRegressor(max_depth=15, min_samples_split=6, n_estimators=200)</pre></div></div></div></div></div>"
      ],
      "text/plain": [
       "RandomForestRegressor(max_depth=15, min_samples_split=6, n_estimators=200)"
      ]
     },
     "execution_count": 69,
     "metadata": {},
     "output_type": "execute_result"
    }
   ],
   "source": [
    "rf.fit(X_train_transformed,y_train)"
   ]
  },
  {
   "cell_type": "code",
   "execution_count": 70,
   "id": "399427d9",
   "metadata": {},
   "outputs": [],
   "source": [
    "predictions_train = rf.predict(X_train_transformed)\n",
    "predictions_validation = rf.predict(X_validation_transformed)"
   ]
  },
  {
   "cell_type": "code",
   "execution_count": 71,
   "id": "dbafea66",
   "metadata": {},
   "outputs": [],
   "source": [
    "root_mean_squared_error_train = np.sqrt(mean_squared_error(y_train,predictions_train))\n",
    "root_mean_squared_error_validation = np.sqrt(mean_squared_error(y_validation,predictions_validation))\n",
    "r2_train = r2_score(y_train,predictions_train)\n",
    "r2_validation = r2_score(y_validation,predictions_validation)"
   ]
  },
  {
   "cell_type": "code",
   "execution_count": 72,
   "id": "7e162c4e",
   "metadata": {},
   "outputs": [
    {
     "name": "stdout",
     "output_type": "stream",
     "text": [
      "Dataset\t\t\tRoot mean square error\t\t\tR square score\n",
      "Train\t\t\t2.949120068269579\t\t\t0.9011668933800919\n",
      "Validation\t\t3.866532065057126\t\t\t0.8311425067100264\n"
     ]
    }
   ],
   "source": [
    "print(\"Dataset\\t\\t\\tRoot mean square error\\t\\t\\tR square score\")\n",
    "print(f\"Train\\t\\t\\t{root_mean_squared_error_train}\\t\\t\\t{r2_train}\")\n",
    "print(f\"Validation\\t\\t{root_mean_squared_error_validation}\\t\\t\\t{r2_validation}\")"
   ]
  },
  {
   "cell_type": "code",
   "execution_count": null,
   "id": "eaae6db9",
   "metadata": {},
   "outputs": [],
   "source": []
  },
  {
   "cell_type": "markdown",
   "id": "051df3a3",
   "metadata": {},
   "source": [
    "# Hyperparameter Tuning"
   ]
  },
  {
   "cell_type": "code",
   "execution_count": 73,
   "id": "7841c878",
   "metadata": {},
   "outputs": [],
   "source": [
    "parameters = {\n",
    "    \"n_estimators\":[50,100,200,500,1000],\n",
    "    \n",
    "    'min_samples_split':[2,4,6],\n",
    "    'max_features':['int','sqrt','log2'],\n",
    "    'bootstrap':[True,False],\n",
    "}"
   ]
  },
  {
   "cell_type": "code",
   "execution_count": 74,
   "id": "6b0fb29b",
   "metadata": {},
   "outputs": [],
   "source": [
    "from sklearn.model_selection import GridSearchCV\n"
   ]
  },
  {
   "cell_type": "code",
   "execution_count": 75,
   "id": "f040c824",
   "metadata": {},
   "outputs": [],
   "source": [
    "rf= RandomForestRegressor()"
   ]
  },
  {
   "cell_type": "code",
   "execution_count": 76,
   "id": "2b52f0a5",
   "metadata": {},
   "outputs": [],
   "source": [
    "grid = GridSearchCV(rf, parameters,cv=3,verbose=10,n_jobs=-1, scoring='r2')"
   ]
  },
  {
   "cell_type": "code",
   "execution_count": 77,
   "id": "88122731",
   "metadata": {},
   "outputs": [
    {
     "name": "stdout",
     "output_type": "stream",
     "text": [
      "Fitting 3 folds for each of 90 candidates, totalling 270 fits\n"
     ]
    },
    {
     "name": "stderr",
     "output_type": "stream",
     "text": [
      "C:\\Users\\rachi\\anaconda3\\lib\\site-packages\\sklearn\\model_selection\\_validation.py:378: FitFailedWarning: \n",
      "90 fits failed out of a total of 270.\n",
      "The score on these train-test partitions for these parameters will be set to nan.\n",
      "If these failures are not expected, you can try to debug them by setting error_score='raise'.\n",
      "\n",
      "Below are more details about the failures:\n",
      "--------------------------------------------------------------------------------\n",
      "45 fits failed with the following error:\n",
      "Traceback (most recent call last):\n",
      "  File \"C:\\Users\\rachi\\anaconda3\\lib\\site-packages\\sklearn\\model_selection\\_validation.py\", line 686, in _fit_and_score\n",
      "    estimator.fit(X_train, y_train, **fit_params)\n",
      "  File \"C:\\Users\\rachi\\anaconda3\\lib\\site-packages\\sklearn\\ensemble\\_forest.py\", line 476, in fit\n",
      "    trees = Parallel(\n",
      "  File \"C:\\Users\\rachi\\anaconda3\\lib\\site-packages\\joblib\\parallel.py\", line 1043, in __call__\n",
      "    if self.dispatch_one_batch(iterator):\n",
      "  File \"C:\\Users\\rachi\\anaconda3\\lib\\site-packages\\joblib\\parallel.py\", line 861, in dispatch_one_batch\n",
      "    self._dispatch(tasks)\n",
      "  File \"C:\\Users\\rachi\\anaconda3\\lib\\site-packages\\joblib\\parallel.py\", line 779, in _dispatch\n",
      "    job = self._backend.apply_async(batch, callback=cb)\n",
      "  File \"C:\\Users\\rachi\\anaconda3\\lib\\site-packages\\joblib\\_parallel_backends.py\", line 208, in apply_async\n",
      "    result = ImmediateResult(func)\n",
      "  File \"C:\\Users\\rachi\\anaconda3\\lib\\site-packages\\joblib\\_parallel_backends.py\", line 572, in __init__\n",
      "    self.results = batch()\n",
      "  File \"C:\\Users\\rachi\\anaconda3\\lib\\site-packages\\joblib\\parallel.py\", line 262, in __call__\n",
      "    return [func(*args, **kwargs)\n",
      "  File \"C:\\Users\\rachi\\anaconda3\\lib\\site-packages\\joblib\\parallel.py\", line 262, in <listcomp>\n",
      "    return [func(*args, **kwargs)\n",
      "  File \"C:\\Users\\rachi\\anaconda3\\lib\\site-packages\\sklearn\\utils\\fixes.py\", line 117, in __call__\n",
      "    return self.function(*args, **kwargs)\n",
      "  File \"C:\\Users\\rachi\\anaconda3\\lib\\site-packages\\sklearn\\ensemble\\_forest.py\", line 189, in _parallel_build_trees\n",
      "    tree.fit(X, y, sample_weight=curr_sample_weight, check_input=False)\n",
      "  File \"C:\\Users\\rachi\\anaconda3\\lib\\site-packages\\sklearn\\tree\\_classes.py\", line 1342, in fit\n",
      "    super().fit(\n",
      "  File \"C:\\Users\\rachi\\anaconda3\\lib\\site-packages\\sklearn\\tree\\_classes.py\", line 317, in fit\n",
      "    raise ValueError(\n",
      "ValueError: Invalid value for max_features. Allowed string values are 'auto', 'sqrt' or 'log2'.\n",
      "\n",
      "--------------------------------------------------------------------------------\n",
      "45 fits failed with the following error:\n",
      "Traceback (most recent call last):\n",
      "  File \"C:\\Users\\rachi\\anaconda3\\lib\\site-packages\\sklearn\\model_selection\\_validation.py\", line 686, in _fit_and_score\n",
      "    estimator.fit(X_train, y_train, **fit_params)\n",
      "  File \"C:\\Users\\rachi\\anaconda3\\lib\\site-packages\\sklearn\\ensemble\\_forest.py\", line 476, in fit\n",
      "    trees = Parallel(\n",
      "  File \"C:\\Users\\rachi\\anaconda3\\lib\\site-packages\\joblib\\parallel.py\", line 1043, in __call__\n",
      "    if self.dispatch_one_batch(iterator):\n",
      "  File \"C:\\Users\\rachi\\anaconda3\\lib\\site-packages\\joblib\\parallel.py\", line 861, in dispatch_one_batch\n",
      "    self._dispatch(tasks)\n",
      "  File \"C:\\Users\\rachi\\anaconda3\\lib\\site-packages\\joblib\\parallel.py\", line 779, in _dispatch\n",
      "    job = self._backend.apply_async(batch, callback=cb)\n",
      "  File \"C:\\Users\\rachi\\anaconda3\\lib\\site-packages\\joblib\\_parallel_backends.py\", line 208, in apply_async\n",
      "    result = ImmediateResult(func)\n",
      "  File \"C:\\Users\\rachi\\anaconda3\\lib\\site-packages\\joblib\\_parallel_backends.py\", line 572, in __init__\n",
      "    self.results = batch()\n",
      "  File \"C:\\Users\\rachi\\anaconda3\\lib\\site-packages\\joblib\\parallel.py\", line 262, in __call__\n",
      "    return [func(*args, **kwargs)\n",
      "  File \"C:\\Users\\rachi\\anaconda3\\lib\\site-packages\\joblib\\parallel.py\", line 262, in <listcomp>\n",
      "    return [func(*args, **kwargs)\n",
      "  File \"C:\\Users\\rachi\\anaconda3\\lib\\site-packages\\sklearn\\utils\\fixes.py\", line 117, in __call__\n",
      "    return self.function(*args, **kwargs)\n",
      "  File \"C:\\Users\\rachi\\anaconda3\\lib\\site-packages\\sklearn\\ensemble\\_forest.py\", line 191, in _parallel_build_trees\n",
      "    tree.fit(X, y, sample_weight=sample_weight, check_input=False)\n",
      "  File \"C:\\Users\\rachi\\anaconda3\\lib\\site-packages\\sklearn\\tree\\_classes.py\", line 1342, in fit\n",
      "    super().fit(\n",
      "  File \"C:\\Users\\rachi\\anaconda3\\lib\\site-packages\\sklearn\\tree\\_classes.py\", line 317, in fit\n",
      "    raise ValueError(\n",
      "ValueError: Invalid value for max_features. Allowed string values are 'auto', 'sqrt' or 'log2'.\n",
      "\n",
      "  warnings.warn(some_fits_failed_message, FitFailedWarning)\n",
      "C:\\Users\\rachi\\anaconda3\\lib\\site-packages\\sklearn\\model_selection\\_search.py:953: UserWarning: One or more of the test scores are non-finite: [       nan        nan        nan        nan        nan        nan\n",
      "        nan        nan        nan        nan        nan        nan\n",
      "        nan        nan        nan 0.81043497 0.81289044 0.8142913\n",
      " 0.81520488 0.81548673 0.80966843 0.81310144 0.81474738 0.8154694\n",
      " 0.81577316 0.81194762 0.81322041 0.815051   0.81548156 0.81541115\n",
      " 0.81024751 0.81288306 0.81490314 0.81524604 0.81554617 0.80958392\n",
      " 0.81336185 0.81417628 0.8151264  0.81567831 0.81141274 0.81342895\n",
      " 0.81396034 0.8152957  0.81546638        nan        nan        nan\n",
      "        nan        nan        nan        nan        nan        nan\n",
      "        nan        nan        nan        nan        nan        nan\n",
      " 0.81383018 0.815635   0.81718158 0.8180506  0.81819032 0.81454255\n",
      " 0.8167921  0.81796013 0.81848868 0.81902924 0.81624555 0.81744999\n",
      " 0.81862877 0.81908901 0.81910059 0.81347781 0.81591884 0.81721058\n",
      " 0.81793912 0.81827789 0.81371159 0.81714041 0.81750865 0.81876749\n",
      " 0.81873497 0.81593183 0.81714003 0.81831696 0.81905207 0.81933492]\n",
      "  warnings.warn(\n"
     ]
    },
    {
     "data": {
      "text/html": [
       "<style>#sk-container-id-11 {color: black;background-color: white;}#sk-container-id-11 pre{padding: 0;}#sk-container-id-11 div.sk-toggleable {background-color: white;}#sk-container-id-11 label.sk-toggleable__label {cursor: pointer;display: block;width: 100%;margin-bottom: 0;padding: 0.3em;box-sizing: border-box;text-align: center;}#sk-container-id-11 label.sk-toggleable__label-arrow:before {content: \"▸\";float: left;margin-right: 0.25em;color: #696969;}#sk-container-id-11 label.sk-toggleable__label-arrow:hover:before {color: black;}#sk-container-id-11 div.sk-estimator:hover label.sk-toggleable__label-arrow:before {color: black;}#sk-container-id-11 div.sk-toggleable__content {max-height: 0;max-width: 0;overflow: hidden;text-align: left;background-color: #f0f8ff;}#sk-container-id-11 div.sk-toggleable__content pre {margin: 0.2em;color: black;border-radius: 0.25em;background-color: #f0f8ff;}#sk-container-id-11 input.sk-toggleable__control:checked~div.sk-toggleable__content {max-height: 200px;max-width: 100%;overflow: auto;}#sk-container-id-11 input.sk-toggleable__control:checked~label.sk-toggleable__label-arrow:before {content: \"▾\";}#sk-container-id-11 div.sk-estimator input.sk-toggleable__control:checked~label.sk-toggleable__label {background-color: #d4ebff;}#sk-container-id-11 div.sk-label input.sk-toggleable__control:checked~label.sk-toggleable__label {background-color: #d4ebff;}#sk-container-id-11 input.sk-hidden--visually {border: 0;clip: rect(1px 1px 1px 1px);clip: rect(1px, 1px, 1px, 1px);height: 1px;margin: -1px;overflow: hidden;padding: 0;position: absolute;width: 1px;}#sk-container-id-11 div.sk-estimator {font-family: monospace;background-color: #f0f8ff;border: 1px dotted black;border-radius: 0.25em;box-sizing: border-box;margin-bottom: 0.5em;}#sk-container-id-11 div.sk-estimator:hover {background-color: #d4ebff;}#sk-container-id-11 div.sk-parallel-item::after {content: \"\";width: 100%;border-bottom: 1px solid gray;flex-grow: 1;}#sk-container-id-11 div.sk-label:hover label.sk-toggleable__label {background-color: #d4ebff;}#sk-container-id-11 div.sk-serial::before {content: \"\";position: absolute;border-left: 1px solid gray;box-sizing: border-box;top: 0;bottom: 0;left: 50%;z-index: 0;}#sk-container-id-11 div.sk-serial {display: flex;flex-direction: column;align-items: center;background-color: white;padding-right: 0.2em;padding-left: 0.2em;position: relative;}#sk-container-id-11 div.sk-item {position: relative;z-index: 1;}#sk-container-id-11 div.sk-parallel {display: flex;align-items: stretch;justify-content: center;background-color: white;position: relative;}#sk-container-id-11 div.sk-item::before, #sk-container-id-11 div.sk-parallel-item::before {content: \"\";position: absolute;border-left: 1px solid gray;box-sizing: border-box;top: 0;bottom: 0;left: 50%;z-index: -1;}#sk-container-id-11 div.sk-parallel-item {display: flex;flex-direction: column;z-index: 1;position: relative;background-color: white;}#sk-container-id-11 div.sk-parallel-item:first-child::after {align-self: flex-end;width: 50%;}#sk-container-id-11 div.sk-parallel-item:last-child::after {align-self: flex-start;width: 50%;}#sk-container-id-11 div.sk-parallel-item:only-child::after {width: 0;}#sk-container-id-11 div.sk-dashed-wrapped {border: 1px dashed gray;margin: 0 0.4em 0.5em 0.4em;box-sizing: border-box;padding-bottom: 0.4em;background-color: white;}#sk-container-id-11 div.sk-label label {font-family: monospace;font-weight: bold;display: inline-block;line-height: 1.2em;}#sk-container-id-11 div.sk-label-container {text-align: center;}#sk-container-id-11 div.sk-container {/* jupyter's `normalize.less` sets `[hidden] { display: none; }` but bootstrap.min.css set `[hidden] { display: none !important; }` so we also need the `!important` here to be able to override the default hidden behavior on the sphinx rendered scikit-learn.org. See: https://github.com/scikit-learn/scikit-learn/issues/21755 */display: inline-block !important;position: relative;}#sk-container-id-11 div.sk-text-repr-fallback {display: none;}</style><div id=\"sk-container-id-11\" class=\"sk-top-container\"><div class=\"sk-text-repr-fallback\"><pre>GridSearchCV(cv=3, estimator=RandomForestRegressor(), n_jobs=-1,\n",
       "             param_grid={&#x27;bootstrap&#x27;: [True, False],\n",
       "                         &#x27;max_features&#x27;: [&#x27;int&#x27;, &#x27;sqrt&#x27;, &#x27;log2&#x27;],\n",
       "                         &#x27;min_samples_split&#x27;: [2, 4, 6],\n",
       "                         &#x27;n_estimators&#x27;: [50, 100, 200, 500, 1000]},\n",
       "             scoring=&#x27;r2&#x27;, verbose=10)</pre><b>In a Jupyter environment, please rerun this cell to show the HTML representation or trust the notebook. <br />On GitHub, the HTML representation is unable to render, please try loading this page with nbviewer.org.</b></div><div class=\"sk-container\" hidden><div class=\"sk-item sk-dashed-wrapped\"><div class=\"sk-label-container\"><div class=\"sk-label sk-toggleable\"><input class=\"sk-toggleable__control sk-hidden--visually\" id=\"sk-estimator-id-20\" type=\"checkbox\" ><label for=\"sk-estimator-id-20\" class=\"sk-toggleable__label sk-toggleable__label-arrow\">GridSearchCV</label><div class=\"sk-toggleable__content\"><pre>GridSearchCV(cv=3, estimator=RandomForestRegressor(), n_jobs=-1,\n",
       "             param_grid={&#x27;bootstrap&#x27;: [True, False],\n",
       "                         &#x27;max_features&#x27;: [&#x27;int&#x27;, &#x27;sqrt&#x27;, &#x27;log2&#x27;],\n",
       "                         &#x27;min_samples_split&#x27;: [2, 4, 6],\n",
       "                         &#x27;n_estimators&#x27;: [50, 100, 200, 500, 1000]},\n",
       "             scoring=&#x27;r2&#x27;, verbose=10)</pre></div></div></div><div class=\"sk-parallel\"><div class=\"sk-parallel-item\"><div class=\"sk-item\"><div class=\"sk-label-container\"><div class=\"sk-label sk-toggleable\"><input class=\"sk-toggleable__control sk-hidden--visually\" id=\"sk-estimator-id-21\" type=\"checkbox\" ><label for=\"sk-estimator-id-21\" class=\"sk-toggleable__label sk-toggleable__label-arrow\">estimator: RandomForestRegressor</label><div class=\"sk-toggleable__content\"><pre>RandomForestRegressor()</pre></div></div></div><div class=\"sk-serial\"><div class=\"sk-item\"><div class=\"sk-estimator sk-toggleable\"><input class=\"sk-toggleable__control sk-hidden--visually\" id=\"sk-estimator-id-22\" type=\"checkbox\" ><label for=\"sk-estimator-id-22\" class=\"sk-toggleable__label sk-toggleable__label-arrow\">RandomForestRegressor</label><div class=\"sk-toggleable__content\"><pre>RandomForestRegressor()</pre></div></div></div></div></div></div></div></div></div></div>"
      ],
      "text/plain": [
       "GridSearchCV(cv=3, estimator=RandomForestRegressor(), n_jobs=-1,\n",
       "             param_grid={'bootstrap': [True, False],\n",
       "                         'max_features': ['int', 'sqrt', 'log2'],\n",
       "                         'min_samples_split': [2, 4, 6],\n",
       "                         'n_estimators': [50, 100, 200, 500, 1000]},\n",
       "             scoring='r2', verbose=10)"
      ]
     },
     "execution_count": 77,
     "metadata": {},
     "output_type": "execute_result"
    }
   ],
   "source": [
    "grid.fit(X_train_transformed,y_train)\n"
   ]
  },
  {
   "cell_type": "code",
   "execution_count": 78,
   "id": "29994822",
   "metadata": {},
   "outputs": [
    {
     "data": {
      "text/plain": [
       "0.8193349198404963"
      ]
     },
     "execution_count": 78,
     "metadata": {},
     "output_type": "execute_result"
    }
   ],
   "source": [
    "grid.best_score_"
   ]
  },
  {
   "cell_type": "code",
   "execution_count": 79,
   "id": "9b98b3f0",
   "metadata": {},
   "outputs": [
    {
     "data": {
      "text/plain": [
       "{'bootstrap': False,\n",
       " 'max_features': 'log2',\n",
       " 'min_samples_split': 6,\n",
       " 'n_estimators': 1000}"
      ]
     },
     "execution_count": 79,
     "metadata": {},
     "output_type": "execute_result"
    }
   ],
   "source": [
    "grid.best_params_"
   ]
  },
  {
   "cell_type": "code",
   "execution_count": 80,
   "id": "51b2ef72",
   "metadata": {},
   "outputs": [],
   "source": [
    "best_model = grid.estimator"
   ]
  },
  {
   "cell_type": "code",
   "execution_count": 81,
   "id": "524c7e75",
   "metadata": {},
   "outputs": [
    {
     "data": {
      "text/html": [
       "<style>#sk-container-id-12 {color: black;background-color: white;}#sk-container-id-12 pre{padding: 0;}#sk-container-id-12 div.sk-toggleable {background-color: white;}#sk-container-id-12 label.sk-toggleable__label {cursor: pointer;display: block;width: 100%;margin-bottom: 0;padding: 0.3em;box-sizing: border-box;text-align: center;}#sk-container-id-12 label.sk-toggleable__label-arrow:before {content: \"▸\";float: left;margin-right: 0.25em;color: #696969;}#sk-container-id-12 label.sk-toggleable__label-arrow:hover:before {color: black;}#sk-container-id-12 div.sk-estimator:hover label.sk-toggleable__label-arrow:before {color: black;}#sk-container-id-12 div.sk-toggleable__content {max-height: 0;max-width: 0;overflow: hidden;text-align: left;background-color: #f0f8ff;}#sk-container-id-12 div.sk-toggleable__content pre {margin: 0.2em;color: black;border-radius: 0.25em;background-color: #f0f8ff;}#sk-container-id-12 input.sk-toggleable__control:checked~div.sk-toggleable__content {max-height: 200px;max-width: 100%;overflow: auto;}#sk-container-id-12 input.sk-toggleable__control:checked~label.sk-toggleable__label-arrow:before {content: \"▾\";}#sk-container-id-12 div.sk-estimator input.sk-toggleable__control:checked~label.sk-toggleable__label {background-color: #d4ebff;}#sk-container-id-12 div.sk-label input.sk-toggleable__control:checked~label.sk-toggleable__label {background-color: #d4ebff;}#sk-container-id-12 input.sk-hidden--visually {border: 0;clip: rect(1px 1px 1px 1px);clip: rect(1px, 1px, 1px, 1px);height: 1px;margin: -1px;overflow: hidden;padding: 0;position: absolute;width: 1px;}#sk-container-id-12 div.sk-estimator {font-family: monospace;background-color: #f0f8ff;border: 1px dotted black;border-radius: 0.25em;box-sizing: border-box;margin-bottom: 0.5em;}#sk-container-id-12 div.sk-estimator:hover {background-color: #d4ebff;}#sk-container-id-12 div.sk-parallel-item::after {content: \"\";width: 100%;border-bottom: 1px solid gray;flex-grow: 1;}#sk-container-id-12 div.sk-label:hover label.sk-toggleable__label {background-color: #d4ebff;}#sk-container-id-12 div.sk-serial::before {content: \"\";position: absolute;border-left: 1px solid gray;box-sizing: border-box;top: 0;bottom: 0;left: 50%;z-index: 0;}#sk-container-id-12 div.sk-serial {display: flex;flex-direction: column;align-items: center;background-color: white;padding-right: 0.2em;padding-left: 0.2em;position: relative;}#sk-container-id-12 div.sk-item {position: relative;z-index: 1;}#sk-container-id-12 div.sk-parallel {display: flex;align-items: stretch;justify-content: center;background-color: white;position: relative;}#sk-container-id-12 div.sk-item::before, #sk-container-id-12 div.sk-parallel-item::before {content: \"\";position: absolute;border-left: 1px solid gray;box-sizing: border-box;top: 0;bottom: 0;left: 50%;z-index: -1;}#sk-container-id-12 div.sk-parallel-item {display: flex;flex-direction: column;z-index: 1;position: relative;background-color: white;}#sk-container-id-12 div.sk-parallel-item:first-child::after {align-self: flex-end;width: 50%;}#sk-container-id-12 div.sk-parallel-item:last-child::after {align-self: flex-start;width: 50%;}#sk-container-id-12 div.sk-parallel-item:only-child::after {width: 0;}#sk-container-id-12 div.sk-dashed-wrapped {border: 1px dashed gray;margin: 0 0.4em 0.5em 0.4em;box-sizing: border-box;padding-bottom: 0.4em;background-color: white;}#sk-container-id-12 div.sk-label label {font-family: monospace;font-weight: bold;display: inline-block;line-height: 1.2em;}#sk-container-id-12 div.sk-label-container {text-align: center;}#sk-container-id-12 div.sk-container {/* jupyter's `normalize.less` sets `[hidden] { display: none; }` but bootstrap.min.css set `[hidden] { display: none !important; }` so we also need the `!important` here to be able to override the default hidden behavior on the sphinx rendered scikit-learn.org. See: https://github.com/scikit-learn/scikit-learn/issues/21755 */display: inline-block !important;position: relative;}#sk-container-id-12 div.sk-text-repr-fallback {display: none;}</style><div id=\"sk-container-id-12\" class=\"sk-top-container\"><div class=\"sk-text-repr-fallback\"><pre>RandomForestRegressor()</pre><b>In a Jupyter environment, please rerun this cell to show the HTML representation or trust the notebook. <br />On GitHub, the HTML representation is unable to render, please try loading this page with nbviewer.org.</b></div><div class=\"sk-container\" hidden><div class=\"sk-item\"><div class=\"sk-estimator sk-toggleable\"><input class=\"sk-toggleable__control sk-hidden--visually\" id=\"sk-estimator-id-23\" type=\"checkbox\" checked><label for=\"sk-estimator-id-23\" class=\"sk-toggleable__label sk-toggleable__label-arrow\">RandomForestRegressor</label><div class=\"sk-toggleable__content\"><pre>RandomForestRegressor()</pre></div></div></div></div></div>"
      ],
      "text/plain": [
       "RandomForestRegressor()"
      ]
     },
     "execution_count": 81,
     "metadata": {},
     "output_type": "execute_result"
    }
   ],
   "source": [
    "best_model.fit(X_train_transformed,y_train)"
   ]
  },
  {
   "cell_type": "code",
   "execution_count": 82,
   "id": "d21c82ff",
   "metadata": {},
   "outputs": [],
   "source": [
    "predictions_train = best_model.predict(X_train_transformed)\n",
    "predictions_validation = best_model.predict(X_validation_transformed)"
   ]
  },
  {
   "cell_type": "code",
   "execution_count": 83,
   "id": "1248e63f",
   "metadata": {},
   "outputs": [],
   "source": [
    "root_mean_squared_error_train = np.sqrt(mean_squared_error(y_train,predictions_train))\n",
    "root_mean_squared_error_validation = np.sqrt(mean_squared_error(y_validation,predictions_validation))\n",
    "r2_train = r2_score(y_train,predictions_train)\n",
    "r2_validation = r2_score(y_validation,predictions_validation)"
   ]
  },
  {
   "cell_type": "code",
   "execution_count": null,
   "id": "22d094c4",
   "metadata": {},
   "outputs": [],
   "source": []
  },
  {
   "cell_type": "code",
   "execution_count": 84,
   "id": "ad756c40",
   "metadata": {},
   "outputs": [
    {
     "name": "stdout",
     "output_type": "stream",
     "text": [
      "Dataset\t\t\tRoot mean square error\t\t\tR square score\n",
      "Train\t\t\t1.4966648875373574\t\t\t0.9745453764918676\n",
      "Validation\t\t3.9228873323012765\t\t\t0.8261843904404218\n"
     ]
    }
   ],
   "source": [
    "print(\"Dataset\\t\\t\\tRoot mean square error\\t\\t\\tR square score\")\n",
    "print(f\"Train\\t\\t\\t{root_mean_squared_error_train}\\t\\t\\t{r2_train}\")\n",
    "print(f\"Validation\\t\\t{root_mean_squared_error_validation}\\t\\t\\t{r2_validation}\")"
   ]
  },
  {
   "cell_type": "code",
   "execution_count": null,
   "id": "5e1024ea",
   "metadata": {},
   "outputs": [],
   "source": []
  },
  {
   "cell_type": "markdown",
   "id": "6335bc7b",
   "metadata": {},
   "source": [
    "# Deep Learning"
   ]
  },
  {
   "cell_type": "code",
   "execution_count": 85,
   "id": "56d5c865",
   "metadata": {},
   "outputs": [],
   "source": [
    "from tensorflow import keras"
   ]
  },
  {
   "cell_type": "code",
   "execution_count": 86,
   "id": "5f0430bf",
   "metadata": {},
   "outputs": [],
   "source": [
    "import tensorboard"
   ]
  },
  {
   "cell_type": "code",
   "execution_count": 87,
   "id": "8ea9d21b",
   "metadata": {},
   "outputs": [],
   "source": [
    "%load_ext tensorboard"
   ]
  },
  {
   "cell_type": "code",
   "execution_count": null,
   "id": "c650f736",
   "metadata": {},
   "outputs": [],
   "source": []
  },
  {
   "cell_type": "code",
   "execution_count": 92,
   "id": "a7e64f24",
   "metadata": {},
   "outputs": [],
   "source": [
    "log_dir = os.path.join(base_url,tensorboard_logdir)"
   ]
  },
  {
   "cell_type": "code",
   "execution_count": null,
   "id": "6158397d",
   "metadata": {},
   "outputs": [],
   "source": []
  },
  {
   "cell_type": "code",
   "execution_count": null,
   "id": "56df85f7",
   "metadata": {},
   "outputs": [],
   "source": []
  },
  {
   "cell_type": "code",
   "execution_count": null,
   "id": "d049de50",
   "metadata": {},
   "outputs": [],
   "source": []
  },
  {
   "cell_type": "code",
   "execution_count": 94,
   "id": "34812312",
   "metadata": {},
   "outputs": [
    {
     "data": {
      "text/plain": [
       "(41033, 33)"
      ]
     },
     "execution_count": 94,
     "metadata": {},
     "output_type": "execute_result"
    }
   ],
   "source": [
    "X_train_transformed.shape"
   ]
  },
  {
   "cell_type": "code",
   "execution_count": 95,
   "id": "11ec28ad",
   "metadata": {},
   "outputs": [],
   "source": [
    "model = keras.models.Sequential()"
   ]
  },
  {
   "cell_type": "code",
   "execution_count": 96,
   "id": "e4fe4b96",
   "metadata": {},
   "outputs": [],
   "source": [
    "model.add(keras.layers.Input(shape=(33,)))"
   ]
  },
  {
   "cell_type": "code",
   "execution_count": 97,
   "id": "140d685d",
   "metadata": {},
   "outputs": [],
   "source": [
    "model.add(keras.layers.Dense(100,activation='selu',kernel_initializer=\"lecun_normal\"))"
   ]
  },
  {
   "cell_type": "code",
   "execution_count": 98,
   "id": "ad1e69d6",
   "metadata": {},
   "outputs": [],
   "source": [
    "model.add(keras.layers.Dense(100,activation='selu',kernel_initializer=\"lecun_normal\"))"
   ]
  },
  {
   "cell_type": "code",
   "execution_count": 99,
   "id": "9a0fcf18",
   "metadata": {},
   "outputs": [],
   "source": [
    "model.add(keras.layers.Dense(100,activation='selu',kernel_initializer=\"lecun_normal\"))"
   ]
  },
  {
   "cell_type": "code",
   "execution_count": 100,
   "id": "158a3a66",
   "metadata": {},
   "outputs": [],
   "source": [
    "model.add(keras.layers.Dense(100,activation='selu',kernel_initializer=\"lecun_normal\"))\n",
    "model.add(keras.layers.Dense(100,activation='selu',kernel_initializer=\"lecun_normal\"))"
   ]
  },
  {
   "cell_type": "code",
   "execution_count": null,
   "id": "7f98340f",
   "metadata": {},
   "outputs": [],
   "source": []
  },
  {
   "cell_type": "code",
   "execution_count": 101,
   "id": "3a2e31cd",
   "metadata": {},
   "outputs": [],
   "source": [
    "model.add(keras.layers.Dense(1,activation='linear'))"
   ]
  },
  {
   "cell_type": "code",
   "execution_count": null,
   "id": "fb1374e0",
   "metadata": {},
   "outputs": [],
   "source": []
  },
  {
   "cell_type": "code",
   "execution_count": 102,
   "id": "bb1c3e90",
   "metadata": {},
   "outputs": [],
   "source": [
    "tensorboard_cb = keras.callbacks.TensorBoard(log_dir)"
   ]
  },
  {
   "cell_type": "code",
   "execution_count": 103,
   "id": "ed87a8df",
   "metadata": {},
   "outputs": [],
   "source": [
    "early_stopping_cb = keras.callbacks.EarlyStopping(patience=10,restore_best_weights=True)"
   ]
  },
  {
   "cell_type": "code",
   "execution_count": null,
   "id": "7ac265eb",
   "metadata": {},
   "outputs": [],
   "source": []
  },
  {
   "cell_type": "code",
   "execution_count": null,
   "id": "f91f89eb",
   "metadata": {},
   "outputs": [],
   "source": []
  },
  {
   "cell_type": "code",
   "execution_count": null,
   "id": "09473632",
   "metadata": {},
   "outputs": [],
   "source": []
  },
  {
   "cell_type": "code",
   "execution_count": 104,
   "id": "7ad500b1",
   "metadata": {},
   "outputs": [],
   "source": [
    "model.compile(loss='mean_squared_error',optimizer='nadam')"
   ]
  },
  {
   "cell_type": "code",
   "execution_count": 105,
   "id": "b40b081a",
   "metadata": {},
   "outputs": [
    {
     "name": "stdout",
     "output_type": "stream",
     "text": [
      "Epoch 1/100\n",
      "1283/1283 [==============================] - 21s 15ms/step - loss: 50.1154 - val_loss: 32.8804\n",
      "Epoch 2/100\n",
      "1283/1283 [==============================] - 21s 17ms/step - loss: 30.4190 - val_loss: 29.9924\n",
      "Epoch 3/100\n",
      "1283/1283 [==============================] - 21s 17ms/step - loss: 27.4953 - val_loss: 28.5514\n",
      "Epoch 4/100\n",
      "1283/1283 [==============================] - 21s 16ms/step - loss: 26.3059 - val_loss: 26.4698\n",
      "Epoch 5/100\n",
      "1283/1283 [==============================] - 21s 17ms/step - loss: 25.5180 - val_loss: 26.3565\n",
      "Epoch 6/100\n",
      "1283/1283 [==============================] - 21s 17ms/step - loss: 25.0151 - val_loss: 25.9452\n",
      "Epoch 7/100\n",
      "1283/1283 [==============================] - 21s 17ms/step - loss: 24.5520 - val_loss: 26.3525\n",
      "Epoch 8/100\n",
      "1283/1283 [==============================] - 21s 17ms/step - loss: 24.2545 - val_loss: 25.6010\n",
      "Epoch 9/100\n",
      "1283/1283 [==============================] - 21s 17ms/step - loss: 23.9930 - val_loss: 24.9564\n",
      "Epoch 10/100\n",
      "1283/1283 [==============================] - 21s 17ms/step - loss: 23.7407 - val_loss: 26.0533\n",
      "Epoch 11/100\n",
      "1283/1283 [==============================] - 21s 17ms/step - loss: 23.4958 - val_loss: 24.9591\n",
      "Epoch 12/100\n",
      "1283/1283 [==============================] - 21s 17ms/step - loss: 23.3189 - val_loss: 24.8057\n",
      "Epoch 13/100\n",
      "1283/1283 [==============================] - 21s 17ms/step - loss: 23.0883 - val_loss: 24.6099\n",
      "Epoch 14/100\n",
      "1283/1283 [==============================] - 21s 17ms/step - loss: 22.8996 - val_loss: 24.9391\n",
      "Epoch 15/100\n",
      "1283/1283 [==============================] - 21s 17ms/step - loss: 22.7502 - val_loss: 24.4165\n",
      "Epoch 16/100\n",
      "1283/1283 [==============================] - 21s 17ms/step - loss: 22.5192 - val_loss: 24.5935\n",
      "Epoch 17/100\n",
      "1283/1283 [==============================] - 21s 17ms/step - loss: 22.2673 - val_loss: 24.6602\n",
      "Epoch 18/100\n",
      "1283/1283 [==============================] - 21s 17ms/step - loss: 22.0749 - val_loss: 24.9216\n",
      "Epoch 19/100\n",
      "1283/1283 [==============================] - 21s 17ms/step - loss: 21.8300 - val_loss: 24.8783\n",
      "Epoch 20/100\n",
      "1283/1283 [==============================] - 21s 17ms/step - loss: 21.6380 - val_loss: 25.2963\n",
      "Epoch 21/100\n",
      "1283/1283 [==============================] - 21s 17ms/step - loss: 21.4564 - val_loss: 24.4504\n",
      "Epoch 22/100\n",
      "1283/1283 [==============================] - 21s 17ms/step - loss: 21.1773 - val_loss: 24.9461\n",
      "Epoch 23/100\n",
      "1283/1283 [==============================] - 21s 17ms/step - loss: 20.8805 - val_loss: 25.5841\n",
      "Epoch 24/100\n",
      "1283/1283 [==============================] - 21s 17ms/step - loss: 20.7823 - val_loss: 25.1695\n",
      "Epoch 25/100\n",
      "1283/1283 [==============================] - 21s 17ms/step - loss: 20.3928 - val_loss: 26.3941\n"
     ]
    },
    {
     "data": {
      "text/plain": [
       "<keras.callbacks.History at 0x25d0281aac0>"
      ]
     },
     "execution_count": 105,
     "metadata": {},
     "output_type": "execute_result"
    }
   ],
   "source": [
    "model.fit(X_train_transformed,y_train, epochs=100, validation_data = (X_validation_transformed,y_validation), callbacks=[tensorboard_cb,early_stopping_cb])"
   ]
  },
  {
   "cell_type": "code",
   "execution_count": 106,
   "id": "52015413",
   "metadata": {},
   "outputs": [],
   "source": [
    "predictions_train = model.predict(X_train_transformed)\n",
    "predictions_validation = model.predict(X_validation_transformed)"
   ]
  },
  {
   "cell_type": "code",
   "execution_count": 107,
   "id": "9b541d33",
   "metadata": {},
   "outputs": [],
   "source": [
    "root_mean_squared_error_train = np.sqrt(mean_squared_error(y_train,predictions_train))\n",
    "root_mean_squared_error_validation = np.sqrt(mean_squared_error(y_validation,predictions_validation))\n",
    "r2_train = r2_score(y_train,predictions_train)\n",
    "r2_validation = r2_score(y_validation,predictions_validation)"
   ]
  },
  {
   "cell_type": "code",
   "execution_count": 108,
   "id": "1ccfed15",
   "metadata": {},
   "outputs": [
    {
     "name": "stdout",
     "output_type": "stream",
     "text": [
      "Dataset\t\t\tRoot mean square error\t\t\tR square score\n",
      "Train\t\t\t4.667903770625554\t\t\t0.7523939074114505\n",
      "Validation\t\t4.941310118326769\t\t\t0.7242209139285154\n"
     ]
    }
   ],
   "source": [
    "print(\"Dataset\\t\\t\\tRoot mean square error\\t\\t\\tR square score\")\n",
    "print(f\"Train\\t\\t\\t{root_mean_squared_error_train}\\t\\t\\t{r2_train}\")\n",
    "print(f\"Validation\\t\\t{root_mean_squared_error_validation}\\t\\t\\t{r2_validation}\")"
   ]
  },
  {
   "cell_type": "code",
   "execution_count": null,
   "id": "ef6dfd22",
   "metadata": {},
   "outputs": [],
   "source": []
  },
  {
   "cell_type": "markdown",
   "id": "c612ee85",
   "metadata": {},
   "source": [
    "## Deep Learning not working well as well. Will use Clustering to give another shot"
   ]
  },
  {
   "cell_type": "code",
   "execution_count": null,
   "id": "03fecd15",
   "metadata": {},
   "outputs": [],
   "source": []
  }
 ],
 "metadata": {
  "kernelspec": {
   "display_name": "Python 3",
   "language": "python",
   "name": "python3"
  },
  "language_info": {
   "codemirror_mode": {
    "name": "ipython",
    "version": 3
   },
   "file_extension": ".py",
   "mimetype": "text/x-python",
   "name": "python",
   "nbconvert_exporter": "python",
   "pygments_lexer": "ipython3",
   "version": "3.8.8"
  }
 },
 "nbformat": 4,
 "nbformat_minor": 5
}
