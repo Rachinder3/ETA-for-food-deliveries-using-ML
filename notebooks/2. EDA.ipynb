{
 "cells": [
  {
   "cell_type": "code",
   "execution_count": 286,
   "id": "dd1cfa92",
   "metadata": {},
   "outputs": [],
   "source": [
    "base_url = \"..\\\\experiment(Jupyter)_artifacts\\\\\"\n",
    "dataset_folder_path = \"built_dataset\"\n",
    "train_file_name = \"train.csv\"\n",
    "eda_artifacts_folder = \"EDA\"\n",
    "pandas_profiling_output_file_path = \"output.html\"\n",
    "TARGET_FEATURE = \"Time_taken\"\n",
    "useless_features = ['ID', 'Delivery_person_ID']"
   ]
  },
  {
   "cell_type": "markdown",
   "id": "d0eca6b4",
   "metadata": {},
   "source": [
    "# Loading the libraries"
   ]
  },
  {
   "cell_type": "code",
   "execution_count": 287,
   "id": "3089b223",
   "metadata": {},
   "outputs": [],
   "source": [
    "import os\n",
    "import pandas as pd\n",
    "import numpy as np\n",
    "from pandas_profiling import ProfileReport\n",
    "import seaborn as sns\n",
    "import matplotlib.pyplot as plt\n",
    "%matplotlib inline"
   ]
  },
  {
   "cell_type": "markdown",
   "id": "dfb9f332",
   "metadata": {},
   "source": [
    "# EDA artifacts folder "
   ]
  },
  {
   "cell_type": "code",
   "execution_count": 288,
   "id": "713d9887",
   "metadata": {},
   "outputs": [],
   "source": [
    "eda_artifacts_folder = os.path.join(base_url,eda_artifacts_folder)"
   ]
  },
  {
   "cell_type": "code",
   "execution_count": 289,
   "id": "6a743450",
   "metadata": {},
   "outputs": [],
   "source": [
    "os.makedirs(eda_artifacts_folder, exist_ok=True)"
   ]
  },
  {
   "cell_type": "markdown",
   "id": "e2c6268f",
   "metadata": {},
   "source": [
    "# Ingesting train file"
   ]
  },
  {
   "cell_type": "code",
   "execution_count": 290,
   "id": "6d68e935",
   "metadata": {},
   "outputs": [],
   "source": [
    "train_file_path = os.path.join(base_url,dataset_folder_path,train_file_name)\n",
    "train_df = pd.read_csv(train_file_path)"
   ]
  },
  {
   "cell_type": "code",
   "execution_count": 291,
   "id": "8be4685a",
   "metadata": {},
   "outputs": [],
   "source": [
    "train_df.drop(useless_features,axis = 1, inplace= True)"
   ]
  },
  {
   "cell_type": "markdown",
   "id": "7127aece",
   "metadata": {},
   "source": [
    "# Pandas Profiling"
   ]
  },
  {
   "cell_type": "code",
   "execution_count": 7,
   "id": "49db9fd3",
   "metadata": {},
   "outputs": [],
   "source": [
    "profile = ProfileReport(train_df,title = 'EDA Report', explorative=True, dark_mode=True)\n"
   ]
  },
  {
   "cell_type": "code",
   "execution_count": null,
   "id": "af87a1d6",
   "metadata": {},
   "outputs": [],
   "source": []
  },
  {
   "cell_type": "code",
   "execution_count": 8,
   "id": "857ff69b",
   "metadata": {},
   "outputs": [
    {
     "data": {
      "application/vnd.jupyter.widget-view+json": {
       "model_id": "dcdf9e50b7914a9687fafe7843467f7f",
       "version_major": 2,
       "version_minor": 0
      },
      "text/plain": [
       "Summarize dataset:   0%|          | 0/5 [00:00<?, ?it/s]"
      ]
     },
     "metadata": {},
     "output_type": "display_data"
    },
    {
     "data": {
      "application/vnd.jupyter.widget-view+json": {
       "model_id": "7909d2d6aa2a40b381b525cac4a704fa",
       "version_major": 2,
       "version_minor": 0
      },
      "text/plain": [
       "Generate report structure:   0%|          | 0/1 [00:00<?, ?it/s]"
      ]
     },
     "metadata": {},
     "output_type": "display_data"
    },
    {
     "data": {
      "application/vnd.jupyter.widget-view+json": {
       "model_id": "6033654893cb4eb8a7cb2ae2e8cada97",
       "version_major": 2,
       "version_minor": 0
      },
      "text/plain": [
       "Render HTML:   0%|          | 0/1 [00:00<?, ?it/s]"
      ]
     },
     "metadata": {},
     "output_type": "display_data"
    },
    {
     "data": {
      "application/vnd.jupyter.widget-view+json": {
       "model_id": "926868c279154a328546dd7dafe0be91",
       "version_major": 2,
       "version_minor": 0
      },
      "text/plain": [
       "Export report to file:   0%|          | 0/1 [00:00<?, ?it/s]"
      ]
     },
     "metadata": {},
     "output_type": "display_data"
    }
   ],
   "source": [
    "profile.to_file(os.path.join(eda_artifacts_folder,pandas_profiling_output_file_path))"
   ]
  },
  {
   "cell_type": "markdown",
   "id": "3867f4b6",
   "metadata": {},
   "source": [
    "# DTALE"
   ]
  },
  {
   "cell_type": "code",
   "execution_count": 9,
   "id": "8d9297f5",
   "metadata": {},
   "outputs": [],
   "source": [
    "import dtale"
   ]
  },
  {
   "cell_type": "code",
   "execution_count": 10,
   "id": "3f96f06d",
   "metadata": {},
   "outputs": [
    {
     "data": {
      "text/html": [
       "\n",
       "        <iframe\n",
       "            width=\"100%\"\n",
       "            height=\"475\"\n",
       "            src=\"http://LAPTOP-D0T0TKFJ:40000/dtale/iframe/1\"\n",
       "            frameborder=\"0\"\n",
       "            allowfullscreen\n",
       "        ></iframe>\n",
       "        "
      ],
      "text/plain": [
       "<IPython.lib.display.IFrame at 0x251950fe670>"
      ]
     },
     "metadata": {},
     "output_type": "display_data"
    },
    {
     "data": {
      "text/plain": []
     },
     "execution_count": 10,
     "metadata": {},
     "output_type": "execute_result"
    }
   ],
   "source": [
    "dtale.show(train_df)"
   ]
  },
  {
   "cell_type": "markdown",
   "id": "3383f9ed",
   "metadata": {},
   "source": [
    "# Self EDA"
   ]
  },
  {
   "cell_type": "markdown",
   "id": "b68c2ed4",
   "metadata": {},
   "source": [
    "## Agenda\n",
    "\n",
    "1. Missing Values\n",
    "2. All numerical variables\n",
    "3. Temporal Features\n",
    "4. Distribution of numerical variables\n",
    "5. Categorical Features\n",
    "6. Outliers\n",
    "7. Relationship b/w Independant and Dependant Features"
   ]
  },
  {
   "cell_type": "markdown",
   "id": "ff22e8b8",
   "metadata": {},
   "source": [
    "#### Missing Values"
   ]
  },
  {
   "cell_type": "code",
   "execution_count": 292,
   "id": "9b92a832",
   "metadata": {},
   "outputs": [
    {
     "data": {
      "text/plain": [
       "Delivery_person_Age            1504\n",
       "Delivery_person_Ratings        1546\n",
       "Restaurant_latitude               0\n",
       "Restaurant_longitude              0\n",
       "Delivery_location_latitude        0\n",
       "Delivery_location_longitude       0\n",
       "Order_Date                        0\n",
       "Time_Orderd                    1409\n",
       "Time_Order_picked                 0\n",
       "Weather                         492\n",
       "Road_traffic_density            482\n",
       "Vehicle_condition                 0\n",
       "Type_of_order                     0\n",
       "Type_of_vehicle                   0\n",
       "multiple_deliveries             792\n",
       "Festival                        187\n",
       "City                            958\n",
       "Time_taken                        0\n",
       "dtype: int64"
      ]
     },
     "execution_count": 292,
     "metadata": {},
     "output_type": "execute_result"
    }
   ],
   "source": [
    "train_df.isnull().sum()"
   ]
  },
  {
   "cell_type": "code",
   "execution_count": 12,
   "id": "d9403409",
   "metadata": {},
   "outputs": [],
   "source": [
    "missing_values_features = [feature for feature in train_df.columns if train_df[feature].isnull().sum()>=1]"
   ]
  },
  {
   "cell_type": "code",
   "execution_count": 13,
   "id": "8fb33f7f",
   "metadata": {},
   "outputs": [
    {
     "data": {
      "text/plain": [
       "['Delivery_person_Age',\n",
       " 'Delivery_person_Ratings',\n",
       " 'Time_Orderd',\n",
       " 'Weather',\n",
       " 'Road_traffic_density',\n",
       " 'multiple_deliveries',\n",
       " 'Festival',\n",
       " 'City']"
      ]
     },
     "execution_count": 13,
     "metadata": {},
     "output_type": "execute_result"
    }
   ],
   "source": [
    "missing_values_features"
   ]
  },
  {
   "cell_type": "code",
   "execution_count": 14,
   "id": "6537e2fc",
   "metadata": {},
   "outputs": [
    {
     "name": "stdout",
     "output_type": "stream",
     "text": [
      " Feature Delivery_person_Age has 4.1235 % missing values\n",
      " Feature Delivery_person_Ratings has 4.2386 % missing values\n",
      " Feature Time_Orderd has 3.863 % missing values\n",
      " Feature Weather has 1.3489 % missing values\n",
      " Feature Road_traffic_density has 1.3215 % missing values\n",
      " Feature multiple_deliveries has 2.1714 % missing values\n",
      " Feature Festival has 0.5127 % missing values\n",
      " Feature City has 2.6265 % missing values\n"
     ]
    }
   ],
   "source": [
    "for feature in missing_values_features:\n",
    "    print(f\" Feature {feature} has {np.round((train_df[feature].isnull().mean())*100,4)} % missing values\")"
   ]
  },
  {
   "cell_type": "code",
   "execution_count": 15,
   "id": "2542839f",
   "metadata": {},
   "outputs": [
    {
     "data": {
      "text/plain": [
       "(36474, 18)"
      ]
     },
     "execution_count": 15,
     "metadata": {},
     "output_type": "execute_result"
    }
   ],
   "source": [
    "train_df.shape"
   ]
  },
  {
   "cell_type": "markdown",
   "id": "3b9fcf5f",
   "metadata": {},
   "source": [
    "#### Checking Outliers in Independant features"
   ]
  },
  {
   "cell_type": "code",
   "execution_count": 16,
   "id": "0eaca76d",
   "metadata": {},
   "outputs": [
    {
     "name": "stderr",
     "output_type": "stream",
     "text": [
      "<ipython-input-16-f77e2eb5d57e>:2: UserWarning:\n",
      "\n",
      "Matplotlib is currently using agg, which is a non-GUI backend, so cannot show the figure.\n",
      "\n",
      "2022-08-27 21:36:01,305 - WARNING  - findfont: Font family ['Heiti TC'] not found. Falling back to DejaVu Sans.\n"
     ]
    },
    {
     "data": {
      "image/png": "[encoded data removed]",
      "text/plain": [
       "<Figure size 432x288 with 1 Axes>"
      ]
     },
     "metadata": {
      "needs_background": "light"
     },
     "output_type": "display_data"
    }
   ],
   "source": [
    "plt.boxplot(train_df[TARGET_FEATURE])\n",
    "plt.show()"
   ]
  },
  {
   "cell_type": "code",
   "execution_count": 17,
   "id": "b71e9138",
   "metadata": {},
   "outputs": [],
   "source": [
    "## There are outliers in Independant feature so will use median for analysis"
   ]
  },
  {
   "cell_type": "markdown",
   "id": "4a8dd93c",
   "metadata": {},
   "source": [
    "### Relationship b/w missing values and Independant feature (Time taken)"
   ]
  },
  {
   "cell_type": "code",
   "execution_count": 23,
   "id": "4de22024",
   "metadata": {},
   "outputs": [
    {
     "data": {
      "image/png": "[encoded data removed]",
      "text/plain": [
       "<Figure size 432x288 with 1 Axes>"
      ]
     },
     "metadata": {
      "needs_background": "light"
     },
     "output_type": "display_data"
    },
    {
     "data": {
      "image/png": "[encoded data removed]",
      "text/plain": [
       "<Figure size 432x288 with 1 Axes>"
      ]
     },
     "metadata": {
      "needs_background": "light"
     },
     "output_type": "display_data"
    },
    {
     "data": {
      "image/png": "[encoded data removed]",
      "text/plain": [
       "<Figure size 432x288 with 1 Axes>"
      ]
     },
     "metadata": {
      "needs_background": "light"
     },
     "output_type": "display_data"
    },
    {
     "data": {
      "image/png": "[encoded data removed]",
      "text/plain": [
       "<Figure size 432x288 with 1 Axes>"
      ]
     },
     "metadata": {
      "needs_background": "light"
     },
     "output_type": "display_data"
    },
    {
     "data": {
      "image/png": "[encoded data removed]",
      "text/plain": [
       "<Figure size 432x288 with 1 Axes>"
      ]
     },
     "metadata": {
      "needs_background": "light"
     },
     "output_type": "display_data"
    },
    {
     "data": {
      "image/png": "[encoded data removed]",
      "text/plain": [
       "<Figure size 432x288 with 1 Axes>"
      ]
     },
     "metadata": {
      "needs_background": "light"
     },
     "output_type": "display_data"
    },
    {
     "data": {
      "image/png": "[encoded data removed]",
      "text/plain": [
       "<Figure size 432x288 with 1 Axes>"
      ]
     },
     "metadata": {
      "needs_background": "light"
     },
     "output_type": "display_data"
    },
    {
     "data": {
      "image/png": "[encoded data removed]",
      "text/plain": [
       "<Figure size 432x288 with 1 Axes>"
      ]
     },
     "metadata": {
      "needs_background": "light"
     },
     "output_type": "display_data"
    }
   ],
   "source": [
    "data = train_df.copy()\n",
    "for feature in missing_values_features:\n",
    "    ## Let's create a feature where value is 1 if its a missing value and 0 if otherwise\n",
    "    \n",
    "    data[feature]  = np.where(data[feature].isnull(),1,0)\n",
    "    \n",
    "    ## Median of Time Taken where data is missing or not missing\n",
    "    data.groupby(feature)[TARGET_FEATURE].median().plot.bar()\n",
    "    plt.title(f\"{feature} vs {TARGET_FEATURE}\")\n",
    "    plt.grid()\n",
    "    plt.show()\n",
    "    "
   ]
  },
  {
   "cell_type": "markdown",
   "id": "fa9982a0",
   "metadata": {},
   "source": [
    "### Observations\n",
    "\n",
    "1. <strong>Delivery Person Age, Delivery Person Ratings, Time Ordered, Weather, Road Traffic Density</strong> are thos features where there is no difference on Time Taken if feature is missing or not. We can even drop these datapoints as there is no pattern to be captured. We probably won't as in real life, these missing values can be problematic.\n",
    "\n",
    "2. <strong>Multiple Deliveries, Festival, City</strong> are those features where there is a relationship if the value is missing or not missing. These datapoints should not be dropped. We need to impute them with something useful"
   ]
  },
  {
   "cell_type": "markdown",
   "id": "cc4558cf",
   "metadata": {},
   "source": [
    "## Seperating Numerical and Categorical Features"
   ]
  },
  {
   "cell_type": "code",
   "execution_count": 24,
   "id": "013950f5",
   "metadata": {},
   "outputs": [],
   "source": [
    "numerical_features = [feature for feature in train_df.columns if train_df[feature].dtypes !='object']"
   ]
  },
  {
   "cell_type": "code",
   "execution_count": 25,
   "id": "3108de22",
   "metadata": {},
   "outputs": [
    {
     "data": {
      "text/plain": [
       "['Delivery_person_Age',\n",
       " 'Delivery_person_Ratings',\n",
       " 'Restaurant_latitude',\n",
       " 'Restaurant_longitude',\n",
       " 'Delivery_location_latitude',\n",
       " 'Delivery_location_longitude',\n",
       " 'Vehicle_condition',\n",
       " 'multiple_deliveries',\n",
       " 'Time_taken']"
      ]
     },
     "execution_count": 25,
     "metadata": {},
     "output_type": "execute_result"
    }
   ],
   "source": [
    "numerical_features"
   ]
  },
  {
   "cell_type": "code",
   "execution_count": 43,
   "id": "4b0c303f",
   "metadata": {},
   "outputs": [],
   "source": [
    "categorical_features = set(train_df.columns) - set(numerical_features)"
   ]
  },
  {
   "cell_type": "code",
   "execution_count": 44,
   "id": "83e72ba9",
   "metadata": {},
   "outputs": [],
   "source": [
    "categorical_features = list(categorical_features)"
   ]
  },
  {
   "cell_type": "code",
   "execution_count": 45,
   "id": "ddebfc53",
   "metadata": {},
   "outputs": [
    {
     "data": {
      "text/plain": [
       "['Time_Order_picked',\n",
       " 'Order_Date',\n",
       " 'Road_traffic_density',\n",
       " 'Weather',\n",
       " 'Type_of_order',\n",
       " 'Type_of_vehicle',\n",
       " 'Time_Orderd',\n",
       " 'City',\n",
       " 'Festival']"
      ]
     },
     "execution_count": 45,
     "metadata": {},
     "output_type": "execute_result"
    }
   ],
   "source": [
    "categorical_features "
   ]
  },
  {
   "cell_type": "markdown",
   "id": "814b41fb",
   "metadata": {},
   "source": [
    "## Temporal Features\n",
    "\n",
    "The time based independant features are:\n",
    "\n",
    "1. Order_date\n",
    "2. Time Order picked\n",
    "3. Time ordered\n"
   ]
  },
  {
   "cell_type": "code",
   "execution_count": 168,
   "id": "96fb29da",
   "metadata": {},
   "outputs": [],
   "source": [
    "temporal_features = ['Order_Date','Time_Order_picked','Time_Orderd']"
   ]
  },
  {
   "cell_type": "code",
   "execution_count": 163,
   "id": "583b59d8",
   "metadata": {},
   "outputs": [],
   "source": [
    "### These are in categorical features so let's drop these from categorical features list\n",
    "\n",
    "categorical_features = [feature for feature in categorical_features if feature not in set(temporal_features)]\n"
   ]
  },
  {
   "cell_type": "code",
   "execution_count": null,
   "id": "c2416e4f",
   "metadata": {},
   "outputs": [],
   "source": []
  },
  {
   "cell_type": "markdown",
   "id": "5e8d6e89",
   "metadata": {},
   "source": [
    "### Working on Order_date"
   ]
  },
  {
   "cell_type": "code",
   "execution_count": 169,
   "id": "2635a41c",
   "metadata": {},
   "outputs": [],
   "source": [
    "temporal_features_with_dependant_feature = temporal_features.copy()\n",
    "temporal_features_with_dependant_feature.append(TARGET_FEATURE)\n",
    "data = train_df[temporal_features_with_dependant_feature].copy()\n",
    "data['Order_Day'] = data['Order_Date'].str.split('-').str[0].astype(int)\n",
    "data['Order_Month'] = data['Order_Date'].str.split('-').str[1].astype(int)\n",
    "data['Order-Year'] = data['Order_Date'].str.split('-').str[2].astype(int)"
   ]
  },
  {
   "cell_type": "code",
   "execution_count": null,
   "id": "0dc43d4d",
   "metadata": {},
   "outputs": [],
   "source": []
  },
  {
   "cell_type": "code",
   "execution_count": 172,
   "id": "2c594684",
   "metadata": {},
   "outputs": [
    {
     "data": {
      "image/png": "[encoded data removed]",
      "text/plain": [
       "<Figure size 504x504 with 1 Axes>"
      ]
     },
     "metadata": {
      "needs_background": "light"
     },
     "output_type": "display_data"
    },
    {
     "data": {
      "image/png": "[encoded data removed]",
      "text/plain": [
       "<Figure size 504x504 with 1 Axes>"
      ]
     },
     "metadata": {
      "needs_background": "light"
     },
     "output_type": "display_data"
    },
    {
     "data": {
      "image/png": "[encoded data removed]",
      "text/plain": [
       "<Figure size 504x504 with 1 Axes>"
      ]
     },
     "metadata": {
      "needs_background": "light"
     },
     "output_type": "display_data"
    }
   ],
   "source": [
    "for feature in ['Order_Day', 'Order_Month' , 'Order-Year']:\n",
    "    plt.figure(figsize=(7,7))\n",
    "    data.groupby(feature)[TARGET_FEATURE].median().plot.bar()\n",
    "    plt.grid()\n",
    "    plt.title(f\"{feature} vs {TARGET_FEATURE}\")\n",
    "    plt.show()"
   ]
  },
  {
   "cell_type": "code",
   "execution_count": null,
   "id": "9733b325",
   "metadata": {},
   "outputs": [],
   "source": []
  },
  {
   "cell_type": "markdown",
   "id": "64fed9c5",
   "metadata": {},
   "source": [
    "#### Observations:\n",
    "\n",
    "1. Order-Month and Order-Year are uniform, there seems to be no pattern\n",
    "\n",
    "2. <strong>Order Day has very peculiar pattern, every alternate day, the time taken increases</strong>"
   ]
  },
  {
   "cell_type": "code",
   "execution_count": null,
   "id": "b69e595d",
   "metadata": {},
   "outputs": [],
   "source": []
  },
  {
   "cell_type": "markdown",
   "id": "c1a8f7b2",
   "metadata": {},
   "source": [
    "### Working on Time Ordered"
   ]
  },
  {
   "cell_type": "code",
   "execution_count": 189,
   "id": "e6a71d4b",
   "metadata": {},
   "outputs": [],
   "source": [
    "temporal_features_with_dependant_feature = temporal_features.copy()\n",
    "temporal_features_with_dependant_feature.append(TARGET_FEATURE)\n",
    "data = train_df[temporal_features_with_dependant_feature].copy()\n",
    "data.drop(data[data['Time_Orderd'].isna()].index, inplace=True)\n",
    "data['Time_Ordered_Hr'] = data['Time_Orderd'].str.split(':').str[0].astype(int)\n",
    "data['Time_Ordered_Min'] = data['Time_Orderd'].str.split(':').str[1].astype(int)"
   ]
  },
  {
   "cell_type": "code",
   "execution_count": null,
   "id": "3069b157",
   "metadata": {},
   "outputs": [],
   "source": []
  },
  {
   "cell_type": "code",
   "execution_count": 190,
   "id": "b98b45ac",
   "metadata": {},
   "outputs": [
    {
     "data": {
      "image/png": "[encoded data removed]",
      "text/plain": [
       "<Figure size 504x504 with 1 Axes>"
      ]
     },
     "metadata": {
      "needs_background": "light"
     },
     "output_type": "display_data"
    },
    {
     "data": {
      "image/png": "[encoded data removed]",
      "text/plain": [
       "<Figure size 504x504 with 1 Axes>"
      ]
     },
     "metadata": {
      "needs_background": "light"
     },
     "output_type": "display_data"
    }
   ],
   "source": [
    "for feature in ['Time_Ordered_Hr', 'Time_Ordered_Min']:\n",
    "    plt.figure(figsize=(7,7))\n",
    "    data.groupby(feature)[TARGET_FEATURE].median().plot.bar()\n",
    "    plt.grid()\n",
    "    plt.title(f\"{feature} vs {TARGET_FEATURE}\")\n",
    "    plt.show()"
   ]
  },
  {
   "cell_type": "markdown",
   "id": "fb2abee3",
   "metadata": {},
   "source": [
    "### Observations:\n",
    "\n",
    "1. Time_Ordered_Min :  Has uniform distribution so not a useful feature\n",
    "\n",
    "2. Time_Ordered_Hr = <strong>Important Feature</strong>, Time taken increases around afternoon (Lunch Time)(From 11 AM to 2 PM) and evening ( From 5 PM to 9 PM)"
   ]
  },
  {
   "cell_type": "markdown",
   "id": "15e895f2",
   "metadata": {},
   "source": [
    "### Working on Time_Ordered_Picked\n",
    "\n",
    "This will have a high correlation with Time_Ordered Feature so the analysis remains same. But we can use this feature to know the relationship b.w. Time Required to pick the order and eventual Time Taken"
   ]
  },
  {
   "cell_type": "code",
   "execution_count": 271,
   "id": "c3e5b6e7",
   "metadata": {},
   "outputs": [],
   "source": [
    "temporal_features_with_dependant_feature = temporal_features.copy()\n",
    "temporal_features_with_dependant_feature.append(TARGET_FEATURE)\n",
    "data = train_df[temporal_features_with_dependant_feature].copy()\n",
    "data.drop(data[data['Time_Orderd'].isna()].index, inplace=True)"
   ]
  },
  {
   "cell_type": "code",
   "execution_count": 272,
   "id": "873115e4",
   "metadata": {},
   "outputs": [],
   "source": [
    "data['Time_Ordered_Hr'] = data['Time_Orderd'].str.split(\":\").str[0].astype(int)"
   ]
  },
  {
   "cell_type": "code",
   "execution_count": 273,
   "id": "e1548c0d",
   "metadata": {},
   "outputs": [],
   "source": [
    "data['Time_Ordered_Min'] = data['Time_Orderd'].str.split(\":\").str[1].astype(int)\n",
    "data['Time_Picked_Hr'] = data['Time_Order_picked'].str.split(\":\").str[0].astype(int)\n",
    "data['Time_Picked_Min'] = data['Time_Order_picked'].str.split(\":\").str[1].astype(int)"
   ]
  },
  {
   "cell_type": "code",
   "execution_count": 274,
   "id": "e3ab3d68",
   "metadata": {},
   "outputs": [],
   "source": [
    "## Calculating time delta b.w Order picked and Order placed\n",
    "data['Time_bw_Picked_Ordered'] = 60*(data['Time_Picked_Hr'] - data['Time_Ordered_Hr']) + (data['Time_Picked_Min'] - data['Time_Ordered_Min'])"
   ]
  },
  {
   "cell_type": "code",
   "execution_count": 275,
   "id": "ae267694",
   "metadata": {},
   "outputs": [],
   "source": [
    "#### Dropping intermediate features\n",
    "data.drop(['Time_Ordered_Hr','Time_Ordered_Min','Time_Picked_Hr','Time_Picked_Min'],axis = 1, inplace=True)"
   ]
  },
  {
   "cell_type": "markdown",
   "id": "4d4c84ab",
   "metadata": {},
   "source": [
    "#### Let's see relation b.w. this difference and Target Feature"
   ]
  },
  {
   "cell_type": "code",
   "execution_count": 277,
   "id": "bdd49bea",
   "metadata": {},
   "outputs": [
    {
     "data": {
      "image/png": "[encoded data removed]",
      "text/plain": [
       "<Figure size 504x504 with 1 Axes>"
      ]
     },
     "metadata": {
      "needs_background": "light"
     },
     "output_type": "display_data"
    }
   ],
   "source": [
    "for feature in ['Time_bw_Picked_Ordered']:\n",
    "    plt.figure(figsize=(7,7))\n",
    "    data.groupby(feature)[TARGET_FEATURE].median().plot.bar()\n",
    "    plt.grid()\n",
    "    plt.title(f\"{feature} vs {TARGET_FEATURE}\")\n",
    "    plt.show()"
   ]
  },
  {
   "cell_type": "markdown",
   "id": "fcb76ecc",
   "metadata": {},
   "source": [
    "### Observations:\n",
    "\n",
    "1. All the deliveries get picked within 15 minutes of order.\n",
    "\n",
    "2. Distribution of  \"Difference b.w. Time Picked and Time Ordered   vs  Time taken\" is uniform so this is not a good feature\n",
    "\n",
    "3. <strong> There are missing values in Time Ordered. There will be huge correlation of Time Ordered with Time Ordered Picked. We can drop Time Ordered and simply use Time Ordered Picked for analysis </strong> "
   ]
  },
  {
   "cell_type": "code",
   "execution_count": 293,
   "id": "1be03fb6",
   "metadata": {},
   "outputs": [],
   "source": [
    "data['Time_Ordered_Hr'] = data['Time_Orderd'].str.split(\":\").str[0].astype(int)\n",
    "data['Time_Picked_Hr'] = data['Time_Order_picked'].str.split(\":\").str[0].astype(int)"
   ]
  },
  {
   "cell_type": "code",
   "execution_count": 295,
   "id": "391f695a",
   "metadata": {},
   "outputs": [
    {
     "data": {
      "text/plain": [
       "array([[1.        , 0.99636545],\n",
       "       [0.99636545, 1.        ]])"
      ]
     },
     "execution_count": 295,
     "metadata": {},
     "output_type": "execute_result"
    }
   ],
   "source": [
    "np.corrcoef(data['Time_Ordered_Hr'], data['Time_Picked_Hr'])"
   ]
  },
  {
   "cell_type": "markdown",
   "id": "7239da41",
   "metadata": {},
   "source": [
    "#### There is 99 % correlation. We only need one of these features. As there are missing values in Time Ordered, we can simply drop Time Ordered and use Time Ordered Picked"
   ]
  },
  {
   "cell_type": "code",
   "execution_count": null,
   "id": "b6e67c02",
   "metadata": {},
   "outputs": [],
   "source": []
  }
 ],
 "metadata": {
  "kernelspec": {
   "display_name": "Python 3",
   "language": "python",
   "name": "python3"
  },
  "language_info": {
   "codemirror_mode": {
    "name": "ipython",
    "version": 3
   },
   "file_extension": ".py",
   "mimetype": "text/x-python",
   "name": "python",
   "nbconvert_exporter": "python",
   "pygments_lexer": "ipython3",
   "version": "3.8.8"
  }
 },
 "nbformat": 4,
 "nbformat_minor": 5
}
