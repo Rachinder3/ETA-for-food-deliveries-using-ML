{
 "cells": [
  {
   "cell_type": "markdown",
   "id": "8d7a8aea",
   "metadata": {},
   "source": [
    "# Constants"
   ]
  },
  {
   "cell_type": "code",
   "execution_count": 1,
   "id": "1454b9d8",
   "metadata": {},
   "outputs": [],
   "source": [
    "artifact_folder = \"..\\\\experiment(Jupyter)_artifacts\"\n",
    "dataset_folder_name = \"built_dataset\"\n",
    "dataset_path =  \"..\\\\dataset\\\\\"\n",
    "train_folder_name = \"train\"\n",
    "test_folder_name = \"test\""
   ]
  },
  {
   "cell_type": "markdown",
   "id": "26b6ea60",
   "metadata": {},
   "source": [
    "# Loading the libraries"
   ]
  },
  {
   "cell_type": "code",
   "execution_count": 2,
   "id": "aed935d1",
   "metadata": {},
   "outputs": [],
   "source": [
    "import os\n",
    "import pandas as pd\n",
    "import matplotlib.pyplot as plt\n",
    "import seaborn as sns\n",
    "import numpy as np\n",
    "from sklearn.model_selection import StratifiedShuffleSplit"
   ]
  },
  {
   "cell_type": "markdown",
   "id": "cfc52482",
   "metadata": {},
   "source": [
    "# Building the paths"
   ]
  },
  {
   "cell_type": "code",
   "execution_count": 3,
   "id": "4376faf8",
   "metadata": {},
   "outputs": [],
   "source": [
    "train_folder_path = os.path.join(dataset_path,train_folder_name)"
   ]
  },
  {
   "cell_type": "code",
   "execution_count": 4,
   "id": "a13c9c1b",
   "metadata": {},
   "outputs": [],
   "source": [
    "test_folder_path = os.path.join(dataset_path,test_folder_name)"
   ]
  },
  {
   "cell_type": "markdown",
   "id": "39339c2a",
   "metadata": {},
   "source": [
    "# Creating the dataset"
   ]
  },
  {
   "cell_type": "code",
   "execution_count": 5,
   "id": "a3fcf4d4",
   "metadata": {},
   "outputs": [],
   "source": [
    "train_files = os.listdir(train_folder_path)"
   ]
  },
  {
   "cell_type": "code",
   "execution_count": 6,
   "id": "c1e729d1",
   "metadata": {},
   "outputs": [],
   "source": [
    "with open(os.path.join(train_folder_path,train_files[0]),'r') as file_obj:\n",
    "    file_content =  file_obj.readlines()"
   ]
  },
  {
   "cell_type": "code",
   "execution_count": 7,
   "id": "4fe53601",
   "metadata": {},
   "outputs": [],
   "source": [
    "first_row = file_content[19]"
   ]
  },
  {
   "cell_type": "code",
   "execution_count": 8,
   "id": "33c8caad",
   "metadata": {},
   "outputs": [],
   "source": [
    "count_white = first_row.count('')"
   ]
  },
  {
   "cell_type": "code",
   "execution_count": 9,
   "id": "f82dad4a",
   "metadata": {},
   "outputs": [
    {
     "data": {
      "text/plain": [
       "'Time_taken (min)                    24.000000\\n'"
      ]
     },
     "execution_count": 9,
     "metadata": {},
     "output_type": "execute_result"
    }
   ],
   "source": [
    "first_row"
   ]
  },
  {
   "cell_type": "code",
   "execution_count": 10,
   "id": "c5581210",
   "metadata": {},
   "outputs": [
    {
     "data": {
      "text/plain": [
       "['Time_taken', '(min)', '24.000000']"
      ]
     },
     "execution_count": 10,
     "metadata": {},
     "output_type": "execute_result"
    }
   ],
   "source": [
    "first_row.rsplit()"
   ]
  },
  {
   "cell_type": "code",
   "execution_count": 11,
   "id": "1e704965",
   "metadata": {},
   "outputs": [
    {
     "data": {
      "text/plain": [
       "{'ID': '0x4607',\n",
       " 'Delivery_person_ID': 'INDORES13DEL02',\n",
       " 'Delivery_person_Age': '37.000000',\n",
       " 'Delivery_person_Ratings': '4.900000',\n",
       " 'Restaurant_latitude': '22.745049',\n",
       " 'Restaurant_longitude': '75.892471',\n",
       " 'Delivery_location_latitude': '22.765049',\n",
       " 'Delivery_location_longitude': '75.912471',\n",
       " 'Order_Date': '19-03-2022',\n",
       " 'Time_Orderd': '11:30',\n",
       " 'Time_Order_picked': '11:45',\n",
       " 'Weather': 'Sunny',\n",
       " 'Road_traffic_density': 'High',\n",
       " 'Vehicle_condition': '2',\n",
       " 'Type_of_order': 'Snack',\n",
       " 'Type_of_vehicle': 'motorcycle',\n",
       " 'multiple_deliveries': '0.000000',\n",
       " 'Festival': 'No',\n",
       " 'City': 'Urban',\n",
       " 'Time_taken': '24.000000',\n",
       " 'Name:': 'object'}"
      ]
     },
     "execution_count": 11,
     "metadata": {},
     "output_type": "execute_result"
    }
   ],
   "source": [
    "{row.rsplit()[0]:row.rsplit()[-1] for row in file_content}"
   ]
  },
  {
   "cell_type": "code",
   "execution_count": null,
   "id": "6c9acbc2",
   "metadata": {},
   "outputs": [],
   "source": []
  },
  {
   "cell_type": "markdown",
   "id": "5a6b921f",
   "metadata": {},
   "source": [
    "# Building the build dataset function"
   ]
  },
  {
   "cell_type": "code",
   "execution_count": 12,
   "id": "9315dcec",
   "metadata": {},
   "outputs": [],
   "source": [
    "def build_dataset(path:str)->pd.DataFrame:\n",
    "    try:\n",
    "        dataset_array = []\n",
    "        for index,file in enumerate(os.listdir(path)):\n",
    "            #print(index,file)\n",
    "            file_content = None\n",
    "            with open(os.path.join(path,file),'r') as file_obj:\n",
    "                \n",
    "                file_content = file_obj.readlines()\n",
    "            \n",
    "            if file_content is not None:\n",
    "                file_content_dict = {row.rsplit()[0]:row.rsplit()[-1] for row in file_content}\n",
    "                dataset_array.append(file_content_dict)\n",
    "        dataset = pd.DataFrame(dataset_array)\n",
    "        return(dataset)\n",
    "            \n",
    "    except Exception as e:\n",
    "        print(str(e))"
   ]
  },
  {
   "cell_type": "code",
   "execution_count": 13,
   "id": "84853980",
   "metadata": {},
   "outputs": [],
   "source": [
    "train_data = build_dataset(path=train_folder_path)"
   ]
  },
  {
   "cell_type": "code",
   "execution_count": 14,
   "id": "cafb9402",
   "metadata": {},
   "outputs": [
    {
     "data": {
      "text/html": [
       "<div>\n",
       "<style scoped>\n",
       "    .dataframe tbody tr th:only-of-type {\n",
       "        vertical-align: middle;\n",
       "    }\n",
       "\n",
       "    .dataframe tbody tr th {\n",
       "        vertical-align: top;\n",
       "    }\n",
       "\n",
       "    .dataframe thead th {\n",
       "        text-align: right;\n",
       "    }\n",
       "</style>\n",
       "<table border=\"1\" class=\"dataframe\">\n",
       "  <thead>\n",
       "    <tr style=\"text-align: right;\">\n",
       "      <th></th>\n",
       "      <th>ID</th>\n",
       "      <th>Delivery_person_ID</th>\n",
       "      <th>Delivery_person_Age</th>\n",
       "      <th>Delivery_person_Ratings</th>\n",
       "      <th>Restaurant_latitude</th>\n",
       "      <th>Restaurant_longitude</th>\n",
       "      <th>Delivery_location_latitude</th>\n",
       "      <th>Delivery_location_longitude</th>\n",
       "      <th>Order_Date</th>\n",
       "      <th>Time_Orderd</th>\n",
       "      <th>...</th>\n",
       "      <th>Weather</th>\n",
       "      <th>Road_traffic_density</th>\n",
       "      <th>Vehicle_condition</th>\n",
       "      <th>Type_of_order</th>\n",
       "      <th>Type_of_vehicle</th>\n",
       "      <th>multiple_deliveries</th>\n",
       "      <th>Festival</th>\n",
       "      <th>City</th>\n",
       "      <th>Time_taken</th>\n",
       "      <th>Name:</th>\n",
       "    </tr>\n",
       "  </thead>\n",
       "  <tbody>\n",
       "    <tr>\n",
       "      <th>0</th>\n",
       "      <td>0x4607</td>\n",
       "      <td>INDORES13DEL02</td>\n",
       "      <td>37.000000</td>\n",
       "      <td>4.900000</td>\n",
       "      <td>22.745049</td>\n",
       "      <td>75.892471</td>\n",
       "      <td>22.765049</td>\n",
       "      <td>75.912471</td>\n",
       "      <td>19-03-2022</td>\n",
       "      <td>11:30</td>\n",
       "      <td>...</td>\n",
       "      <td>Sunny</td>\n",
       "      <td>High</td>\n",
       "      <td>2</td>\n",
       "      <td>Snack</td>\n",
       "      <td>motorcycle</td>\n",
       "      <td>0.000000</td>\n",
       "      <td>No</td>\n",
       "      <td>Urban</td>\n",
       "      <td>24.000000</td>\n",
       "      <td>object</td>\n",
       "    </tr>\n",
       "    <tr>\n",
       "      <th>1</th>\n",
       "      <td>0xb379</td>\n",
       "      <td>BANGRES18DEL02</td>\n",
       "      <td>34.000000</td>\n",
       "      <td>4.500000</td>\n",
       "      <td>12.913041</td>\n",
       "      <td>77.683237</td>\n",
       "      <td>13.043041</td>\n",
       "      <td>77.813237</td>\n",
       "      <td>25-03-2022</td>\n",
       "      <td>19:45</td>\n",
       "      <td>...</td>\n",
       "      <td>Stormy</td>\n",
       "      <td>Jam</td>\n",
       "      <td>2</td>\n",
       "      <td>Snack</td>\n",
       "      <td>scooter</td>\n",
       "      <td>1.000000</td>\n",
       "      <td>No</td>\n",
       "      <td>Metropolitian</td>\n",
       "      <td>33.000000</td>\n",
       "      <td>object</td>\n",
       "    </tr>\n",
       "    <tr>\n",
       "      <th>2</th>\n",
       "      <td>0x5d6d</td>\n",
       "      <td>BANGRES19DEL01</td>\n",
       "      <td>23.000000</td>\n",
       "      <td>4.400000</td>\n",
       "      <td>12.914264</td>\n",
       "      <td>77.678400</td>\n",
       "      <td>12.924264</td>\n",
       "      <td>77.688400</td>\n",
       "      <td>19-03-2022</td>\n",
       "      <td>8:30</td>\n",
       "      <td>...</td>\n",
       "      <td>Sandstorms</td>\n",
       "      <td>Low</td>\n",
       "      <td>0</td>\n",
       "      <td>Drinks</td>\n",
       "      <td>motorcycle</td>\n",
       "      <td>1.000000</td>\n",
       "      <td>No</td>\n",
       "      <td>Urban</td>\n",
       "      <td>26.000000</td>\n",
       "      <td>object</td>\n",
       "    </tr>\n",
       "    <tr>\n",
       "      <th>3</th>\n",
       "      <td>0x7a6a</td>\n",
       "      <td>COIMBRES13DEL02</td>\n",
       "      <td>38.000000</td>\n",
       "      <td>4.700000</td>\n",
       "      <td>11.003669</td>\n",
       "      <td>76.976494</td>\n",
       "      <td>11.053669</td>\n",
       "      <td>77.026494</td>\n",
       "      <td>05-04-2022</td>\n",
       "      <td>17:60</td>\n",
       "      <td>...</td>\n",
       "      <td>Sunny</td>\n",
       "      <td>Medium</td>\n",
       "      <td>0</td>\n",
       "      <td>Buffet</td>\n",
       "      <td>motorcycle</td>\n",
       "      <td>1.000000</td>\n",
       "      <td>No</td>\n",
       "      <td>Metropolitian</td>\n",
       "      <td>21.000000</td>\n",
       "      <td>object</td>\n",
       "    </tr>\n",
       "    <tr>\n",
       "      <th>4</th>\n",
       "      <td>0x70a2</td>\n",
       "      <td>CHENRES12DEL01</td>\n",
       "      <td>32.000000</td>\n",
       "      <td>4.600000</td>\n",
       "      <td>12.972793</td>\n",
       "      <td>80.249982</td>\n",
       "      <td>13.012793</td>\n",
       "      <td>80.289982</td>\n",
       "      <td>26-03-2022</td>\n",
       "      <td>13:30</td>\n",
       "      <td>...</td>\n",
       "      <td>Cloudy</td>\n",
       "      <td>High</td>\n",
       "      <td>1</td>\n",
       "      <td>Snack</td>\n",
       "      <td>scooter</td>\n",
       "      <td>1.000000</td>\n",
       "      <td>No</td>\n",
       "      <td>Metropolitian</td>\n",
       "      <td>30.000000</td>\n",
       "      <td>object</td>\n",
       "    </tr>\n",
       "  </tbody>\n",
       "</table>\n",
       "<p>5 rows × 21 columns</p>\n",
       "</div>"
      ],
      "text/plain": [
       "       ID Delivery_person_ID Delivery_person_Age Delivery_person_Ratings  \\\n",
       "0  0x4607     INDORES13DEL02           37.000000                4.900000   \n",
       "1  0xb379     BANGRES18DEL02           34.000000                4.500000   \n",
       "2  0x5d6d     BANGRES19DEL01           23.000000                4.400000   \n",
       "3  0x7a6a    COIMBRES13DEL02           38.000000                4.700000   \n",
       "4  0x70a2     CHENRES12DEL01           32.000000                4.600000   \n",
       "\n",
       "  Restaurant_latitude Restaurant_longitude Delivery_location_latitude  \\\n",
       "0           22.745049            75.892471                  22.765049   \n",
       "1           12.913041            77.683237                  13.043041   \n",
       "2           12.914264            77.678400                  12.924264   \n",
       "3           11.003669            76.976494                  11.053669   \n",
       "4           12.972793            80.249982                  13.012793   \n",
       "\n",
       "  Delivery_location_longitude  Order_Date Time_Orderd  ...     Weather  \\\n",
       "0                   75.912471  19-03-2022       11:30  ...       Sunny   \n",
       "1                   77.813237  25-03-2022       19:45  ...      Stormy   \n",
       "2                   77.688400  19-03-2022        8:30  ...  Sandstorms   \n",
       "3                   77.026494  05-04-2022       17:60  ...       Sunny   \n",
       "4                   80.289982  26-03-2022       13:30  ...      Cloudy   \n",
       "\n",
       "  Road_traffic_density Vehicle_condition Type_of_order Type_of_vehicle  \\\n",
       "0                 High                 2         Snack      motorcycle   \n",
       "1                  Jam                 2         Snack         scooter   \n",
       "2                  Low                 0        Drinks      motorcycle   \n",
       "3               Medium                 0        Buffet      motorcycle   \n",
       "4                 High                 1         Snack         scooter   \n",
       "\n",
       "  multiple_deliveries Festival           City Time_taken   Name:  \n",
       "0            0.000000       No          Urban  24.000000  object  \n",
       "1            1.000000       No  Metropolitian  33.000000  object  \n",
       "2            1.000000       No          Urban  26.000000  object  \n",
       "3            1.000000       No  Metropolitian  21.000000  object  \n",
       "4            1.000000       No  Metropolitian  30.000000  object  \n",
       "\n",
       "[5 rows x 21 columns]"
      ]
     },
     "execution_count": 14,
     "metadata": {},
     "output_type": "execute_result"
    }
   ],
   "source": [
    "train_data.head()"
   ]
  },
  {
   "cell_type": "code",
   "execution_count": 15,
   "id": "d6c5fcab",
   "metadata": {},
   "outputs": [],
   "source": [
    "test_data = build_dataset(path = test_folder_path)"
   ]
  },
  {
   "cell_type": "code",
   "execution_count": 16,
   "id": "dace6535",
   "metadata": {},
   "outputs": [
    {
     "data": {
      "text/html": [
       "<div>\n",
       "<style scoped>\n",
       "    .dataframe tbody tr th:only-of-type {\n",
       "        vertical-align: middle;\n",
       "    }\n",
       "\n",
       "    .dataframe tbody tr th {\n",
       "        vertical-align: top;\n",
       "    }\n",
       "\n",
       "    .dataframe thead th {\n",
       "        text-align: right;\n",
       "    }\n",
       "</style>\n",
       "<table border=\"1\" class=\"dataframe\">\n",
       "  <thead>\n",
       "    <tr style=\"text-align: right;\">\n",
       "      <th></th>\n",
       "      <th>ID</th>\n",
       "      <th>Delivery_person_ID</th>\n",
       "      <th>Delivery_person_Age</th>\n",
       "      <th>Delivery_person_Ratings</th>\n",
       "      <th>Restaurant_latitude</th>\n",
       "      <th>Restaurant_longitude</th>\n",
       "      <th>Delivery_location_latitude</th>\n",
       "      <th>Delivery_location_longitude</th>\n",
       "      <th>Order_Date</th>\n",
       "      <th>Time_Orderd</th>\n",
       "      <th>Time_Order_picked</th>\n",
       "      <th>Weather</th>\n",
       "      <th>Road_traffic_density</th>\n",
       "      <th>Vehicle_condition</th>\n",
       "      <th>Type_of_order</th>\n",
       "      <th>Type_of_vehicle</th>\n",
       "      <th>multiple_deliveries</th>\n",
       "      <th>Festival</th>\n",
       "      <th>City</th>\n",
       "      <th>Name:</th>\n",
       "    </tr>\n",
       "  </thead>\n",
       "  <tbody>\n",
       "    <tr>\n",
       "      <th>0</th>\n",
       "      <td>0x2318</td>\n",
       "      <td>COIMBRES13DEL01</td>\n",
       "      <td>NaN</td>\n",
       "      <td>NaN</td>\n",
       "      <td>11.003669</td>\n",
       "      <td>76.976494</td>\n",
       "      <td>11.043669</td>\n",
       "      <td>77.016494</td>\n",
       "      <td>30-03-2022</td>\n",
       "      <td>NaN</td>\n",
       "      <td>15:05</td>\n",
       "      <td>NaN</td>\n",
       "      <td>NaN</td>\n",
       "      <td>3</td>\n",
       "      <td>Drinks</td>\n",
       "      <td>electric_scooter</td>\n",
       "      <td>1.000000</td>\n",
       "      <td>No</td>\n",
       "      <td>Metropolitian</td>\n",
       "      <td>object</td>\n",
       "    </tr>\n",
       "    <tr>\n",
       "      <th>1</th>\n",
       "      <td>0x3474</td>\n",
       "      <td>BANGRES15DEL01</td>\n",
       "      <td>28.000000</td>\n",
       "      <td>4.600000</td>\n",
       "      <td>12.975377</td>\n",
       "      <td>77.696664</td>\n",
       "      <td>13.085377</td>\n",
       "      <td>77.806664</td>\n",
       "      <td>29-03-2022</td>\n",
       "      <td>20:30</td>\n",
       "      <td>20:35</td>\n",
       "      <td>Windy</td>\n",
       "      <td>Jam</td>\n",
       "      <td>0</td>\n",
       "      <td>Snack</td>\n",
       "      <td>motorcycle</td>\n",
       "      <td>1.000000</td>\n",
       "      <td>No</td>\n",
       "      <td>Metropolitian</td>\n",
       "      <td>object</td>\n",
       "    </tr>\n",
       "    <tr>\n",
       "      <th>2</th>\n",
       "      <td>0x9420</td>\n",
       "      <td>JAPRES09DEL03</td>\n",
       "      <td>23.000000</td>\n",
       "      <td>4.500000</td>\n",
       "      <td>26.911378</td>\n",
       "      <td>75.789034</td>\n",
       "      <td>27.001378</td>\n",
       "      <td>75.879034</td>\n",
       "      <td>10-03-2022</td>\n",
       "      <td>19:35</td>\n",
       "      <td>19:45</td>\n",
       "      <td>Stormy</td>\n",
       "      <td>Jam</td>\n",
       "      <td>0</td>\n",
       "      <td>Drinks</td>\n",
       "      <td>motorcycle</td>\n",
       "      <td>1.000000</td>\n",
       "      <td>No</td>\n",
       "      <td>Metropolitian</td>\n",
       "      <td>object</td>\n",
       "    </tr>\n",
       "    <tr>\n",
       "      <th>3</th>\n",
       "      <td>0x72ee</td>\n",
       "      <td>JAPRES07DEL03</td>\n",
       "      <td>21.000000</td>\n",
       "      <td>4.800000</td>\n",
       "      <td>26.766536</td>\n",
       "      <td>75.837333</td>\n",
       "      <td>26.856536</td>\n",
       "      <td>75.927333</td>\n",
       "      <td>02-04-2022</td>\n",
       "      <td>17:15</td>\n",
       "      <td>17:20</td>\n",
       "      <td>Fog</td>\n",
       "      <td>Medium</td>\n",
       "      <td>1</td>\n",
       "      <td>Meal</td>\n",
       "      <td>scooter</td>\n",
       "      <td>1.000000</td>\n",
       "      <td>No</td>\n",
       "      <td>Metropolitian</td>\n",
       "      <td>object</td>\n",
       "    </tr>\n",
       "    <tr>\n",
       "      <th>4</th>\n",
       "      <td>0xa759</td>\n",
       "      <td>CHENRES19DEL01</td>\n",
       "      <td>31.000000</td>\n",
       "      <td>4.600000</td>\n",
       "      <td>12.986047</td>\n",
       "      <td>80.218114</td>\n",
       "      <td>13.096047</td>\n",
       "      <td>80.328114</td>\n",
       "      <td>27-03-2022</td>\n",
       "      <td>18:25</td>\n",
       "      <td>18:40</td>\n",
       "      <td>Sunny</td>\n",
       "      <td>Medium</td>\n",
       "      <td>2</td>\n",
       "      <td>Drinks</td>\n",
       "      <td>scooter</td>\n",
       "      <td>1.000000</td>\n",
       "      <td>No</td>\n",
       "      <td>Metropolitian</td>\n",
       "      <td>object</td>\n",
       "    </tr>\n",
       "  </tbody>\n",
       "</table>\n",
       "</div>"
      ],
      "text/plain": [
       "       ID Delivery_person_ID Delivery_person_Age Delivery_person_Ratings  \\\n",
       "0  0x2318    COIMBRES13DEL01                 NaN                     NaN   \n",
       "1  0x3474     BANGRES15DEL01           28.000000                4.600000   \n",
       "2  0x9420      JAPRES09DEL03           23.000000                4.500000   \n",
       "3  0x72ee      JAPRES07DEL03           21.000000                4.800000   \n",
       "4  0xa759     CHENRES19DEL01           31.000000                4.600000   \n",
       "\n",
       "  Restaurant_latitude Restaurant_longitude Delivery_location_latitude  \\\n",
       "0           11.003669            76.976494                  11.043669   \n",
       "1           12.975377            77.696664                  13.085377   \n",
       "2           26.911378            75.789034                  27.001378   \n",
       "3           26.766536            75.837333                  26.856536   \n",
       "4           12.986047            80.218114                  13.096047   \n",
       "\n",
       "  Delivery_location_longitude  Order_Date Time_Orderd Time_Order_picked  \\\n",
       "0                   77.016494  30-03-2022         NaN             15:05   \n",
       "1                   77.806664  29-03-2022       20:30             20:35   \n",
       "2                   75.879034  10-03-2022       19:35             19:45   \n",
       "3                   75.927333  02-04-2022       17:15             17:20   \n",
       "4                   80.328114  27-03-2022       18:25             18:40   \n",
       "\n",
       "  Weather Road_traffic_density Vehicle_condition Type_of_order  \\\n",
       "0     NaN                  NaN                 3        Drinks   \n",
       "1   Windy                  Jam                 0         Snack   \n",
       "2  Stormy                  Jam                 0        Drinks   \n",
       "3     Fog               Medium                 1          Meal   \n",
       "4   Sunny               Medium                 2        Drinks   \n",
       "\n",
       "    Type_of_vehicle multiple_deliveries Festival           City   Name:  \n",
       "0  electric_scooter            1.000000       No  Metropolitian  object  \n",
       "1        motorcycle            1.000000       No  Metropolitian  object  \n",
       "2        motorcycle            1.000000       No  Metropolitian  object  \n",
       "3           scooter            1.000000       No  Metropolitian  object  \n",
       "4           scooter            1.000000       No  Metropolitian  object  "
      ]
     },
     "execution_count": 16,
     "metadata": {},
     "output_type": "execute_result"
    }
   ],
   "source": [
    "test_data.head()"
   ]
  },
  {
   "cell_type": "code",
   "execution_count": 17,
   "id": "341a68d8",
   "metadata": {},
   "outputs": [],
   "source": [
    "train_data.drop('Name:',axis = 1,inplace=True)"
   ]
  },
  {
   "cell_type": "code",
   "execution_count": 18,
   "id": "368ab4b9",
   "metadata": {},
   "outputs": [],
   "source": [
    "test_data.drop('Name:',axis = 1,inplace=True)"
   ]
  },
  {
   "cell_type": "markdown",
   "id": "db46b00e",
   "metadata": {},
   "source": [
    "# Checking if all the delivery time is in minutes "
   ]
  },
  {
   "cell_type": "code",
   "execution_count": 19,
   "id": "bfee13c9",
   "metadata": {},
   "outputs": [],
   "source": [
    "def check(path:str)->pd.DataFrame:\n",
    "    try:\n",
    "        check_array = []\n",
    "        for index,file in enumerate(os.listdir(path)):\n",
    "            #print(f\"Working on file_no : {index} , name of the file : {file}\")\n",
    "            file_content = None\n",
    "            with open(os.path.join(path,file),'r') as file_obj:\n",
    "                file_content = file_obj.readlines()\n",
    "            \n",
    "            check_array.append(file_content[19])\n",
    "        return check_array\n",
    "            \n",
    "    except Exception as e:\n",
    "        print(str(e))"
   ]
  },
  {
   "cell_type": "code",
   "execution_count": 20,
   "id": "83e075f7",
   "metadata": {},
   "outputs": [],
   "source": [
    "ch = check(train_folder_path)"
   ]
  },
  {
   "cell_type": "code",
   "execution_count": 21,
   "id": "53c08172",
   "metadata": {},
   "outputs": [],
   "source": [
    "ch = [row.rsplit()[1] for row in ch]"
   ]
  },
  {
   "cell_type": "code",
   "execution_count": 22,
   "id": "3aa6f942",
   "metadata": {},
   "outputs": [
    {
     "data": {
      "text/plain": [
       "array(['(min)'], dtype=object)"
      ]
     },
     "execution_count": 22,
     "metadata": {},
     "output_type": "execute_result"
    }
   ],
   "source": [
    "pd.Series(ch).unique()"
   ]
  },
  {
   "cell_type": "markdown",
   "id": "5d5a0777",
   "metadata": {},
   "source": [
    "# All the datatime is in minutes"
   ]
  },
  {
   "cell_type": "code",
   "execution_count": 23,
   "id": "17ef1bfa",
   "metadata": {},
   "outputs": [
    {
     "data": {
      "text/html": [
       "<div>\n",
       "<style scoped>\n",
       "    .dataframe tbody tr th:only-of-type {\n",
       "        vertical-align: middle;\n",
       "    }\n",
       "\n",
       "    .dataframe tbody tr th {\n",
       "        vertical-align: top;\n",
       "    }\n",
       "\n",
       "    .dataframe thead th {\n",
       "        text-align: right;\n",
       "    }\n",
       "</style>\n",
       "<table border=\"1\" class=\"dataframe\">\n",
       "  <thead>\n",
       "    <tr style=\"text-align: right;\">\n",
       "      <th></th>\n",
       "      <th>ID</th>\n",
       "      <th>Delivery_person_ID</th>\n",
       "      <th>Delivery_person_Age</th>\n",
       "      <th>Delivery_person_Ratings</th>\n",
       "      <th>Restaurant_latitude</th>\n",
       "      <th>Restaurant_longitude</th>\n",
       "      <th>Delivery_location_latitude</th>\n",
       "      <th>Delivery_location_longitude</th>\n",
       "      <th>Order_Date</th>\n",
       "      <th>Time_Orderd</th>\n",
       "      <th>Time_Order_picked</th>\n",
       "      <th>Weather</th>\n",
       "      <th>Road_traffic_density</th>\n",
       "      <th>Vehicle_condition</th>\n",
       "      <th>Type_of_order</th>\n",
       "      <th>Type_of_vehicle</th>\n",
       "      <th>multiple_deliveries</th>\n",
       "      <th>Festival</th>\n",
       "      <th>City</th>\n",
       "      <th>Time_taken</th>\n",
       "    </tr>\n",
       "  </thead>\n",
       "  <tbody>\n",
       "    <tr>\n",
       "      <th>0</th>\n",
       "      <td>0x4607</td>\n",
       "      <td>INDORES13DEL02</td>\n",
       "      <td>37.000000</td>\n",
       "      <td>4.900000</td>\n",
       "      <td>22.745049</td>\n",
       "      <td>75.892471</td>\n",
       "      <td>22.765049</td>\n",
       "      <td>75.912471</td>\n",
       "      <td>19-03-2022</td>\n",
       "      <td>11:30</td>\n",
       "      <td>11:45</td>\n",
       "      <td>Sunny</td>\n",
       "      <td>High</td>\n",
       "      <td>2</td>\n",
       "      <td>Snack</td>\n",
       "      <td>motorcycle</td>\n",
       "      <td>0.000000</td>\n",
       "      <td>No</td>\n",
       "      <td>Urban</td>\n",
       "      <td>24.000000</td>\n",
       "    </tr>\n",
       "    <tr>\n",
       "      <th>1</th>\n",
       "      <td>0xb379</td>\n",
       "      <td>BANGRES18DEL02</td>\n",
       "      <td>34.000000</td>\n",
       "      <td>4.500000</td>\n",
       "      <td>12.913041</td>\n",
       "      <td>77.683237</td>\n",
       "      <td>13.043041</td>\n",
       "      <td>77.813237</td>\n",
       "      <td>25-03-2022</td>\n",
       "      <td>19:45</td>\n",
       "      <td>19:50</td>\n",
       "      <td>Stormy</td>\n",
       "      <td>Jam</td>\n",
       "      <td>2</td>\n",
       "      <td>Snack</td>\n",
       "      <td>scooter</td>\n",
       "      <td>1.000000</td>\n",
       "      <td>No</td>\n",
       "      <td>Metropolitian</td>\n",
       "      <td>33.000000</td>\n",
       "    </tr>\n",
       "    <tr>\n",
       "      <th>2</th>\n",
       "      <td>0x5d6d</td>\n",
       "      <td>BANGRES19DEL01</td>\n",
       "      <td>23.000000</td>\n",
       "      <td>4.400000</td>\n",
       "      <td>12.914264</td>\n",
       "      <td>77.678400</td>\n",
       "      <td>12.924264</td>\n",
       "      <td>77.688400</td>\n",
       "      <td>19-03-2022</td>\n",
       "      <td>8:30</td>\n",
       "      <td>8:45</td>\n",
       "      <td>Sandstorms</td>\n",
       "      <td>Low</td>\n",
       "      <td>0</td>\n",
       "      <td>Drinks</td>\n",
       "      <td>motorcycle</td>\n",
       "      <td>1.000000</td>\n",
       "      <td>No</td>\n",
       "      <td>Urban</td>\n",
       "      <td>26.000000</td>\n",
       "    </tr>\n",
       "    <tr>\n",
       "      <th>3</th>\n",
       "      <td>0x7a6a</td>\n",
       "      <td>COIMBRES13DEL02</td>\n",
       "      <td>38.000000</td>\n",
       "      <td>4.700000</td>\n",
       "      <td>11.003669</td>\n",
       "      <td>76.976494</td>\n",
       "      <td>11.053669</td>\n",
       "      <td>77.026494</td>\n",
       "      <td>05-04-2022</td>\n",
       "      <td>17:60</td>\n",
       "      <td>18:10</td>\n",
       "      <td>Sunny</td>\n",
       "      <td>Medium</td>\n",
       "      <td>0</td>\n",
       "      <td>Buffet</td>\n",
       "      <td>motorcycle</td>\n",
       "      <td>1.000000</td>\n",
       "      <td>No</td>\n",
       "      <td>Metropolitian</td>\n",
       "      <td>21.000000</td>\n",
       "    </tr>\n",
       "    <tr>\n",
       "      <th>4</th>\n",
       "      <td>0x70a2</td>\n",
       "      <td>CHENRES12DEL01</td>\n",
       "      <td>32.000000</td>\n",
       "      <td>4.600000</td>\n",
       "      <td>12.972793</td>\n",
       "      <td>80.249982</td>\n",
       "      <td>13.012793</td>\n",
       "      <td>80.289982</td>\n",
       "      <td>26-03-2022</td>\n",
       "      <td>13:30</td>\n",
       "      <td>13:45</td>\n",
       "      <td>Cloudy</td>\n",
       "      <td>High</td>\n",
       "      <td>1</td>\n",
       "      <td>Snack</td>\n",
       "      <td>scooter</td>\n",
       "      <td>1.000000</td>\n",
       "      <td>No</td>\n",
       "      <td>Metropolitian</td>\n",
       "      <td>30.000000</td>\n",
       "    </tr>\n",
       "    <tr>\n",
       "      <th>...</th>\n",
       "      <td>...</td>\n",
       "      <td>...</td>\n",
       "      <td>...</td>\n",
       "      <td>...</td>\n",
       "      <td>...</td>\n",
       "      <td>...</td>\n",
       "      <td>...</td>\n",
       "      <td>...</td>\n",
       "      <td>...</td>\n",
       "      <td>...</td>\n",
       "      <td>...</td>\n",
       "      <td>...</td>\n",
       "      <td>...</td>\n",
       "      <td>...</td>\n",
       "      <td>...</td>\n",
       "      <td>...</td>\n",
       "      <td>...</td>\n",
       "      <td>...</td>\n",
       "      <td>...</td>\n",
       "      <td>...</td>\n",
       "    </tr>\n",
       "    <tr>\n",
       "      <th>45588</th>\n",
       "      <td>0x7c09</td>\n",
       "      <td>JAPRES04DEL01</td>\n",
       "      <td>30.000000</td>\n",
       "      <td>4.800000</td>\n",
       "      <td>26.902328</td>\n",
       "      <td>75.794257</td>\n",
       "      <td>26.912328</td>\n",
       "      <td>75.804257</td>\n",
       "      <td>24-03-2022</td>\n",
       "      <td>11:35</td>\n",
       "      <td>11:45</td>\n",
       "      <td>Windy</td>\n",
       "      <td>High</td>\n",
       "      <td>1</td>\n",
       "      <td>Meal</td>\n",
       "      <td>motorcycle</td>\n",
       "      <td>0.000000</td>\n",
       "      <td>No</td>\n",
       "      <td>Metropolitian</td>\n",
       "      <td>32.000000</td>\n",
       "    </tr>\n",
       "    <tr>\n",
       "      <th>45589</th>\n",
       "      <td>0xd641</td>\n",
       "      <td>AGRRES16DEL01</td>\n",
       "      <td>21.00</td>\n",
       "      <td>4.60</td>\n",
       "      <td>0.00</td>\n",
       "      <td>0.00</td>\n",
       "      <td>0.07</td>\n",
       "      <td>0.07</td>\n",
       "      <td>16-02-2022</td>\n",
       "      <td>19:55</td>\n",
       "      <td>20:10</td>\n",
       "      <td>Windy</td>\n",
       "      <td>Jam</td>\n",
       "      <td>0</td>\n",
       "      <td>Buffet</td>\n",
       "      <td>motorcycle</td>\n",
       "      <td>1.00</td>\n",
       "      <td>No</td>\n",
       "      <td>Metropolitian</td>\n",
       "      <td>36.00</td>\n",
       "    </tr>\n",
       "    <tr>\n",
       "      <th>45590</th>\n",
       "      <td>0x4f8d</td>\n",
       "      <td>CHENRES08DEL03</td>\n",
       "      <td>30.000000</td>\n",
       "      <td>4.900000</td>\n",
       "      <td>13.022394</td>\n",
       "      <td>80.242439</td>\n",
       "      <td>13.052394</td>\n",
       "      <td>80.272439</td>\n",
       "      <td>11-03-2022</td>\n",
       "      <td>23:50</td>\n",
       "      <td>24:05</td>\n",
       "      <td>Cloudy</td>\n",
       "      <td>Low</td>\n",
       "      <td>1</td>\n",
       "      <td>Drinks</td>\n",
       "      <td>scooter</td>\n",
       "      <td>0.000000</td>\n",
       "      <td>No</td>\n",
       "      <td>Metropolitian</td>\n",
       "      <td>16.000000</td>\n",
       "    </tr>\n",
       "    <tr>\n",
       "      <th>45591</th>\n",
       "      <td>0x5eee</td>\n",
       "      <td>COIMBRES11DEL01</td>\n",
       "      <td>20.000000</td>\n",
       "      <td>4.700000</td>\n",
       "      <td>11.001753</td>\n",
       "      <td>76.986241</td>\n",
       "      <td>11.041753</td>\n",
       "      <td>77.026241</td>\n",
       "      <td>07-03-2022</td>\n",
       "      <td>13:35</td>\n",
       "      <td>13:40</td>\n",
       "      <td>Cloudy</td>\n",
       "      <td>High</td>\n",
       "      <td>0</td>\n",
       "      <td>Snack</td>\n",
       "      <td>motorcycle</td>\n",
       "      <td>1.000000</td>\n",
       "      <td>No</td>\n",
       "      <td>Metropolitian</td>\n",
       "      <td>26.000000</td>\n",
       "    </tr>\n",
       "    <tr>\n",
       "      <th>45592</th>\n",
       "      <td>0x5fb2</td>\n",
       "      <td>RANCHIRES09DEL02</td>\n",
       "      <td>23.000000</td>\n",
       "      <td>4.900000</td>\n",
       "      <td>23.351058</td>\n",
       "      <td>85.325731</td>\n",
       "      <td>23.431058</td>\n",
       "      <td>85.405731</td>\n",
       "      <td>02-03-2022</td>\n",
       "      <td>17:10</td>\n",
       "      <td>17:15</td>\n",
       "      <td>Fog</td>\n",
       "      <td>Medium</td>\n",
       "      <td>2</td>\n",
       "      <td>Snack</td>\n",
       "      <td>scooter</td>\n",
       "      <td>1.000000</td>\n",
       "      <td>No</td>\n",
       "      <td>Metropolitian</td>\n",
       "      <td>36.000000</td>\n",
       "    </tr>\n",
       "  </tbody>\n",
       "</table>\n",
       "<p>45593 rows × 20 columns</p>\n",
       "</div>"
      ],
      "text/plain": [
       "           ID Delivery_person_ID Delivery_person_Age Delivery_person_Ratings  \\\n",
       "0      0x4607     INDORES13DEL02           37.000000                4.900000   \n",
       "1      0xb379     BANGRES18DEL02           34.000000                4.500000   \n",
       "2      0x5d6d     BANGRES19DEL01           23.000000                4.400000   \n",
       "3      0x7a6a    COIMBRES13DEL02           38.000000                4.700000   \n",
       "4      0x70a2     CHENRES12DEL01           32.000000                4.600000   \n",
       "...       ...                ...                 ...                     ...   \n",
       "45588  0x7c09      JAPRES04DEL01           30.000000                4.800000   \n",
       "45589  0xd641      AGRRES16DEL01               21.00                    4.60   \n",
       "45590  0x4f8d     CHENRES08DEL03           30.000000                4.900000   \n",
       "45591  0x5eee    COIMBRES11DEL01           20.000000                4.700000   \n",
       "45592  0x5fb2   RANCHIRES09DEL02           23.000000                4.900000   \n",
       "\n",
       "      Restaurant_latitude Restaurant_longitude Delivery_location_latitude  \\\n",
       "0               22.745049            75.892471                  22.765049   \n",
       "1               12.913041            77.683237                  13.043041   \n",
       "2               12.914264            77.678400                  12.924264   \n",
       "3               11.003669            76.976494                  11.053669   \n",
       "4               12.972793            80.249982                  13.012793   \n",
       "...                   ...                  ...                        ...   \n",
       "45588           26.902328            75.794257                  26.912328   \n",
       "45589                0.00                 0.00                       0.07   \n",
       "45590           13.022394            80.242439                  13.052394   \n",
       "45591           11.001753            76.986241                  11.041753   \n",
       "45592           23.351058            85.325731                  23.431058   \n",
       "\n",
       "      Delivery_location_longitude  Order_Date Time_Orderd Time_Order_picked  \\\n",
       "0                       75.912471  19-03-2022       11:30             11:45   \n",
       "1                       77.813237  25-03-2022       19:45             19:50   \n",
       "2                       77.688400  19-03-2022        8:30              8:45   \n",
       "3                       77.026494  05-04-2022       17:60             18:10   \n",
       "4                       80.289982  26-03-2022       13:30             13:45   \n",
       "...                           ...         ...         ...               ...   \n",
       "45588                   75.804257  24-03-2022       11:35             11:45   \n",
       "45589                        0.07  16-02-2022       19:55             20:10   \n",
       "45590                   80.272439  11-03-2022       23:50             24:05   \n",
       "45591                   77.026241  07-03-2022       13:35             13:40   \n",
       "45592                   85.405731  02-03-2022       17:10             17:15   \n",
       "\n",
       "          Weather Road_traffic_density Vehicle_condition Type_of_order  \\\n",
       "0           Sunny                 High                 2         Snack   \n",
       "1          Stormy                  Jam                 2         Snack   \n",
       "2      Sandstorms                  Low                 0        Drinks   \n",
       "3           Sunny               Medium                 0        Buffet   \n",
       "4          Cloudy                 High                 1         Snack   \n",
       "...           ...                  ...               ...           ...   \n",
       "45588       Windy                 High                 1          Meal   \n",
       "45589       Windy                  Jam                 0        Buffet   \n",
       "45590      Cloudy                  Low                 1        Drinks   \n",
       "45591      Cloudy                 High                 0         Snack   \n",
       "45592         Fog               Medium                 2         Snack   \n",
       "\n",
       "      Type_of_vehicle multiple_deliveries Festival           City Time_taken  \n",
       "0          motorcycle            0.000000       No          Urban  24.000000  \n",
       "1             scooter            1.000000       No  Metropolitian  33.000000  \n",
       "2          motorcycle            1.000000       No          Urban  26.000000  \n",
       "3          motorcycle            1.000000       No  Metropolitian  21.000000  \n",
       "4             scooter            1.000000       No  Metropolitian  30.000000  \n",
       "...               ...                 ...      ...            ...        ...  \n",
       "45588      motorcycle            0.000000       No  Metropolitian  32.000000  \n",
       "45589      motorcycle                1.00       No  Metropolitian      36.00  \n",
       "45590         scooter            0.000000       No  Metropolitian  16.000000  \n",
       "45591      motorcycle            1.000000       No  Metropolitian  26.000000  \n",
       "45592         scooter            1.000000       No  Metropolitian  36.000000  \n",
       "\n",
       "[45593 rows x 20 columns]"
      ]
     },
     "execution_count": 23,
     "metadata": {},
     "output_type": "execute_result"
    }
   ],
   "source": [
    "train_data"
   ]
  },
  {
   "cell_type": "markdown",
   "id": "5b31d53f",
   "metadata": {},
   "source": [
    "# Creating Validation dataset"
   ]
  },
  {
   "cell_type": "markdown",
   "id": "4db6b467",
   "metadata": {},
   "source": [
    "#### Will use Stratified Split"
   ]
  },
  {
   "cell_type": "markdown",
   "id": "3a8444e5",
   "metadata": {},
   "source": [
    "#### Visualizing Target Column"
   ]
  },
  {
   "cell_type": "code",
   "execution_count": 24,
   "id": "d36a2601",
   "metadata": {},
   "outputs": [
    {
     "name": "stderr",
     "output_type": "stream",
     "text": [
      "C:\\Users\\rachi\\anaconda3\\lib\\site-packages\\seaborn\\distributions.py:2557: FutureWarning: `distplot` is a deprecated function and will be removed in a future version. Please adapt your code to use either `displot` (a figure-level function with similar flexibility) or `histplot` (an axes-level function for histograms).\n",
      "  warnings.warn(msg, FutureWarning)\n"
     ]
    },
    {
     "data": {
      "image/png": "[encoded data removed]",
      "text/plain": [
       "<Figure size 1080x720 with 1 Axes>"
      ]
     },
     "metadata": {
      "needs_background": "light"
     },
     "output_type": "display_data"
    }
   ],
   "source": [
    "figure = plt.figure(figsize=(15,10))\n",
    "sns.distplot(train_data['Time_taken'])\n",
    "plt.grid()\n",
    "plt.show()"
   ]
  },
  {
   "cell_type": "code",
   "execution_count": 25,
   "id": "cd34d83d",
   "metadata": {},
   "outputs": [
    {
     "data": {
      "text/html": [
       "<div>\n",
       "<style scoped>\n",
       "    .dataframe tbody tr th:only-of-type {\n",
       "        vertical-align: middle;\n",
       "    }\n",
       "\n",
       "    .dataframe tbody tr th {\n",
       "        vertical-align: top;\n",
       "    }\n",
       "\n",
       "    .dataframe thead th {\n",
       "        text-align: right;\n",
       "    }\n",
       "</style>\n",
       "<table border=\"1\" class=\"dataframe\">\n",
       "  <thead>\n",
       "    <tr style=\"text-align: right;\">\n",
       "      <th></th>\n",
       "      <th>ID</th>\n",
       "      <th>Delivery_person_ID</th>\n",
       "      <th>Delivery_person_Age</th>\n",
       "      <th>Delivery_person_Ratings</th>\n",
       "      <th>Restaurant_latitude</th>\n",
       "      <th>Restaurant_longitude</th>\n",
       "      <th>Delivery_location_latitude</th>\n",
       "      <th>Delivery_location_longitude</th>\n",
       "      <th>Order_Date</th>\n",
       "      <th>Time_Orderd</th>\n",
       "      <th>Time_Order_picked</th>\n",
       "      <th>Weather</th>\n",
       "      <th>Road_traffic_density</th>\n",
       "      <th>Vehicle_condition</th>\n",
       "      <th>Type_of_order</th>\n",
       "      <th>Type_of_vehicle</th>\n",
       "      <th>multiple_deliveries</th>\n",
       "      <th>Festival</th>\n",
       "      <th>City</th>\n",
       "      <th>Time_taken</th>\n",
       "    </tr>\n",
       "  </thead>\n",
       "  <tbody>\n",
       "  </tbody>\n",
       "</table>\n",
       "</div>"
      ],
      "text/plain": [
       "Empty DataFrame\n",
       "Columns: [ID, Delivery_person_ID, Delivery_person_Age, Delivery_person_Ratings, Restaurant_latitude, Restaurant_longitude, Delivery_location_latitude, Delivery_location_longitude, Order_Date, Time_Orderd, Time_Order_picked, Weather, Road_traffic_density, Vehicle_condition, Type_of_order, Type_of_vehicle, multiple_deliveries, Festival, City, Time_taken]\n",
       "Index: []"
      ]
     },
     "execution_count": 25,
     "metadata": {},
     "output_type": "execute_result"
    }
   ],
   "source": [
    "train_data[train_data['Time_taken'].astype('float') < 10 ]"
   ]
  },
  {
   "cell_type": "code",
   "execution_count": 26,
   "id": "a63c6ade",
   "metadata": {},
   "outputs": [
    {
     "data": {
      "text/html": [
       "<div>\n",
       "<style scoped>\n",
       "    .dataframe tbody tr th:only-of-type {\n",
       "        vertical-align: middle;\n",
       "    }\n",
       "\n",
       "    .dataframe tbody tr th {\n",
       "        vertical-align: top;\n",
       "    }\n",
       "\n",
       "    .dataframe thead th {\n",
       "        text-align: right;\n",
       "    }\n",
       "</style>\n",
       "<table border=\"1\" class=\"dataframe\">\n",
       "  <thead>\n",
       "    <tr style=\"text-align: right;\">\n",
       "      <th></th>\n",
       "      <th>ID</th>\n",
       "      <th>Delivery_person_ID</th>\n",
       "      <th>Delivery_person_Age</th>\n",
       "      <th>Delivery_person_Ratings</th>\n",
       "      <th>Restaurant_latitude</th>\n",
       "      <th>Restaurant_longitude</th>\n",
       "      <th>Delivery_location_latitude</th>\n",
       "      <th>Delivery_location_longitude</th>\n",
       "      <th>Order_Date</th>\n",
       "      <th>Time_Orderd</th>\n",
       "      <th>Time_Order_picked</th>\n",
       "      <th>Weather</th>\n",
       "      <th>Road_traffic_density</th>\n",
       "      <th>Vehicle_condition</th>\n",
       "      <th>Type_of_order</th>\n",
       "      <th>Type_of_vehicle</th>\n",
       "      <th>multiple_deliveries</th>\n",
       "      <th>Festival</th>\n",
       "      <th>City</th>\n",
       "      <th>Time_taken</th>\n",
       "    </tr>\n",
       "  </thead>\n",
       "  <tbody>\n",
       "    <tr>\n",
       "      <th>43</th>\n",
       "      <td>0xb796</td>\n",
       "      <td>SURRES17DEL03</td>\n",
       "      <td>37.000000</td>\n",
       "      <td>4.700000</td>\n",
       "      <td>21.149569</td>\n",
       "      <td>72.772697</td>\n",
       "      <td>21.239569</td>\n",
       "      <td>72.862697</td>\n",
       "      <td>04-04-2022</td>\n",
       "      <td>19:45</td>\n",
       "      <td>19:50</td>\n",
       "      <td>Sandstorms</td>\n",
       "      <td>Jam</td>\n",
       "      <td>0</td>\n",
       "      <td>Snack</td>\n",
       "      <td>motorcycle</td>\n",
       "      <td>3.000000</td>\n",
       "      <td>No</td>\n",
       "      <td>Metropolitian</td>\n",
       "      <td>52.000000</td>\n",
       "    </tr>\n",
       "    <tr>\n",
       "      <th>188</th>\n",
       "      <td>0x4b5b</td>\n",
       "      <td>MYSRES04DEL03</td>\n",
       "      <td>38.000000</td>\n",
       "      <td>4.300000</td>\n",
       "      <td>12.308500</td>\n",
       "      <td>76.665808</td>\n",
       "      <td>12.398500</td>\n",
       "      <td>76.755808</td>\n",
       "      <td>04-04-2022</td>\n",
       "      <td>21:15</td>\n",
       "      <td>21:25</td>\n",
       "      <td>Sandstorms</td>\n",
       "      <td>Jam</td>\n",
       "      <td>0</td>\n",
       "      <td>Meal</td>\n",
       "      <td>motorcycle</td>\n",
       "      <td>1.000000</td>\n",
       "      <td>Yes</td>\n",
       "      <td>Semi-Urban</td>\n",
       "      <td>54.000000</td>\n",
       "    </tr>\n",
       "    <tr>\n",
       "      <th>266</th>\n",
       "      <td>0xd92f</td>\n",
       "      <td>AGRRES03DEL01</td>\n",
       "      <td>35.000000</td>\n",
       "      <td>4.900000</td>\n",
       "      <td>27.160832</td>\n",
       "      <td>78.011608</td>\n",
       "      <td>27.230832</td>\n",
       "      <td>78.081608</td>\n",
       "      <td>18-02-2022</td>\n",
       "      <td>21:15</td>\n",
       "      <td>21:30</td>\n",
       "      <td>Cloudy</td>\n",
       "      <td>Jam</td>\n",
       "      <td>0</td>\n",
       "      <td>Buffet</td>\n",
       "      <td>motorcycle</td>\n",
       "      <td>2.000000</td>\n",
       "      <td>No</td>\n",
       "      <td>Metropolitian</td>\n",
       "      <td>53.000000</td>\n",
       "    </tr>\n",
       "    <tr>\n",
       "      <th>641</th>\n",
       "      <td>0xc2ba</td>\n",
       "      <td>LUDHRES18DEL03</td>\n",
       "      <td>20.000000</td>\n",
       "      <td>3.900000</td>\n",
       "      <td>30.890184</td>\n",
       "      <td>75.829615</td>\n",
       "      <td>30.950184</td>\n",
       "      <td>75.889615</td>\n",
       "      <td>11-02-2022</td>\n",
       "      <td>20:40</td>\n",
       "      <td>20:45</td>\n",
       "      <td>Sunny</td>\n",
       "      <td>Jam</td>\n",
       "      <td>0</td>\n",
       "      <td>Buffet</td>\n",
       "      <td>motorcycle</td>\n",
       "      <td>1.000000</td>\n",
       "      <td>No</td>\n",
       "      <td>Metropolitian</td>\n",
       "      <td>54.000000</td>\n",
       "    </tr>\n",
       "    <tr>\n",
       "      <th>722</th>\n",
       "      <td>0x836d</td>\n",
       "      <td>HYDRES06DEL01</td>\n",
       "      <td>31.000000</td>\n",
       "      <td>4.400000</td>\n",
       "      <td>17.455894</td>\n",
       "      <td>78.375467</td>\n",
       "      <td>17.525894</td>\n",
       "      <td>78.445467</td>\n",
       "      <td>25-03-2022</td>\n",
       "      <td>19:35</td>\n",
       "      <td>19:40</td>\n",
       "      <td>Stormy</td>\n",
       "      <td>Jam</td>\n",
       "      <td>0</td>\n",
       "      <td>Meal</td>\n",
       "      <td>motorcycle</td>\n",
       "      <td>1.000000</td>\n",
       "      <td>Yes</td>\n",
       "      <td>Metropolitian</td>\n",
       "      <td>53.000000</td>\n",
       "    </tr>\n",
       "    <tr>\n",
       "      <th>...</th>\n",
       "      <td>...</td>\n",
       "      <td>...</td>\n",
       "      <td>...</td>\n",
       "      <td>...</td>\n",
       "      <td>...</td>\n",
       "      <td>...</td>\n",
       "      <td>...</td>\n",
       "      <td>...</td>\n",
       "      <td>...</td>\n",
       "      <td>...</td>\n",
       "      <td>...</td>\n",
       "      <td>...</td>\n",
       "      <td>...</td>\n",
       "      <td>...</td>\n",
       "      <td>...</td>\n",
       "      <td>...</td>\n",
       "      <td>...</td>\n",
       "      <td>...</td>\n",
       "      <td>...</td>\n",
       "      <td>...</td>\n",
       "    </tr>\n",
       "    <tr>\n",
       "      <th>45207</th>\n",
       "      <td>0x5ff8</td>\n",
       "      <td>MYSRES03DEL03</td>\n",
       "      <td>39.000000</td>\n",
       "      <td>4.100000</td>\n",
       "      <td>12.299524</td>\n",
       "      <td>76.642620</td>\n",
       "      <td>12.389524</td>\n",
       "      <td>76.732620</td>\n",
       "      <td>23-03-2022</td>\n",
       "      <td>20:55</td>\n",
       "      <td>21:05</td>\n",
       "      <td>Sandstorms</td>\n",
       "      <td>Jam</td>\n",
       "      <td>0</td>\n",
       "      <td>Drinks</td>\n",
       "      <td>motorcycle</td>\n",
       "      <td>3.000000</td>\n",
       "      <td>No</td>\n",
       "      <td>Metropolitian</td>\n",
       "      <td>51.000000</td>\n",
       "    </tr>\n",
       "    <tr>\n",
       "      <th>45231</th>\n",
       "      <td>0x5df8</td>\n",
       "      <td>HYDRES08DEL02</td>\n",
       "      <td>35.000000</td>\n",
       "      <td>4.900000</td>\n",
       "      <td>17.438263</td>\n",
       "      <td>78.397865</td>\n",
       "      <td>17.568263</td>\n",
       "      <td>78.527865</td>\n",
       "      <td>02-03-2022</td>\n",
       "      <td>20:35</td>\n",
       "      <td>20:40</td>\n",
       "      <td>Cloudy</td>\n",
       "      <td>Jam</td>\n",
       "      <td>0</td>\n",
       "      <td>Drinks</td>\n",
       "      <td>motorcycle</td>\n",
       "      <td>1.000000</td>\n",
       "      <td>No</td>\n",
       "      <td>Semi-Urban</td>\n",
       "      <td>51.000000</td>\n",
       "    </tr>\n",
       "    <tr>\n",
       "      <th>45294</th>\n",
       "      <td>0x713d</td>\n",
       "      <td>JAPRES07DEL02</td>\n",
       "      <td>39.000000</td>\n",
       "      <td>4.400000</td>\n",
       "      <td>26.766536</td>\n",
       "      <td>75.837333</td>\n",
       "      <td>26.896536</td>\n",
       "      <td>75.967333</td>\n",
       "      <td>18-03-2022</td>\n",
       "      <td>21:35</td>\n",
       "      <td>21:45</td>\n",
       "      <td>Sandstorms</td>\n",
       "      <td>Jam</td>\n",
       "      <td>0</td>\n",
       "      <td>Drinks</td>\n",
       "      <td>motorcycle</td>\n",
       "      <td>1.000000</td>\n",
       "      <td>No</td>\n",
       "      <td>Metropolitian</td>\n",
       "      <td>53.000000</td>\n",
       "    </tr>\n",
       "    <tr>\n",
       "      <th>45305</th>\n",
       "      <td>0x2271</td>\n",
       "      <td>SURRES19DEL01</td>\n",
       "      <td>35.000000</td>\n",
       "      <td>4.700000</td>\n",
       "      <td>21.149669</td>\n",
       "      <td>72.772629</td>\n",
       "      <td>21.219669</td>\n",
       "      <td>72.842629</td>\n",
       "      <td>23-03-2022</td>\n",
       "      <td>20:45</td>\n",
       "      <td>20:60</td>\n",
       "      <td>Cloudy</td>\n",
       "      <td>Jam</td>\n",
       "      <td>0</td>\n",
       "      <td>Meal</td>\n",
       "      <td>motorcycle</td>\n",
       "      <td>1.000000</td>\n",
       "      <td>No</td>\n",
       "      <td>Metropolitian</td>\n",
       "      <td>51.000000</td>\n",
       "    </tr>\n",
       "    <tr>\n",
       "      <th>45448</th>\n",
       "      <td>0x2397</td>\n",
       "      <td>MYSRES17DEL03</td>\n",
       "      <td>37.000000</td>\n",
       "      <td>4.600000</td>\n",
       "      <td>12.326356</td>\n",
       "      <td>76.619103</td>\n",
       "      <td>12.416356</td>\n",
       "      <td>76.709103</td>\n",
       "      <td>14-03-2022</td>\n",
       "      <td>20:10</td>\n",
       "      <td>20:15</td>\n",
       "      <td>Windy</td>\n",
       "      <td>Jam</td>\n",
       "      <td>0</td>\n",
       "      <td>Snack</td>\n",
       "      <td>motorcycle</td>\n",
       "      <td>1.000000</td>\n",
       "      <td>Yes</td>\n",
       "      <td>Semi-Urban</td>\n",
       "      <td>53.000000</td>\n",
       "    </tr>\n",
       "  </tbody>\n",
       "</table>\n",
       "<p>364 rows × 20 columns</p>\n",
       "</div>"
      ],
      "text/plain": [
       "           ID Delivery_person_ID Delivery_person_Age Delivery_person_Ratings  \\\n",
       "43     0xb796      SURRES17DEL03           37.000000                4.700000   \n",
       "188    0x4b5b      MYSRES04DEL03           38.000000                4.300000   \n",
       "266    0xd92f      AGRRES03DEL01           35.000000                4.900000   \n",
       "641    0xc2ba     LUDHRES18DEL03           20.000000                3.900000   \n",
       "722    0x836d      HYDRES06DEL01           31.000000                4.400000   \n",
       "...       ...                ...                 ...                     ...   \n",
       "45207  0x5ff8      MYSRES03DEL03           39.000000                4.100000   \n",
       "45231  0x5df8      HYDRES08DEL02           35.000000                4.900000   \n",
       "45294  0x713d      JAPRES07DEL02           39.000000                4.400000   \n",
       "45305  0x2271      SURRES19DEL01           35.000000                4.700000   \n",
       "45448  0x2397      MYSRES17DEL03           37.000000                4.600000   \n",
       "\n",
       "      Restaurant_latitude Restaurant_longitude Delivery_location_latitude  \\\n",
       "43              21.149569            72.772697                  21.239569   \n",
       "188             12.308500            76.665808                  12.398500   \n",
       "266             27.160832            78.011608                  27.230832   \n",
       "641             30.890184            75.829615                  30.950184   \n",
       "722             17.455894            78.375467                  17.525894   \n",
       "...                   ...                  ...                        ...   \n",
       "45207           12.299524            76.642620                  12.389524   \n",
       "45231           17.438263            78.397865                  17.568263   \n",
       "45294           26.766536            75.837333                  26.896536   \n",
       "45305           21.149669            72.772629                  21.219669   \n",
       "45448           12.326356            76.619103                  12.416356   \n",
       "\n",
       "      Delivery_location_longitude  Order_Date Time_Orderd Time_Order_picked  \\\n",
       "43                      72.862697  04-04-2022       19:45             19:50   \n",
       "188                     76.755808  04-04-2022       21:15             21:25   \n",
       "266                     78.081608  18-02-2022       21:15             21:30   \n",
       "641                     75.889615  11-02-2022       20:40             20:45   \n",
       "722                     78.445467  25-03-2022       19:35             19:40   \n",
       "...                           ...         ...         ...               ...   \n",
       "45207                   76.732620  23-03-2022       20:55             21:05   \n",
       "45231                   78.527865  02-03-2022       20:35             20:40   \n",
       "45294                   75.967333  18-03-2022       21:35             21:45   \n",
       "45305                   72.842629  23-03-2022       20:45             20:60   \n",
       "45448                   76.709103  14-03-2022       20:10             20:15   \n",
       "\n",
       "          Weather Road_traffic_density Vehicle_condition Type_of_order  \\\n",
       "43     Sandstorms                  Jam                 0         Snack   \n",
       "188    Sandstorms                  Jam                 0          Meal   \n",
       "266        Cloudy                  Jam                 0        Buffet   \n",
       "641         Sunny                  Jam                 0        Buffet   \n",
       "722        Stormy                  Jam                 0          Meal   \n",
       "...           ...                  ...               ...           ...   \n",
       "45207  Sandstorms                  Jam                 0        Drinks   \n",
       "45231      Cloudy                  Jam                 0        Drinks   \n",
       "45294  Sandstorms                  Jam                 0        Drinks   \n",
       "45305      Cloudy                  Jam                 0          Meal   \n",
       "45448       Windy                  Jam                 0         Snack   \n",
       "\n",
       "      Type_of_vehicle multiple_deliveries Festival           City Time_taken  \n",
       "43         motorcycle            3.000000       No  Metropolitian  52.000000  \n",
       "188        motorcycle            1.000000      Yes     Semi-Urban  54.000000  \n",
       "266        motorcycle            2.000000       No  Metropolitian  53.000000  \n",
       "641        motorcycle            1.000000       No  Metropolitian  54.000000  \n",
       "722        motorcycle            1.000000      Yes  Metropolitian  53.000000  \n",
       "...               ...                 ...      ...            ...        ...  \n",
       "45207      motorcycle            3.000000       No  Metropolitian  51.000000  \n",
       "45231      motorcycle            1.000000       No     Semi-Urban  51.000000  \n",
       "45294      motorcycle            1.000000       No  Metropolitian  53.000000  \n",
       "45305      motorcycle            1.000000       No  Metropolitian  51.000000  \n",
       "45448      motorcycle            1.000000      Yes     Semi-Urban  53.000000  \n",
       "\n",
       "[364 rows x 20 columns]"
      ]
     },
     "execution_count": 26,
     "metadata": {},
     "output_type": "execute_result"
    }
   ],
   "source": [
    "train_data[train_data['Time_taken'].astype('float') > 50 ]"
   ]
  },
  {
   "cell_type": "code",
   "execution_count": 27,
   "id": "6b2a0f95",
   "metadata": {},
   "outputs": [
    {
     "data": {
      "text/plain": [
       "54.0"
      ]
     },
     "execution_count": 27,
     "metadata": {},
     "output_type": "execute_result"
    }
   ],
   "source": [
    "train_data['Time_taken'].astype('float').max()"
   ]
  },
  {
   "cell_type": "code",
   "execution_count": 28,
   "id": "4103e662",
   "metadata": {},
   "outputs": [],
   "source": [
    "## There are no values lesser than 10, but to include 10, lets use 0 to 10 as well\n",
    "## There are very less values greater than 50\n",
    "## Let's do binning as 0 - 10, 10 - 20, 20 - 30 , 30 - 40 , 40 - 50 , 50 -infinity"
   ]
  },
  {
   "cell_type": "code",
   "execution_count": 29,
   "id": "78fc533b",
   "metadata": {},
   "outputs": [],
   "source": [
    "train_data['time_taken_cat'] = pd.cut(train_data['Time_taken'].astype(float), bins= [0,10.0,20.0,30.0,40.0,50.0,np.inf] ,labels=[1,2,3,4,5,6])"
   ]
  },
  {
   "cell_type": "code",
   "execution_count": 30,
   "id": "0fb167d9",
   "metadata": {},
   "outputs": [
    {
     "data": {
      "text/plain": [
       "<AxesSubplot:>"
      ]
     },
     "execution_count": 30,
     "metadata": {},
     "output_type": "execute_result"
    },
    {
     "data": {
      "image/png": "[encoded data removed]",
      "text/plain": [
       "<Figure size 432x288 with 1 Axes>"
      ]
     },
     "metadata": {
      "needs_background": "light"
     },
     "output_type": "display_data"
    }
   ],
   "source": [
    "train_data['time_taken_cat'].hist()"
   ]
  },
  {
   "cell_type": "markdown",
   "id": "73e62bf1",
   "metadata": {},
   "source": [
    "##### Doing the stratified split"
   ]
  },
  {
   "cell_type": "code",
   "execution_count": 31,
   "id": "536d8363",
   "metadata": {},
   "outputs": [],
   "source": [
    "split = StratifiedShuffleSplit(n_splits=1, test_size=0.1, random_state=42)"
   ]
  },
  {
   "cell_type": "code",
   "execution_count": 32,
   "id": "2456dfc6",
   "metadata": {},
   "outputs": [],
   "source": [
    "for train_index, validation_index in split.split(train_data, train_data['time_taken_cat']):\n",
    "    \n",
    "    train_set = train_data.loc[train_index]\n",
    "    validation_set = train_data.loc[validation_index]"
   ]
  },
  {
   "cell_type": "markdown",
   "id": "3c969464",
   "metadata": {},
   "source": [
    "### Checking the distribution"
   ]
  },
  {
   "cell_type": "code",
   "execution_count": 33,
   "id": "59c72d0e",
   "metadata": {},
   "outputs": [
    {
     "name": "stderr",
     "output_type": "stream",
     "text": [
      "C:\\Users\\rachi\\anaconda3\\lib\\site-packages\\seaborn\\distributions.py:2557: FutureWarning: `distplot` is a deprecated function and will be removed in a future version. Please adapt your code to use either `displot` (a figure-level function with similar flexibility) or `histplot` (an axes-level function for histograms).\n",
      "  warnings.warn(msg, FutureWarning)\n"
     ]
    },
    {
     "data": {
      "image/png": "[encoded data removed]",
      "text/plain": [
       "<Figure size 360x360 with 1 Axes>"
      ]
     },
     "metadata": {
      "needs_background": "light"
     },
     "output_type": "display_data"
    }
   ],
   "source": [
    "figure = plt.figure(figsize=(5,5))\n",
    "sns.distplot(train_set['Time_taken'])\n",
    "plt.grid()\n",
    "plt.show()"
   ]
  },
  {
   "cell_type": "code",
   "execution_count": 34,
   "id": "64fd0f21",
   "metadata": {},
   "outputs": [
    {
     "data": {
      "text/plain": [
       "<AxesSubplot:>"
      ]
     },
     "execution_count": 34,
     "metadata": {},
     "output_type": "execute_result"
    },
    {
     "data": {
      "image/png": "[encoded data removed]",
      "text/plain": [
       "<Figure size 432x288 with 1 Axes>"
      ]
     },
     "metadata": {
      "needs_background": "light"
     },
     "output_type": "display_data"
    }
   ],
   "source": [
    "train_set['time_taken_cat'].hist()"
   ]
  },
  {
   "cell_type": "code",
   "execution_count": 35,
   "id": "2168c7e1",
   "metadata": {},
   "outputs": [
    {
     "name": "stderr",
     "output_type": "stream",
     "text": [
      "C:\\Users\\rachi\\anaconda3\\lib\\site-packages\\seaborn\\distributions.py:2557: FutureWarning: `distplot` is a deprecated function and will be removed in a future version. Please adapt your code to use either `displot` (a figure-level function with similar flexibility) or `histplot` (an axes-level function for histograms).\n",
      "  warnings.warn(msg, FutureWarning)\n"
     ]
    },
    {
     "data": {
      "image/png": "[encoded data removed]",
      "text/plain": [
       "<Figure size 360x360 with 1 Axes>"
      ]
     },
     "metadata": {
      "needs_background": "light"
     },
     "output_type": "display_data"
    }
   ],
   "source": [
    "figure = plt.figure(figsize=(5,5))\n",
    "sns.distplot(validation_set['Time_taken'])\n",
    "plt.grid()\n",
    "plt.show()"
   ]
  },
  {
   "cell_type": "code",
   "execution_count": 36,
   "id": "df95652b",
   "metadata": {},
   "outputs": [
    {
     "data": {
      "text/plain": [
       "<AxesSubplot:>"
      ]
     },
     "execution_count": 36,
     "metadata": {},
     "output_type": "execute_result"
    },
    {
     "data": {
      "image/png": "[encoded data removed]",
      "text/plain": [
       "<Figure size 432x288 with 1 Axes>"
      ]
     },
     "metadata": {
      "needs_background": "light"
     },
     "output_type": "display_data"
    }
   ],
   "source": [
    "validation_set['time_taken_cat'].hist()"
   ]
  },
  {
   "cell_type": "code",
   "execution_count": 37,
   "id": "5449cbb1",
   "metadata": {},
   "outputs": [],
   "source": [
    "train_set.drop('time_taken_cat',axis = 1, inplace= True)\n",
    "validation_set.drop('time_taken_cat',axis = 1 , inplace= True)"
   ]
  },
  {
   "cell_type": "code",
   "execution_count": null,
   "id": "c9774522",
   "metadata": {},
   "outputs": [],
   "source": []
  },
  {
   "cell_type": "markdown",
   "id": "8f55eaed",
   "metadata": {},
   "source": [
    "# Storing the created dataset"
   ]
  },
  {
   "cell_type": "code",
   "execution_count": 38,
   "id": "ea743fc4",
   "metadata": {},
   "outputs": [
    {
     "data": {
      "text/plain": [
       "'..\\\\dataset\\\\train'"
      ]
     },
     "execution_count": 38,
     "metadata": {},
     "output_type": "execute_result"
    }
   ],
   "source": [
    "train_folder_path"
   ]
  },
  {
   "cell_type": "code",
   "execution_count": 39,
   "id": "2395c878",
   "metadata": {},
   "outputs": [
    {
     "data": {
      "text/plain": [
       "'..\\\\dataset\\\\test'"
      ]
     },
     "execution_count": 39,
     "metadata": {},
     "output_type": "execute_result"
    }
   ],
   "source": [
    "test_folder_path"
   ]
  },
  {
   "cell_type": "code",
   "execution_count": 40,
   "id": "c4eeffde",
   "metadata": {},
   "outputs": [],
   "source": [
    "base_dataset_dir = artifact_folder"
   ]
  },
  {
   "cell_type": "code",
   "execution_count": 41,
   "id": "d59211f6",
   "metadata": {},
   "outputs": [],
   "source": [
    "dataset_folder_name = \"built_dataset\""
   ]
  },
  {
   "cell_type": "code",
   "execution_count": 42,
   "id": "cb6c4578",
   "metadata": {},
   "outputs": [],
   "source": [
    "train_dataset_path = os.path.join(base_dataset_dir,dataset_folder_name,\"train.csv\")"
   ]
  },
  {
   "cell_type": "code",
   "execution_count": 43,
   "id": "4ddd337f",
   "metadata": {},
   "outputs": [],
   "source": [
    "test_dataset_path = os.path.join(base_dataset_dir,dataset_folder_name,\"test.csv\")"
   ]
  },
  {
   "cell_type": "code",
   "execution_count": 44,
   "id": "645a3b48",
   "metadata": {},
   "outputs": [],
   "source": [
    "validation_dataset_path = os.path.join(base_dataset_dir,dataset_folder_name,\"validation.csv\")"
   ]
  },
  {
   "cell_type": "code",
   "execution_count": 45,
   "id": "fabc3a46",
   "metadata": {},
   "outputs": [],
   "source": [
    "os.makedirs(os.path.join(base_dataset_dir,dataset_folder_name),exist_ok=True)"
   ]
  },
  {
   "cell_type": "code",
   "execution_count": 46,
   "id": "9661a9b6",
   "metadata": {},
   "outputs": [],
   "source": [
    "train_set.to_csv(train_dataset_path,index=False)"
   ]
  },
  {
   "cell_type": "code",
   "execution_count": 47,
   "id": "13016868",
   "metadata": {},
   "outputs": [],
   "source": [
    "test_data.to_csv(test_dataset_path,index=False)"
   ]
  },
  {
   "cell_type": "code",
   "execution_count": 48,
   "id": "5612e9dd",
   "metadata": {},
   "outputs": [],
   "source": [
    "validation_set.to_csv(validation_dataset_path,index = False)"
   ]
  },
  {
   "cell_type": "code",
   "execution_count": null,
   "id": "7d7fadea",
   "metadata": {},
   "outputs": [],
   "source": []
  }
 ],
 "metadata": {
  "kernelspec": {
   "display_name": "Python 3",
   "language": "python",
   "name": "python3"
  },
  "language_info": {
   "codemirror_mode": {
    "name": "ipython",
    "version": 3
   },
   "file_extension": ".py",
   "mimetype": "text/x-python",
   "name": "python",
   "nbconvert_exporter": "python",
   "pygments_lexer": "ipython3",
   "version": "3.8.8"
  }
 },
 "nbformat": 4,
 "nbformat_minor": 5
}
