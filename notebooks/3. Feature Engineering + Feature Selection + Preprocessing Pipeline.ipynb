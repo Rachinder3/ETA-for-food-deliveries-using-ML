{
 "cells": [
  {
   "cell_type": "code",
   "execution_count": 342,
   "id": "7a863646",
   "metadata": {},
   "outputs": [],
   "source": [
    "base_url = \"..\\\\experiment(Jupyter)_artifacts\\\\\"\n",
    "dataset_folder_path = \"built_dataset\"\n",
    "train_file_name = \"train.csv\"\n",
    "feature_engineering_artifacts_folder = \"Feature_Engineering\"\n",
    "TARGET_FEATURE = \"Time_taken\"\n",
    "useless_features = ['ID', 'Delivery_person_ID']\n",
    "MAX_UNIQUE_VALUES_FOR_DISCRETE_FEATURES = 25\n",
    "validation_file = \"validation.csv\""
   ]
  },
  {
   "cell_type": "markdown",
   "id": "13a2a206",
   "metadata": {},
   "source": [
    "# Loading libraries"
   ]
  },
  {
   "cell_type": "code",
   "execution_count": 2,
   "id": "779e1f8c",
   "metadata": {},
   "outputs": [],
   "source": [
    "import pandas as pd\n",
    "import numpy as np\n",
    "import seaborn as sns\n",
    "import matplotlib.pyplot as plt\n",
    "import os\n",
    "from typing import List\n",
    "from sklearn.impute import SimpleImputer\n",
    "from sklearn.preprocessing import LabelEncoder,OneHotEncoder, StandardScaler\n",
    "\n",
    "pd.pandas.set_option('display.max_columns',None)\n",
    "%matplotlib inline"
   ]
  },
  {
   "cell_type": "markdown",
   "id": "fffe562a",
   "metadata": {},
   "source": [
    "# Creating the paths and folders"
   ]
  },
  {
   "cell_type": "code",
   "execution_count": 3,
   "id": "f0eb6d29",
   "metadata": {},
   "outputs": [],
   "source": [
    "train_file_path = os.path.join(base_url,dataset_folder_path,train_file_name)"
   ]
  },
  {
   "cell_type": "code",
   "execution_count": 4,
   "id": "b561d1c9",
   "metadata": {},
   "outputs": [],
   "source": [
    "feature_engineering_folder = os.path.join(base_url,feature_engineering_artifacts_folder)"
   ]
  },
  {
   "cell_type": "code",
   "execution_count": 5,
   "id": "cfbb55c7",
   "metadata": {},
   "outputs": [],
   "source": [
    "os.makedirs(feature_engineering_folder, exist_ok=True)"
   ]
  },
  {
   "cell_type": "markdown",
   "id": "1a6597c8",
   "metadata": {},
   "source": [
    "# Loading the data"
   ]
  },
  {
   "cell_type": "code",
   "execution_count": 6,
   "id": "e2de011a",
   "metadata": {},
   "outputs": [],
   "source": [
    "train_df = pd.read_csv(train_file_path)"
   ]
  },
  {
   "cell_type": "code",
   "execution_count": 7,
   "id": "7ae5f528",
   "metadata": {},
   "outputs": [],
   "source": [
    "train_df.drop(useless_features,axis = 1, inplace= True)"
   ]
  },
  {
   "cell_type": "code",
   "execution_count": 8,
   "id": "8534f137",
   "metadata": {},
   "outputs": [
    {
     "data": {
      "text/html": [
       "<div>\n",
       "<style scoped>\n",
       "    .dataframe tbody tr th:only-of-type {\n",
       "        vertical-align: middle;\n",
       "    }\n",
       "\n",
       "    .dataframe tbody tr th {\n",
       "        vertical-align: top;\n",
       "    }\n",
       "\n",
       "    .dataframe thead th {\n",
       "        text-align: right;\n",
       "    }\n",
       "</style>\n",
       "<table border=\"1\" class=\"dataframe\">\n",
       "  <thead>\n",
       "    <tr style=\"text-align: right;\">\n",
       "      <th></th>\n",
       "      <th>Delivery_person_Age</th>\n",
       "      <th>Delivery_person_Ratings</th>\n",
       "      <th>Restaurant_latitude</th>\n",
       "      <th>Restaurant_longitude</th>\n",
       "      <th>Delivery_location_latitude</th>\n",
       "      <th>Delivery_location_longitude</th>\n",
       "      <th>Order_Date</th>\n",
       "      <th>Time_Orderd</th>\n",
       "      <th>Time_Order_picked</th>\n",
       "      <th>Weather</th>\n",
       "      <th>Road_traffic_density</th>\n",
       "      <th>Vehicle_condition</th>\n",
       "      <th>Type_of_order</th>\n",
       "      <th>Type_of_vehicle</th>\n",
       "      <th>multiple_deliveries</th>\n",
       "      <th>Festival</th>\n",
       "      <th>City</th>\n",
       "      <th>Time_taken</th>\n",
       "    </tr>\n",
       "  </thead>\n",
       "  <tbody>\n",
       "    <tr>\n",
       "      <th>0</th>\n",
       "      <td>32.0</td>\n",
       "      <td>4.6</td>\n",
       "      <td>12.310972</td>\n",
       "      <td>76.659264</td>\n",
       "      <td>12.330972</td>\n",
       "      <td>76.679264</td>\n",
       "      <td>15-03-2022</td>\n",
       "      <td>11:50</td>\n",
       "      <td>12:05</td>\n",
       "      <td>Cloudy</td>\n",
       "      <td>High</td>\n",
       "      <td>1</td>\n",
       "      <td>Buffet</td>\n",
       "      <td>scooter</td>\n",
       "      <td>1.0</td>\n",
       "      <td>No</td>\n",
       "      <td>Metropolitian</td>\n",
       "      <td>32.0</td>\n",
       "    </tr>\n",
       "    <tr>\n",
       "      <th>1</th>\n",
       "      <td>32.0</td>\n",
       "      <td>4.5</td>\n",
       "      <td>22.761226</td>\n",
       "      <td>75.887522</td>\n",
       "      <td>22.851226</td>\n",
       "      <td>75.977522</td>\n",
       "      <td>16-03-2022</td>\n",
       "      <td>19:40</td>\n",
       "      <td>19:45</td>\n",
       "      <td>Sandstorms</td>\n",
       "      <td>Jam</td>\n",
       "      <td>1</td>\n",
       "      <td>Buffet</td>\n",
       "      <td>motorcycle</td>\n",
       "      <td>0.0</td>\n",
       "      <td>No</td>\n",
       "      <td>Metropolitian</td>\n",
       "      <td>37.0</td>\n",
       "    </tr>\n",
       "    <tr>\n",
       "      <th>2</th>\n",
       "      <td>38.0</td>\n",
       "      <td>4.9</td>\n",
       "      <td>21.175104</td>\n",
       "      <td>72.804342</td>\n",
       "      <td>21.255104</td>\n",
       "      <td>72.884342</td>\n",
       "      <td>31-03-2022</td>\n",
       "      <td>23:20</td>\n",
       "      <td>23:25</td>\n",
       "      <td>Sandstorms</td>\n",
       "      <td>Low</td>\n",
       "      <td>2</td>\n",
       "      <td>Meal</td>\n",
       "      <td>motorcycle</td>\n",
       "      <td>1.0</td>\n",
       "      <td>No</td>\n",
       "      <td>Metropolitian</td>\n",
       "      <td>18.0</td>\n",
       "    </tr>\n",
       "    <tr>\n",
       "      <th>3</th>\n",
       "      <td>27.0</td>\n",
       "      <td>4.7</td>\n",
       "      <td>26.911927</td>\n",
       "      <td>75.797282</td>\n",
       "      <td>26.991927</td>\n",
       "      <td>75.877282</td>\n",
       "      <td>20-03-2022</td>\n",
       "      <td>20:60</td>\n",
       "      <td>21:15</td>\n",
       "      <td>Stormy</td>\n",
       "      <td>Jam</td>\n",
       "      <td>1</td>\n",
       "      <td>Snack</td>\n",
       "      <td>motorcycle</td>\n",
       "      <td>1.0</td>\n",
       "      <td>No</td>\n",
       "      <td>Metropolitian</td>\n",
       "      <td>29.0</td>\n",
       "    </tr>\n",
       "    <tr>\n",
       "      <th>4</th>\n",
       "      <td>28.0</td>\n",
       "      <td>4.8</td>\n",
       "      <td>12.299524</td>\n",
       "      <td>76.642620</td>\n",
       "      <td>12.349524</td>\n",
       "      <td>76.692620</td>\n",
       "      <td>30-03-2022</td>\n",
       "      <td>21:50</td>\n",
       "      <td>22:05</td>\n",
       "      <td>Sandstorms</td>\n",
       "      <td>Jam</td>\n",
       "      <td>2</td>\n",
       "      <td>Drinks</td>\n",
       "      <td>electric_scooter</td>\n",
       "      <td>1.0</td>\n",
       "      <td>No</td>\n",
       "      <td>Metropolitian</td>\n",
       "      <td>14.0</td>\n",
       "    </tr>\n",
       "  </tbody>\n",
       "</table>\n",
       "</div>"
      ],
      "text/plain": [
       "   Delivery_person_Age  Delivery_person_Ratings  Restaurant_latitude  \\\n",
       "0                 32.0                      4.6            12.310972   \n",
       "1                 32.0                      4.5            22.761226   \n",
       "2                 38.0                      4.9            21.175104   \n",
       "3                 27.0                      4.7            26.911927   \n",
       "4                 28.0                      4.8            12.299524   \n",
       "\n",
       "   Restaurant_longitude  Delivery_location_latitude  \\\n",
       "0             76.659264                   12.330972   \n",
       "1             75.887522                   22.851226   \n",
       "2             72.804342                   21.255104   \n",
       "3             75.797282                   26.991927   \n",
       "4             76.642620                   12.349524   \n",
       "\n",
       "   Delivery_location_longitude  Order_Date Time_Orderd Time_Order_picked  \\\n",
       "0                    76.679264  15-03-2022       11:50             12:05   \n",
       "1                    75.977522  16-03-2022       19:40             19:45   \n",
       "2                    72.884342  31-03-2022       23:20             23:25   \n",
       "3                    75.877282  20-03-2022       20:60             21:15   \n",
       "4                    76.692620  30-03-2022       21:50             22:05   \n",
       "\n",
       "      Weather Road_traffic_density  Vehicle_condition Type_of_order  \\\n",
       "0      Cloudy                 High                  1        Buffet   \n",
       "1  Sandstorms                  Jam                  1        Buffet   \n",
       "2  Sandstorms                  Low                  2          Meal   \n",
       "3      Stormy                  Jam                  1         Snack   \n",
       "4  Sandstorms                  Jam                  2        Drinks   \n",
       "\n",
       "    Type_of_vehicle  multiple_deliveries Festival           City  Time_taken  \n",
       "0           scooter                  1.0       No  Metropolitian        32.0  \n",
       "1        motorcycle                  0.0       No  Metropolitian        37.0  \n",
       "2        motorcycle                  1.0       No  Metropolitian        18.0  \n",
       "3        motorcycle                  1.0       No  Metropolitian        29.0  \n",
       "4  electric_scooter                  1.0       No  Metropolitian        14.0  "
      ]
     },
     "execution_count": 8,
     "metadata": {},
     "output_type": "execute_result"
    }
   ],
   "source": [
    "train_df.head()"
   ]
  },
  {
   "cell_type": "code",
   "execution_count": 9,
   "id": "fad9ff8f",
   "metadata": {},
   "outputs": [],
   "source": [
    "X_train, y_train = train_df.drop(TARGET_FEATURE, axis = 1), train_df[TARGET_FEATURE]"
   ]
  },
  {
   "cell_type": "code",
   "execution_count": null,
   "id": "8507f121",
   "metadata": {},
   "outputs": [],
   "source": []
  },
  {
   "cell_type": "markdown",
   "id": "cd41f1bd",
   "metadata": {},
   "source": [
    "# Agenda\n",
    "\n",
    "## Feature Engineering:\n",
    "\n",
    "1. Handle Missing Values\n",
    "\n",
    "2. Handle Temporal Variables\n",
    "\n",
    "3. Handle Categorical Variables\n",
    "\n",
    "4. Transformations\n",
    "\n",
    "5. Standardizations\n",
    "\n",
    "\n",
    "## Feature Generation\n",
    "\n",
    "1. Genrating Distance from Latitude and Longitude\n",
    "\n",
    "## Feature Selection:\n",
    "\n",
    "1. Using Variance Threshold to see which feature has minimal variance\n",
    "\n",
    "2. Correlation Analysis\n",
    "\n",
    "3. Mutual Information Analysis\n",
    "\n",
    "4. Chi Square Analysis\n",
    "\n",
    "5. Model Bases Methods (Random Forest)\n",
    "\n",
    "## Pipeline:\n",
    "\n",
    "1. Building Final Pre-Processing Pipeline"
   ]
  },
  {
   "cell_type": "code",
   "execution_count": 10,
   "id": "a84d6b09",
   "metadata": {},
   "outputs": [],
   "source": [
    "numerical_features =[feature for feature in X_train.columns if X_train[feature].dtypes !='object']"
   ]
  },
  {
   "cell_type": "code",
   "execution_count": 11,
   "id": "5137e711",
   "metadata": {},
   "outputs": [],
   "source": [
    "categorical_features = list(set(X_train.columns) - set(numerical_features))"
   ]
  },
  {
   "cell_type": "code",
   "execution_count": 12,
   "id": "16a874f7",
   "metadata": {},
   "outputs": [],
   "source": [
    "missing_values_features = [feature for feature in X_train.columns if X_train[feature].isnull().sum()>=1]"
   ]
  },
  {
   "cell_type": "code",
   "execution_count": 13,
   "id": "8d6f81e9",
   "metadata": {},
   "outputs": [
    {
     "name": "stdout",
     "output_type": "stream",
     "text": [
      " Feature Delivery_person_Age has 4.1235 % missing values\n",
      " Feature Delivery_person_Ratings has 4.2386 % missing values\n",
      " Feature Time_Orderd has 3.863 % missing values\n",
      " Feature Weather has 1.3489 % missing values\n",
      " Feature Road_traffic_density has 1.3215 % missing values\n",
      " Feature multiple_deliveries has 2.1714 % missing values\n",
      " Feature Festival has 0.5127 % missing values\n",
      " Feature City has 2.6265 % missing values\n"
     ]
    }
   ],
   "source": [
    "for feature in missing_values_features:\n",
    "    print(f\" Feature {feature} has {np.round((X_train[feature].isnull().mean())*100,4)} % missing values\")"
   ]
  },
  {
   "cell_type": "markdown",
   "id": "4d84f4ae",
   "metadata": {},
   "source": [
    "# Handling Missing Categorical Features\n",
    "\n",
    "Two approaches possible: \n",
    "\n",
    "1. Wherever there are missing values, add a new label altogether, for example, we can add something like 'Missing'\n",
    "\n",
    "2. Do Mode imputation\n",
    "\n"
   ]
  },
  {
   "cell_type": "code",
   "execution_count": 14,
   "id": "27e88db1",
   "metadata": {},
   "outputs": [],
   "source": [
    "def fix_categorical_features(dataset:pd.DataFrame, categorical_features:List[str]):\n",
    "    #print(categorical_features)\n",
    "    for feature in categorical_features:\n",
    "        dataset[feature] = dataset[feature].fillna('missing')\n",
    "    return dataset"
   ]
  },
  {
   "cell_type": "code",
   "execution_count": null,
   "id": "c120e72c",
   "metadata": {},
   "outputs": [],
   "source": []
  },
  {
   "cell_type": "code",
   "execution_count": null,
   "id": "3dd56cd2",
   "metadata": {},
   "outputs": [],
   "source": []
  },
  {
   "cell_type": "code",
   "execution_count": 15,
   "id": "1fe867d0",
   "metadata": {},
   "outputs": [
    {
     "data": {
      "text/plain": [
       "['Type_of_order',\n",
       " 'Festival',\n",
       " 'Time_Orderd',\n",
       " 'Time_Order_picked',\n",
       " 'Weather',\n",
       " 'Road_traffic_density',\n",
       " 'City',\n",
       " 'Type_of_vehicle',\n",
       " 'Order_Date']"
      ]
     },
     "execution_count": 15,
     "metadata": {},
     "output_type": "execute_result"
    }
   ],
   "source": [
    "categorical_features"
   ]
  },
  {
   "cell_type": "code",
   "execution_count": 16,
   "id": "fd8e878f",
   "metadata": {},
   "outputs": [],
   "source": [
    "missing_categorical_features = [feature for feature in categorical_features if feature in set(missing_values_features)]"
   ]
  },
  {
   "cell_type": "code",
   "execution_count": 17,
   "id": "d7e21a15",
   "metadata": {},
   "outputs": [
    {
     "data": {
      "text/plain": [
       "['Festival', 'Time_Orderd', 'Weather', 'Road_traffic_density', 'City']"
      ]
     },
     "execution_count": 17,
     "metadata": {},
     "output_type": "execute_result"
    }
   ],
   "source": [
    "missing_categorical_features"
   ]
  },
  {
   "cell_type": "code",
   "execution_count": 18,
   "id": "7eb8d666",
   "metadata": {},
   "outputs": [],
   "source": [
    "data = X_train.copy()"
   ]
  },
  {
   "cell_type": "code",
   "execution_count": 19,
   "id": "30b354bc",
   "metadata": {},
   "outputs": [],
   "source": [
    "data = fix_categorical_features(data, missing_categorical_features)"
   ]
  },
  {
   "cell_type": "code",
   "execution_count": 20,
   "id": "257fbf10",
   "metadata": {},
   "outputs": [
    {
     "data": {
      "text/plain": [
       "array(['No', 'Yes', 'missing'], dtype=object)"
      ]
     },
     "execution_count": 20,
     "metadata": {},
     "output_type": "execute_result"
    }
   ],
   "source": [
    "data[missing_categorical_features[0]].unique()"
   ]
  },
  {
   "cell_type": "markdown",
   "id": "a84293b8",
   "metadata": {},
   "source": [
    "# Mode imputation, will use only if it doesn't distort the distribution"
   ]
  },
  {
   "cell_type": "code",
   "execution_count": 21,
   "id": "ff72c758",
   "metadata": {},
   "outputs": [
    {
     "data": {
      "text/plain": [
       "['Festival', 'Time_Orderd', 'Weather', 'Road_traffic_density', 'City']"
      ]
     },
     "execution_count": 21,
     "metadata": {},
     "output_type": "execute_result"
    }
   ],
   "source": [
    "missing_categorical_features"
   ]
  },
  {
   "cell_type": "code",
   "execution_count": 22,
   "id": "a09fd1ec",
   "metadata": {},
   "outputs": [
    {
     "data": {
      "image/png": "[encoded data removed]",
      "text/plain": [
       "<Figure size 432x288 with 1 Axes>"
      ]
     },
     "metadata": {
      "needs_background": "light"
     },
     "output_type": "display_data"
    },
    {
     "data": {
      "image/png": "[encoded data removed]",
      "text/plain": [
       "<Figure size 432x288 with 1 Axes>"
      ]
     },
     "metadata": {
      "needs_background": "light"
     },
     "output_type": "display_data"
    },
    {
     "data": {
      "image/png": "[encoded data removed]",
      "text/plain": [
       "<Figure size 432x288 with 1 Axes>"
      ]
     },
     "metadata": {
      "needs_background": "light"
     },
     "output_type": "display_data"
    },
    {
     "data": {
      "image/png": "[encoded data removed]",
      "text/plain": [
       "<Figure size 432x288 with 1 Axes>"
      ]
     },
     "metadata": {
      "needs_background": "light"
     },
     "output_type": "display_data"
    },
    {
     "data": {
      "image/png": "[encoded data removed]",
      "text/plain": [
       "<Figure size 432x288 with 1 Axes>"
      ]
     },
     "metadata": {
      "needs_background": "light"
     },
     "output_type": "display_data"
    }
   ],
   "source": [
    "data = train_df.copy()\n",
    "for feature in missing_categorical_features:\n",
    "    data.groupby(feature)[TARGET_FEATURE].median().plot.bar()\n",
    "    plt.grid()\n",
    "    plt.show()"
   ]
  },
  {
   "cell_type": "markdown",
   "id": "a969e8e6",
   "metadata": {},
   "source": [
    "### After impuatation"
   ]
  },
  {
   "cell_type": "code",
   "execution_count": 23,
   "id": "beb2f56e",
   "metadata": {},
   "outputs": [],
   "source": [
    "data = train_df.copy()"
   ]
  },
  {
   "cell_type": "code",
   "execution_count": 24,
   "id": "c6cd0051",
   "metadata": {},
   "outputs": [],
   "source": [
    "data = data[missing_categorical_features]"
   ]
  },
  {
   "cell_type": "code",
   "execution_count": 25,
   "id": "a2183a54",
   "metadata": {},
   "outputs": [],
   "source": [
    "imputer = SimpleImputer(strategy='most_frequent')"
   ]
  },
  {
   "cell_type": "code",
   "execution_count": 26,
   "id": "93ed983f",
   "metadata": {},
   "outputs": [
    {
     "data": {
      "text/html": [
       "<style>#sk-container-id-1 {color: black;background-color: white;}#sk-container-id-1 pre{padding: 0;}#sk-container-id-1 div.sk-toggleable {background-color: white;}#sk-container-id-1 label.sk-toggleable__label {cursor: pointer;display: block;width: 100%;margin-bottom: 0;padding: 0.3em;box-sizing: border-box;text-align: center;}#sk-container-id-1 label.sk-toggleable__label-arrow:before {content: \"▸\";float: left;margin-right: 0.25em;color: #696969;}#sk-container-id-1 label.sk-toggleable__label-arrow:hover:before {color: black;}#sk-container-id-1 div.sk-estimator:hover label.sk-toggleable__label-arrow:before {color: black;}#sk-container-id-1 div.sk-toggleable__content {max-height: 0;max-width: 0;overflow: hidden;text-align: left;background-color: #f0f8ff;}#sk-container-id-1 div.sk-toggleable__content pre {margin: 0.2em;color: black;border-radius: 0.25em;background-color: #f0f8ff;}#sk-container-id-1 input.sk-toggleable__control:checked~div.sk-toggleable__content {max-height: 200px;max-width: 100%;overflow: auto;}#sk-container-id-1 input.sk-toggleable__control:checked~label.sk-toggleable__label-arrow:before {content: \"▾\";}#sk-container-id-1 div.sk-estimator input.sk-toggleable__control:checked~label.sk-toggleable__label {background-color: #d4ebff;}#sk-container-id-1 div.sk-label input.sk-toggleable__control:checked~label.sk-toggleable__label {background-color: #d4ebff;}#sk-container-id-1 input.sk-hidden--visually {border: 0;clip: rect(1px 1px 1px 1px);clip: rect(1px, 1px, 1px, 1px);height: 1px;margin: -1px;overflow: hidden;padding: 0;position: absolute;width: 1px;}#sk-container-id-1 div.sk-estimator {font-family: monospace;background-color: #f0f8ff;border: 1px dotted black;border-radius: 0.25em;box-sizing: border-box;margin-bottom: 0.5em;}#sk-container-id-1 div.sk-estimator:hover {background-color: #d4ebff;}#sk-container-id-1 div.sk-parallel-item::after {content: \"\";width: 100%;border-bottom: 1px solid gray;flex-grow: 1;}#sk-container-id-1 div.sk-label:hover label.sk-toggleable__label {background-color: #d4ebff;}#sk-container-id-1 div.sk-serial::before {content: \"\";position: absolute;border-left: 1px solid gray;box-sizing: border-box;top: 0;bottom: 0;left: 50%;z-index: 0;}#sk-container-id-1 div.sk-serial {display: flex;flex-direction: column;align-items: center;background-color: white;padding-right: 0.2em;padding-left: 0.2em;position: relative;}#sk-container-id-1 div.sk-item {position: relative;z-index: 1;}#sk-container-id-1 div.sk-parallel {display: flex;align-items: stretch;justify-content: center;background-color: white;position: relative;}#sk-container-id-1 div.sk-item::before, #sk-container-id-1 div.sk-parallel-item::before {content: \"\";position: absolute;border-left: 1px solid gray;box-sizing: border-box;top: 0;bottom: 0;left: 50%;z-index: -1;}#sk-container-id-1 div.sk-parallel-item {display: flex;flex-direction: column;z-index: 1;position: relative;background-color: white;}#sk-container-id-1 div.sk-parallel-item:first-child::after {align-self: flex-end;width: 50%;}#sk-container-id-1 div.sk-parallel-item:last-child::after {align-self: flex-start;width: 50%;}#sk-container-id-1 div.sk-parallel-item:only-child::after {width: 0;}#sk-container-id-1 div.sk-dashed-wrapped {border: 1px dashed gray;margin: 0 0.4em 0.5em 0.4em;box-sizing: border-box;padding-bottom: 0.4em;background-color: white;}#sk-container-id-1 div.sk-label label {font-family: monospace;font-weight: bold;display: inline-block;line-height: 1.2em;}#sk-container-id-1 div.sk-label-container {text-align: center;}#sk-container-id-1 div.sk-container {/* jupyter's `normalize.less` sets `[hidden] { display: none; }` but bootstrap.min.css set `[hidden] { display: none !important; }` so we also need the `!important` here to be able to override the default hidden behavior on the sphinx rendered scikit-learn.org. See: https://github.com/scikit-learn/scikit-learn/issues/21755 */display: inline-block !important;position: relative;}#sk-container-id-1 div.sk-text-repr-fallback {display: none;}</style><div id=\"sk-container-id-1\" class=\"sk-top-container\"><div class=\"sk-text-repr-fallback\"><pre>SimpleImputer(strategy=&#x27;most_frequent&#x27;)</pre><b>In a Jupyter environment, please rerun this cell to show the HTML representation or trust the notebook. <br />On GitHub, the HTML representation is unable to render, please try loading this page with nbviewer.org.</b></div><div class=\"sk-container\" hidden><div class=\"sk-item\"><div class=\"sk-estimator sk-toggleable\"><input class=\"sk-toggleable__control sk-hidden--visually\" id=\"sk-estimator-id-1\" type=\"checkbox\" checked><label for=\"sk-estimator-id-1\" class=\"sk-toggleable__label sk-toggleable__label-arrow\">SimpleImputer</label><div class=\"sk-toggleable__content\"><pre>SimpleImputer(strategy=&#x27;most_frequent&#x27;)</pre></div></div></div></div></div>"
      ],
      "text/plain": [
       "SimpleImputer(strategy='most_frequent')"
      ]
     },
     "execution_count": 26,
     "metadata": {},
     "output_type": "execute_result"
    }
   ],
   "source": [
    "imputer.fit(data)"
   ]
  },
  {
   "cell_type": "code",
   "execution_count": 27,
   "id": "fad2a50d",
   "metadata": {},
   "outputs": [],
   "source": [
    "transformed_data = imputer.transform(data)"
   ]
  },
  {
   "cell_type": "code",
   "execution_count": 28,
   "id": "de49591f",
   "metadata": {},
   "outputs": [],
   "source": [
    "data = pd.DataFrame(transformed_data, columns=data.columns)"
   ]
  },
  {
   "cell_type": "code",
   "execution_count": 29,
   "id": "7f1a0b87",
   "metadata": {},
   "outputs": [],
   "source": [
    "data = pd.concat([data,train_df[TARGET_FEATURE]], axis = 1)"
   ]
  },
  {
   "cell_type": "code",
   "execution_count": 30,
   "id": "bbc46cde",
   "metadata": {},
   "outputs": [
    {
     "data": {
      "image/png": "[encoded data removed]",
      "text/plain": [
       "<Figure size 720x360 with 2 Axes>"
      ]
     },
     "metadata": {
      "needs_background": "light"
     },
     "output_type": "display_data"
    },
    {
     "data": {
      "image/png": "[encoded data removed]",
      "text/plain": [
       "<Figure size 720x360 with 2 Axes>"
      ]
     },
     "metadata": {
      "needs_background": "light"
     },
     "output_type": "display_data"
    },
    {
     "data": {
      "image/png": "[encoded data removed]",
      "text/plain": [
       "<Figure size 720x360 with 2 Axes>"
      ]
     },
     "metadata": {
      "needs_background": "light"
     },
     "output_type": "display_data"
    },
    {
     "data": {
      "image/png": "[encoded data removed]",
      "text/plain": [
       "<Figure size 720x360 with 2 Axes>"
      ]
     },
     "metadata": {
      "needs_background": "light"
     },
     "output_type": "display_data"
    },
    {
     "data": {
      "image/png": "[encoded data removed]",
      "text/plain": [
       "<Figure size 720x360 with 2 Axes>"
      ]
     },
     "metadata": {
      "needs_background": "light"
     },
     "output_type": "display_data"
    },
    {
     "data": {
      "image/png": "[encoded data removed]",
      "text/plain": [
       "<Figure size 720x360 with 2 Axes>"
      ]
     },
     "metadata": {
      "needs_background": "light"
     },
     "output_type": "display_data"
    }
   ],
   "source": [
    "for feature in data.columns:\n",
    "    plt.figure(figsize=(10,5))\n",
    "    \n",
    "    plt.subplot(1,2,1)\n",
    "    plt.title(f\"{feature} --------> Before Imputation\")\n",
    "    train_df.groupby(feature)[TARGET_FEATURE].median().plot.bar()\n",
    "    plt.grid()\n",
    "    \n",
    "    \n",
    "    plt.subplot(1,2,2)\n",
    "    plt.title(f\"{feature} --------> After Imputation\")\n",
    "    data.groupby(feature)[TARGET_FEATURE].median().plot.bar()\n",
    "    plt.grid()\n",
    "    \n",
    "    plt.show()\n",
    "    \n",
    "    \n",
    "    "
   ]
  },
  {
   "cell_type": "markdown",
   "id": "9428a3ce",
   "metadata": {},
   "source": [
    "### Distribution looks nearly same, can go with this approach as well"
   ]
  },
  {
   "cell_type": "markdown",
   "id": "e1c2eea2",
   "metadata": {},
   "source": [
    "# Final Preprocess Pipleine 1:\n",
    "\n",
    "1. Can simply use Mode Imputation as Distribution is not changing"
   ]
  },
  {
   "cell_type": "markdown",
   "id": "afb3e712",
   "metadata": {},
   "source": [
    "## Handling Numerical missing values"
   ]
  },
  {
   "cell_type": "code",
   "execution_count": 31,
   "id": "3ab70770",
   "metadata": {},
   "outputs": [],
   "source": [
    "missing_numerical_features = [feature for feature in numerical_features if feature in set(missing_values_features)]"
   ]
  },
  {
   "cell_type": "code",
   "execution_count": 32,
   "id": "145dbd82",
   "metadata": {},
   "outputs": [
    {
     "data": {
      "text/plain": [
       "['Delivery_person_Age', 'Delivery_person_Ratings', 'multiple_deliveries']"
      ]
     },
     "execution_count": 32,
     "metadata": {},
     "output_type": "execute_result"
    }
   ],
   "source": [
    "missing_numerical_features"
   ]
  },
  {
   "cell_type": "code",
   "execution_count": 33,
   "id": "86fcbd68",
   "metadata": {},
   "outputs": [
    {
     "data": {
      "image/png": "[encoded data removed]",
      "text/plain": [
       "<Figure size 432x288 with 1 Axes>"
      ]
     },
     "metadata": {
      "needs_background": "light"
     },
     "output_type": "display_data"
    }
   ],
   "source": [
    "plt.boxplot(y_train)\n",
    "plt.show()"
   ]
  },
  {
   "cell_type": "markdown",
   "id": "75842acb",
   "metadata": {},
   "source": [
    "#### Outliers in Target Feature, so will need to use median over mean"
   ]
  },
  {
   "cell_type": "markdown",
   "id": "cebbc8ad",
   "metadata": {},
   "source": [
    "#### Technique to handle\n",
    "\n",
    "Can do Median Imputation. But this ends up distorting the distribution of feature. To remedy this, we can add another feature which tracks if a particular value was missing or not. This has a pitfall that it increases the dimensionality. Considering we have limited features, let's pursue this.\n",
    "\n",
    "Can go with simple median imputation as well"
   ]
  },
  {
   "cell_type": "code",
   "execution_count": 34,
   "id": "82a19916",
   "metadata": {},
   "outputs": [],
   "source": [
    "def fix_numerical_features(dataset:pd.DataFrame, numerical_features:List[str]):\n",
    "    \n",
    "    for feature in numerical_features:\n",
    "        \n",
    "        ## getting median value\n",
    "        median_value = dataset[feature].median()\n",
    "        \n",
    "        ## creating new feature to capture nan\n",
    "        dataset[feature+'_nan'] = np.where(dataset[feature].isnull(),1,0)\n",
    "        \n",
    "        ## filling with median\n",
    "        dataset[feature].fillna(median_value,inplace=True)\n",
    "    \n",
    "        \n",
    "    return dataset"
   ]
  },
  {
   "cell_type": "code",
   "execution_count": 35,
   "id": "2850bf55",
   "metadata": {},
   "outputs": [],
   "source": [
    "data = X_train.copy()"
   ]
  },
  {
   "cell_type": "code",
   "execution_count": 36,
   "id": "3d2ee83e",
   "metadata": {},
   "outputs": [
    {
     "data": {
      "text/html": [
       "<div>\n",
       "<style scoped>\n",
       "    .dataframe tbody tr th:only-of-type {\n",
       "        vertical-align: middle;\n",
       "    }\n",
       "\n",
       "    .dataframe tbody tr th {\n",
       "        vertical-align: top;\n",
       "    }\n",
       "\n",
       "    .dataframe thead th {\n",
       "        text-align: right;\n",
       "    }\n",
       "</style>\n",
       "<table border=\"1\" class=\"dataframe\">\n",
       "  <thead>\n",
       "    <tr style=\"text-align: right;\">\n",
       "      <th></th>\n",
       "      <th>Delivery_person_Age</th>\n",
       "      <th>Delivery_person_Ratings</th>\n",
       "      <th>Restaurant_latitude</th>\n",
       "      <th>Restaurant_longitude</th>\n",
       "      <th>Delivery_location_latitude</th>\n",
       "      <th>Delivery_location_longitude</th>\n",
       "      <th>Order_Date</th>\n",
       "      <th>Time_Orderd</th>\n",
       "      <th>Time_Order_picked</th>\n",
       "      <th>Weather</th>\n",
       "      <th>Road_traffic_density</th>\n",
       "      <th>Vehicle_condition</th>\n",
       "      <th>Type_of_order</th>\n",
       "      <th>Type_of_vehicle</th>\n",
       "      <th>multiple_deliveries</th>\n",
       "      <th>Festival</th>\n",
       "      <th>City</th>\n",
       "      <th>Delivery_person_Age_nan</th>\n",
       "      <th>Delivery_person_Ratings_nan</th>\n",
       "      <th>multiple_deliveries_nan</th>\n",
       "    </tr>\n",
       "  </thead>\n",
       "  <tbody>\n",
       "    <tr>\n",
       "      <th>0</th>\n",
       "      <td>32.0</td>\n",
       "      <td>4.6</td>\n",
       "      <td>12.310972</td>\n",
       "      <td>76.659264</td>\n",
       "      <td>12.330972</td>\n",
       "      <td>76.679264</td>\n",
       "      <td>15-03-2022</td>\n",
       "      <td>11:50</td>\n",
       "      <td>12:05</td>\n",
       "      <td>Cloudy</td>\n",
       "      <td>High</td>\n",
       "      <td>1</td>\n",
       "      <td>Buffet</td>\n",
       "      <td>scooter</td>\n",
       "      <td>1.0</td>\n",
       "      <td>No</td>\n",
       "      <td>Metropolitian</td>\n",
       "      <td>0</td>\n",
       "      <td>0</td>\n",
       "      <td>0</td>\n",
       "    </tr>\n",
       "    <tr>\n",
       "      <th>1</th>\n",
       "      <td>32.0</td>\n",
       "      <td>4.5</td>\n",
       "      <td>22.761226</td>\n",
       "      <td>75.887522</td>\n",
       "      <td>22.851226</td>\n",
       "      <td>75.977522</td>\n",
       "      <td>16-03-2022</td>\n",
       "      <td>19:40</td>\n",
       "      <td>19:45</td>\n",
       "      <td>Sandstorms</td>\n",
       "      <td>Jam</td>\n",
       "      <td>1</td>\n",
       "      <td>Buffet</td>\n",
       "      <td>motorcycle</td>\n",
       "      <td>0.0</td>\n",
       "      <td>No</td>\n",
       "      <td>Metropolitian</td>\n",
       "      <td>0</td>\n",
       "      <td>0</td>\n",
       "      <td>0</td>\n",
       "    </tr>\n",
       "    <tr>\n",
       "      <th>2</th>\n",
       "      <td>38.0</td>\n",
       "      <td>4.9</td>\n",
       "      <td>21.175104</td>\n",
       "      <td>72.804342</td>\n",
       "      <td>21.255104</td>\n",
       "      <td>72.884342</td>\n",
       "      <td>31-03-2022</td>\n",
       "      <td>23:20</td>\n",
       "      <td>23:25</td>\n",
       "      <td>Sandstorms</td>\n",
       "      <td>Low</td>\n",
       "      <td>2</td>\n",
       "      <td>Meal</td>\n",
       "      <td>motorcycle</td>\n",
       "      <td>1.0</td>\n",
       "      <td>No</td>\n",
       "      <td>Metropolitian</td>\n",
       "      <td>0</td>\n",
       "      <td>0</td>\n",
       "      <td>0</td>\n",
       "    </tr>\n",
       "    <tr>\n",
       "      <th>3</th>\n",
       "      <td>27.0</td>\n",
       "      <td>4.7</td>\n",
       "      <td>26.911927</td>\n",
       "      <td>75.797282</td>\n",
       "      <td>26.991927</td>\n",
       "      <td>75.877282</td>\n",
       "      <td>20-03-2022</td>\n",
       "      <td>20:60</td>\n",
       "      <td>21:15</td>\n",
       "      <td>Stormy</td>\n",
       "      <td>Jam</td>\n",
       "      <td>1</td>\n",
       "      <td>Snack</td>\n",
       "      <td>motorcycle</td>\n",
       "      <td>1.0</td>\n",
       "      <td>No</td>\n",
       "      <td>Metropolitian</td>\n",
       "      <td>0</td>\n",
       "      <td>0</td>\n",
       "      <td>0</td>\n",
       "    </tr>\n",
       "    <tr>\n",
       "      <th>4</th>\n",
       "      <td>28.0</td>\n",
       "      <td>4.8</td>\n",
       "      <td>12.299524</td>\n",
       "      <td>76.642620</td>\n",
       "      <td>12.349524</td>\n",
       "      <td>76.692620</td>\n",
       "      <td>30-03-2022</td>\n",
       "      <td>21:50</td>\n",
       "      <td>22:05</td>\n",
       "      <td>Sandstorms</td>\n",
       "      <td>Jam</td>\n",
       "      <td>2</td>\n",
       "      <td>Drinks</td>\n",
       "      <td>electric_scooter</td>\n",
       "      <td>1.0</td>\n",
       "      <td>No</td>\n",
       "      <td>Metropolitian</td>\n",
       "      <td>0</td>\n",
       "      <td>0</td>\n",
       "      <td>0</td>\n",
       "    </tr>\n",
       "    <tr>\n",
       "      <th>...</th>\n",
       "      <td>...</td>\n",
       "      <td>...</td>\n",
       "      <td>...</td>\n",
       "      <td>...</td>\n",
       "      <td>...</td>\n",
       "      <td>...</td>\n",
       "      <td>...</td>\n",
       "      <td>...</td>\n",
       "      <td>...</td>\n",
       "      <td>...</td>\n",
       "      <td>...</td>\n",
       "      <td>...</td>\n",
       "      <td>...</td>\n",
       "      <td>...</td>\n",
       "      <td>...</td>\n",
       "      <td>...</td>\n",
       "      <td>...</td>\n",
       "      <td>...</td>\n",
       "      <td>...</td>\n",
       "      <td>...</td>\n",
       "    </tr>\n",
       "    <tr>\n",
       "      <th>36469</th>\n",
       "      <td>24.0</td>\n",
       "      <td>5.0</td>\n",
       "      <td>12.972161</td>\n",
       "      <td>77.596014</td>\n",
       "      <td>13.032161</td>\n",
       "      <td>77.656014</td>\n",
       "      <td>09-03-2022</td>\n",
       "      <td>23:30</td>\n",
       "      <td>23:45</td>\n",
       "      <td>Sunny</td>\n",
       "      <td>Low</td>\n",
       "      <td>2</td>\n",
       "      <td>Drinks</td>\n",
       "      <td>electric_scooter</td>\n",
       "      <td>0.0</td>\n",
       "      <td>No</td>\n",
       "      <td>Metropolitian</td>\n",
       "      <td>0</td>\n",
       "      <td>0</td>\n",
       "      <td>0</td>\n",
       "    </tr>\n",
       "    <tr>\n",
       "      <th>36470</th>\n",
       "      <td>29.0</td>\n",
       "      <td>3.6</td>\n",
       "      <td>12.310972</td>\n",
       "      <td>76.659264</td>\n",
       "      <td>12.320972</td>\n",
       "      <td>76.669264</td>\n",
       "      <td>24-03-2022</td>\n",
       "      <td>11:30</td>\n",
       "      <td>11:45</td>\n",
       "      <td>Sunny</td>\n",
       "      <td>High</td>\n",
       "      <td>0</td>\n",
       "      <td>Buffet</td>\n",
       "      <td>motorcycle</td>\n",
       "      <td>3.0</td>\n",
       "      <td>No</td>\n",
       "      <td>Metropolitian</td>\n",
       "      <td>0</td>\n",
       "      <td>0</td>\n",
       "      <td>0</td>\n",
       "    </tr>\n",
       "    <tr>\n",
       "      <th>36471</th>\n",
       "      <td>31.0</td>\n",
       "      <td>4.7</td>\n",
       "      <td>12.970221</td>\n",
       "      <td>77.645396</td>\n",
       "      <td>12.980221</td>\n",
       "      <td>77.655396</td>\n",
       "      <td>13-03-2022</td>\n",
       "      <td>8:15</td>\n",
       "      <td>8:25</td>\n",
       "      <td>Sunny</td>\n",
       "      <td>Low</td>\n",
       "      <td>2</td>\n",
       "      <td>Drinks</td>\n",
       "      <td>scooter</td>\n",
       "      <td>0.0</td>\n",
       "      <td>No</td>\n",
       "      <td>NaN</td>\n",
       "      <td>0</td>\n",
       "      <td>0</td>\n",
       "      <td>0</td>\n",
       "    </tr>\n",
       "    <tr>\n",
       "      <th>36472</th>\n",
       "      <td>38.0</td>\n",
       "      <td>4.2</td>\n",
       "      <td>21.175975</td>\n",
       "      <td>72.795503</td>\n",
       "      <td>21.305975</td>\n",
       "      <td>72.925503</td>\n",
       "      <td>08-03-2022</td>\n",
       "      <td>18:15</td>\n",
       "      <td>18:30</td>\n",
       "      <td>Cloudy</td>\n",
       "      <td>Medium</td>\n",
       "      <td>2</td>\n",
       "      <td>Meal</td>\n",
       "      <td>scooter</td>\n",
       "      <td>1.0</td>\n",
       "      <td>No</td>\n",
       "      <td>Metropolitian</td>\n",
       "      <td>0</td>\n",
       "      <td>0</td>\n",
       "      <td>0</td>\n",
       "    </tr>\n",
       "    <tr>\n",
       "      <th>36473</th>\n",
       "      <td>25.0</td>\n",
       "      <td>4.9</td>\n",
       "      <td>13.027018</td>\n",
       "      <td>80.254791</td>\n",
       "      <td>13.137018</td>\n",
       "      <td>80.364791</td>\n",
       "      <td>25-03-2022</td>\n",
       "      <td>20:35</td>\n",
       "      <td>20:45</td>\n",
       "      <td>Stormy</td>\n",
       "      <td>Jam</td>\n",
       "      <td>0</td>\n",
       "      <td>Meal</td>\n",
       "      <td>motorcycle</td>\n",
       "      <td>1.0</td>\n",
       "      <td>No</td>\n",
       "      <td>Metropolitian</td>\n",
       "      <td>0</td>\n",
       "      <td>0</td>\n",
       "      <td>0</td>\n",
       "    </tr>\n",
       "  </tbody>\n",
       "</table>\n",
       "<p>36474 rows × 20 columns</p>\n",
       "</div>"
      ],
      "text/plain": [
       "       Delivery_person_Age  Delivery_person_Ratings  Restaurant_latitude  \\\n",
       "0                     32.0                      4.6            12.310972   \n",
       "1                     32.0                      4.5            22.761226   \n",
       "2                     38.0                      4.9            21.175104   \n",
       "3                     27.0                      4.7            26.911927   \n",
       "4                     28.0                      4.8            12.299524   \n",
       "...                    ...                      ...                  ...   \n",
       "36469                 24.0                      5.0            12.972161   \n",
       "36470                 29.0                      3.6            12.310972   \n",
       "36471                 31.0                      4.7            12.970221   \n",
       "36472                 38.0                      4.2            21.175975   \n",
       "36473                 25.0                      4.9            13.027018   \n",
       "\n",
       "       Restaurant_longitude  Delivery_location_latitude  \\\n",
       "0                 76.659264                   12.330972   \n",
       "1                 75.887522                   22.851226   \n",
       "2                 72.804342                   21.255104   \n",
       "3                 75.797282                   26.991927   \n",
       "4                 76.642620                   12.349524   \n",
       "...                     ...                         ...   \n",
       "36469             77.596014                   13.032161   \n",
       "36470             76.659264                   12.320972   \n",
       "36471             77.645396                   12.980221   \n",
       "36472             72.795503                   21.305975   \n",
       "36473             80.254791                   13.137018   \n",
       "\n",
       "       Delivery_location_longitude  Order_Date Time_Orderd Time_Order_picked  \\\n",
       "0                        76.679264  15-03-2022       11:50             12:05   \n",
       "1                        75.977522  16-03-2022       19:40             19:45   \n",
       "2                        72.884342  31-03-2022       23:20             23:25   \n",
       "3                        75.877282  20-03-2022       20:60             21:15   \n",
       "4                        76.692620  30-03-2022       21:50             22:05   \n",
       "...                            ...         ...         ...               ...   \n",
       "36469                    77.656014  09-03-2022       23:30             23:45   \n",
       "36470                    76.669264  24-03-2022       11:30             11:45   \n",
       "36471                    77.655396  13-03-2022        8:15              8:25   \n",
       "36472                    72.925503  08-03-2022       18:15             18:30   \n",
       "36473                    80.364791  25-03-2022       20:35             20:45   \n",
       "\n",
       "          Weather Road_traffic_density  Vehicle_condition Type_of_order  \\\n",
       "0          Cloudy                 High                  1        Buffet   \n",
       "1      Sandstorms                  Jam                  1        Buffet   \n",
       "2      Sandstorms                  Low                  2          Meal   \n",
       "3          Stormy                  Jam                  1         Snack   \n",
       "4      Sandstorms                  Jam                  2        Drinks   \n",
       "...           ...                  ...                ...           ...   \n",
       "36469       Sunny                  Low                  2        Drinks   \n",
       "36470       Sunny                 High                  0        Buffet   \n",
       "36471       Sunny                  Low                  2        Drinks   \n",
       "36472      Cloudy               Medium                  2          Meal   \n",
       "36473      Stormy                  Jam                  0          Meal   \n",
       "\n",
       "        Type_of_vehicle  multiple_deliveries Festival           City  \\\n",
       "0               scooter                  1.0       No  Metropolitian   \n",
       "1            motorcycle                  0.0       No  Metropolitian   \n",
       "2            motorcycle                  1.0       No  Metropolitian   \n",
       "3            motorcycle                  1.0       No  Metropolitian   \n",
       "4      electric_scooter                  1.0       No  Metropolitian   \n",
       "...                 ...                  ...      ...            ...   \n",
       "36469  electric_scooter                  0.0       No  Metropolitian   \n",
       "36470        motorcycle                  3.0       No  Metropolitian   \n",
       "36471           scooter                  0.0       No            NaN   \n",
       "36472           scooter                  1.0       No  Metropolitian   \n",
       "36473        motorcycle                  1.0       No  Metropolitian   \n",
       "\n",
       "       Delivery_person_Age_nan  Delivery_person_Ratings_nan  \\\n",
       "0                            0                            0   \n",
       "1                            0                            0   \n",
       "2                            0                            0   \n",
       "3                            0                            0   \n",
       "4                            0                            0   \n",
       "...                        ...                          ...   \n",
       "36469                        0                            0   \n",
       "36470                        0                            0   \n",
       "36471                        0                            0   \n",
       "36472                        0                            0   \n",
       "36473                        0                            0   \n",
       "\n",
       "       multiple_deliveries_nan  \n",
       "0                            0  \n",
       "1                            0  \n",
       "2                            0  \n",
       "3                            0  \n",
       "4                            0  \n",
       "...                        ...  \n",
       "36469                        0  \n",
       "36470                        0  \n",
       "36471                        0  \n",
       "36472                        0  \n",
       "36473                        0  \n",
       "\n",
       "[36474 rows x 20 columns]"
      ]
     },
     "execution_count": 36,
     "metadata": {},
     "output_type": "execute_result"
    }
   ],
   "source": [
    "fix_numerical_features(data, numerical_features= missing_numerical_features)"
   ]
  },
  {
   "cell_type": "markdown",
   "id": "89b668f5",
   "metadata": {},
   "source": [
    "### Can use median imputation simply as well"
   ]
  },
  {
   "cell_type": "markdown",
   "id": "a573a6ca",
   "metadata": {},
   "source": [
    "##### Let's first see the original distribution"
   ]
  },
  {
   "cell_type": "code",
   "execution_count": 37,
   "id": "b7a512e4",
   "metadata": {},
   "outputs": [],
   "source": [
    "data = X_train.copy()"
   ]
  },
  {
   "cell_type": "code",
   "execution_count": 38,
   "id": "1c8c85c3",
   "metadata": {},
   "outputs": [
    {
     "data": {
      "image/png": "[encoded data removed]",
      "text/plain": [
       "<Figure size 432x288 with 1 Axes>"
      ]
     },
     "metadata": {
      "needs_background": "light"
     },
     "output_type": "display_data"
    },
    {
     "data": {
      "image/png": "[encoded data removed]",
      "text/plain": [
       "<Figure size 432x288 with 1 Axes>"
      ]
     },
     "metadata": {
      "needs_background": "light"
     },
     "output_type": "display_data"
    },
    {
     "data": {
      "image/png": "[encoded data removed]",
      "text/plain": [
       "<Figure size 432x288 with 1 Axes>"
      ]
     },
     "metadata": {
      "needs_background": "light"
     },
     "output_type": "display_data"
    }
   ],
   "source": [
    "for feature in missing_numerical_features:\n",
    "    sns.histplot(data[feature], kde=True, binwidth=0.5)\n",
    "    \n",
    "    plt.grid()\n",
    "    plt.title(f'{feature} distribution')\n",
    "    plt.show()"
   ]
  },
  {
   "cell_type": "markdown",
   "id": "6dc01a62",
   "metadata": {},
   "source": [
    "### After median imputation"
   ]
  },
  {
   "cell_type": "code",
   "execution_count": 39,
   "id": "1c3dd2b0",
   "metadata": {},
   "outputs": [],
   "source": [
    "imputer = SimpleImputer(strategy='median')"
   ]
  },
  {
   "cell_type": "code",
   "execution_count": 40,
   "id": "8b3407d2",
   "metadata": {},
   "outputs": [],
   "source": [
    "data = X_train[missing_numerical_features].copy()\n",
    "data = imputer.fit_transform(data)"
   ]
  },
  {
   "cell_type": "code",
   "execution_count": 41,
   "id": "ae51ceae",
   "metadata": {},
   "outputs": [],
   "source": [
    "data = pd.DataFrame(data,columns=missing_numerical_features)"
   ]
  },
  {
   "cell_type": "markdown",
   "id": "13f0aa21",
   "metadata": {},
   "source": [
    "#### Plots after imputation"
   ]
  },
  {
   "cell_type": "code",
   "execution_count": 42,
   "id": "0c5a8657",
   "metadata": {},
   "outputs": [
    {
     "name": "stderr",
     "output_type": "stream",
     "text": [
      "C:\\Users\\rachi\\anaconda3\\lib\\site-packages\\seaborn\\distributions.py:2557: FutureWarning: `distplot` is a deprecated function and will be removed in a future version. Please adapt your code to use either `displot` (a figure-level function with similar flexibility) or `histplot` (an axes-level function for histograms).\n",
      "  warnings.warn(msg, FutureWarning)\n",
      "C:\\Users\\rachi\\anaconda3\\lib\\site-packages\\seaborn\\distributions.py:2557: FutureWarning: `distplot` is a deprecated function and will be removed in a future version. Please adapt your code to use either `displot` (a figure-level function with similar flexibility) or `histplot` (an axes-level function for histograms).\n",
      "  warnings.warn(msg, FutureWarning)\n"
     ]
    },
    {
     "data": {
      "image/png": "[encoded data removed]",
      "text/plain": [
       "<Figure size 720x360 with 2 Axes>"
      ]
     },
     "metadata": {
      "needs_background": "light"
     },
     "output_type": "display_data"
    },
    {
     "name": "stderr",
     "output_type": "stream",
     "text": [
      "C:\\Users\\rachi\\anaconda3\\lib\\site-packages\\seaborn\\distributions.py:2557: FutureWarning: `distplot` is a deprecated function and will be removed in a future version. Please adapt your code to use either `displot` (a figure-level function with similar flexibility) or `histplot` (an axes-level function for histograms).\n",
      "  warnings.warn(msg, FutureWarning)\n",
      "C:\\Users\\rachi\\anaconda3\\lib\\site-packages\\seaborn\\distributions.py:2557: FutureWarning: `distplot` is a deprecated function and will be removed in a future version. Please adapt your code to use either `displot` (a figure-level function with similar flexibility) or `histplot` (an axes-level function for histograms).\n",
      "  warnings.warn(msg, FutureWarning)\n"
     ]
    },
    {
     "data": {
      "image/png": "[encoded data removed]",
      "text/plain": [
       "<Figure size 720x360 with 2 Axes>"
      ]
     },
     "metadata": {
      "needs_background": "light"
     },
     "output_type": "display_data"
    },
    {
     "name": "stderr",
     "output_type": "stream",
     "text": [
      "C:\\Users\\rachi\\anaconda3\\lib\\site-packages\\seaborn\\distributions.py:2557: FutureWarning: `distplot` is a deprecated function and will be removed in a future version. Please adapt your code to use either `displot` (a figure-level function with similar flexibility) or `histplot` (an axes-level function for histograms).\n",
      "  warnings.warn(msg, FutureWarning)\n",
      "C:\\Users\\rachi\\anaconda3\\lib\\site-packages\\seaborn\\distributions.py:2557: FutureWarning: `distplot` is a deprecated function and will be removed in a future version. Please adapt your code to use either `displot` (a figure-level function with similar flexibility) or `histplot` (an axes-level function for histograms).\n",
      "  warnings.warn(msg, FutureWarning)\n"
     ]
    },
    {
     "data": {
      "image/png": "[encoded data removed]",
      "text/plain": [
       "<Figure size 720x360 with 2 Axes>"
      ]
     },
     "metadata": {
      "needs_background": "light"
     },
     "output_type": "display_data"
    }
   ],
   "source": [
    "for feature in missing_numerical_features:\n",
    "    \n",
    "    plt.figure(figsize=(10,5))\n",
    "    \n",
    "    plt.subplot(1,2,1)\n",
    "    plt.title(f\"{feature} ---->Before Imputation\")\n",
    "    sns.distplot(X_train[feature])\n",
    "    plt.grid()\n",
    "    \n",
    "    \n",
    "    plt.subplot(1,2,2)\n",
    "    plt.title(f\"{feature} ----> After Imputation\")\n",
    "    sns.distplot(data[feature])\n",
    "    plt.grid()\n",
    "    \n",
    "    \n",
    "    plt.show()"
   ]
  },
  {
   "cell_type": "markdown",
   "id": "01be545f",
   "metadata": {},
   "source": [
    "#### Delivery Person Ratings and Delivery Person Age are seeing significant distortions. Hence will not simply go with median imputation. Will go with 1st approach of creating new feature to capture these nan values\n",
    "\n",
    "# Final Preprocessing pipeline 2:\n",
    "\n",
    "Need to create additional feature as distribution is changing with median imputation"
   ]
  },
  {
   "cell_type": "code",
   "execution_count": 43,
   "id": "8ad27cf3",
   "metadata": {},
   "outputs": [],
   "source": [
    "transformed_data = X_train.copy()"
   ]
  },
  {
   "cell_type": "code",
   "execution_count": 44,
   "id": "e892f068",
   "metadata": {},
   "outputs": [],
   "source": [
    "transformed_data = fix_categorical_features(transformed_data, categorical_features=missing_categorical_features)"
   ]
  },
  {
   "cell_type": "code",
   "execution_count": 45,
   "id": "9dd14d8b",
   "metadata": {},
   "outputs": [],
   "source": [
    "transformed_data = fix_numerical_features(transformed_data,missing_numerical_features)"
   ]
  },
  {
   "cell_type": "code",
   "execution_count": 46,
   "id": "28b1d587",
   "metadata": {},
   "outputs": [
    {
     "data": {
      "text/html": [
       "<div>\n",
       "<style scoped>\n",
       "    .dataframe tbody tr th:only-of-type {\n",
       "        vertical-align: middle;\n",
       "    }\n",
       "\n",
       "    .dataframe tbody tr th {\n",
       "        vertical-align: top;\n",
       "    }\n",
       "\n",
       "    .dataframe thead th {\n",
       "        text-align: right;\n",
       "    }\n",
       "</style>\n",
       "<table border=\"1\" class=\"dataframe\">\n",
       "  <thead>\n",
       "    <tr style=\"text-align: right;\">\n",
       "      <th></th>\n",
       "      <th>Delivery_person_Age</th>\n",
       "      <th>Delivery_person_Ratings</th>\n",
       "      <th>Restaurant_latitude</th>\n",
       "      <th>Restaurant_longitude</th>\n",
       "      <th>Delivery_location_latitude</th>\n",
       "      <th>Delivery_location_longitude</th>\n",
       "      <th>Order_Date</th>\n",
       "      <th>Time_Orderd</th>\n",
       "      <th>Time_Order_picked</th>\n",
       "      <th>Weather</th>\n",
       "      <th>Road_traffic_density</th>\n",
       "      <th>Vehicle_condition</th>\n",
       "      <th>Type_of_order</th>\n",
       "      <th>Type_of_vehicle</th>\n",
       "      <th>multiple_deliveries</th>\n",
       "      <th>Festival</th>\n",
       "      <th>City</th>\n",
       "      <th>Delivery_person_Age_nan</th>\n",
       "      <th>Delivery_person_Ratings_nan</th>\n",
       "      <th>multiple_deliveries_nan</th>\n",
       "    </tr>\n",
       "  </thead>\n",
       "  <tbody>\n",
       "    <tr>\n",
       "      <th>0</th>\n",
       "      <td>32.0</td>\n",
       "      <td>4.6</td>\n",
       "      <td>12.310972</td>\n",
       "      <td>76.659264</td>\n",
       "      <td>12.330972</td>\n",
       "      <td>76.679264</td>\n",
       "      <td>15-03-2022</td>\n",
       "      <td>11:50</td>\n",
       "      <td>12:05</td>\n",
       "      <td>Cloudy</td>\n",
       "      <td>High</td>\n",
       "      <td>1</td>\n",
       "      <td>Buffet</td>\n",
       "      <td>scooter</td>\n",
       "      <td>1.0</td>\n",
       "      <td>No</td>\n",
       "      <td>Metropolitian</td>\n",
       "      <td>0</td>\n",
       "      <td>0</td>\n",
       "      <td>0</td>\n",
       "    </tr>\n",
       "    <tr>\n",
       "      <th>1</th>\n",
       "      <td>32.0</td>\n",
       "      <td>4.5</td>\n",
       "      <td>22.761226</td>\n",
       "      <td>75.887522</td>\n",
       "      <td>22.851226</td>\n",
       "      <td>75.977522</td>\n",
       "      <td>16-03-2022</td>\n",
       "      <td>19:40</td>\n",
       "      <td>19:45</td>\n",
       "      <td>Sandstorms</td>\n",
       "      <td>Jam</td>\n",
       "      <td>1</td>\n",
       "      <td>Buffet</td>\n",
       "      <td>motorcycle</td>\n",
       "      <td>0.0</td>\n",
       "      <td>No</td>\n",
       "      <td>Metropolitian</td>\n",
       "      <td>0</td>\n",
       "      <td>0</td>\n",
       "      <td>0</td>\n",
       "    </tr>\n",
       "    <tr>\n",
       "      <th>2</th>\n",
       "      <td>38.0</td>\n",
       "      <td>4.9</td>\n",
       "      <td>21.175104</td>\n",
       "      <td>72.804342</td>\n",
       "      <td>21.255104</td>\n",
       "      <td>72.884342</td>\n",
       "      <td>31-03-2022</td>\n",
       "      <td>23:20</td>\n",
       "      <td>23:25</td>\n",
       "      <td>Sandstorms</td>\n",
       "      <td>Low</td>\n",
       "      <td>2</td>\n",
       "      <td>Meal</td>\n",
       "      <td>motorcycle</td>\n",
       "      <td>1.0</td>\n",
       "      <td>No</td>\n",
       "      <td>Metropolitian</td>\n",
       "      <td>0</td>\n",
       "      <td>0</td>\n",
       "      <td>0</td>\n",
       "    </tr>\n",
       "    <tr>\n",
       "      <th>3</th>\n",
       "      <td>27.0</td>\n",
       "      <td>4.7</td>\n",
       "      <td>26.911927</td>\n",
       "      <td>75.797282</td>\n",
       "      <td>26.991927</td>\n",
       "      <td>75.877282</td>\n",
       "      <td>20-03-2022</td>\n",
       "      <td>20:60</td>\n",
       "      <td>21:15</td>\n",
       "      <td>Stormy</td>\n",
       "      <td>Jam</td>\n",
       "      <td>1</td>\n",
       "      <td>Snack</td>\n",
       "      <td>motorcycle</td>\n",
       "      <td>1.0</td>\n",
       "      <td>No</td>\n",
       "      <td>Metropolitian</td>\n",
       "      <td>0</td>\n",
       "      <td>0</td>\n",
       "      <td>0</td>\n",
       "    </tr>\n",
       "    <tr>\n",
       "      <th>4</th>\n",
       "      <td>28.0</td>\n",
       "      <td>4.8</td>\n",
       "      <td>12.299524</td>\n",
       "      <td>76.642620</td>\n",
       "      <td>12.349524</td>\n",
       "      <td>76.692620</td>\n",
       "      <td>30-03-2022</td>\n",
       "      <td>21:50</td>\n",
       "      <td>22:05</td>\n",
       "      <td>Sandstorms</td>\n",
       "      <td>Jam</td>\n",
       "      <td>2</td>\n",
       "      <td>Drinks</td>\n",
       "      <td>electric_scooter</td>\n",
       "      <td>1.0</td>\n",
       "      <td>No</td>\n",
       "      <td>Metropolitian</td>\n",
       "      <td>0</td>\n",
       "      <td>0</td>\n",
       "      <td>0</td>\n",
       "    </tr>\n",
       "    <tr>\n",
       "      <th>...</th>\n",
       "      <td>...</td>\n",
       "      <td>...</td>\n",
       "      <td>...</td>\n",
       "      <td>...</td>\n",
       "      <td>...</td>\n",
       "      <td>...</td>\n",
       "      <td>...</td>\n",
       "      <td>...</td>\n",
       "      <td>...</td>\n",
       "      <td>...</td>\n",
       "      <td>...</td>\n",
       "      <td>...</td>\n",
       "      <td>...</td>\n",
       "      <td>...</td>\n",
       "      <td>...</td>\n",
       "      <td>...</td>\n",
       "      <td>...</td>\n",
       "      <td>...</td>\n",
       "      <td>...</td>\n",
       "      <td>...</td>\n",
       "    </tr>\n",
       "    <tr>\n",
       "      <th>36469</th>\n",
       "      <td>24.0</td>\n",
       "      <td>5.0</td>\n",
       "      <td>12.972161</td>\n",
       "      <td>77.596014</td>\n",
       "      <td>13.032161</td>\n",
       "      <td>77.656014</td>\n",
       "      <td>09-03-2022</td>\n",
       "      <td>23:30</td>\n",
       "      <td>23:45</td>\n",
       "      <td>Sunny</td>\n",
       "      <td>Low</td>\n",
       "      <td>2</td>\n",
       "      <td>Drinks</td>\n",
       "      <td>electric_scooter</td>\n",
       "      <td>0.0</td>\n",
       "      <td>No</td>\n",
       "      <td>Metropolitian</td>\n",
       "      <td>0</td>\n",
       "      <td>0</td>\n",
       "      <td>0</td>\n",
       "    </tr>\n",
       "    <tr>\n",
       "      <th>36470</th>\n",
       "      <td>29.0</td>\n",
       "      <td>3.6</td>\n",
       "      <td>12.310972</td>\n",
       "      <td>76.659264</td>\n",
       "      <td>12.320972</td>\n",
       "      <td>76.669264</td>\n",
       "      <td>24-03-2022</td>\n",
       "      <td>11:30</td>\n",
       "      <td>11:45</td>\n",
       "      <td>Sunny</td>\n",
       "      <td>High</td>\n",
       "      <td>0</td>\n",
       "      <td>Buffet</td>\n",
       "      <td>motorcycle</td>\n",
       "      <td>3.0</td>\n",
       "      <td>No</td>\n",
       "      <td>Metropolitian</td>\n",
       "      <td>0</td>\n",
       "      <td>0</td>\n",
       "      <td>0</td>\n",
       "    </tr>\n",
       "    <tr>\n",
       "      <th>36471</th>\n",
       "      <td>31.0</td>\n",
       "      <td>4.7</td>\n",
       "      <td>12.970221</td>\n",
       "      <td>77.645396</td>\n",
       "      <td>12.980221</td>\n",
       "      <td>77.655396</td>\n",
       "      <td>13-03-2022</td>\n",
       "      <td>8:15</td>\n",
       "      <td>8:25</td>\n",
       "      <td>Sunny</td>\n",
       "      <td>Low</td>\n",
       "      <td>2</td>\n",
       "      <td>Drinks</td>\n",
       "      <td>scooter</td>\n",
       "      <td>0.0</td>\n",
       "      <td>No</td>\n",
       "      <td>missing</td>\n",
       "      <td>0</td>\n",
       "      <td>0</td>\n",
       "      <td>0</td>\n",
       "    </tr>\n",
       "    <tr>\n",
       "      <th>36472</th>\n",
       "      <td>38.0</td>\n",
       "      <td>4.2</td>\n",
       "      <td>21.175975</td>\n",
       "      <td>72.795503</td>\n",
       "      <td>21.305975</td>\n",
       "      <td>72.925503</td>\n",
       "      <td>08-03-2022</td>\n",
       "      <td>18:15</td>\n",
       "      <td>18:30</td>\n",
       "      <td>Cloudy</td>\n",
       "      <td>Medium</td>\n",
       "      <td>2</td>\n",
       "      <td>Meal</td>\n",
       "      <td>scooter</td>\n",
       "      <td>1.0</td>\n",
       "      <td>No</td>\n",
       "      <td>Metropolitian</td>\n",
       "      <td>0</td>\n",
       "      <td>0</td>\n",
       "      <td>0</td>\n",
       "    </tr>\n",
       "    <tr>\n",
       "      <th>36473</th>\n",
       "      <td>25.0</td>\n",
       "      <td>4.9</td>\n",
       "      <td>13.027018</td>\n",
       "      <td>80.254791</td>\n",
       "      <td>13.137018</td>\n",
       "      <td>80.364791</td>\n",
       "      <td>25-03-2022</td>\n",
       "      <td>20:35</td>\n",
       "      <td>20:45</td>\n",
       "      <td>Stormy</td>\n",
       "      <td>Jam</td>\n",
       "      <td>0</td>\n",
       "      <td>Meal</td>\n",
       "      <td>motorcycle</td>\n",
       "      <td>1.0</td>\n",
       "      <td>No</td>\n",
       "      <td>Metropolitian</td>\n",
       "      <td>0</td>\n",
       "      <td>0</td>\n",
       "      <td>0</td>\n",
       "    </tr>\n",
       "  </tbody>\n",
       "</table>\n",
       "<p>36474 rows × 20 columns</p>\n",
       "</div>"
      ],
      "text/plain": [
       "       Delivery_person_Age  Delivery_person_Ratings  Restaurant_latitude  \\\n",
       "0                     32.0                      4.6            12.310972   \n",
       "1                     32.0                      4.5            22.761226   \n",
       "2                     38.0                      4.9            21.175104   \n",
       "3                     27.0                      4.7            26.911927   \n",
       "4                     28.0                      4.8            12.299524   \n",
       "...                    ...                      ...                  ...   \n",
       "36469                 24.0                      5.0            12.972161   \n",
       "36470                 29.0                      3.6            12.310972   \n",
       "36471                 31.0                      4.7            12.970221   \n",
       "36472                 38.0                      4.2            21.175975   \n",
       "36473                 25.0                      4.9            13.027018   \n",
       "\n",
       "       Restaurant_longitude  Delivery_location_latitude  \\\n",
       "0                 76.659264                   12.330972   \n",
       "1                 75.887522                   22.851226   \n",
       "2                 72.804342                   21.255104   \n",
       "3                 75.797282                   26.991927   \n",
       "4                 76.642620                   12.349524   \n",
       "...                     ...                         ...   \n",
       "36469             77.596014                   13.032161   \n",
       "36470             76.659264                   12.320972   \n",
       "36471             77.645396                   12.980221   \n",
       "36472             72.795503                   21.305975   \n",
       "36473             80.254791                   13.137018   \n",
       "\n",
       "       Delivery_location_longitude  Order_Date Time_Orderd Time_Order_picked  \\\n",
       "0                        76.679264  15-03-2022       11:50             12:05   \n",
       "1                        75.977522  16-03-2022       19:40             19:45   \n",
       "2                        72.884342  31-03-2022       23:20             23:25   \n",
       "3                        75.877282  20-03-2022       20:60             21:15   \n",
       "4                        76.692620  30-03-2022       21:50             22:05   \n",
       "...                            ...         ...         ...               ...   \n",
       "36469                    77.656014  09-03-2022       23:30             23:45   \n",
       "36470                    76.669264  24-03-2022       11:30             11:45   \n",
       "36471                    77.655396  13-03-2022        8:15              8:25   \n",
       "36472                    72.925503  08-03-2022       18:15             18:30   \n",
       "36473                    80.364791  25-03-2022       20:35             20:45   \n",
       "\n",
       "          Weather Road_traffic_density  Vehicle_condition Type_of_order  \\\n",
       "0          Cloudy                 High                  1        Buffet   \n",
       "1      Sandstorms                  Jam                  1        Buffet   \n",
       "2      Sandstorms                  Low                  2          Meal   \n",
       "3          Stormy                  Jam                  1         Snack   \n",
       "4      Sandstorms                  Jam                  2        Drinks   \n",
       "...           ...                  ...                ...           ...   \n",
       "36469       Sunny                  Low                  2        Drinks   \n",
       "36470       Sunny                 High                  0        Buffet   \n",
       "36471       Sunny                  Low                  2        Drinks   \n",
       "36472      Cloudy               Medium                  2          Meal   \n",
       "36473      Stormy                  Jam                  0          Meal   \n",
       "\n",
       "        Type_of_vehicle  multiple_deliveries Festival           City  \\\n",
       "0               scooter                  1.0       No  Metropolitian   \n",
       "1            motorcycle                  0.0       No  Metropolitian   \n",
       "2            motorcycle                  1.0       No  Metropolitian   \n",
       "3            motorcycle                  1.0       No  Metropolitian   \n",
       "4      electric_scooter                  1.0       No  Metropolitian   \n",
       "...                 ...                  ...      ...            ...   \n",
       "36469  electric_scooter                  0.0       No  Metropolitian   \n",
       "36470        motorcycle                  3.0       No  Metropolitian   \n",
       "36471           scooter                  0.0       No        missing   \n",
       "36472           scooter                  1.0       No  Metropolitian   \n",
       "36473        motorcycle                  1.0       No  Metropolitian   \n",
       "\n",
       "       Delivery_person_Age_nan  Delivery_person_Ratings_nan  \\\n",
       "0                            0                            0   \n",
       "1                            0                            0   \n",
       "2                            0                            0   \n",
       "3                            0                            0   \n",
       "4                            0                            0   \n",
       "...                        ...                          ...   \n",
       "36469                        0                            0   \n",
       "36470                        0                            0   \n",
       "36471                        0                            0   \n",
       "36472                        0                            0   \n",
       "36473                        0                            0   \n",
       "\n",
       "       multiple_deliveries_nan  \n",
       "0                            0  \n",
       "1                            0  \n",
       "2                            0  \n",
       "3                            0  \n",
       "4                            0  \n",
       "...                        ...  \n",
       "36469                        0  \n",
       "36470                        0  \n",
       "36471                        0  \n",
       "36472                        0  \n",
       "36473                        0  \n",
       "\n",
       "[36474 rows x 20 columns]"
      ]
     },
     "execution_count": 46,
     "metadata": {},
     "output_type": "execute_result"
    }
   ],
   "source": [
    "transformed_data"
   ]
  },
  {
   "cell_type": "code",
   "execution_count": null,
   "id": "3494c358",
   "metadata": {},
   "outputs": [],
   "source": []
  },
  {
   "cell_type": "markdown",
   "id": "448e39ba",
   "metadata": {},
   "source": [
    "# Handling Temporal Features"
   ]
  },
  {
   "cell_type": "code",
   "execution_count": 47,
   "id": "ab91fbdf",
   "metadata": {},
   "outputs": [],
   "source": [
    "temporal_features = ['Order_Date','Time_Order_picked','Time_Orderd']"
   ]
  },
  {
   "cell_type": "code",
   "execution_count": 48,
   "id": "0eb5c0b4",
   "metadata": {},
   "outputs": [],
   "source": [
    "### These are in categorical features so let's drop these from categorical features list\n",
    "\n",
    "categorical_features = [feature for feature in categorical_features if feature not in set(temporal_features)]\n"
   ]
  },
  {
   "cell_type": "code",
   "execution_count": 49,
   "id": "43dfa301",
   "metadata": {},
   "outputs": [
    {
     "data": {
      "text/plain": [
       "['Type_of_order',\n",
       " 'Festival',\n",
       " 'Weather',\n",
       " 'Road_traffic_density',\n",
       " 'City',\n",
       " 'Type_of_vehicle']"
      ]
     },
     "execution_count": 49,
     "metadata": {},
     "output_type": "execute_result"
    }
   ],
   "source": [
    "categorical_features"
   ]
  },
  {
   "cell_type": "code",
   "execution_count": 50,
   "id": "9cfc5f91",
   "metadata": {},
   "outputs": [
    {
     "data": {
      "text/plain": [
       "['Order_Date', 'Time_Order_picked', 'Time_Orderd']"
      ]
     },
     "execution_count": 50,
     "metadata": {},
     "output_type": "execute_result"
    }
   ],
   "source": [
    "temporal_features"
   ]
  },
  {
   "cell_type": "code",
   "execution_count": 51,
   "id": "76235e5c",
   "metadata": {},
   "outputs": [
    {
     "data": {
      "text/plain": [
       "['Delivery_person_Age',\n",
       " 'Delivery_person_Ratings',\n",
       " 'Restaurant_latitude',\n",
       " 'Restaurant_longitude',\n",
       " 'Delivery_location_latitude',\n",
       " 'Delivery_location_longitude',\n",
       " 'Vehicle_condition',\n",
       " 'multiple_deliveries']"
      ]
     },
     "execution_count": 51,
     "metadata": {},
     "output_type": "execute_result"
    }
   ],
   "source": [
    "numerical_features"
   ]
  },
  {
   "cell_type": "code",
   "execution_count": null,
   "id": "b633fa17",
   "metadata": {},
   "outputs": [],
   "source": []
  },
  {
   "cell_type": "markdown",
   "id": "2d43cabd",
   "metadata": {},
   "source": [
    "Strategies to handle:\n",
    "\n",
    "\n",
    "1. In Order Date, only order day seemed important, order month and order year seemed uniform so won't use them. For now, let's extract all, will see if they help in Feature Selection, if they don't will drop there\n",
    "\n",
    "2. Time Ordered and Time Order Picked are highly correlated. Only need one of these features. As there are missing values in Time Ordered, will drop it and use Time Order Picked\n",
    "    "
   ]
  },
  {
   "cell_type": "code",
   "execution_count": null,
   "id": "10dad412",
   "metadata": {},
   "outputs": [],
   "source": []
  },
  {
   "cell_type": "code",
   "execution_count": 52,
   "id": "7f00b805",
   "metadata": {},
   "outputs": [
    {
     "data": {
      "text/html": [
       "<div>\n",
       "<style scoped>\n",
       "    .dataframe tbody tr th:only-of-type {\n",
       "        vertical-align: middle;\n",
       "    }\n",
       "\n",
       "    .dataframe tbody tr th {\n",
       "        vertical-align: top;\n",
       "    }\n",
       "\n",
       "    .dataframe thead th {\n",
       "        text-align: right;\n",
       "    }\n",
       "</style>\n",
       "<table border=\"1\" class=\"dataframe\">\n",
       "  <thead>\n",
       "    <tr style=\"text-align: right;\">\n",
       "      <th></th>\n",
       "      <th>Delivery_person_Age</th>\n",
       "      <th>Delivery_person_Ratings</th>\n",
       "      <th>Restaurant_latitude</th>\n",
       "      <th>Restaurant_longitude</th>\n",
       "      <th>Delivery_location_latitude</th>\n",
       "      <th>Delivery_location_longitude</th>\n",
       "      <th>Order_Date</th>\n",
       "      <th>Time_Orderd</th>\n",
       "      <th>Time_Order_picked</th>\n",
       "      <th>Weather</th>\n",
       "      <th>Road_traffic_density</th>\n",
       "      <th>Vehicle_condition</th>\n",
       "      <th>Type_of_order</th>\n",
       "      <th>Type_of_vehicle</th>\n",
       "      <th>multiple_deliveries</th>\n",
       "      <th>Festival</th>\n",
       "      <th>City</th>\n",
       "      <th>Delivery_person_Age_nan</th>\n",
       "      <th>Delivery_person_Ratings_nan</th>\n",
       "      <th>multiple_deliveries_nan</th>\n",
       "    </tr>\n",
       "  </thead>\n",
       "  <tbody>\n",
       "    <tr>\n",
       "      <th>0</th>\n",
       "      <td>32.0</td>\n",
       "      <td>4.6</td>\n",
       "      <td>12.310972</td>\n",
       "      <td>76.659264</td>\n",
       "      <td>12.330972</td>\n",
       "      <td>76.679264</td>\n",
       "      <td>15-03-2022</td>\n",
       "      <td>11:50</td>\n",
       "      <td>12:05</td>\n",
       "      <td>Cloudy</td>\n",
       "      <td>High</td>\n",
       "      <td>1</td>\n",
       "      <td>Buffet</td>\n",
       "      <td>scooter</td>\n",
       "      <td>1.0</td>\n",
       "      <td>No</td>\n",
       "      <td>Metropolitian</td>\n",
       "      <td>0</td>\n",
       "      <td>0</td>\n",
       "      <td>0</td>\n",
       "    </tr>\n",
       "    <tr>\n",
       "      <th>1</th>\n",
       "      <td>32.0</td>\n",
       "      <td>4.5</td>\n",
       "      <td>22.761226</td>\n",
       "      <td>75.887522</td>\n",
       "      <td>22.851226</td>\n",
       "      <td>75.977522</td>\n",
       "      <td>16-03-2022</td>\n",
       "      <td>19:40</td>\n",
       "      <td>19:45</td>\n",
       "      <td>Sandstorms</td>\n",
       "      <td>Jam</td>\n",
       "      <td>1</td>\n",
       "      <td>Buffet</td>\n",
       "      <td>motorcycle</td>\n",
       "      <td>0.0</td>\n",
       "      <td>No</td>\n",
       "      <td>Metropolitian</td>\n",
       "      <td>0</td>\n",
       "      <td>0</td>\n",
       "      <td>0</td>\n",
       "    </tr>\n",
       "    <tr>\n",
       "      <th>2</th>\n",
       "      <td>38.0</td>\n",
       "      <td>4.9</td>\n",
       "      <td>21.175104</td>\n",
       "      <td>72.804342</td>\n",
       "      <td>21.255104</td>\n",
       "      <td>72.884342</td>\n",
       "      <td>31-03-2022</td>\n",
       "      <td>23:20</td>\n",
       "      <td>23:25</td>\n",
       "      <td>Sandstorms</td>\n",
       "      <td>Low</td>\n",
       "      <td>2</td>\n",
       "      <td>Meal</td>\n",
       "      <td>motorcycle</td>\n",
       "      <td>1.0</td>\n",
       "      <td>No</td>\n",
       "      <td>Metropolitian</td>\n",
       "      <td>0</td>\n",
       "      <td>0</td>\n",
       "      <td>0</td>\n",
       "    </tr>\n",
       "    <tr>\n",
       "      <th>3</th>\n",
       "      <td>27.0</td>\n",
       "      <td>4.7</td>\n",
       "      <td>26.911927</td>\n",
       "      <td>75.797282</td>\n",
       "      <td>26.991927</td>\n",
       "      <td>75.877282</td>\n",
       "      <td>20-03-2022</td>\n",
       "      <td>20:60</td>\n",
       "      <td>21:15</td>\n",
       "      <td>Stormy</td>\n",
       "      <td>Jam</td>\n",
       "      <td>1</td>\n",
       "      <td>Snack</td>\n",
       "      <td>motorcycle</td>\n",
       "      <td>1.0</td>\n",
       "      <td>No</td>\n",
       "      <td>Metropolitian</td>\n",
       "      <td>0</td>\n",
       "      <td>0</td>\n",
       "      <td>0</td>\n",
       "    </tr>\n",
       "    <tr>\n",
       "      <th>4</th>\n",
       "      <td>28.0</td>\n",
       "      <td>4.8</td>\n",
       "      <td>12.299524</td>\n",
       "      <td>76.642620</td>\n",
       "      <td>12.349524</td>\n",
       "      <td>76.692620</td>\n",
       "      <td>30-03-2022</td>\n",
       "      <td>21:50</td>\n",
       "      <td>22:05</td>\n",
       "      <td>Sandstorms</td>\n",
       "      <td>Jam</td>\n",
       "      <td>2</td>\n",
       "      <td>Drinks</td>\n",
       "      <td>electric_scooter</td>\n",
       "      <td>1.0</td>\n",
       "      <td>No</td>\n",
       "      <td>Metropolitian</td>\n",
       "      <td>0</td>\n",
       "      <td>0</td>\n",
       "      <td>0</td>\n",
       "    </tr>\n",
       "    <tr>\n",
       "      <th>...</th>\n",
       "      <td>...</td>\n",
       "      <td>...</td>\n",
       "      <td>...</td>\n",
       "      <td>...</td>\n",
       "      <td>...</td>\n",
       "      <td>...</td>\n",
       "      <td>...</td>\n",
       "      <td>...</td>\n",
       "      <td>...</td>\n",
       "      <td>...</td>\n",
       "      <td>...</td>\n",
       "      <td>...</td>\n",
       "      <td>...</td>\n",
       "      <td>...</td>\n",
       "      <td>...</td>\n",
       "      <td>...</td>\n",
       "      <td>...</td>\n",
       "      <td>...</td>\n",
       "      <td>...</td>\n",
       "      <td>...</td>\n",
       "    </tr>\n",
       "    <tr>\n",
       "      <th>36469</th>\n",
       "      <td>24.0</td>\n",
       "      <td>5.0</td>\n",
       "      <td>12.972161</td>\n",
       "      <td>77.596014</td>\n",
       "      <td>13.032161</td>\n",
       "      <td>77.656014</td>\n",
       "      <td>09-03-2022</td>\n",
       "      <td>23:30</td>\n",
       "      <td>23:45</td>\n",
       "      <td>Sunny</td>\n",
       "      <td>Low</td>\n",
       "      <td>2</td>\n",
       "      <td>Drinks</td>\n",
       "      <td>electric_scooter</td>\n",
       "      <td>0.0</td>\n",
       "      <td>No</td>\n",
       "      <td>Metropolitian</td>\n",
       "      <td>0</td>\n",
       "      <td>0</td>\n",
       "      <td>0</td>\n",
       "    </tr>\n",
       "    <tr>\n",
       "      <th>36470</th>\n",
       "      <td>29.0</td>\n",
       "      <td>3.6</td>\n",
       "      <td>12.310972</td>\n",
       "      <td>76.659264</td>\n",
       "      <td>12.320972</td>\n",
       "      <td>76.669264</td>\n",
       "      <td>24-03-2022</td>\n",
       "      <td>11:30</td>\n",
       "      <td>11:45</td>\n",
       "      <td>Sunny</td>\n",
       "      <td>High</td>\n",
       "      <td>0</td>\n",
       "      <td>Buffet</td>\n",
       "      <td>motorcycle</td>\n",
       "      <td>3.0</td>\n",
       "      <td>No</td>\n",
       "      <td>Metropolitian</td>\n",
       "      <td>0</td>\n",
       "      <td>0</td>\n",
       "      <td>0</td>\n",
       "    </tr>\n",
       "    <tr>\n",
       "      <th>36471</th>\n",
       "      <td>31.0</td>\n",
       "      <td>4.7</td>\n",
       "      <td>12.970221</td>\n",
       "      <td>77.645396</td>\n",
       "      <td>12.980221</td>\n",
       "      <td>77.655396</td>\n",
       "      <td>13-03-2022</td>\n",
       "      <td>8:15</td>\n",
       "      <td>8:25</td>\n",
       "      <td>Sunny</td>\n",
       "      <td>Low</td>\n",
       "      <td>2</td>\n",
       "      <td>Drinks</td>\n",
       "      <td>scooter</td>\n",
       "      <td>0.0</td>\n",
       "      <td>No</td>\n",
       "      <td>missing</td>\n",
       "      <td>0</td>\n",
       "      <td>0</td>\n",
       "      <td>0</td>\n",
       "    </tr>\n",
       "    <tr>\n",
       "      <th>36472</th>\n",
       "      <td>38.0</td>\n",
       "      <td>4.2</td>\n",
       "      <td>21.175975</td>\n",
       "      <td>72.795503</td>\n",
       "      <td>21.305975</td>\n",
       "      <td>72.925503</td>\n",
       "      <td>08-03-2022</td>\n",
       "      <td>18:15</td>\n",
       "      <td>18:30</td>\n",
       "      <td>Cloudy</td>\n",
       "      <td>Medium</td>\n",
       "      <td>2</td>\n",
       "      <td>Meal</td>\n",
       "      <td>scooter</td>\n",
       "      <td>1.0</td>\n",
       "      <td>No</td>\n",
       "      <td>Metropolitian</td>\n",
       "      <td>0</td>\n",
       "      <td>0</td>\n",
       "      <td>0</td>\n",
       "    </tr>\n",
       "    <tr>\n",
       "      <th>36473</th>\n",
       "      <td>25.0</td>\n",
       "      <td>4.9</td>\n",
       "      <td>13.027018</td>\n",
       "      <td>80.254791</td>\n",
       "      <td>13.137018</td>\n",
       "      <td>80.364791</td>\n",
       "      <td>25-03-2022</td>\n",
       "      <td>20:35</td>\n",
       "      <td>20:45</td>\n",
       "      <td>Stormy</td>\n",
       "      <td>Jam</td>\n",
       "      <td>0</td>\n",
       "      <td>Meal</td>\n",
       "      <td>motorcycle</td>\n",
       "      <td>1.0</td>\n",
       "      <td>No</td>\n",
       "      <td>Metropolitian</td>\n",
       "      <td>0</td>\n",
       "      <td>0</td>\n",
       "      <td>0</td>\n",
       "    </tr>\n",
       "  </tbody>\n",
       "</table>\n",
       "<p>36474 rows × 20 columns</p>\n",
       "</div>"
      ],
      "text/plain": [
       "       Delivery_person_Age  Delivery_person_Ratings  Restaurant_latitude  \\\n",
       "0                     32.0                      4.6            12.310972   \n",
       "1                     32.0                      4.5            22.761226   \n",
       "2                     38.0                      4.9            21.175104   \n",
       "3                     27.0                      4.7            26.911927   \n",
       "4                     28.0                      4.8            12.299524   \n",
       "...                    ...                      ...                  ...   \n",
       "36469                 24.0                      5.0            12.972161   \n",
       "36470                 29.0                      3.6            12.310972   \n",
       "36471                 31.0                      4.7            12.970221   \n",
       "36472                 38.0                      4.2            21.175975   \n",
       "36473                 25.0                      4.9            13.027018   \n",
       "\n",
       "       Restaurant_longitude  Delivery_location_latitude  \\\n",
       "0                 76.659264                   12.330972   \n",
       "1                 75.887522                   22.851226   \n",
       "2                 72.804342                   21.255104   \n",
       "3                 75.797282                   26.991927   \n",
       "4                 76.642620                   12.349524   \n",
       "...                     ...                         ...   \n",
       "36469             77.596014                   13.032161   \n",
       "36470             76.659264                   12.320972   \n",
       "36471             77.645396                   12.980221   \n",
       "36472             72.795503                   21.305975   \n",
       "36473             80.254791                   13.137018   \n",
       "\n",
       "       Delivery_location_longitude  Order_Date Time_Orderd Time_Order_picked  \\\n",
       "0                        76.679264  15-03-2022       11:50             12:05   \n",
       "1                        75.977522  16-03-2022       19:40             19:45   \n",
       "2                        72.884342  31-03-2022       23:20             23:25   \n",
       "3                        75.877282  20-03-2022       20:60             21:15   \n",
       "4                        76.692620  30-03-2022       21:50             22:05   \n",
       "...                            ...         ...         ...               ...   \n",
       "36469                    77.656014  09-03-2022       23:30             23:45   \n",
       "36470                    76.669264  24-03-2022       11:30             11:45   \n",
       "36471                    77.655396  13-03-2022        8:15              8:25   \n",
       "36472                    72.925503  08-03-2022       18:15             18:30   \n",
       "36473                    80.364791  25-03-2022       20:35             20:45   \n",
       "\n",
       "          Weather Road_traffic_density  Vehicle_condition Type_of_order  \\\n",
       "0          Cloudy                 High                  1        Buffet   \n",
       "1      Sandstorms                  Jam                  1        Buffet   \n",
       "2      Sandstorms                  Low                  2          Meal   \n",
       "3          Stormy                  Jam                  1         Snack   \n",
       "4      Sandstorms                  Jam                  2        Drinks   \n",
       "...           ...                  ...                ...           ...   \n",
       "36469       Sunny                  Low                  2        Drinks   \n",
       "36470       Sunny                 High                  0        Buffet   \n",
       "36471       Sunny                  Low                  2        Drinks   \n",
       "36472      Cloudy               Medium                  2          Meal   \n",
       "36473      Stormy                  Jam                  0          Meal   \n",
       "\n",
       "        Type_of_vehicle  multiple_deliveries Festival           City  \\\n",
       "0               scooter                  1.0       No  Metropolitian   \n",
       "1            motorcycle                  0.0       No  Metropolitian   \n",
       "2            motorcycle                  1.0       No  Metropolitian   \n",
       "3            motorcycle                  1.0       No  Metropolitian   \n",
       "4      electric_scooter                  1.0       No  Metropolitian   \n",
       "...                 ...                  ...      ...            ...   \n",
       "36469  electric_scooter                  0.0       No  Metropolitian   \n",
       "36470        motorcycle                  3.0       No  Metropolitian   \n",
       "36471           scooter                  0.0       No        missing   \n",
       "36472           scooter                  1.0       No  Metropolitian   \n",
       "36473        motorcycle                  1.0       No  Metropolitian   \n",
       "\n",
       "       Delivery_person_Age_nan  Delivery_person_Ratings_nan  \\\n",
       "0                            0                            0   \n",
       "1                            0                            0   \n",
       "2                            0                            0   \n",
       "3                            0                            0   \n",
       "4                            0                            0   \n",
       "...                        ...                          ...   \n",
       "36469                        0                            0   \n",
       "36470                        0                            0   \n",
       "36471                        0                            0   \n",
       "36472                        0                            0   \n",
       "36473                        0                            0   \n",
       "\n",
       "       multiple_deliveries_nan  \n",
       "0                            0  \n",
       "1                            0  \n",
       "2                            0  \n",
       "3                            0  \n",
       "4                            0  \n",
       "...                        ...  \n",
       "36469                        0  \n",
       "36470                        0  \n",
       "36471                        0  \n",
       "36472                        0  \n",
       "36473                        0  \n",
       "\n",
       "[36474 rows x 20 columns]"
      ]
     },
     "execution_count": 52,
     "metadata": {},
     "output_type": "execute_result"
    }
   ],
   "source": [
    "transformed_data"
   ]
  },
  {
   "cell_type": "markdown",
   "id": "f2dfb636",
   "metadata": {},
   "source": [
    "#### Order Date"
   ]
  },
  {
   "cell_type": "code",
   "execution_count": 53,
   "id": "9574c79c",
   "metadata": {},
   "outputs": [],
   "source": [
    "transformed_data['Order_Date_Day'] = transformed_data['Order_Date'].str.split('-').str[0].astype(int)"
   ]
  },
  {
   "cell_type": "code",
   "execution_count": 54,
   "id": "dfeecff6",
   "metadata": {},
   "outputs": [],
   "source": [
    "transformed_data['Order_Month'] = transformed_data['Order_Date'].str.split('-').str[1].astype(int)\n",
    "transformed_data['Order-Year'] = transformed_data['Order_Date'].str.split('-').str[2].astype(int)"
   ]
  },
  {
   "cell_type": "code",
   "execution_count": 55,
   "id": "56f45bc2",
   "metadata": {},
   "outputs": [],
   "source": [
    "transformed_data.drop('Order_Date', inplace=True, axis = 1)"
   ]
  },
  {
   "cell_type": "code",
   "execution_count": 56,
   "id": "563024c9",
   "metadata": {},
   "outputs": [
    {
     "data": {
      "text/html": [
       "<div>\n",
       "<style scoped>\n",
       "    .dataframe tbody tr th:only-of-type {\n",
       "        vertical-align: middle;\n",
       "    }\n",
       "\n",
       "    .dataframe tbody tr th {\n",
       "        vertical-align: top;\n",
       "    }\n",
       "\n",
       "    .dataframe thead th {\n",
       "        text-align: right;\n",
       "    }\n",
       "</style>\n",
       "<table border=\"1\" class=\"dataframe\">\n",
       "  <thead>\n",
       "    <tr style=\"text-align: right;\">\n",
       "      <th></th>\n",
       "      <th>Delivery_person_Age</th>\n",
       "      <th>Delivery_person_Ratings</th>\n",
       "      <th>Restaurant_latitude</th>\n",
       "      <th>Restaurant_longitude</th>\n",
       "      <th>Delivery_location_latitude</th>\n",
       "      <th>Delivery_location_longitude</th>\n",
       "      <th>Time_Orderd</th>\n",
       "      <th>Time_Order_picked</th>\n",
       "      <th>Weather</th>\n",
       "      <th>Road_traffic_density</th>\n",
       "      <th>Vehicle_condition</th>\n",
       "      <th>Type_of_order</th>\n",
       "      <th>Type_of_vehicle</th>\n",
       "      <th>multiple_deliveries</th>\n",
       "      <th>Festival</th>\n",
       "      <th>City</th>\n",
       "      <th>Delivery_person_Age_nan</th>\n",
       "      <th>Delivery_person_Ratings_nan</th>\n",
       "      <th>multiple_deliveries_nan</th>\n",
       "      <th>Order_Date_Day</th>\n",
       "      <th>Order_Month</th>\n",
       "      <th>Order-Year</th>\n",
       "    </tr>\n",
       "  </thead>\n",
       "  <tbody>\n",
       "    <tr>\n",
       "      <th>0</th>\n",
       "      <td>32.0</td>\n",
       "      <td>4.6</td>\n",
       "      <td>12.310972</td>\n",
       "      <td>76.659264</td>\n",
       "      <td>12.330972</td>\n",
       "      <td>76.679264</td>\n",
       "      <td>11:50</td>\n",
       "      <td>12:05</td>\n",
       "      <td>Cloudy</td>\n",
       "      <td>High</td>\n",
       "      <td>1</td>\n",
       "      <td>Buffet</td>\n",
       "      <td>scooter</td>\n",
       "      <td>1.0</td>\n",
       "      <td>No</td>\n",
       "      <td>Metropolitian</td>\n",
       "      <td>0</td>\n",
       "      <td>0</td>\n",
       "      <td>0</td>\n",
       "      <td>15</td>\n",
       "      <td>3</td>\n",
       "      <td>2022</td>\n",
       "    </tr>\n",
       "    <tr>\n",
       "      <th>1</th>\n",
       "      <td>32.0</td>\n",
       "      <td>4.5</td>\n",
       "      <td>22.761226</td>\n",
       "      <td>75.887522</td>\n",
       "      <td>22.851226</td>\n",
       "      <td>75.977522</td>\n",
       "      <td>19:40</td>\n",
       "      <td>19:45</td>\n",
       "      <td>Sandstorms</td>\n",
       "      <td>Jam</td>\n",
       "      <td>1</td>\n",
       "      <td>Buffet</td>\n",
       "      <td>motorcycle</td>\n",
       "      <td>0.0</td>\n",
       "      <td>No</td>\n",
       "      <td>Metropolitian</td>\n",
       "      <td>0</td>\n",
       "      <td>0</td>\n",
       "      <td>0</td>\n",
       "      <td>16</td>\n",
       "      <td>3</td>\n",
       "      <td>2022</td>\n",
       "    </tr>\n",
       "    <tr>\n",
       "      <th>2</th>\n",
       "      <td>38.0</td>\n",
       "      <td>4.9</td>\n",
       "      <td>21.175104</td>\n",
       "      <td>72.804342</td>\n",
       "      <td>21.255104</td>\n",
       "      <td>72.884342</td>\n",
       "      <td>23:20</td>\n",
       "      <td>23:25</td>\n",
       "      <td>Sandstorms</td>\n",
       "      <td>Low</td>\n",
       "      <td>2</td>\n",
       "      <td>Meal</td>\n",
       "      <td>motorcycle</td>\n",
       "      <td>1.0</td>\n",
       "      <td>No</td>\n",
       "      <td>Metropolitian</td>\n",
       "      <td>0</td>\n",
       "      <td>0</td>\n",
       "      <td>0</td>\n",
       "      <td>31</td>\n",
       "      <td>3</td>\n",
       "      <td>2022</td>\n",
       "    </tr>\n",
       "    <tr>\n",
       "      <th>3</th>\n",
       "      <td>27.0</td>\n",
       "      <td>4.7</td>\n",
       "      <td>26.911927</td>\n",
       "      <td>75.797282</td>\n",
       "      <td>26.991927</td>\n",
       "      <td>75.877282</td>\n",
       "      <td>20:60</td>\n",
       "      <td>21:15</td>\n",
       "      <td>Stormy</td>\n",
       "      <td>Jam</td>\n",
       "      <td>1</td>\n",
       "      <td>Snack</td>\n",
       "      <td>motorcycle</td>\n",
       "      <td>1.0</td>\n",
       "      <td>No</td>\n",
       "      <td>Metropolitian</td>\n",
       "      <td>0</td>\n",
       "      <td>0</td>\n",
       "      <td>0</td>\n",
       "      <td>20</td>\n",
       "      <td>3</td>\n",
       "      <td>2022</td>\n",
       "    </tr>\n",
       "    <tr>\n",
       "      <th>4</th>\n",
       "      <td>28.0</td>\n",
       "      <td>4.8</td>\n",
       "      <td>12.299524</td>\n",
       "      <td>76.642620</td>\n",
       "      <td>12.349524</td>\n",
       "      <td>76.692620</td>\n",
       "      <td>21:50</td>\n",
       "      <td>22:05</td>\n",
       "      <td>Sandstorms</td>\n",
       "      <td>Jam</td>\n",
       "      <td>2</td>\n",
       "      <td>Drinks</td>\n",
       "      <td>electric_scooter</td>\n",
       "      <td>1.0</td>\n",
       "      <td>No</td>\n",
       "      <td>Metropolitian</td>\n",
       "      <td>0</td>\n",
       "      <td>0</td>\n",
       "      <td>0</td>\n",
       "      <td>30</td>\n",
       "      <td>3</td>\n",
       "      <td>2022</td>\n",
       "    </tr>\n",
       "    <tr>\n",
       "      <th>...</th>\n",
       "      <td>...</td>\n",
       "      <td>...</td>\n",
       "      <td>...</td>\n",
       "      <td>...</td>\n",
       "      <td>...</td>\n",
       "      <td>...</td>\n",
       "      <td>...</td>\n",
       "      <td>...</td>\n",
       "      <td>...</td>\n",
       "      <td>...</td>\n",
       "      <td>...</td>\n",
       "      <td>...</td>\n",
       "      <td>...</td>\n",
       "      <td>...</td>\n",
       "      <td>...</td>\n",
       "      <td>...</td>\n",
       "      <td>...</td>\n",
       "      <td>...</td>\n",
       "      <td>...</td>\n",
       "      <td>...</td>\n",
       "      <td>...</td>\n",
       "      <td>...</td>\n",
       "    </tr>\n",
       "    <tr>\n",
       "      <th>36469</th>\n",
       "      <td>24.0</td>\n",
       "      <td>5.0</td>\n",
       "      <td>12.972161</td>\n",
       "      <td>77.596014</td>\n",
       "      <td>13.032161</td>\n",
       "      <td>77.656014</td>\n",
       "      <td>23:30</td>\n",
       "      <td>23:45</td>\n",
       "      <td>Sunny</td>\n",
       "      <td>Low</td>\n",
       "      <td>2</td>\n",
       "      <td>Drinks</td>\n",
       "      <td>electric_scooter</td>\n",
       "      <td>0.0</td>\n",
       "      <td>No</td>\n",
       "      <td>Metropolitian</td>\n",
       "      <td>0</td>\n",
       "      <td>0</td>\n",
       "      <td>0</td>\n",
       "      <td>9</td>\n",
       "      <td>3</td>\n",
       "      <td>2022</td>\n",
       "    </tr>\n",
       "    <tr>\n",
       "      <th>36470</th>\n",
       "      <td>29.0</td>\n",
       "      <td>3.6</td>\n",
       "      <td>12.310972</td>\n",
       "      <td>76.659264</td>\n",
       "      <td>12.320972</td>\n",
       "      <td>76.669264</td>\n",
       "      <td>11:30</td>\n",
       "      <td>11:45</td>\n",
       "      <td>Sunny</td>\n",
       "      <td>High</td>\n",
       "      <td>0</td>\n",
       "      <td>Buffet</td>\n",
       "      <td>motorcycle</td>\n",
       "      <td>3.0</td>\n",
       "      <td>No</td>\n",
       "      <td>Metropolitian</td>\n",
       "      <td>0</td>\n",
       "      <td>0</td>\n",
       "      <td>0</td>\n",
       "      <td>24</td>\n",
       "      <td>3</td>\n",
       "      <td>2022</td>\n",
       "    </tr>\n",
       "    <tr>\n",
       "      <th>36471</th>\n",
       "      <td>31.0</td>\n",
       "      <td>4.7</td>\n",
       "      <td>12.970221</td>\n",
       "      <td>77.645396</td>\n",
       "      <td>12.980221</td>\n",
       "      <td>77.655396</td>\n",
       "      <td>8:15</td>\n",
       "      <td>8:25</td>\n",
       "      <td>Sunny</td>\n",
       "      <td>Low</td>\n",
       "      <td>2</td>\n",
       "      <td>Drinks</td>\n",
       "      <td>scooter</td>\n",
       "      <td>0.0</td>\n",
       "      <td>No</td>\n",
       "      <td>missing</td>\n",
       "      <td>0</td>\n",
       "      <td>0</td>\n",
       "      <td>0</td>\n",
       "      <td>13</td>\n",
       "      <td>3</td>\n",
       "      <td>2022</td>\n",
       "    </tr>\n",
       "    <tr>\n",
       "      <th>36472</th>\n",
       "      <td>38.0</td>\n",
       "      <td>4.2</td>\n",
       "      <td>21.175975</td>\n",
       "      <td>72.795503</td>\n",
       "      <td>21.305975</td>\n",
       "      <td>72.925503</td>\n",
       "      <td>18:15</td>\n",
       "      <td>18:30</td>\n",
       "      <td>Cloudy</td>\n",
       "      <td>Medium</td>\n",
       "      <td>2</td>\n",
       "      <td>Meal</td>\n",
       "      <td>scooter</td>\n",
       "      <td>1.0</td>\n",
       "      <td>No</td>\n",
       "      <td>Metropolitian</td>\n",
       "      <td>0</td>\n",
       "      <td>0</td>\n",
       "      <td>0</td>\n",
       "      <td>8</td>\n",
       "      <td>3</td>\n",
       "      <td>2022</td>\n",
       "    </tr>\n",
       "    <tr>\n",
       "      <th>36473</th>\n",
       "      <td>25.0</td>\n",
       "      <td>4.9</td>\n",
       "      <td>13.027018</td>\n",
       "      <td>80.254791</td>\n",
       "      <td>13.137018</td>\n",
       "      <td>80.364791</td>\n",
       "      <td>20:35</td>\n",
       "      <td>20:45</td>\n",
       "      <td>Stormy</td>\n",
       "      <td>Jam</td>\n",
       "      <td>0</td>\n",
       "      <td>Meal</td>\n",
       "      <td>motorcycle</td>\n",
       "      <td>1.0</td>\n",
       "      <td>No</td>\n",
       "      <td>Metropolitian</td>\n",
       "      <td>0</td>\n",
       "      <td>0</td>\n",
       "      <td>0</td>\n",
       "      <td>25</td>\n",
       "      <td>3</td>\n",
       "      <td>2022</td>\n",
       "    </tr>\n",
       "  </tbody>\n",
       "</table>\n",
       "<p>36474 rows × 22 columns</p>\n",
       "</div>"
      ],
      "text/plain": [
       "       Delivery_person_Age  Delivery_person_Ratings  Restaurant_latitude  \\\n",
       "0                     32.0                      4.6            12.310972   \n",
       "1                     32.0                      4.5            22.761226   \n",
       "2                     38.0                      4.9            21.175104   \n",
       "3                     27.0                      4.7            26.911927   \n",
       "4                     28.0                      4.8            12.299524   \n",
       "...                    ...                      ...                  ...   \n",
       "36469                 24.0                      5.0            12.972161   \n",
       "36470                 29.0                      3.6            12.310972   \n",
       "36471                 31.0                      4.7            12.970221   \n",
       "36472                 38.0                      4.2            21.175975   \n",
       "36473                 25.0                      4.9            13.027018   \n",
       "\n",
       "       Restaurant_longitude  Delivery_location_latitude  \\\n",
       "0                 76.659264                   12.330972   \n",
       "1                 75.887522                   22.851226   \n",
       "2                 72.804342                   21.255104   \n",
       "3                 75.797282                   26.991927   \n",
       "4                 76.642620                   12.349524   \n",
       "...                     ...                         ...   \n",
       "36469             77.596014                   13.032161   \n",
       "36470             76.659264                   12.320972   \n",
       "36471             77.645396                   12.980221   \n",
       "36472             72.795503                   21.305975   \n",
       "36473             80.254791                   13.137018   \n",
       "\n",
       "       Delivery_location_longitude Time_Orderd Time_Order_picked     Weather  \\\n",
       "0                        76.679264       11:50             12:05      Cloudy   \n",
       "1                        75.977522       19:40             19:45  Sandstorms   \n",
       "2                        72.884342       23:20             23:25  Sandstorms   \n",
       "3                        75.877282       20:60             21:15      Stormy   \n",
       "4                        76.692620       21:50             22:05  Sandstorms   \n",
       "...                            ...         ...               ...         ...   \n",
       "36469                    77.656014       23:30             23:45       Sunny   \n",
       "36470                    76.669264       11:30             11:45       Sunny   \n",
       "36471                    77.655396        8:15              8:25       Sunny   \n",
       "36472                    72.925503       18:15             18:30      Cloudy   \n",
       "36473                    80.364791       20:35             20:45      Stormy   \n",
       "\n",
       "      Road_traffic_density  Vehicle_condition Type_of_order   Type_of_vehicle  \\\n",
       "0                     High                  1        Buffet           scooter   \n",
       "1                      Jam                  1        Buffet        motorcycle   \n",
       "2                      Low                  2          Meal        motorcycle   \n",
       "3                      Jam                  1         Snack        motorcycle   \n",
       "4                      Jam                  2        Drinks  electric_scooter   \n",
       "...                    ...                ...           ...               ...   \n",
       "36469                  Low                  2        Drinks  electric_scooter   \n",
       "36470                 High                  0        Buffet        motorcycle   \n",
       "36471                  Low                  2        Drinks           scooter   \n",
       "36472               Medium                  2          Meal           scooter   \n",
       "36473                  Jam                  0          Meal        motorcycle   \n",
       "\n",
       "       multiple_deliveries Festival           City  Delivery_person_Age_nan  \\\n",
       "0                      1.0       No  Metropolitian                        0   \n",
       "1                      0.0       No  Metropolitian                        0   \n",
       "2                      1.0       No  Metropolitian                        0   \n",
       "3                      1.0       No  Metropolitian                        0   \n",
       "4                      1.0       No  Metropolitian                        0   \n",
       "...                    ...      ...            ...                      ...   \n",
       "36469                  0.0       No  Metropolitian                        0   \n",
       "36470                  3.0       No  Metropolitian                        0   \n",
       "36471                  0.0       No        missing                        0   \n",
       "36472                  1.0       No  Metropolitian                        0   \n",
       "36473                  1.0       No  Metropolitian                        0   \n",
       "\n",
       "       Delivery_person_Ratings_nan  multiple_deliveries_nan  Order_Date_Day  \\\n",
       "0                                0                        0              15   \n",
       "1                                0                        0              16   \n",
       "2                                0                        0              31   \n",
       "3                                0                        0              20   \n",
       "4                                0                        0              30   \n",
       "...                            ...                      ...             ...   \n",
       "36469                            0                        0               9   \n",
       "36470                            0                        0              24   \n",
       "36471                            0                        0              13   \n",
       "36472                            0                        0               8   \n",
       "36473                            0                        0              25   \n",
       "\n",
       "       Order_Month  Order-Year  \n",
       "0                3        2022  \n",
       "1                3        2022  \n",
       "2                3        2022  \n",
       "3                3        2022  \n",
       "4                3        2022  \n",
       "...            ...         ...  \n",
       "36469            3        2022  \n",
       "36470            3        2022  \n",
       "36471            3        2022  \n",
       "36472            3        2022  \n",
       "36473            3        2022  \n",
       "\n",
       "[36474 rows x 22 columns]"
      ]
     },
     "execution_count": 56,
     "metadata": {},
     "output_type": "execute_result"
    }
   ],
   "source": [
    "transformed_data"
   ]
  },
  {
   "cell_type": "markdown",
   "id": "08f92a89",
   "metadata": {},
   "source": [
    "### Time Order Picked"
   ]
  },
  {
   "cell_type": "code",
   "execution_count": 57,
   "id": "991bb058",
   "metadata": {},
   "outputs": [],
   "source": [
    "transformed_data['Time_Order_picked_Hr'] = transformed_data['Time_Order_picked'].str.split(':').str[0].astype(int)"
   ]
  },
  {
   "cell_type": "code",
   "execution_count": 58,
   "id": "a14636ea",
   "metadata": {},
   "outputs": [],
   "source": [
    "transformed_data['Time_Order_picked_Min'] = transformed_data['Time_Order_picked'].str.split(':').str[1].astype(int)"
   ]
  },
  {
   "cell_type": "code",
   "execution_count": 59,
   "id": "5fc62e5e",
   "metadata": {},
   "outputs": [],
   "source": [
    "transformed_data.drop(['Time_Orderd','Time_Order_picked'],axis = 1, inplace=True)"
   ]
  },
  {
   "cell_type": "code",
   "execution_count": 60,
   "id": "be89928e",
   "metadata": {},
   "outputs": [
    {
     "data": {
      "text/html": [
       "<div>\n",
       "<style scoped>\n",
       "    .dataframe tbody tr th:only-of-type {\n",
       "        vertical-align: middle;\n",
       "    }\n",
       "\n",
       "    .dataframe tbody tr th {\n",
       "        vertical-align: top;\n",
       "    }\n",
       "\n",
       "    .dataframe thead th {\n",
       "        text-align: right;\n",
       "    }\n",
       "</style>\n",
       "<table border=\"1\" class=\"dataframe\">\n",
       "  <thead>\n",
       "    <tr style=\"text-align: right;\">\n",
       "      <th></th>\n",
       "      <th>Delivery_person_Age</th>\n",
       "      <th>Delivery_person_Ratings</th>\n",
       "      <th>Restaurant_latitude</th>\n",
       "      <th>Restaurant_longitude</th>\n",
       "      <th>Delivery_location_latitude</th>\n",
       "      <th>Delivery_location_longitude</th>\n",
       "      <th>Weather</th>\n",
       "      <th>Road_traffic_density</th>\n",
       "      <th>Vehicle_condition</th>\n",
       "      <th>Type_of_order</th>\n",
       "      <th>Type_of_vehicle</th>\n",
       "      <th>multiple_deliveries</th>\n",
       "      <th>Festival</th>\n",
       "      <th>City</th>\n",
       "      <th>Delivery_person_Age_nan</th>\n",
       "      <th>Delivery_person_Ratings_nan</th>\n",
       "      <th>multiple_deliveries_nan</th>\n",
       "      <th>Order_Date_Day</th>\n",
       "      <th>Order_Month</th>\n",
       "      <th>Order-Year</th>\n",
       "      <th>Time_Order_picked_Hr</th>\n",
       "      <th>Time_Order_picked_Min</th>\n",
       "    </tr>\n",
       "  </thead>\n",
       "  <tbody>\n",
       "    <tr>\n",
       "      <th>0</th>\n",
       "      <td>32.0</td>\n",
       "      <td>4.6</td>\n",
       "      <td>12.310972</td>\n",
       "      <td>76.659264</td>\n",
       "      <td>12.330972</td>\n",
       "      <td>76.679264</td>\n",
       "      <td>Cloudy</td>\n",
       "      <td>High</td>\n",
       "      <td>1</td>\n",
       "      <td>Buffet</td>\n",
       "      <td>scooter</td>\n",
       "      <td>1.0</td>\n",
       "      <td>No</td>\n",
       "      <td>Metropolitian</td>\n",
       "      <td>0</td>\n",
       "      <td>0</td>\n",
       "      <td>0</td>\n",
       "      <td>15</td>\n",
       "      <td>3</td>\n",
       "      <td>2022</td>\n",
       "      <td>12</td>\n",
       "      <td>5</td>\n",
       "    </tr>\n",
       "    <tr>\n",
       "      <th>1</th>\n",
       "      <td>32.0</td>\n",
       "      <td>4.5</td>\n",
       "      <td>22.761226</td>\n",
       "      <td>75.887522</td>\n",
       "      <td>22.851226</td>\n",
       "      <td>75.977522</td>\n",
       "      <td>Sandstorms</td>\n",
       "      <td>Jam</td>\n",
       "      <td>1</td>\n",
       "      <td>Buffet</td>\n",
       "      <td>motorcycle</td>\n",
       "      <td>0.0</td>\n",
       "      <td>No</td>\n",
       "      <td>Metropolitian</td>\n",
       "      <td>0</td>\n",
       "      <td>0</td>\n",
       "      <td>0</td>\n",
       "      <td>16</td>\n",
       "      <td>3</td>\n",
       "      <td>2022</td>\n",
       "      <td>19</td>\n",
       "      <td>45</td>\n",
       "    </tr>\n",
       "    <tr>\n",
       "      <th>2</th>\n",
       "      <td>38.0</td>\n",
       "      <td>4.9</td>\n",
       "      <td>21.175104</td>\n",
       "      <td>72.804342</td>\n",
       "      <td>21.255104</td>\n",
       "      <td>72.884342</td>\n",
       "      <td>Sandstorms</td>\n",
       "      <td>Low</td>\n",
       "      <td>2</td>\n",
       "      <td>Meal</td>\n",
       "      <td>motorcycle</td>\n",
       "      <td>1.0</td>\n",
       "      <td>No</td>\n",
       "      <td>Metropolitian</td>\n",
       "      <td>0</td>\n",
       "      <td>0</td>\n",
       "      <td>0</td>\n",
       "      <td>31</td>\n",
       "      <td>3</td>\n",
       "      <td>2022</td>\n",
       "      <td>23</td>\n",
       "      <td>25</td>\n",
       "    </tr>\n",
       "    <tr>\n",
       "      <th>3</th>\n",
       "      <td>27.0</td>\n",
       "      <td>4.7</td>\n",
       "      <td>26.911927</td>\n",
       "      <td>75.797282</td>\n",
       "      <td>26.991927</td>\n",
       "      <td>75.877282</td>\n",
       "      <td>Stormy</td>\n",
       "      <td>Jam</td>\n",
       "      <td>1</td>\n",
       "      <td>Snack</td>\n",
       "      <td>motorcycle</td>\n",
       "      <td>1.0</td>\n",
       "      <td>No</td>\n",
       "      <td>Metropolitian</td>\n",
       "      <td>0</td>\n",
       "      <td>0</td>\n",
       "      <td>0</td>\n",
       "      <td>20</td>\n",
       "      <td>3</td>\n",
       "      <td>2022</td>\n",
       "      <td>21</td>\n",
       "      <td>15</td>\n",
       "    </tr>\n",
       "    <tr>\n",
       "      <th>4</th>\n",
       "      <td>28.0</td>\n",
       "      <td>4.8</td>\n",
       "      <td>12.299524</td>\n",
       "      <td>76.642620</td>\n",
       "      <td>12.349524</td>\n",
       "      <td>76.692620</td>\n",
       "      <td>Sandstorms</td>\n",
       "      <td>Jam</td>\n",
       "      <td>2</td>\n",
       "      <td>Drinks</td>\n",
       "      <td>electric_scooter</td>\n",
       "      <td>1.0</td>\n",
       "      <td>No</td>\n",
       "      <td>Metropolitian</td>\n",
       "      <td>0</td>\n",
       "      <td>0</td>\n",
       "      <td>0</td>\n",
       "      <td>30</td>\n",
       "      <td>3</td>\n",
       "      <td>2022</td>\n",
       "      <td>22</td>\n",
       "      <td>5</td>\n",
       "    </tr>\n",
       "    <tr>\n",
       "      <th>...</th>\n",
       "      <td>...</td>\n",
       "      <td>...</td>\n",
       "      <td>...</td>\n",
       "      <td>...</td>\n",
       "      <td>...</td>\n",
       "      <td>...</td>\n",
       "      <td>...</td>\n",
       "      <td>...</td>\n",
       "      <td>...</td>\n",
       "      <td>...</td>\n",
       "      <td>...</td>\n",
       "      <td>...</td>\n",
       "      <td>...</td>\n",
       "      <td>...</td>\n",
       "      <td>...</td>\n",
       "      <td>...</td>\n",
       "      <td>...</td>\n",
       "      <td>...</td>\n",
       "      <td>...</td>\n",
       "      <td>...</td>\n",
       "      <td>...</td>\n",
       "      <td>...</td>\n",
       "    </tr>\n",
       "    <tr>\n",
       "      <th>36469</th>\n",
       "      <td>24.0</td>\n",
       "      <td>5.0</td>\n",
       "      <td>12.972161</td>\n",
       "      <td>77.596014</td>\n",
       "      <td>13.032161</td>\n",
       "      <td>77.656014</td>\n",
       "      <td>Sunny</td>\n",
       "      <td>Low</td>\n",
       "      <td>2</td>\n",
       "      <td>Drinks</td>\n",
       "      <td>electric_scooter</td>\n",
       "      <td>0.0</td>\n",
       "      <td>No</td>\n",
       "      <td>Metropolitian</td>\n",
       "      <td>0</td>\n",
       "      <td>0</td>\n",
       "      <td>0</td>\n",
       "      <td>9</td>\n",
       "      <td>3</td>\n",
       "      <td>2022</td>\n",
       "      <td>23</td>\n",
       "      <td>45</td>\n",
       "    </tr>\n",
       "    <tr>\n",
       "      <th>36470</th>\n",
       "      <td>29.0</td>\n",
       "      <td>3.6</td>\n",
       "      <td>12.310972</td>\n",
       "      <td>76.659264</td>\n",
       "      <td>12.320972</td>\n",
       "      <td>76.669264</td>\n",
       "      <td>Sunny</td>\n",
       "      <td>High</td>\n",
       "      <td>0</td>\n",
       "      <td>Buffet</td>\n",
       "      <td>motorcycle</td>\n",
       "      <td>3.0</td>\n",
       "      <td>No</td>\n",
       "      <td>Metropolitian</td>\n",
       "      <td>0</td>\n",
       "      <td>0</td>\n",
       "      <td>0</td>\n",
       "      <td>24</td>\n",
       "      <td>3</td>\n",
       "      <td>2022</td>\n",
       "      <td>11</td>\n",
       "      <td>45</td>\n",
       "    </tr>\n",
       "    <tr>\n",
       "      <th>36471</th>\n",
       "      <td>31.0</td>\n",
       "      <td>4.7</td>\n",
       "      <td>12.970221</td>\n",
       "      <td>77.645396</td>\n",
       "      <td>12.980221</td>\n",
       "      <td>77.655396</td>\n",
       "      <td>Sunny</td>\n",
       "      <td>Low</td>\n",
       "      <td>2</td>\n",
       "      <td>Drinks</td>\n",
       "      <td>scooter</td>\n",
       "      <td>0.0</td>\n",
       "      <td>No</td>\n",
       "      <td>missing</td>\n",
       "      <td>0</td>\n",
       "      <td>0</td>\n",
       "      <td>0</td>\n",
       "      <td>13</td>\n",
       "      <td>3</td>\n",
       "      <td>2022</td>\n",
       "      <td>8</td>\n",
       "      <td>25</td>\n",
       "    </tr>\n",
       "    <tr>\n",
       "      <th>36472</th>\n",
       "      <td>38.0</td>\n",
       "      <td>4.2</td>\n",
       "      <td>21.175975</td>\n",
       "      <td>72.795503</td>\n",
       "      <td>21.305975</td>\n",
       "      <td>72.925503</td>\n",
       "      <td>Cloudy</td>\n",
       "      <td>Medium</td>\n",
       "      <td>2</td>\n",
       "      <td>Meal</td>\n",
       "      <td>scooter</td>\n",
       "      <td>1.0</td>\n",
       "      <td>No</td>\n",
       "      <td>Metropolitian</td>\n",
       "      <td>0</td>\n",
       "      <td>0</td>\n",
       "      <td>0</td>\n",
       "      <td>8</td>\n",
       "      <td>3</td>\n",
       "      <td>2022</td>\n",
       "      <td>18</td>\n",
       "      <td>30</td>\n",
       "    </tr>\n",
       "    <tr>\n",
       "      <th>36473</th>\n",
       "      <td>25.0</td>\n",
       "      <td>4.9</td>\n",
       "      <td>13.027018</td>\n",
       "      <td>80.254791</td>\n",
       "      <td>13.137018</td>\n",
       "      <td>80.364791</td>\n",
       "      <td>Stormy</td>\n",
       "      <td>Jam</td>\n",
       "      <td>0</td>\n",
       "      <td>Meal</td>\n",
       "      <td>motorcycle</td>\n",
       "      <td>1.0</td>\n",
       "      <td>No</td>\n",
       "      <td>Metropolitian</td>\n",
       "      <td>0</td>\n",
       "      <td>0</td>\n",
       "      <td>0</td>\n",
       "      <td>25</td>\n",
       "      <td>3</td>\n",
       "      <td>2022</td>\n",
       "      <td>20</td>\n",
       "      <td>45</td>\n",
       "    </tr>\n",
       "  </tbody>\n",
       "</table>\n",
       "<p>36474 rows × 22 columns</p>\n",
       "</div>"
      ],
      "text/plain": [
       "       Delivery_person_Age  Delivery_person_Ratings  Restaurant_latitude  \\\n",
       "0                     32.0                      4.6            12.310972   \n",
       "1                     32.0                      4.5            22.761226   \n",
       "2                     38.0                      4.9            21.175104   \n",
       "3                     27.0                      4.7            26.911927   \n",
       "4                     28.0                      4.8            12.299524   \n",
       "...                    ...                      ...                  ...   \n",
       "36469                 24.0                      5.0            12.972161   \n",
       "36470                 29.0                      3.6            12.310972   \n",
       "36471                 31.0                      4.7            12.970221   \n",
       "36472                 38.0                      4.2            21.175975   \n",
       "36473                 25.0                      4.9            13.027018   \n",
       "\n",
       "       Restaurant_longitude  Delivery_location_latitude  \\\n",
       "0                 76.659264                   12.330972   \n",
       "1                 75.887522                   22.851226   \n",
       "2                 72.804342                   21.255104   \n",
       "3                 75.797282                   26.991927   \n",
       "4                 76.642620                   12.349524   \n",
       "...                     ...                         ...   \n",
       "36469             77.596014                   13.032161   \n",
       "36470             76.659264                   12.320972   \n",
       "36471             77.645396                   12.980221   \n",
       "36472             72.795503                   21.305975   \n",
       "36473             80.254791                   13.137018   \n",
       "\n",
       "       Delivery_location_longitude     Weather Road_traffic_density  \\\n",
       "0                        76.679264      Cloudy                 High   \n",
       "1                        75.977522  Sandstorms                  Jam   \n",
       "2                        72.884342  Sandstorms                  Low   \n",
       "3                        75.877282      Stormy                  Jam   \n",
       "4                        76.692620  Sandstorms                  Jam   \n",
       "...                            ...         ...                  ...   \n",
       "36469                    77.656014       Sunny                  Low   \n",
       "36470                    76.669264       Sunny                 High   \n",
       "36471                    77.655396       Sunny                  Low   \n",
       "36472                    72.925503      Cloudy               Medium   \n",
       "36473                    80.364791      Stormy                  Jam   \n",
       "\n",
       "       Vehicle_condition Type_of_order   Type_of_vehicle  multiple_deliveries  \\\n",
       "0                      1        Buffet           scooter                  1.0   \n",
       "1                      1        Buffet        motorcycle                  0.0   \n",
       "2                      2          Meal        motorcycle                  1.0   \n",
       "3                      1         Snack        motorcycle                  1.0   \n",
       "4                      2        Drinks  electric_scooter                  1.0   \n",
       "...                  ...           ...               ...                  ...   \n",
       "36469                  2        Drinks  electric_scooter                  0.0   \n",
       "36470                  0        Buffet        motorcycle                  3.0   \n",
       "36471                  2        Drinks           scooter                  0.0   \n",
       "36472                  2          Meal           scooter                  1.0   \n",
       "36473                  0          Meal        motorcycle                  1.0   \n",
       "\n",
       "      Festival           City  Delivery_person_Age_nan  \\\n",
       "0           No  Metropolitian                        0   \n",
       "1           No  Metropolitian                        0   \n",
       "2           No  Metropolitian                        0   \n",
       "3           No  Metropolitian                        0   \n",
       "4           No  Metropolitian                        0   \n",
       "...        ...            ...                      ...   \n",
       "36469       No  Metropolitian                        0   \n",
       "36470       No  Metropolitian                        0   \n",
       "36471       No        missing                        0   \n",
       "36472       No  Metropolitian                        0   \n",
       "36473       No  Metropolitian                        0   \n",
       "\n",
       "       Delivery_person_Ratings_nan  multiple_deliveries_nan  Order_Date_Day  \\\n",
       "0                                0                        0              15   \n",
       "1                                0                        0              16   \n",
       "2                                0                        0              31   \n",
       "3                                0                        0              20   \n",
       "4                                0                        0              30   \n",
       "...                            ...                      ...             ...   \n",
       "36469                            0                        0               9   \n",
       "36470                            0                        0              24   \n",
       "36471                            0                        0              13   \n",
       "36472                            0                        0               8   \n",
       "36473                            0                        0              25   \n",
       "\n",
       "       Order_Month  Order-Year  Time_Order_picked_Hr  Time_Order_picked_Min  \n",
       "0                3        2022                    12                      5  \n",
       "1                3        2022                    19                     45  \n",
       "2                3        2022                    23                     25  \n",
       "3                3        2022                    21                     15  \n",
       "4                3        2022                    22                      5  \n",
       "...            ...         ...                   ...                    ...  \n",
       "36469            3        2022                    23                     45  \n",
       "36470            3        2022                    11                     45  \n",
       "36471            3        2022                     8                     25  \n",
       "36472            3        2022                    18                     30  \n",
       "36473            3        2022                    20                     45  \n",
       "\n",
       "[36474 rows x 22 columns]"
      ]
     },
     "execution_count": 60,
     "metadata": {},
     "output_type": "execute_result"
    }
   ],
   "source": [
    "transformed_data"
   ]
  },
  {
   "cell_type": "markdown",
   "id": "34a1e0a9",
   "metadata": {},
   "source": [
    "# Final Pipeline 3:\n",
    "\n",
    "1. Extract Day from Date Ordered to create new feature. Month seems uniform\n",
    "\n",
    "2. Extract Hour from Time Order Picked. Minute seens uniform\n",
    "    "
   ]
  },
  {
   "cell_type": "code",
   "execution_count": null,
   "id": "684f6ec5",
   "metadata": {},
   "outputs": [],
   "source": []
  },
  {
   "cell_type": "markdown",
   "id": "ec6333c1",
   "metadata": {},
   "source": [
    "# Handling Categorical Features"
   ]
  },
  {
   "cell_type": "code",
   "execution_count": 61,
   "id": "9fbdab1e",
   "metadata": {},
   "outputs": [
    {
     "data": {
      "text/plain": [
       "['Type_of_order',\n",
       " 'Festival',\n",
       " 'Weather',\n",
       " 'Road_traffic_density',\n",
       " 'City',\n",
       " 'Type_of_vehicle']"
      ]
     },
     "execution_count": 61,
     "metadata": {},
     "output_type": "execute_result"
    }
   ],
   "source": [
    "categorical_features"
   ]
  },
  {
   "cell_type": "code",
   "execution_count": 62,
   "id": "5b28f80f",
   "metadata": {},
   "outputs": [
    {
     "name": "stdout",
     "output_type": "stream",
     "text": [
      "For feature : Type_of_order, the unique features are ['Buffet' 'Meal' 'Snack' 'Drinks']\n",
      "--------------------------------------------------\n",
      "For feature : Festival, the unique features are ['No' 'Yes' 'missing']\n",
      "--------------------------------------------------\n",
      "For feature : Weather, the unique features are ['Cloudy' 'Sandstorms' 'Stormy' 'Windy' 'Sunny' 'Fog' 'missing']\n",
      "--------------------------------------------------\n",
      "For feature : Road_traffic_density, the unique features are ['High' 'Jam' 'Low' 'Medium' 'missing']\n",
      "--------------------------------------------------\n",
      "For feature : City, the unique features are ['Metropolitian' 'Urban' 'Semi-Urban' 'missing']\n",
      "--------------------------------------------------\n",
      "For feature : Type_of_vehicle, the unique features are ['scooter' 'motorcycle' 'electric_scooter' 'bicycle']\n",
      "--------------------------------------------------\n"
     ]
    }
   ],
   "source": [
    "for feature in categorical_features:\n",
    "    print(f\"For feature : {feature}, the unique features are {transformed_data[feature].unique()}\")\n",
    "    print(\"--------------------------------------------------\")"
   ]
  },
  {
   "cell_type": "markdown",
   "id": "55c01ca0",
   "metadata": {},
   "source": [
    "## Type of categorical features\n",
    "\n",
    "City, Whether, Type of vehicle, Type of order are nominal\n",
    "\n",
    "Festival, Road Traffic Density are Ordinal"
   ]
  },
  {
   "cell_type": "code",
   "execution_count": 63,
   "id": "4e56a5ea",
   "metadata": {},
   "outputs": [],
   "source": [
    "ordinal_features = ['Festival','Road_traffic_density']"
   ]
  },
  {
   "cell_type": "code",
   "execution_count": 64,
   "id": "865e9c31",
   "metadata": {},
   "outputs": [],
   "source": [
    "nominal_features = list(set(categorical_features) - set(ordinal_features))"
   ]
  },
  {
   "cell_type": "code",
   "execution_count": null,
   "id": "387505cc",
   "metadata": {},
   "outputs": [],
   "source": []
  },
  {
   "cell_type": "markdown",
   "id": "a259017e",
   "metadata": {},
   "source": [
    "## Label Encoding on Ordinal Features"
   ]
  },
  {
   "cell_type": "markdown",
   "id": "c9e3d13c",
   "metadata": {},
   "source": [
    "Festival: \n",
    "\n",
    "Possible values: 'No', 'Yes', 'missing'.\n",
    "\n",
    "Will assign :\n",
    "\n",
    "'No': 0\n",
    "\n",
    "'Yes': 1\n",
    "\n",
    "'missing' : 0  (No is the mode)"
   ]
  },
  {
   "cell_type": "code",
   "execution_count": 65,
   "id": "26a78e7d",
   "metadata": {},
   "outputs": [],
   "source": [
    "transformed_data['Festival'] = transformed_data['Festival'].map({\n",
    "    'No':0,\n",
    "    'Yes':1,\n",
    "    'missing':0\n",
    "    \n",
    "})"
   ]
  },
  {
   "cell_type": "markdown",
   "id": "f2386968",
   "metadata": {},
   "source": [
    "Road Traffic Density:\n",
    "\n",
    "Possible values:\n",
    "\n",
    "'High' 'Jam' 'Low' 'Medium' 'missing'\n",
    "\n",
    "\n",
    "Will assign:\n",
    "\n",
    "'Low' : 0\n",
    "\n",
    "'Medium' : 1\n",
    "\n",
    "'High' : 2\n",
    "\n",
    "'Jam':3\n",
    "\n",
    "'missing' : 0 (Low is the mode)"
   ]
  },
  {
   "cell_type": "code",
   "execution_count": 66,
   "id": "cf30c39f",
   "metadata": {},
   "outputs": [],
   "source": [
    "transformed_data['Road_traffic_density']=transformed_data['Road_traffic_density'].map({\n",
    "    'Low':0,\n",
    "    'Medium' : 1,\n",
    "    'High' : 2,\n",
    "    'Jam':3,\n",
    "    'missing' : 0\n",
    "})"
   ]
  },
  {
   "cell_type": "code",
   "execution_count": 67,
   "id": "4a76b4db",
   "metadata": {},
   "outputs": [
    {
     "data": {
      "text/plain": [
       "0    12848\n",
       "3    11325\n",
       "1     8761\n",
       "2     3540\n",
       "Name: Road_traffic_density, dtype: int64"
      ]
     },
     "execution_count": 67,
     "metadata": {},
     "output_type": "execute_result"
    }
   ],
   "source": [
    "transformed_data['Road_traffic_density'].value_counts()"
   ]
  },
  {
   "cell_type": "markdown",
   "id": "1bf719dd",
   "metadata": {},
   "source": [
    "# Final Preprocess Pipeline 3:\n",
    "\n",
    "Use Label Encoding on Road Traffic Density and Festival"
   ]
  },
  {
   "cell_type": "markdown",
   "id": "a24921b5",
   "metadata": {},
   "source": [
    "## OHE Nominal Variables"
   ]
  },
  {
   "cell_type": "code",
   "execution_count": 68,
   "id": "f28a7f38",
   "metadata": {},
   "outputs": [
    {
     "data": {
      "text/plain": [
       "['Type_of_order', 'City', 'Type_of_vehicle', 'Weather']"
      ]
     },
     "execution_count": 68,
     "metadata": {},
     "output_type": "execute_result"
    }
   ],
   "source": [
    "nominal_features"
   ]
  },
  {
   "cell_type": "code",
   "execution_count": 69,
   "id": "6b93c3bf",
   "metadata": {},
   "outputs": [],
   "source": [
    "ohe_encoder = OneHotEncoder(handle_unknown='ignore',sparse=False)"
   ]
  },
  {
   "cell_type": "code",
   "execution_count": 70,
   "id": "441195c6",
   "metadata": {},
   "outputs": [
    {
     "data": {
      "text/html": [
       "<style>#sk-container-id-2 {color: black;background-color: white;}#sk-container-id-2 pre{padding: 0;}#sk-container-id-2 div.sk-toggleable {background-color: white;}#sk-container-id-2 label.sk-toggleable__label {cursor: pointer;display: block;width: 100%;margin-bottom: 0;padding: 0.3em;box-sizing: border-box;text-align: center;}#sk-container-id-2 label.sk-toggleable__label-arrow:before {content: \"▸\";float: left;margin-right: 0.25em;color: #696969;}#sk-container-id-2 label.sk-toggleable__label-arrow:hover:before {color: black;}#sk-container-id-2 div.sk-estimator:hover label.sk-toggleable__label-arrow:before {color: black;}#sk-container-id-2 div.sk-toggleable__content {max-height: 0;max-width: 0;overflow: hidden;text-align: left;background-color: #f0f8ff;}#sk-container-id-2 div.sk-toggleable__content pre {margin: 0.2em;color: black;border-radius: 0.25em;background-color: #f0f8ff;}#sk-container-id-2 input.sk-toggleable__control:checked~div.sk-toggleable__content {max-height: 200px;max-width: 100%;overflow: auto;}#sk-container-id-2 input.sk-toggleable__control:checked~label.sk-toggleable__label-arrow:before {content: \"▾\";}#sk-container-id-2 div.sk-estimator input.sk-toggleable__control:checked~label.sk-toggleable__label {background-color: #d4ebff;}#sk-container-id-2 div.sk-label input.sk-toggleable__control:checked~label.sk-toggleable__label {background-color: #d4ebff;}#sk-container-id-2 input.sk-hidden--visually {border: 0;clip: rect(1px 1px 1px 1px);clip: rect(1px, 1px, 1px, 1px);height: 1px;margin: -1px;overflow: hidden;padding: 0;position: absolute;width: 1px;}#sk-container-id-2 div.sk-estimator {font-family: monospace;background-color: #f0f8ff;border: 1px dotted black;border-radius: 0.25em;box-sizing: border-box;margin-bottom: 0.5em;}#sk-container-id-2 div.sk-estimator:hover {background-color: #d4ebff;}#sk-container-id-2 div.sk-parallel-item::after {content: \"\";width: 100%;border-bottom: 1px solid gray;flex-grow: 1;}#sk-container-id-2 div.sk-label:hover label.sk-toggleable__label {background-color: #d4ebff;}#sk-container-id-2 div.sk-serial::before {content: \"\";position: absolute;border-left: 1px solid gray;box-sizing: border-box;top: 0;bottom: 0;left: 50%;z-index: 0;}#sk-container-id-2 div.sk-serial {display: flex;flex-direction: column;align-items: center;background-color: white;padding-right: 0.2em;padding-left: 0.2em;position: relative;}#sk-container-id-2 div.sk-item {position: relative;z-index: 1;}#sk-container-id-2 div.sk-parallel {display: flex;align-items: stretch;justify-content: center;background-color: white;position: relative;}#sk-container-id-2 div.sk-item::before, #sk-container-id-2 div.sk-parallel-item::before {content: \"\";position: absolute;border-left: 1px solid gray;box-sizing: border-box;top: 0;bottom: 0;left: 50%;z-index: -1;}#sk-container-id-2 div.sk-parallel-item {display: flex;flex-direction: column;z-index: 1;position: relative;background-color: white;}#sk-container-id-2 div.sk-parallel-item:first-child::after {align-self: flex-end;width: 50%;}#sk-container-id-2 div.sk-parallel-item:last-child::after {align-self: flex-start;width: 50%;}#sk-container-id-2 div.sk-parallel-item:only-child::after {width: 0;}#sk-container-id-2 div.sk-dashed-wrapped {border: 1px dashed gray;margin: 0 0.4em 0.5em 0.4em;box-sizing: border-box;padding-bottom: 0.4em;background-color: white;}#sk-container-id-2 div.sk-label label {font-family: monospace;font-weight: bold;display: inline-block;line-height: 1.2em;}#sk-container-id-2 div.sk-label-container {text-align: center;}#sk-container-id-2 div.sk-container {/* jupyter's `normalize.less` sets `[hidden] { display: none; }` but bootstrap.min.css set `[hidden] { display: none !important; }` so we also need the `!important` here to be able to override the default hidden behavior on the sphinx rendered scikit-learn.org. See: https://github.com/scikit-learn/scikit-learn/issues/21755 */display: inline-block !important;position: relative;}#sk-container-id-2 div.sk-text-repr-fallback {display: none;}</style><div id=\"sk-container-id-2\" class=\"sk-top-container\"><div class=\"sk-text-repr-fallback\"><pre>OneHotEncoder(handle_unknown=&#x27;ignore&#x27;, sparse=False)</pre><b>In a Jupyter environment, please rerun this cell to show the HTML representation or trust the notebook. <br />On GitHub, the HTML representation is unable to render, please try loading this page with nbviewer.org.</b></div><div class=\"sk-container\" hidden><div class=\"sk-item\"><div class=\"sk-estimator sk-toggleable\"><input class=\"sk-toggleable__control sk-hidden--visually\" id=\"sk-estimator-id-2\" type=\"checkbox\" checked><label for=\"sk-estimator-id-2\" class=\"sk-toggleable__label sk-toggleable__label-arrow\">OneHotEncoder</label><div class=\"sk-toggleable__content\"><pre>OneHotEncoder(handle_unknown=&#x27;ignore&#x27;, sparse=False)</pre></div></div></div></div></div>"
      ],
      "text/plain": [
       "OneHotEncoder(handle_unknown='ignore', sparse=False)"
      ]
     },
     "execution_count": 70,
     "metadata": {},
     "output_type": "execute_result"
    }
   ],
   "source": [
    "ohe_encoder.fit(transformed_data[nominal_features])"
   ]
  },
  {
   "cell_type": "code",
   "execution_count": 71,
   "id": "98c9a519",
   "metadata": {},
   "outputs": [],
   "source": [
    "ohe_transformed_array = ohe_encoder.transform(transformed_data[nominal_features])"
   ]
  },
  {
   "cell_type": "code",
   "execution_count": 72,
   "id": "27ecfbcb",
   "metadata": {},
   "outputs": [
    {
     "name": "stderr",
     "output_type": "stream",
     "text": [
      "C:\\Users\\rachi\\anaconda3\\lib\\site-packages\\sklearn\\utils\\deprecation.py:87: FutureWarning: Function get_feature_names is deprecated; get_feature_names is deprecated in 1.0 and will be removed in 1.2. Please use get_feature_names_out instead.\n",
      "  warnings.warn(msg, category=FutureWarning)\n"
     ]
    }
   ],
   "source": [
    "ohe_df = pd.DataFrame(ohe_transformed_array,columns=ohe_encoder.get_feature_names(input_features=nominal_features))"
   ]
  },
  {
   "cell_type": "code",
   "execution_count": 73,
   "id": "beefb846",
   "metadata": {},
   "outputs": [],
   "source": [
    "transformed_data = pd.concat([transformed_data,ohe_df],axis = 1).drop(nominal_features,axis=1)"
   ]
  },
  {
   "cell_type": "code",
   "execution_count": 74,
   "id": "f9c0fb6e",
   "metadata": {},
   "outputs": [
    {
     "data": {
      "text/html": [
       "<div>\n",
       "<style scoped>\n",
       "    .dataframe tbody tr th:only-of-type {\n",
       "        vertical-align: middle;\n",
       "    }\n",
       "\n",
       "    .dataframe tbody tr th {\n",
       "        vertical-align: top;\n",
       "    }\n",
       "\n",
       "    .dataframe thead th {\n",
       "        text-align: right;\n",
       "    }\n",
       "</style>\n",
       "<table border=\"1\" class=\"dataframe\">\n",
       "  <thead>\n",
       "    <tr style=\"text-align: right;\">\n",
       "      <th></th>\n",
       "      <th>Delivery_person_Age</th>\n",
       "      <th>Delivery_person_Ratings</th>\n",
       "      <th>Restaurant_latitude</th>\n",
       "      <th>Restaurant_longitude</th>\n",
       "      <th>Delivery_location_latitude</th>\n",
       "      <th>Delivery_location_longitude</th>\n",
       "      <th>Road_traffic_density</th>\n",
       "      <th>Vehicle_condition</th>\n",
       "      <th>multiple_deliveries</th>\n",
       "      <th>Festival</th>\n",
       "      <th>Delivery_person_Age_nan</th>\n",
       "      <th>Delivery_person_Ratings_nan</th>\n",
       "      <th>multiple_deliveries_nan</th>\n",
       "      <th>Order_Date_Day</th>\n",
       "      <th>Order_Month</th>\n",
       "      <th>Order-Year</th>\n",
       "      <th>Time_Order_picked_Hr</th>\n",
       "      <th>Time_Order_picked_Min</th>\n",
       "      <th>Type_of_order_Buffet</th>\n",
       "      <th>Type_of_order_Drinks</th>\n",
       "      <th>Type_of_order_Meal</th>\n",
       "      <th>Type_of_order_Snack</th>\n",
       "      <th>City_Metropolitian</th>\n",
       "      <th>City_Semi-Urban</th>\n",
       "      <th>City_Urban</th>\n",
       "      <th>City_missing</th>\n",
       "      <th>Type_of_vehicle_bicycle</th>\n",
       "      <th>Type_of_vehicle_electric_scooter</th>\n",
       "      <th>Type_of_vehicle_motorcycle</th>\n",
       "      <th>Type_of_vehicle_scooter</th>\n",
       "      <th>Weather_Cloudy</th>\n",
       "      <th>Weather_Fog</th>\n",
       "      <th>Weather_Sandstorms</th>\n",
       "      <th>Weather_Stormy</th>\n",
       "      <th>Weather_Sunny</th>\n",
       "      <th>Weather_Windy</th>\n",
       "      <th>Weather_missing</th>\n",
       "    </tr>\n",
       "  </thead>\n",
       "  <tbody>\n",
       "    <tr>\n",
       "      <th>0</th>\n",
       "      <td>32.0</td>\n",
       "      <td>4.6</td>\n",
       "      <td>12.310972</td>\n",
       "      <td>76.659264</td>\n",
       "      <td>12.330972</td>\n",
       "      <td>76.679264</td>\n",
       "      <td>2</td>\n",
       "      <td>1</td>\n",
       "      <td>1.0</td>\n",
       "      <td>0</td>\n",
       "      <td>0</td>\n",
       "      <td>0</td>\n",
       "      <td>0</td>\n",
       "      <td>15</td>\n",
       "      <td>3</td>\n",
       "      <td>2022</td>\n",
       "      <td>12</td>\n",
       "      <td>5</td>\n",
       "      <td>1.0</td>\n",
       "      <td>0.0</td>\n",
       "      <td>0.0</td>\n",
       "      <td>0.0</td>\n",
       "      <td>1.0</td>\n",
       "      <td>0.0</td>\n",
       "      <td>0.0</td>\n",
       "      <td>0.0</td>\n",
       "      <td>0.0</td>\n",
       "      <td>0.0</td>\n",
       "      <td>0.0</td>\n",
       "      <td>1.0</td>\n",
       "      <td>1.0</td>\n",
       "      <td>0.0</td>\n",
       "      <td>0.0</td>\n",
       "      <td>0.0</td>\n",
       "      <td>0.0</td>\n",
       "      <td>0.0</td>\n",
       "      <td>0.0</td>\n",
       "    </tr>\n",
       "    <tr>\n",
       "      <th>1</th>\n",
       "      <td>32.0</td>\n",
       "      <td>4.5</td>\n",
       "      <td>22.761226</td>\n",
       "      <td>75.887522</td>\n",
       "      <td>22.851226</td>\n",
       "      <td>75.977522</td>\n",
       "      <td>3</td>\n",
       "      <td>1</td>\n",
       "      <td>0.0</td>\n",
       "      <td>0</td>\n",
       "      <td>0</td>\n",
       "      <td>0</td>\n",
       "      <td>0</td>\n",
       "      <td>16</td>\n",
       "      <td>3</td>\n",
       "      <td>2022</td>\n",
       "      <td>19</td>\n",
       "      <td>45</td>\n",
       "      <td>1.0</td>\n",
       "      <td>0.0</td>\n",
       "      <td>0.0</td>\n",
       "      <td>0.0</td>\n",
       "      <td>1.0</td>\n",
       "      <td>0.0</td>\n",
       "      <td>0.0</td>\n",
       "      <td>0.0</td>\n",
       "      <td>0.0</td>\n",
       "      <td>0.0</td>\n",
       "      <td>1.0</td>\n",
       "      <td>0.0</td>\n",
       "      <td>0.0</td>\n",
       "      <td>0.0</td>\n",
       "      <td>1.0</td>\n",
       "      <td>0.0</td>\n",
       "      <td>0.0</td>\n",
       "      <td>0.0</td>\n",
       "      <td>0.0</td>\n",
       "    </tr>\n",
       "    <tr>\n",
       "      <th>2</th>\n",
       "      <td>38.0</td>\n",
       "      <td>4.9</td>\n",
       "      <td>21.175104</td>\n",
       "      <td>72.804342</td>\n",
       "      <td>21.255104</td>\n",
       "      <td>72.884342</td>\n",
       "      <td>0</td>\n",
       "      <td>2</td>\n",
       "      <td>1.0</td>\n",
       "      <td>0</td>\n",
       "      <td>0</td>\n",
       "      <td>0</td>\n",
       "      <td>0</td>\n",
       "      <td>31</td>\n",
       "      <td>3</td>\n",
       "      <td>2022</td>\n",
       "      <td>23</td>\n",
       "      <td>25</td>\n",
       "      <td>0.0</td>\n",
       "      <td>0.0</td>\n",
       "      <td>1.0</td>\n",
       "      <td>0.0</td>\n",
       "      <td>1.0</td>\n",
       "      <td>0.0</td>\n",
       "      <td>0.0</td>\n",
       "      <td>0.0</td>\n",
       "      <td>0.0</td>\n",
       "      <td>0.0</td>\n",
       "      <td>1.0</td>\n",
       "      <td>0.0</td>\n",
       "      <td>0.0</td>\n",
       "      <td>0.0</td>\n",
       "      <td>1.0</td>\n",
       "      <td>0.0</td>\n",
       "      <td>0.0</td>\n",
       "      <td>0.0</td>\n",
       "      <td>0.0</td>\n",
       "    </tr>\n",
       "    <tr>\n",
       "      <th>3</th>\n",
       "      <td>27.0</td>\n",
       "      <td>4.7</td>\n",
       "      <td>26.911927</td>\n",
       "      <td>75.797282</td>\n",
       "      <td>26.991927</td>\n",
       "      <td>75.877282</td>\n",
       "      <td>3</td>\n",
       "      <td>1</td>\n",
       "      <td>1.0</td>\n",
       "      <td>0</td>\n",
       "      <td>0</td>\n",
       "      <td>0</td>\n",
       "      <td>0</td>\n",
       "      <td>20</td>\n",
       "      <td>3</td>\n",
       "      <td>2022</td>\n",
       "      <td>21</td>\n",
       "      <td>15</td>\n",
       "      <td>0.0</td>\n",
       "      <td>0.0</td>\n",
       "      <td>0.0</td>\n",
       "      <td>1.0</td>\n",
       "      <td>1.0</td>\n",
       "      <td>0.0</td>\n",
       "      <td>0.0</td>\n",
       "      <td>0.0</td>\n",
       "      <td>0.0</td>\n",
       "      <td>0.0</td>\n",
       "      <td>1.0</td>\n",
       "      <td>0.0</td>\n",
       "      <td>0.0</td>\n",
       "      <td>0.0</td>\n",
       "      <td>0.0</td>\n",
       "      <td>1.0</td>\n",
       "      <td>0.0</td>\n",
       "      <td>0.0</td>\n",
       "      <td>0.0</td>\n",
       "    </tr>\n",
       "    <tr>\n",
       "      <th>4</th>\n",
       "      <td>28.0</td>\n",
       "      <td>4.8</td>\n",
       "      <td>12.299524</td>\n",
       "      <td>76.642620</td>\n",
       "      <td>12.349524</td>\n",
       "      <td>76.692620</td>\n",
       "      <td>3</td>\n",
       "      <td>2</td>\n",
       "      <td>1.0</td>\n",
       "      <td>0</td>\n",
       "      <td>0</td>\n",
       "      <td>0</td>\n",
       "      <td>0</td>\n",
       "      <td>30</td>\n",
       "      <td>3</td>\n",
       "      <td>2022</td>\n",
       "      <td>22</td>\n",
       "      <td>5</td>\n",
       "      <td>0.0</td>\n",
       "      <td>1.0</td>\n",
       "      <td>0.0</td>\n",
       "      <td>0.0</td>\n",
       "      <td>1.0</td>\n",
       "      <td>0.0</td>\n",
       "      <td>0.0</td>\n",
       "      <td>0.0</td>\n",
       "      <td>0.0</td>\n",
       "      <td>1.0</td>\n",
       "      <td>0.0</td>\n",
       "      <td>0.0</td>\n",
       "      <td>0.0</td>\n",
       "      <td>0.0</td>\n",
       "      <td>1.0</td>\n",
       "      <td>0.0</td>\n",
       "      <td>0.0</td>\n",
       "      <td>0.0</td>\n",
       "      <td>0.0</td>\n",
       "    </tr>\n",
       "    <tr>\n",
       "      <th>...</th>\n",
       "      <td>...</td>\n",
       "      <td>...</td>\n",
       "      <td>...</td>\n",
       "      <td>...</td>\n",
       "      <td>...</td>\n",
       "      <td>...</td>\n",
       "      <td>...</td>\n",
       "      <td>...</td>\n",
       "      <td>...</td>\n",
       "      <td>...</td>\n",
       "      <td>...</td>\n",
       "      <td>...</td>\n",
       "      <td>...</td>\n",
       "      <td>...</td>\n",
       "      <td>...</td>\n",
       "      <td>...</td>\n",
       "      <td>...</td>\n",
       "      <td>...</td>\n",
       "      <td>...</td>\n",
       "      <td>...</td>\n",
       "      <td>...</td>\n",
       "      <td>...</td>\n",
       "      <td>...</td>\n",
       "      <td>...</td>\n",
       "      <td>...</td>\n",
       "      <td>...</td>\n",
       "      <td>...</td>\n",
       "      <td>...</td>\n",
       "      <td>...</td>\n",
       "      <td>...</td>\n",
       "      <td>...</td>\n",
       "      <td>...</td>\n",
       "      <td>...</td>\n",
       "      <td>...</td>\n",
       "      <td>...</td>\n",
       "      <td>...</td>\n",
       "      <td>...</td>\n",
       "    </tr>\n",
       "    <tr>\n",
       "      <th>36469</th>\n",
       "      <td>24.0</td>\n",
       "      <td>5.0</td>\n",
       "      <td>12.972161</td>\n",
       "      <td>77.596014</td>\n",
       "      <td>13.032161</td>\n",
       "      <td>77.656014</td>\n",
       "      <td>0</td>\n",
       "      <td>2</td>\n",
       "      <td>0.0</td>\n",
       "      <td>0</td>\n",
       "      <td>0</td>\n",
       "      <td>0</td>\n",
       "      <td>0</td>\n",
       "      <td>9</td>\n",
       "      <td>3</td>\n",
       "      <td>2022</td>\n",
       "      <td>23</td>\n",
       "      <td>45</td>\n",
       "      <td>0.0</td>\n",
       "      <td>1.0</td>\n",
       "      <td>0.0</td>\n",
       "      <td>0.0</td>\n",
       "      <td>1.0</td>\n",
       "      <td>0.0</td>\n",
       "      <td>0.0</td>\n",
       "      <td>0.0</td>\n",
       "      <td>0.0</td>\n",
       "      <td>1.0</td>\n",
       "      <td>0.0</td>\n",
       "      <td>0.0</td>\n",
       "      <td>0.0</td>\n",
       "      <td>0.0</td>\n",
       "      <td>0.0</td>\n",
       "      <td>0.0</td>\n",
       "      <td>1.0</td>\n",
       "      <td>0.0</td>\n",
       "      <td>0.0</td>\n",
       "    </tr>\n",
       "    <tr>\n",
       "      <th>36470</th>\n",
       "      <td>29.0</td>\n",
       "      <td>3.6</td>\n",
       "      <td>12.310972</td>\n",
       "      <td>76.659264</td>\n",
       "      <td>12.320972</td>\n",
       "      <td>76.669264</td>\n",
       "      <td>2</td>\n",
       "      <td>0</td>\n",
       "      <td>3.0</td>\n",
       "      <td>0</td>\n",
       "      <td>0</td>\n",
       "      <td>0</td>\n",
       "      <td>0</td>\n",
       "      <td>24</td>\n",
       "      <td>3</td>\n",
       "      <td>2022</td>\n",
       "      <td>11</td>\n",
       "      <td>45</td>\n",
       "      <td>1.0</td>\n",
       "      <td>0.0</td>\n",
       "      <td>0.0</td>\n",
       "      <td>0.0</td>\n",
       "      <td>1.0</td>\n",
       "      <td>0.0</td>\n",
       "      <td>0.0</td>\n",
       "      <td>0.0</td>\n",
       "      <td>0.0</td>\n",
       "      <td>0.0</td>\n",
       "      <td>1.0</td>\n",
       "      <td>0.0</td>\n",
       "      <td>0.0</td>\n",
       "      <td>0.0</td>\n",
       "      <td>0.0</td>\n",
       "      <td>0.0</td>\n",
       "      <td>1.0</td>\n",
       "      <td>0.0</td>\n",
       "      <td>0.0</td>\n",
       "    </tr>\n",
       "    <tr>\n",
       "      <th>36471</th>\n",
       "      <td>31.0</td>\n",
       "      <td>4.7</td>\n",
       "      <td>12.970221</td>\n",
       "      <td>77.645396</td>\n",
       "      <td>12.980221</td>\n",
       "      <td>77.655396</td>\n",
       "      <td>0</td>\n",
       "      <td>2</td>\n",
       "      <td>0.0</td>\n",
       "      <td>0</td>\n",
       "      <td>0</td>\n",
       "      <td>0</td>\n",
       "      <td>0</td>\n",
       "      <td>13</td>\n",
       "      <td>3</td>\n",
       "      <td>2022</td>\n",
       "      <td>8</td>\n",
       "      <td>25</td>\n",
       "      <td>0.0</td>\n",
       "      <td>1.0</td>\n",
       "      <td>0.0</td>\n",
       "      <td>0.0</td>\n",
       "      <td>0.0</td>\n",
       "      <td>0.0</td>\n",
       "      <td>0.0</td>\n",
       "      <td>1.0</td>\n",
       "      <td>0.0</td>\n",
       "      <td>0.0</td>\n",
       "      <td>0.0</td>\n",
       "      <td>1.0</td>\n",
       "      <td>0.0</td>\n",
       "      <td>0.0</td>\n",
       "      <td>0.0</td>\n",
       "      <td>0.0</td>\n",
       "      <td>1.0</td>\n",
       "      <td>0.0</td>\n",
       "      <td>0.0</td>\n",
       "    </tr>\n",
       "    <tr>\n",
       "      <th>36472</th>\n",
       "      <td>38.0</td>\n",
       "      <td>4.2</td>\n",
       "      <td>21.175975</td>\n",
       "      <td>72.795503</td>\n",
       "      <td>21.305975</td>\n",
       "      <td>72.925503</td>\n",
       "      <td>1</td>\n",
       "      <td>2</td>\n",
       "      <td>1.0</td>\n",
       "      <td>0</td>\n",
       "      <td>0</td>\n",
       "      <td>0</td>\n",
       "      <td>0</td>\n",
       "      <td>8</td>\n",
       "      <td>3</td>\n",
       "      <td>2022</td>\n",
       "      <td>18</td>\n",
       "      <td>30</td>\n",
       "      <td>0.0</td>\n",
       "      <td>0.0</td>\n",
       "      <td>1.0</td>\n",
       "      <td>0.0</td>\n",
       "      <td>1.0</td>\n",
       "      <td>0.0</td>\n",
       "      <td>0.0</td>\n",
       "      <td>0.0</td>\n",
       "      <td>0.0</td>\n",
       "      <td>0.0</td>\n",
       "      <td>0.0</td>\n",
       "      <td>1.0</td>\n",
       "      <td>1.0</td>\n",
       "      <td>0.0</td>\n",
       "      <td>0.0</td>\n",
       "      <td>0.0</td>\n",
       "      <td>0.0</td>\n",
       "      <td>0.0</td>\n",
       "      <td>0.0</td>\n",
       "    </tr>\n",
       "    <tr>\n",
       "      <th>36473</th>\n",
       "      <td>25.0</td>\n",
       "      <td>4.9</td>\n",
       "      <td>13.027018</td>\n",
       "      <td>80.254791</td>\n",
       "      <td>13.137018</td>\n",
       "      <td>80.364791</td>\n",
       "      <td>3</td>\n",
       "      <td>0</td>\n",
       "      <td>1.0</td>\n",
       "      <td>0</td>\n",
       "      <td>0</td>\n",
       "      <td>0</td>\n",
       "      <td>0</td>\n",
       "      <td>25</td>\n",
       "      <td>3</td>\n",
       "      <td>2022</td>\n",
       "      <td>20</td>\n",
       "      <td>45</td>\n",
       "      <td>0.0</td>\n",
       "      <td>0.0</td>\n",
       "      <td>1.0</td>\n",
       "      <td>0.0</td>\n",
       "      <td>1.0</td>\n",
       "      <td>0.0</td>\n",
       "      <td>0.0</td>\n",
       "      <td>0.0</td>\n",
       "      <td>0.0</td>\n",
       "      <td>0.0</td>\n",
       "      <td>1.0</td>\n",
       "      <td>0.0</td>\n",
       "      <td>0.0</td>\n",
       "      <td>0.0</td>\n",
       "      <td>0.0</td>\n",
       "      <td>1.0</td>\n",
       "      <td>0.0</td>\n",
       "      <td>0.0</td>\n",
       "      <td>0.0</td>\n",
       "    </tr>\n",
       "  </tbody>\n",
       "</table>\n",
       "<p>36474 rows × 37 columns</p>\n",
       "</div>"
      ],
      "text/plain": [
       "       Delivery_person_Age  Delivery_person_Ratings  Restaurant_latitude  \\\n",
       "0                     32.0                      4.6            12.310972   \n",
       "1                     32.0                      4.5            22.761226   \n",
       "2                     38.0                      4.9            21.175104   \n",
       "3                     27.0                      4.7            26.911927   \n",
       "4                     28.0                      4.8            12.299524   \n",
       "...                    ...                      ...                  ...   \n",
       "36469                 24.0                      5.0            12.972161   \n",
       "36470                 29.0                      3.6            12.310972   \n",
       "36471                 31.0                      4.7            12.970221   \n",
       "36472                 38.0                      4.2            21.175975   \n",
       "36473                 25.0                      4.9            13.027018   \n",
       "\n",
       "       Restaurant_longitude  Delivery_location_latitude  \\\n",
       "0                 76.659264                   12.330972   \n",
       "1                 75.887522                   22.851226   \n",
       "2                 72.804342                   21.255104   \n",
       "3                 75.797282                   26.991927   \n",
       "4                 76.642620                   12.349524   \n",
       "...                     ...                         ...   \n",
       "36469             77.596014                   13.032161   \n",
       "36470             76.659264                   12.320972   \n",
       "36471             77.645396                   12.980221   \n",
       "36472             72.795503                   21.305975   \n",
       "36473             80.254791                   13.137018   \n",
       "\n",
       "       Delivery_location_longitude  Road_traffic_density  Vehicle_condition  \\\n",
       "0                        76.679264                     2                  1   \n",
       "1                        75.977522                     3                  1   \n",
       "2                        72.884342                     0                  2   \n",
       "3                        75.877282                     3                  1   \n",
       "4                        76.692620                     3                  2   \n",
       "...                            ...                   ...                ...   \n",
       "36469                    77.656014                     0                  2   \n",
       "36470                    76.669264                     2                  0   \n",
       "36471                    77.655396                     0                  2   \n",
       "36472                    72.925503                     1                  2   \n",
       "36473                    80.364791                     3                  0   \n",
       "\n",
       "       multiple_deliveries  Festival  Delivery_person_Age_nan  \\\n",
       "0                      1.0         0                        0   \n",
       "1                      0.0         0                        0   \n",
       "2                      1.0         0                        0   \n",
       "3                      1.0         0                        0   \n",
       "4                      1.0         0                        0   \n",
       "...                    ...       ...                      ...   \n",
       "36469                  0.0         0                        0   \n",
       "36470                  3.0         0                        0   \n",
       "36471                  0.0         0                        0   \n",
       "36472                  1.0         0                        0   \n",
       "36473                  1.0         0                        0   \n",
       "\n",
       "       Delivery_person_Ratings_nan  multiple_deliveries_nan  Order_Date_Day  \\\n",
       "0                                0                        0              15   \n",
       "1                                0                        0              16   \n",
       "2                                0                        0              31   \n",
       "3                                0                        0              20   \n",
       "4                                0                        0              30   \n",
       "...                            ...                      ...             ...   \n",
       "36469                            0                        0               9   \n",
       "36470                            0                        0              24   \n",
       "36471                            0                        0              13   \n",
       "36472                            0                        0               8   \n",
       "36473                            0                        0              25   \n",
       "\n",
       "       Order_Month  Order-Year  Time_Order_picked_Hr  Time_Order_picked_Min  \\\n",
       "0                3        2022                    12                      5   \n",
       "1                3        2022                    19                     45   \n",
       "2                3        2022                    23                     25   \n",
       "3                3        2022                    21                     15   \n",
       "4                3        2022                    22                      5   \n",
       "...            ...         ...                   ...                    ...   \n",
       "36469            3        2022                    23                     45   \n",
       "36470            3        2022                    11                     45   \n",
       "36471            3        2022                     8                     25   \n",
       "36472            3        2022                    18                     30   \n",
       "36473            3        2022                    20                     45   \n",
       "\n",
       "       Type_of_order_Buffet  Type_of_order_Drinks  Type_of_order_Meal  \\\n",
       "0                       1.0                   0.0                 0.0   \n",
       "1                       1.0                   0.0                 0.0   \n",
       "2                       0.0                   0.0                 1.0   \n",
       "3                       0.0                   0.0                 0.0   \n",
       "4                       0.0                   1.0                 0.0   \n",
       "...                     ...                   ...                 ...   \n",
       "36469                   0.0                   1.0                 0.0   \n",
       "36470                   1.0                   0.0                 0.0   \n",
       "36471                   0.0                   1.0                 0.0   \n",
       "36472                   0.0                   0.0                 1.0   \n",
       "36473                   0.0                   0.0                 1.0   \n",
       "\n",
       "       Type_of_order_Snack  City_Metropolitian  City_Semi-Urban  City_Urban  \\\n",
       "0                      0.0                 1.0              0.0         0.0   \n",
       "1                      0.0                 1.0              0.0         0.0   \n",
       "2                      0.0                 1.0              0.0         0.0   \n",
       "3                      1.0                 1.0              0.0         0.0   \n",
       "4                      0.0                 1.0              0.0         0.0   \n",
       "...                    ...                 ...              ...         ...   \n",
       "36469                  0.0                 1.0              0.0         0.0   \n",
       "36470                  0.0                 1.0              0.0         0.0   \n",
       "36471                  0.0                 0.0              0.0         0.0   \n",
       "36472                  0.0                 1.0              0.0         0.0   \n",
       "36473                  0.0                 1.0              0.0         0.0   \n",
       "\n",
       "       City_missing  Type_of_vehicle_bicycle  \\\n",
       "0               0.0                      0.0   \n",
       "1               0.0                      0.0   \n",
       "2               0.0                      0.0   \n",
       "3               0.0                      0.0   \n",
       "4               0.0                      0.0   \n",
       "...             ...                      ...   \n",
       "36469           0.0                      0.0   \n",
       "36470           0.0                      0.0   \n",
       "36471           1.0                      0.0   \n",
       "36472           0.0                      0.0   \n",
       "36473           0.0                      0.0   \n",
       "\n",
       "       Type_of_vehicle_electric_scooter  Type_of_vehicle_motorcycle  \\\n",
       "0                                   0.0                         0.0   \n",
       "1                                   0.0                         1.0   \n",
       "2                                   0.0                         1.0   \n",
       "3                                   0.0                         1.0   \n",
       "4                                   1.0                         0.0   \n",
       "...                                 ...                         ...   \n",
       "36469                               1.0                         0.0   \n",
       "36470                               0.0                         1.0   \n",
       "36471                               0.0                         0.0   \n",
       "36472                               0.0                         0.0   \n",
       "36473                               0.0                         1.0   \n",
       "\n",
       "       Type_of_vehicle_scooter  Weather_Cloudy  Weather_Fog  \\\n",
       "0                          1.0             1.0          0.0   \n",
       "1                          0.0             0.0          0.0   \n",
       "2                          0.0             0.0          0.0   \n",
       "3                          0.0             0.0          0.0   \n",
       "4                          0.0             0.0          0.0   \n",
       "...                        ...             ...          ...   \n",
       "36469                      0.0             0.0          0.0   \n",
       "36470                      0.0             0.0          0.0   \n",
       "36471                      1.0             0.0          0.0   \n",
       "36472                      1.0             1.0          0.0   \n",
       "36473                      0.0             0.0          0.0   \n",
       "\n",
       "       Weather_Sandstorms  Weather_Stormy  Weather_Sunny  Weather_Windy  \\\n",
       "0                     0.0             0.0            0.0            0.0   \n",
       "1                     1.0             0.0            0.0            0.0   \n",
       "2                     1.0             0.0            0.0            0.0   \n",
       "3                     0.0             1.0            0.0            0.0   \n",
       "4                     1.0             0.0            0.0            0.0   \n",
       "...                   ...             ...            ...            ...   \n",
       "36469                 0.0             0.0            1.0            0.0   \n",
       "36470                 0.0             0.0            1.0            0.0   \n",
       "36471                 0.0             0.0            1.0            0.0   \n",
       "36472                 0.0             0.0            0.0            0.0   \n",
       "36473                 0.0             1.0            0.0            0.0   \n",
       "\n",
       "       Weather_missing  \n",
       "0                  0.0  \n",
       "1                  0.0  \n",
       "2                  0.0  \n",
       "3                  0.0  \n",
       "4                  0.0  \n",
       "...                ...  \n",
       "36469              0.0  \n",
       "36470              0.0  \n",
       "36471              0.0  \n",
       "36472              0.0  \n",
       "36473              0.0  \n",
       "\n",
       "[36474 rows x 37 columns]"
      ]
     },
     "execution_count": 74,
     "metadata": {},
     "output_type": "execute_result"
    }
   ],
   "source": [
    "transformed_data"
   ]
  },
  {
   "cell_type": "markdown",
   "id": "1c68c361",
   "metadata": {},
   "source": [
    "### All features are in numerical format"
   ]
  },
  {
   "cell_type": "markdown",
   "id": "cb457d06",
   "metadata": {},
   "source": [
    "# PreProcess Pipeline:\n",
    "\n",
    "OHE on nominal features"
   ]
  },
  {
   "cell_type": "markdown",
   "id": "08409674",
   "metadata": {},
   "source": [
    "# Feature Generation"
   ]
  },
  {
   "cell_type": "markdown",
   "id": "88c283fa",
   "metadata": {},
   "source": [
    "#### We can calculate distance b.w Restraunt and destination. It can be a good feature"
   ]
  },
  {
   "cell_type": "markdown",
   "id": "0bb4e593",
   "metadata": {},
   "source": [
    "#### We can use haversine formula to calculate distance "
   ]
  },
  {
   "attachments": {
    "image.png": {
     "image/png": "[encoded data removed]"
    }
   },
   "cell_type": "markdown",
   "id": "d7f524a4",
   "metadata": {},
   "source": [
    "![image.png](attachment:image.png)"
   ]
  },
  {
   "cell_type": "code",
   "execution_count": 75,
   "id": "c2495b34",
   "metadata": {},
   "outputs": [],
   "source": [
    "distance_features = [\"Restaurant_latitude\",\"Restaurant_longitude\",\"Delivery_location_latitude\",\"Delivery_location_longitude\"]"
   ]
  },
  {
   "cell_type": "code",
   "execution_count": 76,
   "id": "959c5602",
   "metadata": {},
   "outputs": [],
   "source": [
    "distance_df = transformed_data[distance_features]"
   ]
  },
  {
   "cell_type": "markdown",
   "id": "80e8c773",
   "metadata": {},
   "source": [
    "#### Converting latitude and longitude to radians"
   ]
  },
  {
   "cell_type": "code",
   "execution_count": 77,
   "id": "7e23406e",
   "metadata": {},
   "outputs": [
    {
     "name": "stderr",
     "output_type": "stream",
     "text": [
      "<ipython-input-77-3b309308504d>:2: SettingWithCopyWarning: \n",
      "A value is trying to be set on a copy of a slice from a DataFrame.\n",
      "Try using .loc[row_indexer,col_indexer] = value instead\n",
      "\n",
      "See the caveats in the documentation: https://pandas.pydata.org/pandas-docs/stable/user_guide/indexing.html#returning-a-view-versus-a-copy\n",
      "  distance_df[feature] = np.radians(distance_df[feature])\n"
     ]
    }
   ],
   "source": [
    "for feature in distance_df.columns:\n",
    "    distance_df[feature] = np.radians(distance_df[feature])"
   ]
  },
  {
   "cell_type": "code",
   "execution_count": 78,
   "id": "99a928e1",
   "metadata": {},
   "outputs": [],
   "source": [
    "from sklearn.neighbors import DistanceMetric"
   ]
  },
  {
   "cell_type": "code",
   "execution_count": 79,
   "id": "78af3b37",
   "metadata": {},
   "outputs": [
    {
     "name": "stderr",
     "output_type": "stream",
     "text": [
      "C:\\Users\\rachi\\anaconda3\\lib\\site-packages\\sklearn\\neighbors\\_distance_metric.py:10: FutureWarning: sklearn.neighbors.DistanceMetric has been moved to sklearn.metrics.DistanceMetric in 1.0. This import path will be removed in 1.3\n",
      "  warnings.warn(\n"
     ]
    }
   ],
   "source": [
    "dist = DistanceMetric.get_metric('haversine')"
   ]
  },
  {
   "cell_type": "code",
   "execution_count": null,
   "id": "101f4bb5",
   "metadata": {},
   "outputs": [],
   "source": []
  },
  {
   "cell_type": "code",
   "execution_count": 80,
   "id": "a457aed4",
   "metadata": {},
   "outputs": [
    {
     "data": {
      "text/html": [
       "<div>\n",
       "<style scoped>\n",
       "    .dataframe tbody tr th:only-of-type {\n",
       "        vertical-align: middle;\n",
       "    }\n",
       "\n",
       "    .dataframe tbody tr th {\n",
       "        vertical-align: top;\n",
       "    }\n",
       "\n",
       "    .dataframe thead th {\n",
       "        text-align: right;\n",
       "    }\n",
       "</style>\n",
       "<table border=\"1\" class=\"dataframe\">\n",
       "  <thead>\n",
       "    <tr style=\"text-align: right;\">\n",
       "      <th></th>\n",
       "      <th>Restaurant_latitude</th>\n",
       "      <th>Restaurant_longitude</th>\n",
       "      <th>Delivery_location_latitude</th>\n",
       "      <th>Delivery_location_longitude</th>\n",
       "    </tr>\n",
       "  </thead>\n",
       "  <tbody>\n",
       "    <tr>\n",
       "      <th>0</th>\n",
       "      <td>0.214867</td>\n",
       "      <td>1.337957</td>\n",
       "      <td>0.215216</td>\n",
       "      <td>1.338306</td>\n",
       "    </tr>\n",
       "    <tr>\n",
       "      <th>1</th>\n",
       "      <td>0.397258</td>\n",
       "      <td>1.324487</td>\n",
       "      <td>0.398829</td>\n",
       "      <td>1.326058</td>\n",
       "    </tr>\n",
       "    <tr>\n",
       "      <th>2</th>\n",
       "      <td>0.369575</td>\n",
       "      <td>1.270675</td>\n",
       "      <td>0.370972</td>\n",
       "      <td>1.272072</td>\n",
       "    </tr>\n",
       "    <tr>\n",
       "      <th>3</th>\n",
       "      <td>0.469702</td>\n",
       "      <td>1.322912</td>\n",
       "      <td>0.471098</td>\n",
       "      <td>1.324308</td>\n",
       "    </tr>\n",
       "    <tr>\n",
       "      <th>4</th>\n",
       "      <td>0.214667</td>\n",
       "      <td>1.337666</td>\n",
       "      <td>0.215540</td>\n",
       "      <td>1.338539</td>\n",
       "    </tr>\n",
       "    <tr>\n",
       "      <th>...</th>\n",
       "      <td>...</td>\n",
       "      <td>...</td>\n",
       "      <td>...</td>\n",
       "      <td>...</td>\n",
       "    </tr>\n",
       "    <tr>\n",
       "      <th>36469</th>\n",
       "      <td>0.226407</td>\n",
       "      <td>1.354306</td>\n",
       "      <td>0.227454</td>\n",
       "      <td>1.355353</td>\n",
       "    </tr>\n",
       "    <tr>\n",
       "      <th>36470</th>\n",
       "      <td>0.214867</td>\n",
       "      <td>1.337957</td>\n",
       "      <td>0.215042</td>\n",
       "      <td>1.338131</td>\n",
       "    </tr>\n",
       "    <tr>\n",
       "      <th>36471</th>\n",
       "      <td>0.226373</td>\n",
       "      <td>1.355168</td>\n",
       "      <td>0.226548</td>\n",
       "      <td>1.355342</td>\n",
       "    </tr>\n",
       "    <tr>\n",
       "      <th>36472</th>\n",
       "      <td>0.369590</td>\n",
       "      <td>1.270521</td>\n",
       "      <td>0.371859</td>\n",
       "      <td>1.272790</td>\n",
       "    </tr>\n",
       "    <tr>\n",
       "      <th>36473</th>\n",
       "      <td>0.227364</td>\n",
       "      <td>1.400710</td>\n",
       "      <td>0.229284</td>\n",
       "      <td>1.402630</td>\n",
       "    </tr>\n",
       "  </tbody>\n",
       "</table>\n",
       "<p>36474 rows × 4 columns</p>\n",
       "</div>"
      ],
      "text/plain": [
       "       Restaurant_latitude  Restaurant_longitude  Delivery_location_latitude  \\\n",
       "0                 0.214867              1.337957                    0.215216   \n",
       "1                 0.397258              1.324487                    0.398829   \n",
       "2                 0.369575              1.270675                    0.370972   \n",
       "3                 0.469702              1.322912                    0.471098   \n",
       "4                 0.214667              1.337666                    0.215540   \n",
       "...                    ...                   ...                         ...   \n",
       "36469             0.226407              1.354306                    0.227454   \n",
       "36470             0.214867              1.337957                    0.215042   \n",
       "36471             0.226373              1.355168                    0.226548   \n",
       "36472             0.369590              1.270521                    0.371859   \n",
       "36473             0.227364              1.400710                    0.229284   \n",
       "\n",
       "       Delivery_location_longitude  \n",
       "0                         1.338306  \n",
       "1                         1.326058  \n",
       "2                         1.272072  \n",
       "3                         1.324308  \n",
       "4                         1.338539  \n",
       "...                            ...  \n",
       "36469                     1.355353  \n",
       "36470                     1.338131  \n",
       "36471                     1.355342  \n",
       "36472                     1.272790  \n",
       "36473                     1.402630  \n",
       "\n",
       "[36474 rows x 4 columns]"
      ]
     },
     "execution_count": 80,
     "metadata": {},
     "output_type": "execute_result"
    }
   ],
   "source": [
    "distance_df"
   ]
  },
  {
   "cell_type": "code",
   "execution_count": 81,
   "id": "d06b49b1",
   "metadata": {},
   "outputs": [],
   "source": [
    "lat1 = distance_df['Restaurant_latitude']\n",
    "lon1 = distance_df['Restaurant_longitude']\n",
    "\n",
    "lat2 = distance_df['Delivery_location_latitude']\n",
    "lon2 = distance_df['Delivery_location_longitude']"
   ]
  },
  {
   "cell_type": "code",
   "execution_count": 82,
   "id": "5a8afa45",
   "metadata": {},
   "outputs": [],
   "source": [
    "newlon = lon2 - lon1\n",
    "newlat = lat2 - lat1"
   ]
  },
  {
   "cell_type": "code",
   "execution_count": 83,
   "id": "e8a40be7",
   "metadata": {},
   "outputs": [],
   "source": [
    "haver_formula = np.sin(newlat/2.0)**2 + np.cos(lat1) * np.cos(lat2) * np.sin(newlon/2.0)**2"
   ]
  },
  {
   "cell_type": "code",
   "execution_count": 84,
   "id": "f45e92d2",
   "metadata": {},
   "outputs": [],
   "source": [
    "dist = 2 * np.arcsin(np.sqrt(haver_formula ))"
   ]
  },
  {
   "cell_type": "code",
   "execution_count": 85,
   "id": "95e1dfc7",
   "metadata": {},
   "outputs": [],
   "source": [
    "km = 6367 * dist #6367 for distance in KM for miles use 3958\n"
   ]
  },
  {
   "cell_type": "markdown",
   "id": "3577c169",
   "metadata": {},
   "source": [
    "### Adding this to the transformed_data dataframe"
   ]
  },
  {
   "cell_type": "code",
   "execution_count": 86,
   "id": "242affe8",
   "metadata": {},
   "outputs": [
    {
     "data": {
      "text/html": [
       "<div>\n",
       "<style scoped>\n",
       "    .dataframe tbody tr th:only-of-type {\n",
       "        vertical-align: middle;\n",
       "    }\n",
       "\n",
       "    .dataframe tbody tr th {\n",
       "        vertical-align: top;\n",
       "    }\n",
       "\n",
       "    .dataframe thead th {\n",
       "        text-align: right;\n",
       "    }\n",
       "</style>\n",
       "<table border=\"1\" class=\"dataframe\">\n",
       "  <thead>\n",
       "    <tr style=\"text-align: right;\">\n",
       "      <th></th>\n",
       "      <th>Delivery_person_Age</th>\n",
       "      <th>Delivery_person_Ratings</th>\n",
       "      <th>Restaurant_latitude</th>\n",
       "      <th>Restaurant_longitude</th>\n",
       "      <th>Delivery_location_latitude</th>\n",
       "      <th>Delivery_location_longitude</th>\n",
       "      <th>Road_traffic_density</th>\n",
       "      <th>Vehicle_condition</th>\n",
       "      <th>multiple_deliveries</th>\n",
       "      <th>Festival</th>\n",
       "      <th>Delivery_person_Age_nan</th>\n",
       "      <th>Delivery_person_Ratings_nan</th>\n",
       "      <th>multiple_deliveries_nan</th>\n",
       "      <th>Order_Date_Day</th>\n",
       "      <th>Order_Month</th>\n",
       "      <th>Order-Year</th>\n",
       "      <th>Time_Order_picked_Hr</th>\n",
       "      <th>Time_Order_picked_Min</th>\n",
       "      <th>Type_of_order_Buffet</th>\n",
       "      <th>Type_of_order_Drinks</th>\n",
       "      <th>Type_of_order_Meal</th>\n",
       "      <th>Type_of_order_Snack</th>\n",
       "      <th>City_Metropolitian</th>\n",
       "      <th>City_Semi-Urban</th>\n",
       "      <th>City_Urban</th>\n",
       "      <th>City_missing</th>\n",
       "      <th>Type_of_vehicle_bicycle</th>\n",
       "      <th>Type_of_vehicle_electric_scooter</th>\n",
       "      <th>Type_of_vehicle_motorcycle</th>\n",
       "      <th>Type_of_vehicle_scooter</th>\n",
       "      <th>Weather_Cloudy</th>\n",
       "      <th>Weather_Fog</th>\n",
       "      <th>Weather_Sandstorms</th>\n",
       "      <th>Weather_Stormy</th>\n",
       "      <th>Weather_Sunny</th>\n",
       "      <th>Weather_Windy</th>\n",
       "      <th>Weather_missing</th>\n",
       "    </tr>\n",
       "  </thead>\n",
       "  <tbody>\n",
       "    <tr>\n",
       "      <th>0</th>\n",
       "      <td>32.0</td>\n",
       "      <td>4.6</td>\n",
       "      <td>12.310972</td>\n",
       "      <td>76.659264</td>\n",
       "      <td>12.330972</td>\n",
       "      <td>76.679264</td>\n",
       "      <td>2</td>\n",
       "      <td>1</td>\n",
       "      <td>1.0</td>\n",
       "      <td>0</td>\n",
       "      <td>0</td>\n",
       "      <td>0</td>\n",
       "      <td>0</td>\n",
       "      <td>15</td>\n",
       "      <td>3</td>\n",
       "      <td>2022</td>\n",
       "      <td>12</td>\n",
       "      <td>5</td>\n",
       "      <td>1.0</td>\n",
       "      <td>0.0</td>\n",
       "      <td>0.0</td>\n",
       "      <td>0.0</td>\n",
       "      <td>1.0</td>\n",
       "      <td>0.0</td>\n",
       "      <td>0.0</td>\n",
       "      <td>0.0</td>\n",
       "      <td>0.0</td>\n",
       "      <td>0.0</td>\n",
       "      <td>0.0</td>\n",
       "      <td>1.0</td>\n",
       "      <td>1.0</td>\n",
       "      <td>0.0</td>\n",
       "      <td>0.0</td>\n",
       "      <td>0.0</td>\n",
       "      <td>0.0</td>\n",
       "      <td>0.0</td>\n",
       "      <td>0.0</td>\n",
       "    </tr>\n",
       "    <tr>\n",
       "      <th>1</th>\n",
       "      <td>32.0</td>\n",
       "      <td>4.5</td>\n",
       "      <td>22.761226</td>\n",
       "      <td>75.887522</td>\n",
       "      <td>22.851226</td>\n",
       "      <td>75.977522</td>\n",
       "      <td>3</td>\n",
       "      <td>1</td>\n",
       "      <td>0.0</td>\n",
       "      <td>0</td>\n",
       "      <td>0</td>\n",
       "      <td>0</td>\n",
       "      <td>0</td>\n",
       "      <td>16</td>\n",
       "      <td>3</td>\n",
       "      <td>2022</td>\n",
       "      <td>19</td>\n",
       "      <td>45</td>\n",
       "      <td>1.0</td>\n",
       "      <td>0.0</td>\n",
       "      <td>0.0</td>\n",
       "      <td>0.0</td>\n",
       "      <td>1.0</td>\n",
       "      <td>0.0</td>\n",
       "      <td>0.0</td>\n",
       "      <td>0.0</td>\n",
       "      <td>0.0</td>\n",
       "      <td>0.0</td>\n",
       "      <td>1.0</td>\n",
       "      <td>0.0</td>\n",
       "      <td>0.0</td>\n",
       "      <td>0.0</td>\n",
       "      <td>1.0</td>\n",
       "      <td>0.0</td>\n",
       "      <td>0.0</td>\n",
       "      <td>0.0</td>\n",
       "      <td>0.0</td>\n",
       "    </tr>\n",
       "    <tr>\n",
       "      <th>2</th>\n",
       "      <td>38.0</td>\n",
       "      <td>4.9</td>\n",
       "      <td>21.175104</td>\n",
       "      <td>72.804342</td>\n",
       "      <td>21.255104</td>\n",
       "      <td>72.884342</td>\n",
       "      <td>0</td>\n",
       "      <td>2</td>\n",
       "      <td>1.0</td>\n",
       "      <td>0</td>\n",
       "      <td>0</td>\n",
       "      <td>0</td>\n",
       "      <td>0</td>\n",
       "      <td>31</td>\n",
       "      <td>3</td>\n",
       "      <td>2022</td>\n",
       "      <td>23</td>\n",
       "      <td>25</td>\n",
       "      <td>0.0</td>\n",
       "      <td>0.0</td>\n",
       "      <td>1.0</td>\n",
       "      <td>0.0</td>\n",
       "      <td>1.0</td>\n",
       "      <td>0.0</td>\n",
       "      <td>0.0</td>\n",
       "      <td>0.0</td>\n",
       "      <td>0.0</td>\n",
       "      <td>0.0</td>\n",
       "      <td>1.0</td>\n",
       "      <td>0.0</td>\n",
       "      <td>0.0</td>\n",
       "      <td>0.0</td>\n",
       "      <td>1.0</td>\n",
       "      <td>0.0</td>\n",
       "      <td>0.0</td>\n",
       "      <td>0.0</td>\n",
       "      <td>0.0</td>\n",
       "    </tr>\n",
       "    <tr>\n",
       "      <th>3</th>\n",
       "      <td>27.0</td>\n",
       "      <td>4.7</td>\n",
       "      <td>26.911927</td>\n",
       "      <td>75.797282</td>\n",
       "      <td>26.991927</td>\n",
       "      <td>75.877282</td>\n",
       "      <td>3</td>\n",
       "      <td>1</td>\n",
       "      <td>1.0</td>\n",
       "      <td>0</td>\n",
       "      <td>0</td>\n",
       "      <td>0</td>\n",
       "      <td>0</td>\n",
       "      <td>20</td>\n",
       "      <td>3</td>\n",
       "      <td>2022</td>\n",
       "      <td>21</td>\n",
       "      <td>15</td>\n",
       "      <td>0.0</td>\n",
       "      <td>0.0</td>\n",
       "      <td>0.0</td>\n",
       "      <td>1.0</td>\n",
       "      <td>1.0</td>\n",
       "      <td>0.0</td>\n",
       "      <td>0.0</td>\n",
       "      <td>0.0</td>\n",
       "      <td>0.0</td>\n",
       "      <td>0.0</td>\n",
       "      <td>1.0</td>\n",
       "      <td>0.0</td>\n",
       "      <td>0.0</td>\n",
       "      <td>0.0</td>\n",
       "      <td>0.0</td>\n",
       "      <td>1.0</td>\n",
       "      <td>0.0</td>\n",
       "      <td>0.0</td>\n",
       "      <td>0.0</td>\n",
       "    </tr>\n",
       "    <tr>\n",
       "      <th>4</th>\n",
       "      <td>28.0</td>\n",
       "      <td>4.8</td>\n",
       "      <td>12.299524</td>\n",
       "      <td>76.642620</td>\n",
       "      <td>12.349524</td>\n",
       "      <td>76.692620</td>\n",
       "      <td>3</td>\n",
       "      <td>2</td>\n",
       "      <td>1.0</td>\n",
       "      <td>0</td>\n",
       "      <td>0</td>\n",
       "      <td>0</td>\n",
       "      <td>0</td>\n",
       "      <td>30</td>\n",
       "      <td>3</td>\n",
       "      <td>2022</td>\n",
       "      <td>22</td>\n",
       "      <td>5</td>\n",
       "      <td>0.0</td>\n",
       "      <td>1.0</td>\n",
       "      <td>0.0</td>\n",
       "      <td>0.0</td>\n",
       "      <td>1.0</td>\n",
       "      <td>0.0</td>\n",
       "      <td>0.0</td>\n",
       "      <td>0.0</td>\n",
       "      <td>0.0</td>\n",
       "      <td>1.0</td>\n",
       "      <td>0.0</td>\n",
       "      <td>0.0</td>\n",
       "      <td>0.0</td>\n",
       "      <td>0.0</td>\n",
       "      <td>1.0</td>\n",
       "      <td>0.0</td>\n",
       "      <td>0.0</td>\n",
       "      <td>0.0</td>\n",
       "      <td>0.0</td>\n",
       "    </tr>\n",
       "  </tbody>\n",
       "</table>\n",
       "</div>"
      ],
      "text/plain": [
       "   Delivery_person_Age  Delivery_person_Ratings  Restaurant_latitude  \\\n",
       "0                 32.0                      4.6            12.310972   \n",
       "1                 32.0                      4.5            22.761226   \n",
       "2                 38.0                      4.9            21.175104   \n",
       "3                 27.0                      4.7            26.911927   \n",
       "4                 28.0                      4.8            12.299524   \n",
       "\n",
       "   Restaurant_longitude  Delivery_location_latitude  \\\n",
       "0             76.659264                   12.330972   \n",
       "1             75.887522                   22.851226   \n",
       "2             72.804342                   21.255104   \n",
       "3             75.797282                   26.991927   \n",
       "4             76.642620                   12.349524   \n",
       "\n",
       "   Delivery_location_longitude  Road_traffic_density  Vehicle_condition  \\\n",
       "0                    76.679264                     2                  1   \n",
       "1                    75.977522                     3                  1   \n",
       "2                    72.884342                     0                  2   \n",
       "3                    75.877282                     3                  1   \n",
       "4                    76.692620                     3                  2   \n",
       "\n",
       "   multiple_deliveries  Festival  Delivery_person_Age_nan  \\\n",
       "0                  1.0         0                        0   \n",
       "1                  0.0         0                        0   \n",
       "2                  1.0         0                        0   \n",
       "3                  1.0         0                        0   \n",
       "4                  1.0         0                        0   \n",
       "\n",
       "   Delivery_person_Ratings_nan  multiple_deliveries_nan  Order_Date_Day  \\\n",
       "0                            0                        0              15   \n",
       "1                            0                        0              16   \n",
       "2                            0                        0              31   \n",
       "3                            0                        0              20   \n",
       "4                            0                        0              30   \n",
       "\n",
       "   Order_Month  Order-Year  Time_Order_picked_Hr  Time_Order_picked_Min  \\\n",
       "0            3        2022                    12                      5   \n",
       "1            3        2022                    19                     45   \n",
       "2            3        2022                    23                     25   \n",
       "3            3        2022                    21                     15   \n",
       "4            3        2022                    22                      5   \n",
       "\n",
       "   Type_of_order_Buffet  Type_of_order_Drinks  Type_of_order_Meal  \\\n",
       "0                   1.0                   0.0                 0.0   \n",
       "1                   1.0                   0.0                 0.0   \n",
       "2                   0.0                   0.0                 1.0   \n",
       "3                   0.0                   0.0                 0.0   \n",
       "4                   0.0                   1.0                 0.0   \n",
       "\n",
       "   Type_of_order_Snack  City_Metropolitian  City_Semi-Urban  City_Urban  \\\n",
       "0                  0.0                 1.0              0.0         0.0   \n",
       "1                  0.0                 1.0              0.0         0.0   \n",
       "2                  0.0                 1.0              0.0         0.0   \n",
       "3                  1.0                 1.0              0.0         0.0   \n",
       "4                  0.0                 1.0              0.0         0.0   \n",
       "\n",
       "   City_missing  Type_of_vehicle_bicycle  Type_of_vehicle_electric_scooter  \\\n",
       "0           0.0                      0.0                               0.0   \n",
       "1           0.0                      0.0                               0.0   \n",
       "2           0.0                      0.0                               0.0   \n",
       "3           0.0                      0.0                               0.0   \n",
       "4           0.0                      0.0                               1.0   \n",
       "\n",
       "   Type_of_vehicle_motorcycle  Type_of_vehicle_scooter  Weather_Cloudy  \\\n",
       "0                         0.0                      1.0             1.0   \n",
       "1                         1.0                      0.0             0.0   \n",
       "2                         1.0                      0.0             0.0   \n",
       "3                         1.0                      0.0             0.0   \n",
       "4                         0.0                      0.0             0.0   \n",
       "\n",
       "   Weather_Fog  Weather_Sandstorms  Weather_Stormy  Weather_Sunny  \\\n",
       "0          0.0                 0.0             0.0            0.0   \n",
       "1          0.0                 1.0             0.0            0.0   \n",
       "2          0.0                 1.0             0.0            0.0   \n",
       "3          0.0                 0.0             1.0            0.0   \n",
       "4          0.0                 1.0             0.0            0.0   \n",
       "\n",
       "   Weather_Windy  Weather_missing  \n",
       "0            0.0              0.0  \n",
       "1            0.0              0.0  \n",
       "2            0.0              0.0  \n",
       "3            0.0              0.0  \n",
       "4            0.0              0.0  "
      ]
     },
     "execution_count": 86,
     "metadata": {},
     "output_type": "execute_result"
    }
   ],
   "source": [
    "transformed_data.head()"
   ]
  },
  {
   "cell_type": "code",
   "execution_count": 87,
   "id": "3773022f",
   "metadata": {},
   "outputs": [],
   "source": [
    "transformed_data['Distance'] = km"
   ]
  },
  {
   "cell_type": "markdown",
   "id": "7cd8f7cf",
   "metadata": {},
   "source": [
    "# PreProcess Pipeline\n",
    "\n",
    "If distance is an important feature after Feature Selection, calculate distance from latitude and longitude"
   ]
  },
  {
   "cell_type": "markdown",
   "id": "da5f6282",
   "metadata": {},
   "source": [
    "### Standardization"
   ]
  },
  {
   "cell_type": "code",
   "execution_count": 88,
   "id": "ab78c8b6",
   "metadata": {},
   "outputs": [],
   "source": [
    "std_scaler = StandardScaler()"
   ]
  },
  {
   "cell_type": "code",
   "execution_count": 89,
   "id": "b61abe64",
   "metadata": {},
   "outputs": [
    {
     "data": {
      "text/html": [
       "<style>#sk-container-id-3 {color: black;background-color: white;}#sk-container-id-3 pre{padding: 0;}#sk-container-id-3 div.sk-toggleable {background-color: white;}#sk-container-id-3 label.sk-toggleable__label {cursor: pointer;display: block;width: 100%;margin-bottom: 0;padding: 0.3em;box-sizing: border-box;text-align: center;}#sk-container-id-3 label.sk-toggleable__label-arrow:before {content: \"▸\";float: left;margin-right: 0.25em;color: #696969;}#sk-container-id-3 label.sk-toggleable__label-arrow:hover:before {color: black;}#sk-container-id-3 div.sk-estimator:hover label.sk-toggleable__label-arrow:before {color: black;}#sk-container-id-3 div.sk-toggleable__content {max-height: 0;max-width: 0;overflow: hidden;text-align: left;background-color: #f0f8ff;}#sk-container-id-3 div.sk-toggleable__content pre {margin: 0.2em;color: black;border-radius: 0.25em;background-color: #f0f8ff;}#sk-container-id-3 input.sk-toggleable__control:checked~div.sk-toggleable__content {max-height: 200px;max-width: 100%;overflow: auto;}#sk-container-id-3 input.sk-toggleable__control:checked~label.sk-toggleable__label-arrow:before {content: \"▾\";}#sk-container-id-3 div.sk-estimator input.sk-toggleable__control:checked~label.sk-toggleable__label {background-color: #d4ebff;}#sk-container-id-3 div.sk-label input.sk-toggleable__control:checked~label.sk-toggleable__label {background-color: #d4ebff;}#sk-container-id-3 input.sk-hidden--visually {border: 0;clip: rect(1px 1px 1px 1px);clip: rect(1px, 1px, 1px, 1px);height: 1px;margin: -1px;overflow: hidden;padding: 0;position: absolute;width: 1px;}#sk-container-id-3 div.sk-estimator {font-family: monospace;background-color: #f0f8ff;border: 1px dotted black;border-radius: 0.25em;box-sizing: border-box;margin-bottom: 0.5em;}#sk-container-id-3 div.sk-estimator:hover {background-color: #d4ebff;}#sk-container-id-3 div.sk-parallel-item::after {content: \"\";width: 100%;border-bottom: 1px solid gray;flex-grow: 1;}#sk-container-id-3 div.sk-label:hover label.sk-toggleable__label {background-color: #d4ebff;}#sk-container-id-3 div.sk-serial::before {content: \"\";position: absolute;border-left: 1px solid gray;box-sizing: border-box;top: 0;bottom: 0;left: 50%;z-index: 0;}#sk-container-id-3 div.sk-serial {display: flex;flex-direction: column;align-items: center;background-color: white;padding-right: 0.2em;padding-left: 0.2em;position: relative;}#sk-container-id-3 div.sk-item {position: relative;z-index: 1;}#sk-container-id-3 div.sk-parallel {display: flex;align-items: stretch;justify-content: center;background-color: white;position: relative;}#sk-container-id-3 div.sk-item::before, #sk-container-id-3 div.sk-parallel-item::before {content: \"\";position: absolute;border-left: 1px solid gray;box-sizing: border-box;top: 0;bottom: 0;left: 50%;z-index: -1;}#sk-container-id-3 div.sk-parallel-item {display: flex;flex-direction: column;z-index: 1;position: relative;background-color: white;}#sk-container-id-3 div.sk-parallel-item:first-child::after {align-self: flex-end;width: 50%;}#sk-container-id-3 div.sk-parallel-item:last-child::after {align-self: flex-start;width: 50%;}#sk-container-id-3 div.sk-parallel-item:only-child::after {width: 0;}#sk-container-id-3 div.sk-dashed-wrapped {border: 1px dashed gray;margin: 0 0.4em 0.5em 0.4em;box-sizing: border-box;padding-bottom: 0.4em;background-color: white;}#sk-container-id-3 div.sk-label label {font-family: monospace;font-weight: bold;display: inline-block;line-height: 1.2em;}#sk-container-id-3 div.sk-label-container {text-align: center;}#sk-container-id-3 div.sk-container {/* jupyter's `normalize.less` sets `[hidden] { display: none; }` but bootstrap.min.css set `[hidden] { display: none !important; }` so we also need the `!important` here to be able to override the default hidden behavior on the sphinx rendered scikit-learn.org. See: https://github.com/scikit-learn/scikit-learn/issues/21755 */display: inline-block !important;position: relative;}#sk-container-id-3 div.sk-text-repr-fallback {display: none;}</style><div id=\"sk-container-id-3\" class=\"sk-top-container\"><div class=\"sk-text-repr-fallback\"><pre>StandardScaler()</pre><b>In a Jupyter environment, please rerun this cell to show the HTML representation or trust the notebook. <br />On GitHub, the HTML representation is unable to render, please try loading this page with nbviewer.org.</b></div><div class=\"sk-container\" hidden><div class=\"sk-item\"><div class=\"sk-estimator sk-toggleable\"><input class=\"sk-toggleable__control sk-hidden--visually\" id=\"sk-estimator-id-3\" type=\"checkbox\" checked><label for=\"sk-estimator-id-3\" class=\"sk-toggleable__label sk-toggleable__label-arrow\">StandardScaler</label><div class=\"sk-toggleable__content\"><pre>StandardScaler()</pre></div></div></div></div></div>"
      ],
      "text/plain": [
       "StandardScaler()"
      ]
     },
     "execution_count": 89,
     "metadata": {},
     "output_type": "execute_result"
    }
   ],
   "source": [
    "std_scaler.fit(transformed_data)"
   ]
  },
  {
   "cell_type": "code",
   "execution_count": 90,
   "id": "194e6a85",
   "metadata": {},
   "outputs": [],
   "source": [
    "transformed_data = pd.DataFrame(std_scaler.transform(transformed_data), columns=transformed_data.columns)"
   ]
  },
  {
   "cell_type": "code",
   "execution_count": null,
   "id": "4ecdc5a2",
   "metadata": {},
   "outputs": [],
   "source": []
  },
  {
   "cell_type": "markdown",
   "id": "0d5187ea",
   "metadata": {},
   "source": [
    "# Feature Selection"
   ]
  },
  {
   "cell_type": "markdown",
   "id": "95e448f1",
   "metadata": {},
   "source": [
    "### Variance Analysis - Dropping Constant features\n",
    "\n",
    "In this step we will be removing the features which have constant features which are actually not important for solving the problem statement.\n",
    "\n",
    "We remove those features, which have very minimal variance. That simply means that these features are constant"
   ]
  },
  {
   "cell_type": "code",
   "execution_count": 91,
   "id": "1c488ad5",
   "metadata": {},
   "outputs": [],
   "source": [
    "from sklearn.feature_selection import VarianceThreshold"
   ]
  },
  {
   "cell_type": "code",
   "execution_count": 92,
   "id": "6c0886c8",
   "metadata": {},
   "outputs": [],
   "source": [
    "var_thresh_obj = VarianceThreshold(threshold=0)"
   ]
  },
  {
   "cell_type": "code",
   "execution_count": 93,
   "id": "2dc57c14",
   "metadata": {},
   "outputs": [
    {
     "data": {
      "text/html": [
       "<style>#sk-container-id-4 {color: black;background-color: white;}#sk-container-id-4 pre{padding: 0;}#sk-container-id-4 div.sk-toggleable {background-color: white;}#sk-container-id-4 label.sk-toggleable__label {cursor: pointer;display: block;width: 100%;margin-bottom: 0;padding: 0.3em;box-sizing: border-box;text-align: center;}#sk-container-id-4 label.sk-toggleable__label-arrow:before {content: \"▸\";float: left;margin-right: 0.25em;color: #696969;}#sk-container-id-4 label.sk-toggleable__label-arrow:hover:before {color: black;}#sk-container-id-4 div.sk-estimator:hover label.sk-toggleable__label-arrow:before {color: black;}#sk-container-id-4 div.sk-toggleable__content {max-height: 0;max-width: 0;overflow: hidden;text-align: left;background-color: #f0f8ff;}#sk-container-id-4 div.sk-toggleable__content pre {margin: 0.2em;color: black;border-radius: 0.25em;background-color: #f0f8ff;}#sk-container-id-4 input.sk-toggleable__control:checked~div.sk-toggleable__content {max-height: 200px;max-width: 100%;overflow: auto;}#sk-container-id-4 input.sk-toggleable__control:checked~label.sk-toggleable__label-arrow:before {content: \"▾\";}#sk-container-id-4 div.sk-estimator input.sk-toggleable__control:checked~label.sk-toggleable__label {background-color: #d4ebff;}#sk-container-id-4 div.sk-label input.sk-toggleable__control:checked~label.sk-toggleable__label {background-color: #d4ebff;}#sk-container-id-4 input.sk-hidden--visually {border: 0;clip: rect(1px 1px 1px 1px);clip: rect(1px, 1px, 1px, 1px);height: 1px;margin: -1px;overflow: hidden;padding: 0;position: absolute;width: 1px;}#sk-container-id-4 div.sk-estimator {font-family: monospace;background-color: #f0f8ff;border: 1px dotted black;border-radius: 0.25em;box-sizing: border-box;margin-bottom: 0.5em;}#sk-container-id-4 div.sk-estimator:hover {background-color: #d4ebff;}#sk-container-id-4 div.sk-parallel-item::after {content: \"\";width: 100%;border-bottom: 1px solid gray;flex-grow: 1;}#sk-container-id-4 div.sk-label:hover label.sk-toggleable__label {background-color: #d4ebff;}#sk-container-id-4 div.sk-serial::before {content: \"\";position: absolute;border-left: 1px solid gray;box-sizing: border-box;top: 0;bottom: 0;left: 50%;z-index: 0;}#sk-container-id-4 div.sk-serial {display: flex;flex-direction: column;align-items: center;background-color: white;padding-right: 0.2em;padding-left: 0.2em;position: relative;}#sk-container-id-4 div.sk-item {position: relative;z-index: 1;}#sk-container-id-4 div.sk-parallel {display: flex;align-items: stretch;justify-content: center;background-color: white;position: relative;}#sk-container-id-4 div.sk-item::before, #sk-container-id-4 div.sk-parallel-item::before {content: \"\";position: absolute;border-left: 1px solid gray;box-sizing: border-box;top: 0;bottom: 0;left: 50%;z-index: -1;}#sk-container-id-4 div.sk-parallel-item {display: flex;flex-direction: column;z-index: 1;position: relative;background-color: white;}#sk-container-id-4 div.sk-parallel-item:first-child::after {align-self: flex-end;width: 50%;}#sk-container-id-4 div.sk-parallel-item:last-child::after {align-self: flex-start;width: 50%;}#sk-container-id-4 div.sk-parallel-item:only-child::after {width: 0;}#sk-container-id-4 div.sk-dashed-wrapped {border: 1px dashed gray;margin: 0 0.4em 0.5em 0.4em;box-sizing: border-box;padding-bottom: 0.4em;background-color: white;}#sk-container-id-4 div.sk-label label {font-family: monospace;font-weight: bold;display: inline-block;line-height: 1.2em;}#sk-container-id-4 div.sk-label-container {text-align: center;}#sk-container-id-4 div.sk-container {/* jupyter's `normalize.less` sets `[hidden] { display: none; }` but bootstrap.min.css set `[hidden] { display: none !important; }` so we also need the `!important` here to be able to override the default hidden behavior on the sphinx rendered scikit-learn.org. See: https://github.com/scikit-learn/scikit-learn/issues/21755 */display: inline-block !important;position: relative;}#sk-container-id-4 div.sk-text-repr-fallback {display: none;}</style><div id=\"sk-container-id-4\" class=\"sk-top-container\"><div class=\"sk-text-repr-fallback\"><pre>VarianceThreshold(threshold=0)</pre><b>In a Jupyter environment, please rerun this cell to show the HTML representation or trust the notebook. <br />On GitHub, the HTML representation is unable to render, please try loading this page with nbviewer.org.</b></div><div class=\"sk-container\" hidden><div class=\"sk-item\"><div class=\"sk-estimator sk-toggleable\"><input class=\"sk-toggleable__control sk-hidden--visually\" id=\"sk-estimator-id-4\" type=\"checkbox\" checked><label for=\"sk-estimator-id-4\" class=\"sk-toggleable__label sk-toggleable__label-arrow\">VarianceThreshold</label><div class=\"sk-toggleable__content\"><pre>VarianceThreshold(threshold=0)</pre></div></div></div></div></div>"
      ],
      "text/plain": [
       "VarianceThreshold(threshold=0)"
      ]
     },
     "execution_count": 93,
     "metadata": {},
     "output_type": "execute_result"
    }
   ],
   "source": [
    "var_thresh_obj.fit(transformed_data)"
   ]
  },
  {
   "cell_type": "code",
   "execution_count": 94,
   "id": "80428cb9",
   "metadata": {},
   "outputs": [
    {
     "data": {
      "text/plain": [
       "array([ True,  True,  True,  True,  True,  True,  True,  True,  True,\n",
       "        True,  True,  True,  True,  True,  True, False,  True,  True,\n",
       "        True,  True,  True,  True,  True,  True,  True,  True,  True,\n",
       "        True,  True,  True,  True,  True,  True,  True,  True,  True,\n",
       "        True,  True])"
      ]
     },
     "execution_count": 94,
     "metadata": {},
     "output_type": "execute_result"
    }
   ],
   "source": [
    "var_thresh_obj.get_support()"
   ]
  },
  {
   "cell_type": "code",
   "execution_count": 95,
   "id": "80998611",
   "metadata": {},
   "outputs": [],
   "source": [
    "constant_columns = [column for column in transformed_data.columns if column not in set(transformed_data.columns[var_thresh_obj.get_support()])]"
   ]
  },
  {
   "cell_type": "code",
   "execution_count": 96,
   "id": "19adac61",
   "metadata": {},
   "outputs": [
    {
     "data": {
      "text/plain": [
       "['Order-Year']"
      ]
     },
     "execution_count": 96,
     "metadata": {},
     "output_type": "execute_result"
    }
   ],
   "source": [
    "constant_columns"
   ]
  },
  {
   "cell_type": "markdown",
   "id": "4a372aae",
   "metadata": {},
   "source": [
    "#### Order Year feature is constant and we don't need to generate it"
   ]
  },
  {
   "cell_type": "markdown",
   "id": "b4535632",
   "metadata": {},
   "source": [
    "## Corelation Analysis\n",
    "If an Independant feature and dependant feature are corelated, that is desireable\n",
    "\n",
    "If 2 independant features are corelated, we can easily drop one as it reduces Curse of Dimesnionality, also reduces Multi Colinearity"
   ]
  },
  {
   "cell_type": "code",
   "execution_count": null,
   "id": "6ae2fa67",
   "metadata": {},
   "outputs": [],
   "source": []
  },
  {
   "cell_type": "code",
   "execution_count": 97,
   "id": "071be9b4",
   "metadata": {},
   "outputs": [],
   "source": [
    "concat_df = pd.concat([transformed_data,pd.DataFrame(y_train)], axis = 1)"
   ]
  },
  {
   "cell_type": "code",
   "execution_count": 98,
   "id": "63bb32f2",
   "metadata": {},
   "outputs": [
    {
     "data": {
      "image/png": "[encoded data removed]",
      "text/plain": [
       "<Figure size 864x720 with 2 Axes>"
      ]
     },
     "metadata": {
      "needs_background": "light"
     },
     "output_type": "display_data"
    }
   ],
   "source": [
    "plt.figure(figsize=(12,10))\n",
    "cor = concat_df.corr()\n",
    "sns.heatmap(cor, cmap=plt.cm.CMRmap_r)\n",
    "plt.show()"
   ]
  },
  {
   "cell_type": "code",
   "execution_count": null,
   "id": "f52e734b",
   "metadata": {},
   "outputs": [],
   "source": []
  },
  {
   "cell_type": "markdown",
   "id": "c2dfd493",
   "metadata": {},
   "source": [
    "## Information Gain (Mutual Information)\n",
    "Mutual Information: A non negative value, that measures the dependancy b/w the variables. It quantifies the \"amount of information\" (in units such as shannons (bits), nats or hartleys) obtained about one random variable by observing the other random variable.\n",
    "\n",
    "\n",
    "Higher the value, more important the feature is"
   ]
  },
  {
   "cell_type": "code",
   "execution_count": 99,
   "id": "1e760c5c",
   "metadata": {},
   "outputs": [],
   "source": [
    "from sklearn.feature_selection import mutual_info_regression\n"
   ]
  },
  {
   "cell_type": "code",
   "execution_count": 100,
   "id": "0ca2b05b",
   "metadata": {},
   "outputs": [],
   "source": [
    "mutual_info = mutual_info_regression(transformed_data,y_train)"
   ]
  },
  {
   "cell_type": "code",
   "execution_count": 101,
   "id": "b7063165",
   "metadata": {},
   "outputs": [],
   "source": [
    "mutual_info = pd.Series(mutual_info)"
   ]
  },
  {
   "cell_type": "code",
   "execution_count": 102,
   "id": "a58155cf",
   "metadata": {},
   "outputs": [],
   "source": [
    "mutual_info.index = transformed_data.columns"
   ]
  },
  {
   "cell_type": "code",
   "execution_count": 103,
   "id": "c0a4e553",
   "metadata": {},
   "outputs": [
    {
     "data": {
      "text/plain": [
       "Delivery_person_Ratings             0.161017\n",
       "Time_Order_picked_Hr                0.133969\n",
       "Road_traffic_density                0.115479\n",
       "multiple_deliveries                 0.115277\n",
       "Distance                            0.093968\n",
       "Order_Date_Day                      0.080735\n",
       "Delivery_person_Age                 0.076356\n",
       "Delivery_location_latitude          0.064085\n",
       "Vehicle_condition                   0.055320\n",
       "Festival                            0.053855\n",
       "Delivery_location_longitude         0.049696\n",
       "Weather_Sunny                       0.024845\n",
       "City_Urban                          0.023319\n",
       "City_Semi-Urban                     0.017908\n",
       "Type_of_vehicle_motorcycle          0.017723\n",
       "City_Metropolitian                  0.016947\n",
       "Type_of_vehicle_scooter             0.016122\n",
       "Weather_Cloudy                      0.012273\n",
       "Weather_Sandstorms                  0.008351\n",
       "Restaurant_longitude                0.008066\n",
       "City_missing                        0.007885\n",
       "Weather_Fog                         0.007824\n",
       "Delivery_person_Ratings_nan         0.005634\n",
       "Weather_Stormy                      0.004830\n",
       "Restaurant_latitude                 0.003937\n",
       "Type_of_vehicle_electric_scooter    0.003268\n",
       "Type_of_order_Meal                  0.003179\n",
       "Weather_Windy                       0.002485\n",
       "Type_of_order_Buffet                0.001877\n",
       "multiple_deliveries_nan             0.001532\n",
       "Type_of_order_Drinks                0.000615\n",
       "Time_Order_picked_Min               0.000290\n",
       "Delivery_person_Age_nan             0.000000\n",
       "Order_Month                         0.000000\n",
       "Weather_missing                     0.000000\n",
       "Type_of_order_Snack                 0.000000\n",
       "Type_of_vehicle_bicycle             0.000000\n",
       "Order-Year                          0.000000\n",
       "dtype: float64"
      ]
     },
     "execution_count": 103,
     "metadata": {},
     "output_type": "execute_result"
    }
   ],
   "source": [
    "mutual_info.sort_values(ascending=False)\n"
   ]
  },
  {
   "cell_type": "markdown",
   "id": "18e008e3",
   "metadata": {},
   "source": [
    "# Model Based methods"
   ]
  },
  {
   "cell_type": "code",
   "execution_count": 104,
   "id": "972a494d",
   "metadata": {},
   "outputs": [],
   "source": [
    "from sklearn.ensemble import RandomForestRegressor"
   ]
  },
  {
   "cell_type": "code",
   "execution_count": 105,
   "id": "a7138226",
   "metadata": {},
   "outputs": [],
   "source": [
    "rf = RandomForestRegressor()"
   ]
  },
  {
   "cell_type": "code",
   "execution_count": 106,
   "id": "b486a803",
   "metadata": {},
   "outputs": [
    {
     "data": {
      "text/html": [
       "<style>#sk-container-id-5 {color: black;background-color: white;}#sk-container-id-5 pre{padding: 0;}#sk-container-id-5 div.sk-toggleable {background-color: white;}#sk-container-id-5 label.sk-toggleable__label {cursor: pointer;display: block;width: 100%;margin-bottom: 0;padding: 0.3em;box-sizing: border-box;text-align: center;}#sk-container-id-5 label.sk-toggleable__label-arrow:before {content: \"▸\";float: left;margin-right: 0.25em;color: #696969;}#sk-container-id-5 label.sk-toggleable__label-arrow:hover:before {color: black;}#sk-container-id-5 div.sk-estimator:hover label.sk-toggleable__label-arrow:before {color: black;}#sk-container-id-5 div.sk-toggleable__content {max-height: 0;max-width: 0;overflow: hidden;text-align: left;background-color: #f0f8ff;}#sk-container-id-5 div.sk-toggleable__content pre {margin: 0.2em;color: black;border-radius: 0.25em;background-color: #f0f8ff;}#sk-container-id-5 input.sk-toggleable__control:checked~div.sk-toggleable__content {max-height: 200px;max-width: 100%;overflow: auto;}#sk-container-id-5 input.sk-toggleable__control:checked~label.sk-toggleable__label-arrow:before {content: \"▾\";}#sk-container-id-5 div.sk-estimator input.sk-toggleable__control:checked~label.sk-toggleable__label {background-color: #d4ebff;}#sk-container-id-5 div.sk-label input.sk-toggleable__control:checked~label.sk-toggleable__label {background-color: #d4ebff;}#sk-container-id-5 input.sk-hidden--visually {border: 0;clip: rect(1px 1px 1px 1px);clip: rect(1px, 1px, 1px, 1px);height: 1px;margin: -1px;overflow: hidden;padding: 0;position: absolute;width: 1px;}#sk-container-id-5 div.sk-estimator {font-family: monospace;background-color: #f0f8ff;border: 1px dotted black;border-radius: 0.25em;box-sizing: border-box;margin-bottom: 0.5em;}#sk-container-id-5 div.sk-estimator:hover {background-color: #d4ebff;}#sk-container-id-5 div.sk-parallel-item::after {content: \"\";width: 100%;border-bottom: 1px solid gray;flex-grow: 1;}#sk-container-id-5 div.sk-label:hover label.sk-toggleable__label {background-color: #d4ebff;}#sk-container-id-5 div.sk-serial::before {content: \"\";position: absolute;border-left: 1px solid gray;box-sizing: border-box;top: 0;bottom: 0;left: 50%;z-index: 0;}#sk-container-id-5 div.sk-serial {display: flex;flex-direction: column;align-items: center;background-color: white;padding-right: 0.2em;padding-left: 0.2em;position: relative;}#sk-container-id-5 div.sk-item {position: relative;z-index: 1;}#sk-container-id-5 div.sk-parallel {display: flex;align-items: stretch;justify-content: center;background-color: white;position: relative;}#sk-container-id-5 div.sk-item::before, #sk-container-id-5 div.sk-parallel-item::before {content: \"\";position: absolute;border-left: 1px solid gray;box-sizing: border-box;top: 0;bottom: 0;left: 50%;z-index: -1;}#sk-container-id-5 div.sk-parallel-item {display: flex;flex-direction: column;z-index: 1;position: relative;background-color: white;}#sk-container-id-5 div.sk-parallel-item:first-child::after {align-self: flex-end;width: 50%;}#sk-container-id-5 div.sk-parallel-item:last-child::after {align-self: flex-start;width: 50%;}#sk-container-id-5 div.sk-parallel-item:only-child::after {width: 0;}#sk-container-id-5 div.sk-dashed-wrapped {border: 1px dashed gray;margin: 0 0.4em 0.5em 0.4em;box-sizing: border-box;padding-bottom: 0.4em;background-color: white;}#sk-container-id-5 div.sk-label label {font-family: monospace;font-weight: bold;display: inline-block;line-height: 1.2em;}#sk-container-id-5 div.sk-label-container {text-align: center;}#sk-container-id-5 div.sk-container {/* jupyter's `normalize.less` sets `[hidden] { display: none; }` but bootstrap.min.css set `[hidden] { display: none !important; }` so we also need the `!important` here to be able to override the default hidden behavior on the sphinx rendered scikit-learn.org. See: https://github.com/scikit-learn/scikit-learn/issues/21755 */display: inline-block !important;position: relative;}#sk-container-id-5 div.sk-text-repr-fallback {display: none;}</style><div id=\"sk-container-id-5\" class=\"sk-top-container\"><div class=\"sk-text-repr-fallback\"><pre>RandomForestRegressor()</pre><b>In a Jupyter environment, please rerun this cell to show the HTML representation or trust the notebook. <br />On GitHub, the HTML representation is unable to render, please try loading this page with nbviewer.org.</b></div><div class=\"sk-container\" hidden><div class=\"sk-item\"><div class=\"sk-estimator sk-toggleable\"><input class=\"sk-toggleable__control sk-hidden--visually\" id=\"sk-estimator-id-5\" type=\"checkbox\" checked><label for=\"sk-estimator-id-5\" class=\"sk-toggleable__label sk-toggleable__label-arrow\">RandomForestRegressor</label><div class=\"sk-toggleable__content\"><pre>RandomForestRegressor()</pre></div></div></div></div></div>"
      ],
      "text/plain": [
       "RandomForestRegressor()"
      ]
     },
     "execution_count": 106,
     "metadata": {},
     "output_type": "execute_result"
    }
   ],
   "source": [
    "rf.fit(transformed_data,y_train)"
   ]
  },
  {
   "cell_type": "code",
   "execution_count": 107,
   "id": "0e735133",
   "metadata": {},
   "outputs": [],
   "source": [
    "imp = rf.feature_importances_"
   ]
  },
  {
   "cell_type": "code",
   "execution_count": 108,
   "id": "90969c84",
   "metadata": {},
   "outputs": [],
   "source": [
    "imp = pd.Series(imp)\n",
    "imp.index = transformed_data.columns"
   ]
  },
  {
   "cell_type": "code",
   "execution_count": 109,
   "id": "6245be32",
   "metadata": {},
   "outputs": [
    {
     "data": {
      "text/plain": [
       "Delivery_person_Ratings             0.197993\n",
       "Road_traffic_density                0.121796\n",
       "multiple_deliveries                 0.118186\n",
       "Distance                            0.105383\n",
       "Delivery_person_Age                 0.089715\n",
       "Weather_Sunny                       0.071176\n",
       "Vehicle_condition                   0.068129\n",
       "Weather_Fog                         0.041906\n",
       "Weather_Cloudy                      0.040731\n",
       "Order_Date_Day                      0.015662\n",
       "Time_Order_picked_Min               0.014067\n",
       "Delivery_location_longitude         0.013989\n",
       "Delivery_location_latitude          0.013529\n",
       "Restaurant_latitude                 0.013336\n",
       "Restaurant_longitude                0.012573\n",
       "Festival                            0.011443\n",
       "Time_Order_picked_Hr                0.010819\n",
       "City_Metropolitian                  0.003911\n",
       "Order_Month                         0.003405\n",
       "Type_of_order_Buffet                0.002720\n",
       "Type_of_order_Meal                  0.002575\n",
       "Type_of_order_Snack                 0.002549\n",
       "Type_of_order_Drinks                0.002544\n",
       "Weather_Windy                       0.002523\n",
       "Weather_Sandstorms                  0.002384\n",
       "Weather_Stormy                      0.002332\n",
       "Delivery_person_Age_nan             0.002296\n",
       "Delivery_person_Ratings_nan         0.002069\n",
       "City_Semi-Urban                     0.001945\n",
       "City_Urban                          0.001831\n",
       "Type_of_vehicle_scooter             0.001498\n",
       "Type_of_vehicle_motorcycle          0.001391\n",
       "Type_of_vehicle_electric_scooter    0.001197\n",
       "multiple_deliveries_nan             0.000962\n",
       "Weather_missing                     0.000725\n",
       "City_missing                        0.000531\n",
       "Type_of_vehicle_bicycle             0.000178\n",
       "Order-Year                          0.000000\n",
       "dtype: float64"
      ]
     },
     "execution_count": 109,
     "metadata": {},
     "output_type": "execute_result"
    }
   ],
   "source": [
    "imp.sort_values(ascending=False)"
   ]
  },
  {
   "cell_type": "code",
   "execution_count": 110,
   "id": "2f1b65c5",
   "metadata": {},
   "outputs": [],
   "source": [
    "cum_sum = np.cumsum(imp.sort_values(ascending=False))"
   ]
  },
  {
   "cell_type": "code",
   "execution_count": 111,
   "id": "c17d784b",
   "metadata": {},
   "outputs": [
    {
     "data": {
      "image/png": "[encoded data removed]",
      "text/plain": [
       "<Figure size 864x864 with 1 Axes>"
      ]
     },
     "metadata": {
      "needs_background": "light"
     },
     "output_type": "display_data"
    }
   ],
   "source": [
    "plt.figure(figsize=(12,12))\n",
    "plt.plot(np.cumsum(imp.sort_values(ascending=False)))\n",
    "plt.xticks(rotation = '90')\n",
    "plt.yticks(np.arange(0,1.1,0.1))\n",
    "plt.grid()\n",
    "plt.show()"
   ]
  },
  {
   "cell_type": "code",
   "execution_count": 112,
   "id": "4552efe1",
   "metadata": {},
   "outputs": [
    {
     "data": {
      "text/plain": [
       "Delivery_person_Ratings             0.197993\n",
       "Road_traffic_density                0.319789\n",
       "multiple_deliveries                 0.437975\n",
       "Distance                            0.543358\n",
       "Delivery_person_Age                 0.633073\n",
       "Weather_Sunny                       0.704250\n",
       "Vehicle_condition                   0.772379\n",
       "Weather_Fog                         0.814285\n",
       "Weather_Cloudy                      0.855016\n",
       "Order_Date_Day                      0.870677\n",
       "Time_Order_picked_Min               0.884744\n",
       "Delivery_location_longitude         0.898733\n",
       "Delivery_location_latitude          0.912262\n",
       "Restaurant_latitude                 0.925599\n",
       "Restaurant_longitude                0.938172\n",
       "Festival                            0.949615\n",
       "Time_Order_picked_Hr                0.960433\n",
       "City_Metropolitian                  0.964345\n",
       "Order_Month                         0.967750\n",
       "Type_of_order_Buffet                0.970470\n",
       "Type_of_order_Meal                  0.973045\n",
       "Type_of_order_Snack                 0.975594\n",
       "Type_of_order_Drinks                0.978138\n",
       "Weather_Windy                       0.980661\n",
       "Weather_Sandstorms                  0.983046\n",
       "Weather_Stormy                      0.985377\n",
       "Delivery_person_Age_nan             0.987673\n",
       "Delivery_person_Ratings_nan         0.989742\n",
       "City_Semi-Urban                     0.991687\n",
       "City_Urban                          0.993518\n",
       "Type_of_vehicle_scooter             0.995016\n",
       "Type_of_vehicle_motorcycle          0.996407\n",
       "Type_of_vehicle_electric_scooter    0.997604\n",
       "multiple_deliveries_nan             0.998566\n",
       "Weather_missing                     0.999291\n",
       "City_missing                        0.999822\n",
       "Type_of_vehicle_bicycle             1.000000\n",
       "Order-Year                          1.000000\n",
       "dtype: float64"
      ]
     },
     "execution_count": 112,
     "metadata": {},
     "output_type": "execute_result"
    }
   ],
   "source": [
    "cum_sum"
   ]
  },
  {
   "cell_type": "code",
   "execution_count": null,
   "id": "14985aea",
   "metadata": {},
   "outputs": [],
   "source": []
  },
  {
   "cell_type": "markdown",
   "id": "96d3e7f8",
   "metadata": {},
   "source": [
    "# Final Pipeline"
   ]
  },
  {
   "cell_type": "markdown",
   "id": "32fea987",
   "metadata": {},
   "source": [
    "Pipeline components:\n",
    "    \n",
    "    \n",
    "1. Handle Categorical Features: Use Mode Imputation\n",
    "\n",
    "2. Numerical Features: Median Imputation + Create new feature to capture missing values\n",
    "\n",
    "3. Temporal Features: \n",
    "\n",
    "    Date Ordered: \n",
    "    \n",
    "    Extract Day and Month (make extraction features as Hyperparameters)\n",
    "\n",
    "    Time Order Picked: Extract Hour and Minutes (make extraction features as Hyperparamaters)\n",
    "    \n",
    "\n",
    "4. Encoding: Label Encode ordinal features, OHE nominal features\n",
    "\n",
    "5. Generate Distance Feature using latitude and longitude features\n",
    "\n",
    "6. Do standardization"
   ]
  },
  {
   "cell_type": "code",
   "execution_count": 113,
   "id": "c7f96e92",
   "metadata": {},
   "outputs": [],
   "source": [
    "from sklearn.pipeline import Pipeline\n",
    "from sklearn.compose import ColumnTransformer"
   ]
  },
  {
   "cell_type": "code",
   "execution_count": 114,
   "id": "b4b20d0a",
   "metadata": {},
   "outputs": [],
   "source": [
    "from sklearn.base import BaseEstimator, TransformerMixin"
   ]
  },
  {
   "cell_type": "code",
   "execution_count": 226,
   "id": "69e754ce",
   "metadata": {},
   "outputs": [],
   "source": [
    "class DropUndersiredFeatures(BaseEstimator, TransformerMixin):\n",
    "    def __init__(self, features_to_drop=['ID', 'Delivery_person_ID']):\n",
    "        \n",
    "        self.features_to_drop = features_to_drop\n",
    "\n",
    "    def fit(self, X, y=None):\n",
    "        return self  # nothing to do\n",
    "\n",
    "    def transform(self, X, y=None):\n",
    "        df = X.copy()\n",
    "        for feature in self.features_to_drop:\n",
    "            ## try and catch to avoid run time errors\n",
    "            try:\n",
    "                df.drop(feature, axis=1, inplace=True)\n",
    "            except:\n",
    "                pass\n",
    "\n",
    "        return df\n"
   ]
  },
  {
   "cell_type": "code",
   "execution_count": 175,
   "id": "9f6afe93",
   "metadata": {},
   "outputs": [],
   "source": [
    "## Imputing Numerical features class\n",
    "\n",
    "class ImputeNumericalFeatures(BaseEstimator, TransformerMixin):\n",
    "    def __init__(self):\n",
    "        self.numerical_features_nan = []\n",
    "        self.medians = []\n",
    "        \n",
    "    def fit(self,X,y=None):\n",
    "        try:\n",
    "            ### Numerical features having null features\n",
    "            \n",
    "            self.numerical_features_nan = [feature for feature in X.columns if X[feature].dtypes !='O' and X[feature].isnull().sum()>=1]\n",
    "        \n",
    "            self.medians = []\n",
    "            for feature in self.numerical_features_nan:\n",
    "                self.medians.append(X[feature].median())\n",
    "        except:\n",
    "            pass\n",
    "        \n",
    "        return self\n",
    "    \n",
    "    def transform(self, X, y=None):\n",
    "        df = X.copy()\n",
    "        for index, feature in enumerate(self.numerical_features_nan):\n",
    "\n",
    "            try:\n",
    "                median_value = self.medians[index]\n",
    "                ## create new feature to capture nan values\n",
    "                df[feature + '_nan'] = np.where(df[feature].isnull(), 1, 0)\n",
    "                ### replace the missing values with median\n",
    "                df[feature] = df[feature].fillna(median_value)\n",
    "\n",
    "            except:\n",
    "                pass\n",
    "        return df\n",
    "        \n",
    "        "
   ]
  },
  {
   "cell_type": "code",
   "execution_count": 176,
   "id": "7f32bec1",
   "metadata": {},
   "outputs": [],
   "source": [
    "class ImputeCategoricalFeatures(BaseEstimator, TransformerMixin):\n",
    "    def __init__(self):\n",
    "        self.categorical_features = []  # empty categorical features list\n",
    "\n",
    "    def fit(self, X, y=None):\n",
    "        try:\n",
    "            # Get the categorical features\n",
    "            self.categorical_features = [feature for feature in X.columns if X[feature].dtype == 'O']\n",
    "        except:\n",
    "            pass\n",
    "\n",
    "        return self\n",
    "\n",
    "    def transform(self, X, y=None):\n",
    "        ## standardize the features\n",
    "        df = X.copy()\n",
    "        try:\n",
    "            for feature in self.categorical_features:\n",
    "                df[feature] = df[feature].str.lower()\n",
    "        except:\n",
    "            pass\n",
    "\n",
    "        ## Handle missing values\n",
    "        try:\n",
    "            df[self.categorical_features] = df[self.categorical_features].fillna('missing')\n",
    "\n",
    "        except:\n",
    "            pass\n",
    "\n",
    "        return df\n"
   ]
  },
  {
   "cell_type": "code",
   "execution_count": 177,
   "id": "86add5bf",
   "metadata": {},
   "outputs": [],
   "source": [
    "class ExtractFromTemporalFeatures(BaseEstimator, TransformerMixin):\n",
    "    def __init__(self, temporal_features = ['Order_Date', 'Time_Order_picked', 'Time_Orderd']):\n",
    "        \n",
    "        self.temporal_features = temporal_features\n",
    "    \n",
    "    def fit(self, X, y = None):\n",
    "        \n",
    "        return self\n",
    "    \n",
    "    def transform(self, X, y = None):\n",
    "        df = X.copy()\n",
    "        \n",
    "        try:\n",
    "            ## Working on Order Date\n",
    "            df[self.temporal_features[0]+\"_Day\"] = df[self.temporal_features[0]].str.split('-').str[0].astype(int)\n",
    "            df[self.temporal_features[0]+\"_Month\"] = df[self.temporal_features[0]].str.split('-').str[1].astype(int)\n",
    "            \n",
    "            \n",
    "            \n",
    "            ### Working on Time Order Picked\n",
    "            df[self.temporal_features[1]+\"_Hr\"] = df[self.temporal_features[1]].str.split(':').str[0].astype(int)\n",
    "            df[self.temporal_features[1]+\"_Min\"] = df[self.temporal_features[1]].str.split(':').str[1].astype(int)\n",
    "            \n",
    "            df.drop(self.temporal_features, axis = 1, inplace = True)\n",
    "            \n",
    "            return df\n",
    "        except Exception as e:\n",
    "            print(str(e))\n",
    "        \n",
    "        "
   ]
  },
  {
   "cell_type": "code",
   "execution_count": 178,
   "id": "24b82d67",
   "metadata": {},
   "outputs": [],
   "source": [
    "class GenerateDistanceFromLatitudeAndLongitude(BaseEstimator,TransformerMixin):\n",
    "    def __init__(self,distance_features = ['Restaurant_latitude', 'Restaurant_longitude','Delivery_location_latitude','Delivery_location_longitude']):\n",
    "        self.distance_features = distance_features\n",
    "    \n",
    "    def fit(self,X,y=None):\n",
    "        #print('fit')\n",
    "        return self\n",
    "    \n",
    "    def transform(self,X,y=None):\n",
    "        df = X.copy()\n",
    "        #print('transform')\n",
    "        try:\n",
    "            ## Convert features to radians\n",
    "            for feature in self.distance_features:\n",
    "                df[feature] = np.radians(df[feature])\n",
    "                \n",
    "            lat1 = df[self.distance_features[0]]\n",
    "            lon1 = df[self.distance_features[1]]\n",
    "            \n",
    "            lat2 = df[self.distance_features[2]]\n",
    "            lon2 = df[self.distance_features[3]]\n",
    "            \n",
    "            \n",
    "            newlon = lon2 - lon1\n",
    "            newlat = lat2 - lat1\n",
    "            \n",
    "            haver_formula = np.sin(newlat/2.0)**2 + np.cos(lat1) * np.cos(lat2) * np.sin(newlon/2.0)**2\n",
    "            \n",
    "            dist = 2 * np.arcsin(np.sqrt(haver_formula ))\n",
    "            \n",
    "            km = 6367 * dist #6367 for distance in KM for miles use 3958\n",
    "\n",
    "            df['Distance'] = km\n",
    "            return df\n",
    "         \n",
    "        except Exception as e:\n",
    "            print(str(e))\n",
    "        "
   ]
  },
  {
   "cell_type": "code",
   "execution_count": 297,
   "id": "7e847940",
   "metadata": {},
   "outputs": [],
   "source": [
    "class Label_Encode(BaseEstimator, TransformerMixin):\n",
    "    def __init__(self, ordinal_features = ['Festival','Road_traffic_density']):\n",
    "        self.ordinal_features = ordinal_features\n",
    "    \n",
    "    def fit(self, X, y=None):\n",
    "        return self\n",
    "    \n",
    "    def transform(self, X, y=None):\n",
    "        df = X.copy()\n",
    "        try:\n",
    "            #print(df[self.ordinal_features])\n",
    "            df['Festival'] = df['Festival'].map({'no':0,'yes':1,'missing':0})\n",
    "            df['Road_traffic_density']=df['Road_traffic_density'].map({'low':0,'medium' : 1,'high' : 2,'jam':3,'missing' : 0})\n",
    "            \n",
    "            \n",
    "            return df\n",
    "        except:\n",
    "            print(str(e))"
   ]
  },
  {
   "cell_type": "code",
   "execution_count": 301,
   "id": "a5f3d3e0",
   "metadata": {},
   "outputs": [],
   "source": [
    "class OHE_Categorical_Features(BaseEstimator, TransformerMixin):\n",
    "    def __init__(self):\n",
    "        self.categorical_features = []\n",
    "        self.ohe = OneHotEncoder(handle_unknown='ignore', sparse=False)\n",
    "\n",
    "    def fit(self, X, y=None):\n",
    "        try:\n",
    "            self.categorical_features = [feature for feature in X.columns if X[feature].dtype == 'O']\n",
    "            self.ohe.fit(X[self.categorical_features])\n",
    "            ##print(self.ohe.categories_)\n",
    "        except:\n",
    "            pass\n",
    "\n",
    "        return self\n",
    "\n",
    "    def transform(self, X, y=None):\n",
    "        df = X.copy()\n",
    "        try:\n",
    "            cat_ohe = self.ohe.transform(df[self.categorical_features])\n",
    "\n",
    "            ohe_df = pd.DataFrame(cat_ohe, columns=self.ohe.get_feature_names(input_features=self.categorical_features),\n",
    "                                  index=df.index)\n",
    "            df = pd.concat([df, ohe_df], axis=1).drop(columns=self.categorical_features, axis=1)\n",
    "        except Exception as e:\n",
    "            pass\n",
    "\n",
    "        return df"
   ]
  },
  {
   "cell_type": "code",
   "execution_count": 302,
   "id": "a05a090c",
   "metadata": {},
   "outputs": [],
   "source": [
    "preprocess_pipeline = Pipeline([\n",
    "    ('drop_undesired_features',DropUndersiredFeatures()),\n",
    "    ('impute_numerical_features',ImputeNumericalFeatures()),\n",
    "    ('impute_categorical_features', ImputeCategoricalFeatures()),\n",
    "    ('label_encode',Label_Encode()),\n",
    "    ('extract_temporal_features', ExtractFromTemporalFeatures()),\n",
    "    \n",
    "    ('generate_distance', GenerateDistanceFromLatitudeAndLongitude()),\n",
    "    \n",
    "    ('OHE', OHE_Categorical_Features()),\n",
    "    ('scaler', StandardScaler())\n",
    "])"
   ]
  },
  {
   "cell_type": "code",
   "execution_count": 320,
   "id": "dfdce58a",
   "metadata": {},
   "outputs": [],
   "source": [
    "preprocess_pipeline = Pipeline([\n",
    "    ('drop_undesired_features',DropUndersiredFeatures()),\n",
    "    ('impute_numerical_features',ImputeNumericalFeatures()),\n",
    "    ('impute_categorical_features', ImputeCategoricalFeatures()),\n",
    "    ('extract_temporal_features', ExtractFromTemporalFeatures()),\n",
    "    \n",
    "    ('generate_distance', GenerateDistanceFromLatitudeAndLongitude()),\n",
    "    \n",
    "    ('OHE', OHE_Categorical_Features()),\n",
    "    ('scaler', StandardScaler())\n",
    "])"
   ]
  },
  {
   "cell_type": "code",
   "execution_count": 321,
   "id": "72c80d69",
   "metadata": {},
   "outputs": [
    {
     "name": "stderr",
     "output_type": "stream",
     "text": [
      "C:\\Users\\rachi\\anaconda3\\lib\\site-packages\\sklearn\\utils\\deprecation.py:87: FutureWarning: Function get_feature_names is deprecated; get_feature_names is deprecated in 1.0 and will be removed in 1.2. Please use get_feature_names_out instead.\n",
      "  warnings.warn(msg, category=FutureWarning)\n"
     ]
    }
   ],
   "source": [
    "transformed_X_train = preprocess_pipeline.fit_transform(X_train)"
   ]
  },
  {
   "cell_type": "code",
   "execution_count": 322,
   "id": "890333a5",
   "metadata": {},
   "outputs": [
    {
     "data": {
      "text/plain": [
       "array([[ 0.42199756, -0.11126878, -0.57464047, ..., -0.1642369 ,\n",
       "        -0.0591109 , -0.53319394],\n",
       "       [ 0.42199756, -0.41703368,  0.7012496 , ..., -0.1642369 ,\n",
       "        -0.0591109 , -0.53319394],\n",
       "       [ 1.47553039,  0.80602591,  0.50759715, ..., -0.1642369 ,\n",
       "        -0.0591109 , -0.53319394],\n",
       "       ...,\n",
       "       [ 0.24640876,  0.19449612, -0.49415159, ...,  6.08876579,\n",
       "        -0.0591109 , -0.53319394],\n",
       "       [ 1.47553039, -1.33432837,  0.50770349, ..., -0.1642369 ,\n",
       "        -0.0591109 , -0.53319394],\n",
       "       [-0.80712407,  0.80602591, -0.48721715, ..., -0.1642369 ,\n",
       "        -0.0591109 , -0.53319394]])"
      ]
     },
     "execution_count": 322,
     "metadata": {},
     "output_type": "execute_result"
    }
   ],
   "source": [
    "transformed_X_train"
   ]
  },
  {
   "cell_type": "code",
   "execution_count": null,
   "id": "d2a72fb9",
   "metadata": {},
   "outputs": [],
   "source": []
  },
  {
   "cell_type": "code",
   "execution_count": null,
   "id": "349b1bed",
   "metadata": {},
   "outputs": [],
   "source": []
  },
  {
   "cell_type": "code",
   "execution_count": 323,
   "id": "e2fbd63b",
   "metadata": {},
   "outputs": [
    {
     "data": {
      "text/plain": [
       "0        32.0\n",
       "1        37.0\n",
       "2        18.0\n",
       "3        29.0\n",
       "4        14.0\n",
       "         ... \n",
       "36469    22.0\n",
       "36470    48.0\n",
       "36471    18.0\n",
       "36472    31.0\n",
       "36473    34.0\n",
       "Name: Time_taken, Length: 36474, dtype: float64"
      ]
     },
     "execution_count": 323,
     "metadata": {},
     "output_type": "execute_result"
    }
   ],
   "source": [
    "y_train"
   ]
  },
  {
   "cell_type": "code",
   "execution_count": 337,
   "id": "2dfee237",
   "metadata": {},
   "outputs": [],
   "source": [
    "rf = RandomForestRegressor(n_estimators=1000)"
   ]
  },
  {
   "cell_type": "code",
   "execution_count": null,
   "id": "aac52a7d",
   "metadata": {},
   "outputs": [],
   "source": []
  },
  {
   "cell_type": "code",
   "execution_count": 338,
   "id": "de8a847e",
   "metadata": {},
   "outputs": [
    {
     "data": {
      "text/html": [
       "<style>#sk-container-id-10 {color: black;background-color: white;}#sk-container-id-10 pre{padding: 0;}#sk-container-id-10 div.sk-toggleable {background-color: white;}#sk-container-id-10 label.sk-toggleable__label {cursor: pointer;display: block;width: 100%;margin-bottom: 0;padding: 0.3em;box-sizing: border-box;text-align: center;}#sk-container-id-10 label.sk-toggleable__label-arrow:before {content: \"▸\";float: left;margin-right: 0.25em;color: #696969;}#sk-container-id-10 label.sk-toggleable__label-arrow:hover:before {color: black;}#sk-container-id-10 div.sk-estimator:hover label.sk-toggleable__label-arrow:before {color: black;}#sk-container-id-10 div.sk-toggleable__content {max-height: 0;max-width: 0;overflow: hidden;text-align: left;background-color: #f0f8ff;}#sk-container-id-10 div.sk-toggleable__content pre {margin: 0.2em;color: black;border-radius: 0.25em;background-color: #f0f8ff;}#sk-container-id-10 input.sk-toggleable__control:checked~div.sk-toggleable__content {max-height: 200px;max-width: 100%;overflow: auto;}#sk-container-id-10 input.sk-toggleable__control:checked~label.sk-toggleable__label-arrow:before {content: \"▾\";}#sk-container-id-10 div.sk-estimator input.sk-toggleable__control:checked~label.sk-toggleable__label {background-color: #d4ebff;}#sk-container-id-10 div.sk-label input.sk-toggleable__control:checked~label.sk-toggleable__label {background-color: #d4ebff;}#sk-container-id-10 input.sk-hidden--visually {border: 0;clip: rect(1px 1px 1px 1px);clip: rect(1px, 1px, 1px, 1px);height: 1px;margin: -1px;overflow: hidden;padding: 0;position: absolute;width: 1px;}#sk-container-id-10 div.sk-estimator {font-family: monospace;background-color: #f0f8ff;border: 1px dotted black;border-radius: 0.25em;box-sizing: border-box;margin-bottom: 0.5em;}#sk-container-id-10 div.sk-estimator:hover {background-color: #d4ebff;}#sk-container-id-10 div.sk-parallel-item::after {content: \"\";width: 100%;border-bottom: 1px solid gray;flex-grow: 1;}#sk-container-id-10 div.sk-label:hover label.sk-toggleable__label {background-color: #d4ebff;}#sk-container-id-10 div.sk-serial::before {content: \"\";position: absolute;border-left: 1px solid gray;box-sizing: border-box;top: 0;bottom: 0;left: 50%;z-index: 0;}#sk-container-id-10 div.sk-serial {display: flex;flex-direction: column;align-items: center;background-color: white;padding-right: 0.2em;padding-left: 0.2em;position: relative;}#sk-container-id-10 div.sk-item {position: relative;z-index: 1;}#sk-container-id-10 div.sk-parallel {display: flex;align-items: stretch;justify-content: center;background-color: white;position: relative;}#sk-container-id-10 div.sk-item::before, #sk-container-id-10 div.sk-parallel-item::before {content: \"\";position: absolute;border-left: 1px solid gray;box-sizing: border-box;top: 0;bottom: 0;left: 50%;z-index: -1;}#sk-container-id-10 div.sk-parallel-item {display: flex;flex-direction: column;z-index: 1;position: relative;background-color: white;}#sk-container-id-10 div.sk-parallel-item:first-child::after {align-self: flex-end;width: 50%;}#sk-container-id-10 div.sk-parallel-item:last-child::after {align-self: flex-start;width: 50%;}#sk-container-id-10 div.sk-parallel-item:only-child::after {width: 0;}#sk-container-id-10 div.sk-dashed-wrapped {border: 1px dashed gray;margin: 0 0.4em 0.5em 0.4em;box-sizing: border-box;padding-bottom: 0.4em;background-color: white;}#sk-container-id-10 div.sk-label label {font-family: monospace;font-weight: bold;display: inline-block;line-height: 1.2em;}#sk-container-id-10 div.sk-label-container {text-align: center;}#sk-container-id-10 div.sk-container {/* jupyter's `normalize.less` sets `[hidden] { display: none; }` but bootstrap.min.css set `[hidden] { display: none !important; }` so we also need the `!important` here to be able to override the default hidden behavior on the sphinx rendered scikit-learn.org. See: https://github.com/scikit-learn/scikit-learn/issues/21755 */display: inline-block !important;position: relative;}#sk-container-id-10 div.sk-text-repr-fallback {display: none;}</style><div id=\"sk-container-id-10\" class=\"sk-top-container\"><div class=\"sk-text-repr-fallback\"><pre>RandomForestRegressor(n_estimators=1000)</pre><b>In a Jupyter environment, please rerun this cell to show the HTML representation or trust the notebook. <br />On GitHub, the HTML representation is unable to render, please try loading this page with nbviewer.org.</b></div><div class=\"sk-container\" hidden><div class=\"sk-item\"><div class=\"sk-estimator sk-toggleable\"><input class=\"sk-toggleable__control sk-hidden--visually\" id=\"sk-estimator-id-10\" type=\"checkbox\" checked><label for=\"sk-estimator-id-10\" class=\"sk-toggleable__label sk-toggleable__label-arrow\">RandomForestRegressor</label><div class=\"sk-toggleable__content\"><pre>RandomForestRegressor(n_estimators=1000)</pre></div></div></div></div></div>"
      ],
      "text/plain": [
       "RandomForestRegressor(n_estimators=1000)"
      ]
     },
     "execution_count": 338,
     "metadata": {},
     "output_type": "execute_result"
    }
   ],
   "source": [
    "rf.fit(transformed_X_train,y_train)"
   ]
  },
  {
   "cell_type": "code",
   "execution_count": null,
   "id": "6c8a334a",
   "metadata": {},
   "outputs": [],
   "source": []
  },
  {
   "cell_type": "code",
   "execution_count": 339,
   "id": "e588f925",
   "metadata": {},
   "outputs": [],
   "source": [
    "pred = rf.predict(transformed_X_train)"
   ]
  },
  {
   "cell_type": "code",
   "execution_count": 340,
   "id": "7d4c36b2",
   "metadata": {},
   "outputs": [],
   "source": [
    "from sklearn.metrics import r2_score"
   ]
  },
  {
   "cell_type": "code",
   "execution_count": 341,
   "id": "00ebb940",
   "metadata": {},
   "outputs": [
    {
     "data": {
      "text/plain": [
       "0.9756177406406502"
      ]
     },
     "execution_count": 341,
     "metadata": {},
     "output_type": "execute_result"
    }
   ],
   "source": [
    "r2_score(y_train,pred)"
   ]
  },
  {
   "cell_type": "code",
   "execution_count": null,
   "id": "d7a0b7a8",
   "metadata": {},
   "outputs": [],
   "source": []
  },
  {
   "cell_type": "code",
   "execution_count": null,
   "id": "5fcb3479",
   "metadata": {},
   "outputs": [],
   "source": []
  },
  {
   "cell_type": "code",
   "execution_count": 343,
   "id": "04bfbd79",
   "metadata": {},
   "outputs": [],
   "source": [
    "validation_file_path = os.path.join(base_url,dataset_folder_path,validation_file)"
   ]
  },
  {
   "cell_type": "code",
   "execution_count": 344,
   "id": "c486ab1e",
   "metadata": {},
   "outputs": [],
   "source": [
    "validation_file = pd.read_csv(validation_file_path)"
   ]
  },
  {
   "cell_type": "code",
   "execution_count": 345,
   "id": "148bcfbb",
   "metadata": {},
   "outputs": [],
   "source": [
    "X_test,y_test = validation_file.drop(TARGET_FEATURE,axis = 1),validation_file[TARGET_FEATURE]"
   ]
  },
  {
   "cell_type": "code",
   "execution_count": 346,
   "id": "1c51b52d",
   "metadata": {},
   "outputs": [
    {
     "name": "stderr",
     "output_type": "stream",
     "text": [
      "C:\\Users\\rachi\\anaconda3\\lib\\site-packages\\sklearn\\utils\\deprecation.py:87: FutureWarning: Function get_feature_names is deprecated; get_feature_names is deprecated in 1.0 and will be removed in 1.2. Please use get_feature_names_out instead.\n",
      "  warnings.warn(msg, category=FutureWarning)\n"
     ]
    }
   ],
   "source": [
    "transformed_test_file = preprocess_pipeline.transform(X_test)"
   ]
  },
  {
   "cell_type": "code",
   "execution_count": 347,
   "id": "0fab3690",
   "metadata": {},
   "outputs": [],
   "source": [
    "pred = rf.predict(transformed_test_file)"
   ]
  },
  {
   "cell_type": "code",
   "execution_count": 348,
   "id": "c06addce",
   "metadata": {},
   "outputs": [
    {
     "data": {
      "text/plain": [
       "0.8214947062067504"
      ]
     },
     "execution_count": 348,
     "metadata": {},
     "output_type": "execute_result"
    }
   ],
   "source": [
    "r2_score(y_test,pred)"
   ]
  },
  {
   "cell_type": "code",
   "execution_count": null,
   "id": "8a8bfb37",
   "metadata": {},
   "outputs": [],
   "source": []
  },
  {
   "cell_type": "code",
   "execution_count": null,
   "id": "33528796",
   "metadata": {},
   "outputs": [],
   "source": []
  },
  {
   "cell_type": "code",
   "execution_count": 349,
   "id": "97d8c6f0",
   "metadata": {},
   "outputs": [
    {
     "data": {
      "text/plain": [
       "array([[-0.63153527,  0.80602591,  1.15565272, ..., -0.1642369 ,\n",
       "        -0.0591109 , -0.53319394],\n",
       "       [-0.10476885,  0.80602591, -0.57339001, ..., -0.1642369 ,\n",
       "        -0.0591109 , -0.53319394],\n",
       "       [ 1.12435278,  0.19449612, -2.07770891, ..., -0.1642369 ,\n",
       "        -0.0591109 , -0.53319394],\n",
       "       ...,\n",
       "       [ 0.77317517, -1.64009327,  0.77554489, ..., -0.1642369 ,\n",
       "        -0.0591109 , -0.53319394],\n",
       "       [ 1.12435278, -0.11126878, -2.07770891, ..., -0.1642369 ,\n",
       "        -0.0591109 , -0.53319394],\n",
       "       [ 0.24640876,  0.80602591,  0.05684798, ..., -0.1642369 ,\n",
       "        -0.0591109 , -0.53319394]])"
      ]
     },
     "execution_count": 349,
     "metadata": {},
     "output_type": "execute_result"
    }
   ],
   "source": [
    "transformed_test_file"
   ]
  },
  {
   "cell_type": "code",
   "execution_count": null,
   "id": "18002fd1",
   "metadata": {},
   "outputs": [],
   "source": []
  }
 ],
 "metadata": {
  "kernelspec": {
   "display_name": "Python 3",
   "language": "python",
   "name": "python3"
  },
  "language_info": {
   "codemirror_mode": {
    "name": "ipython",
    "version": 3
   },
   "file_extension": ".py",
   "mimetype": "text/x-python",
   "name": "python",
   "nbconvert_exporter": "python",
   "pygments_lexer": "ipython3",
   "version": "3.8.8"
  }
 },
 "nbformat": 4,
 "nbformat_minor": 5
}
